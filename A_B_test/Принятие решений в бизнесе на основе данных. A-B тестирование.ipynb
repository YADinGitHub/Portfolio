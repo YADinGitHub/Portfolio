  {
   "cell_type": "markdown",
   "metadata": {},
   "source": [
    "# Описание проекта\n",
    "\n",
    "Вы — аналитик крупного интернет-магазина. Вместе с отделом маркетинга вы подготовили список гипотез для увеличения выручки.\n",
    "Приоритизируйте гипотезы, запустите A/B-тест и проанализируйте результаты."
   ]
  },
  {
   "cell_type": "code",
   "execution_count": 1,
   "metadata": {},
   "outputs": [],
   "source": [
    "import pandas as pd\n",
    "import seaborn as sns\n",
    "import matplotlib.pyplot as plt\n",
    "import numpy as np\n",
    "from scipy import stats as st\n",
    "from scipy.stats import mannwhitneyu\n",
    "import scipy.stats as stats\n",
    "import datetime as dt"
   ]
  },
  {
   "cell_type": "code",
   "execution_count": 2,
   "metadata": {},
   "outputs": [],
   "source": [
    "hypothesis = pd.read_csv('/datasets/hypothesis.csv')"
   ]
  },
  {
   "cell_type": "code",
   "execution_count": 3,
   "metadata": {},
   "outputs": [],
   "source": [
    "pd.set_option(\"max_colwidth\", 120)"
   ]
  },
  {
   "cell_type": "code",
   "execution_count": 4,
   "metadata": {},
   "outputs": [
    {
     "data": {
      "text/html": [
       "<div>\n",
       "<style scoped>\n",
       "    .dataframe tbody tr th:only-of-type {\n",
       "        vertical-align: middle;\n",
       "    }\n",
       "\n",
       "    .dataframe tbody tr th {\n",
       "        vertical-align: top;\n",
       "    }\n",
       "\n",
       "    .dataframe thead th {\n",
       "        text-align: right;\n",
       "    }\n",
       "</style>\n",
       "<table border=\"1\" class=\"dataframe\">\n",
       "  <thead>\n",
       "    <tr style=\"text-align: right;\">\n",
       "      <th></th>\n",
       "      <th>Hypothesis</th>\n",
       "      <th>Reach</th>\n",
       "      <th>Impact</th>\n",
       "      <th>Confidence</th>\n",
       "      <th>Efforts</th>\n",
       "    </tr>\n",
       "  </thead>\n",
       "  <tbody>\n",
       "    <tr>\n",
       "      <td>0</td>\n",
       "      <td>Добавить два новых канала привлечения трафика, что позволит привлекать на 30% больше пользователей</td>\n",
       "      <td>3</td>\n",
       "      <td>10</td>\n",
       "      <td>8</td>\n",
       "      <td>6</td>\n",
       "    </tr>\n",
       "    <tr>\n",
       "      <td>1</td>\n",
       "      <td>Запустить собственную службу доставки, что сократит срок доставки заказов</td>\n",
       "      <td>2</td>\n",
       "      <td>5</td>\n",
       "      <td>4</td>\n",
       "      <td>10</td>\n",
       "    </tr>\n",
       "    <tr>\n",
       "      <td>2</td>\n",
       "      <td>Добавить блоки рекомендаций товаров на сайт интернет магазина, чтобы повысить конверсию и средний чек заказа</td>\n",
       "      <td>8</td>\n",
       "      <td>3</td>\n",
       "      <td>7</td>\n",
       "      <td>3</td>\n",
       "    </tr>\n",
       "    <tr>\n",
       "      <td>3</td>\n",
       "      <td>Изменить структура категорий, что увеличит конверсию, т.к. пользователи быстрее найдут нужный товар</td>\n",
       "      <td>8</td>\n",
       "      <td>3</td>\n",
       "      <td>3</td>\n",
       "      <td>8</td>\n",
       "    </tr>\n",
       "    <tr>\n",
       "      <td>4</td>\n",
       "      <td>Изменить цвет фона главной страницы, чтобы увеличить вовлеченность пользователей</td>\n",
       "      <td>3</td>\n",
       "      <td>1</td>\n",
       "      <td>1</td>\n",
       "      <td>1</td>\n",
       "    </tr>\n",
       "    <tr>\n",
       "      <td>5</td>\n",
       "      <td>Добавить страницу отзывов клиентов о магазине, что позволит увеличить количество заказов</td>\n",
       "      <td>3</td>\n",
       "      <td>2</td>\n",
       "      <td>2</td>\n",
       "      <td>3</td>\n",
       "    </tr>\n",
       "    <tr>\n",
       "      <td>6</td>\n",
       "      <td>Показать на главной странице баннеры с актуальными акциями и распродажами, чтобы увеличить конверсию</td>\n",
       "      <td>5</td>\n",
       "      <td>3</td>\n",
       "      <td>8</td>\n",
       "      <td>3</td>\n",
       "    </tr>\n",
       "    <tr>\n",
       "      <td>7</td>\n",
       "      <td>Добавить форму подписки на все основные страницы, чтобы собрать базу клиентов для email-рассылок</td>\n",
       "      <td>10</td>\n",
       "      <td>7</td>\n",
       "      <td>8</td>\n",
       "      <td>5</td>\n",
       "    </tr>\n",
       "    <tr>\n",
       "      <td>8</td>\n",
       "      <td>Запустить акцию, дающую скидку на товар в день рождения</td>\n",
       "      <td>1</td>\n",
       "      <td>9</td>\n",
       "      <td>9</td>\n",
       "      <td>5</td>\n",
       "    </tr>\n",
       "  </tbody>\n",
       "</table>\n",
       "</div>"
      ],
      "text/plain": [
       "                                                                                                     Hypothesis  \\\n",
       "0            Добавить два новых канала привлечения трафика, что позволит привлекать на 30% больше пользователей   \n",
       "1                                     Запустить собственную службу доставки, что сократит срок доставки заказов   \n",
       "2  Добавить блоки рекомендаций товаров на сайт интернет магазина, чтобы повысить конверсию и средний чек заказа   \n",
       "3           Изменить структура категорий, что увеличит конверсию, т.к. пользователи быстрее найдут нужный товар   \n",
       "4                              Изменить цвет фона главной страницы, чтобы увеличить вовлеченность пользователей   \n",
       "5                      Добавить страницу отзывов клиентов о магазине, что позволит увеличить количество заказов   \n",
       "6          Показать на главной странице баннеры с актуальными акциями и распродажами, чтобы увеличить конверсию   \n",
       "7              Добавить форму подписки на все основные страницы, чтобы собрать базу клиентов для email-рассылок   \n",
       "8                                                       Запустить акцию, дающую скидку на товар в день рождения   \n",
       "\n",
       "   Reach  Impact  Confidence  Efforts  \n",
       "0      3      10           8        6  \n",
       "1      2       5           4       10  \n",
       "2      8       3           7        3  \n",
       "3      8       3           3        8  \n",
       "4      3       1           1        1  \n",
       "5      3       2           2        3  \n",
       "6      5       3           8        3  \n",
       "7     10       7           8        5  \n",
       "8      1       9           9        5  "
      ]
     },
     "execution_count": 4,
     "metadata": {},
     "output_type": "execute_result"
    }
   ],
   "source": [
    "hypothesis"
   ]
  },
  {
   "cell_type": "code",
   "execution_count": 5,
   "metadata": {},
   "outputs": [],
   "source": [
    "hypothesis.columns = ['hypothesis','reach', 'impact', 'confidence', 'efforts']"
   ]
  },
  {
   "cell_type": "markdown",
   "metadata": {},
   "source": [
    "## Часть 1. Приоритизация гипотез."
   ]
  },
  {
   "cell_type": "markdown",
   "metadata": {},
   "source": [
    "### Примените фреймворк ICE для приоритизации гипотез. Отсортируйте их по убыванию приоритета."
   ]
  },
  {
   "cell_type": "markdown",
   "metadata": {},
   "source": [
    "$$ICE = \\frac{Impact * Confidence}{Efforts}$$"
   ]
  },
  {
   "cell_type": "code",
   "execution_count": 6,
   "metadata": {},
   "outputs": [
    {
     "data": {
      "text/html": [
       "<div>\n",
       "<style scoped>\n",
       "    .dataframe tbody tr th:only-of-type {\n",
       "        vertical-align: middle;\n",
       "    }\n",
       "\n",
       "    .dataframe tbody tr th {\n",
       "        vertical-align: top;\n",
       "    }\n",
       "\n",
       "    .dataframe thead th {\n",
       "        text-align: right;\n",
       "    }\n",
       "</style>\n",
       "<table border=\"1\" class=\"dataframe\">\n",
       "  <thead>\n",
       "    <tr style=\"text-align: right;\">\n",
       "      <th></th>\n",
       "      <th>hypothesis</th>\n",
       "      <th>ice</th>\n",
       "    </tr>\n",
       "  </thead>\n",
       "  <tbody>\n",
       "    <tr>\n",
       "      <td>8</td>\n",
       "      <td>Запустить акцию, дающую скидку на товар в день рождения</td>\n",
       "      <td>16.2</td>\n",
       "    </tr>\n",
       "    <tr>\n",
       "      <td>0</td>\n",
       "      <td>Добавить два новых канала привлечения трафика, что позволит привлекать на 30% больше пользователей</td>\n",
       "      <td>13.3</td>\n",
       "    </tr>\n",
       "    <tr>\n",
       "      <td>7</td>\n",
       "      <td>Добавить форму подписки на все основные страницы, чтобы собрать базу клиентов для email-рассылок</td>\n",
       "      <td>11.2</td>\n",
       "    </tr>\n",
       "    <tr>\n",
       "      <td>6</td>\n",
       "      <td>Показать на главной странице баннеры с актуальными акциями и распродажами, чтобы увеличить конверсию</td>\n",
       "      <td>8.0</td>\n",
       "    </tr>\n",
       "    <tr>\n",
       "      <td>2</td>\n",
       "      <td>Добавить блоки рекомендаций товаров на сайт интернет магазина, чтобы повысить конверсию и средний чек заказа</td>\n",
       "      <td>7.0</td>\n",
       "    </tr>\n",
       "    <tr>\n",
       "      <td>1</td>\n",
       "      <td>Запустить собственную службу доставки, что сократит срок доставки заказов</td>\n",
       "      <td>2.0</td>\n",
       "    </tr>\n",
       "    <tr>\n",
       "      <td>5</td>\n",
       "      <td>Добавить страницу отзывов клиентов о магазине, что позволит увеличить количество заказов</td>\n",
       "      <td>1.3</td>\n",
       "    </tr>\n",
       "    <tr>\n",
       "      <td>3</td>\n",
       "      <td>Изменить структура категорий, что увеличит конверсию, т.к. пользователи быстрее найдут нужный товар</td>\n",
       "      <td>1.1</td>\n",
       "    </tr>\n",
       "    <tr>\n",
       "      <td>4</td>\n",
       "      <td>Изменить цвет фона главной страницы, чтобы увеличить вовлеченность пользователей</td>\n",
       "      <td>1.0</td>\n",
       "    </tr>\n",
       "  </tbody>\n",
       "</table>\n",
       "</div>"
      ],
      "text/plain": [
       "                                                                                                     hypothesis  \\\n",
       "8                                                       Запустить акцию, дающую скидку на товар в день рождения   \n",
       "0            Добавить два новых канала привлечения трафика, что позволит привлекать на 30% больше пользователей   \n",
       "7              Добавить форму подписки на все основные страницы, чтобы собрать базу клиентов для email-рассылок   \n",
       "6          Показать на главной странице баннеры с актуальными акциями и распродажами, чтобы увеличить конверсию   \n",
       "2  Добавить блоки рекомендаций товаров на сайт интернет магазина, чтобы повысить конверсию и средний чек заказа   \n",
       "1                                     Запустить собственную службу доставки, что сократит срок доставки заказов   \n",
       "5                      Добавить страницу отзывов клиентов о магазине, что позволит увеличить количество заказов   \n",
       "3           Изменить структура категорий, что увеличит конверсию, т.к. пользователи быстрее найдут нужный товар   \n",
       "4                              Изменить цвет фона главной страницы, чтобы увеличить вовлеченность пользователей   \n",
       "\n",
       "    ice  \n",
       "8  16.2  \n",
       "0  13.3  \n",
       "7  11.2  \n",
       "6   8.0  \n",
       "2   7.0  \n",
       "1   2.0  \n",
       "5   1.3  \n",
       "3   1.1  \n",
       "4   1.0  "
      ]
     },
     "metadata": {},
     "output_type": "display_data"
    }
   ],
   "source": [
    "hypothesis['ice'] = ((hypothesis['impact'] * hypothesis['confidence'])/hypothesis['efforts']).round(1)\n",
    "display(hypothesis[['hypothesis', 'ice']].sort_values(by = 'ice', ascending = False))"
   ]
  },
  {
   "cell_type": "markdown",
   "metadata": {},
   "source": [
    "### Примените фреймворк RICE для приоритизации гипотез. Отсортируйте их по убыванию приоритета."
   ]
  },
  {
   "cell_type": "markdown",
   "metadata": {},
   "source": [
    "$$RICE = \\frac{Rearch * Impact * Confidence}{Efforts}$$"
   ]
  },
  {
   "cell_type": "code",
   "execution_count": 7,
   "metadata": {},
   "outputs": [
    {
     "data": {
      "text/html": [
       "<div>\n",
       "<style scoped>\n",
       "    .dataframe tbody tr th:only-of-type {\n",
       "        vertical-align: middle;\n",
       "    }\n",
       "\n",
       "    .dataframe tbody tr th {\n",
       "        vertical-align: top;\n",
       "    }\n",
       "\n",
       "    .dataframe thead th {\n",
       "        text-align: right;\n",
       "    }\n",
       "</style>\n",
       "<table border=\"1\" class=\"dataframe\">\n",
       "  <thead>\n",
       "    <tr style=\"text-align: right;\">\n",
       "      <th></th>\n",
       "      <th>hypothesis</th>\n",
       "      <th>rice</th>\n",
       "    </tr>\n",
       "  </thead>\n",
       "  <tbody>\n",
       "    <tr>\n",
       "      <td>7</td>\n",
       "      <td>Добавить форму подписки на все основные страницы, чтобы собрать базу клиентов для email-рассылок</td>\n",
       "      <td>112.0</td>\n",
       "    </tr>\n",
       "    <tr>\n",
       "      <td>2</td>\n",
       "      <td>Добавить блоки рекомендаций товаров на сайт интернет магазина, чтобы повысить конверсию и средний чек заказа</td>\n",
       "      <td>56.0</td>\n",
       "    </tr>\n",
       "    <tr>\n",
       "      <td>0</td>\n",
       "      <td>Добавить два новых канала привлечения трафика, что позволит привлекать на 30% больше пользователей</td>\n",
       "      <td>40.0</td>\n",
       "    </tr>\n",
       "    <tr>\n",
       "      <td>6</td>\n",
       "      <td>Показать на главной странице баннеры с актуальными акциями и распродажами, чтобы увеличить конверсию</td>\n",
       "      <td>40.0</td>\n",
       "    </tr>\n",
       "    <tr>\n",
       "      <td>8</td>\n",
       "      <td>Запустить акцию, дающую скидку на товар в день рождения</td>\n",
       "      <td>16.2</td>\n",
       "    </tr>\n",
       "    <tr>\n",
       "      <td>3</td>\n",
       "      <td>Изменить структура категорий, что увеличит конверсию, т.к. пользователи быстрее найдут нужный товар</td>\n",
       "      <td>9.0</td>\n",
       "    </tr>\n",
       "    <tr>\n",
       "      <td>1</td>\n",
       "      <td>Запустить собственную службу доставки, что сократит срок доставки заказов</td>\n",
       "      <td>4.0</td>\n",
       "    </tr>\n",
       "    <tr>\n",
       "      <td>5</td>\n",
       "      <td>Добавить страницу отзывов клиентов о магазине, что позволит увеличить количество заказов</td>\n",
       "      <td>4.0</td>\n",
       "    </tr>\n",
       "    <tr>\n",
       "      <td>4</td>\n",
       "      <td>Изменить цвет фона главной страницы, чтобы увеличить вовлеченность пользователей</td>\n",
       "      <td>3.0</td>\n",
       "    </tr>\n",
       "  </tbody>\n",
       "</table>\n",
       "</div>"
      ],
      "text/plain": [
       "                                                                                                     hypothesis  \\\n",
       "7              Добавить форму подписки на все основные страницы, чтобы собрать базу клиентов для email-рассылок   \n",
       "2  Добавить блоки рекомендаций товаров на сайт интернет магазина, чтобы повысить конверсию и средний чек заказа   \n",
       "0            Добавить два новых канала привлечения трафика, что позволит привлекать на 30% больше пользователей   \n",
       "6          Показать на главной странице баннеры с актуальными акциями и распродажами, чтобы увеличить конверсию   \n",
       "8                                                       Запустить акцию, дающую скидку на товар в день рождения   \n",
       "3           Изменить структура категорий, что увеличит конверсию, т.к. пользователи быстрее найдут нужный товар   \n",
       "1                                     Запустить собственную службу доставки, что сократит срок доставки заказов   \n",
       "5                      Добавить страницу отзывов клиентов о магазине, что позволит увеличить количество заказов   \n",
       "4                              Изменить цвет фона главной страницы, чтобы увеличить вовлеченность пользователей   \n",
       "\n",
       "    rice  \n",
       "7  112.0  \n",
       "2   56.0  \n",
       "0   40.0  \n",
       "6   40.0  \n",
       "8   16.2  \n",
       "3    9.0  \n",
       "1    4.0  \n",
       "5    4.0  \n",
       "4    3.0  "
      ]
     },
     "metadata": {},
     "output_type": "display_data"
    }
   ],
   "source": [
    "hypothesis['rice'] = ((hypothesis['reach'] * hypothesis['impact'] * hypothesis['confidence'])/hypothesis['efforts'])\n",
    "display(hypothesis[['hypothesis', 'rice']].sort_values(by = 'rice', ascending = False))"
   ]
  },
  {
   "cell_type": "markdown",
   "metadata": {},
   "source": [
    "### Укажите, как изменилась приоритизация гипотез при применении RICE вместо ICE. Объясните, почему так произошло."
   ]
  },
  {
   "cell_type": "code",
   "execution_count": 8,
   "metadata": {},
   "outputs": [
    {
     "data": {
      "text/html": [
       "<div>\n",
       "<style scoped>\n",
       "    .dataframe tbody tr th:only-of-type {\n",
       "        vertical-align: middle;\n",
       "    }\n",
       "\n",
       "    .dataframe tbody tr th {\n",
       "        vertical-align: top;\n",
       "    }\n",
       "\n",
       "    .dataframe thead th {\n",
       "        text-align: right;\n",
       "    }\n",
       "</style>\n",
       "<table border=\"1\" class=\"dataframe\">\n",
       "  <thead>\n",
       "    <tr style=\"text-align: right;\">\n",
       "      <th></th>\n",
       "      <th>hypothesis</th>\n",
       "      <th>reach</th>\n",
       "      <th>impact</th>\n",
       "      <th>confidence</th>\n",
       "      <th>efforts</th>\n",
       "      <th>ice</th>\n",
       "      <th>rice</th>\n",
       "    </tr>\n",
       "  </thead>\n",
       "  <tbody>\n",
       "    <tr>\n",
       "      <td>0</td>\n",
       "      <td>Добавить два новых канала привлечения трафика, что позволит привлекать на 30% больше пользователей</td>\n",
       "      <td>3</td>\n",
       "      <td>10</td>\n",
       "      <td>8</td>\n",
       "      <td>6</td>\n",
       "      <td>13.3</td>\n",
       "      <td>40.0</td>\n",
       "    </tr>\n",
       "    <tr>\n",
       "      <td>1</td>\n",
       "      <td>Запустить собственную службу доставки, что сократит срок доставки заказов</td>\n",
       "      <td>2</td>\n",
       "      <td>5</td>\n",
       "      <td>4</td>\n",
       "      <td>10</td>\n",
       "      <td>2.0</td>\n",
       "      <td>4.0</td>\n",
       "    </tr>\n",
       "    <tr>\n",
       "      <td>2</td>\n",
       "      <td>Добавить блоки рекомендаций товаров на сайт интернет магазина, чтобы повысить конверсию и средний чек заказа</td>\n",
       "      <td>8</td>\n",
       "      <td>3</td>\n",
       "      <td>7</td>\n",
       "      <td>3</td>\n",
       "      <td>7.0</td>\n",
       "      <td>56.0</td>\n",
       "    </tr>\n",
       "    <tr>\n",
       "      <td>3</td>\n",
       "      <td>Изменить структура категорий, что увеличит конверсию, т.к. пользователи быстрее найдут нужный товар</td>\n",
       "      <td>8</td>\n",
       "      <td>3</td>\n",
       "      <td>3</td>\n",
       "      <td>8</td>\n",
       "      <td>1.1</td>\n",
       "      <td>9.0</td>\n",
       "    </tr>\n",
       "    <tr>\n",
       "      <td>4</td>\n",
       "      <td>Изменить цвет фона главной страницы, чтобы увеличить вовлеченность пользователей</td>\n",
       "      <td>3</td>\n",
       "      <td>1</td>\n",
       "      <td>1</td>\n",
       "      <td>1</td>\n",
       "      <td>1.0</td>\n",
       "      <td>3.0</td>\n",
       "    </tr>\n",
       "    <tr>\n",
       "      <td>5</td>\n",
       "      <td>Добавить страницу отзывов клиентов о магазине, что позволит увеличить количество заказов</td>\n",
       "      <td>3</td>\n",
       "      <td>2</td>\n",
       "      <td>2</td>\n",
       "      <td>3</td>\n",
       "      <td>1.3</td>\n",
       "      <td>4.0</td>\n",
       "    </tr>\n",
       "    <tr>\n",
       "      <td>6</td>\n",
       "      <td>Показать на главной странице баннеры с актуальными акциями и распродажами, чтобы увеличить конверсию</td>\n",
       "      <td>5</td>\n",
       "      <td>3</td>\n",
       "      <td>8</td>\n",
       "      <td>3</td>\n",
       "      <td>8.0</td>\n",
       "      <td>40.0</td>\n",
       "    </tr>\n",
       "    <tr>\n",
       "      <td>7</td>\n",
       "      <td>Добавить форму подписки на все основные страницы, чтобы собрать базу клиентов для email-рассылок</td>\n",
       "      <td>10</td>\n",
       "      <td>7</td>\n",
       "      <td>8</td>\n",
       "      <td>5</td>\n",
       "      <td>11.2</td>\n",
       "      <td>112.0</td>\n",
       "    </tr>\n",
       "    <tr>\n",
       "      <td>8</td>\n",
       "      <td>Запустить акцию, дающую скидку на товар в день рождения</td>\n",
       "      <td>1</td>\n",
       "      <td>9</td>\n",
       "      <td>9</td>\n",
       "      <td>5</td>\n",
       "      <td>16.2</td>\n",
       "      <td>16.2</td>\n",
       "    </tr>\n",
       "  </tbody>\n",
       "</table>\n",
       "</div>"
      ],
      "text/plain": [
       "                                                                                                     hypothesis  \\\n",
       "0            Добавить два новых канала привлечения трафика, что позволит привлекать на 30% больше пользователей   \n",
       "1                                     Запустить собственную службу доставки, что сократит срок доставки заказов   \n",
       "2  Добавить блоки рекомендаций товаров на сайт интернет магазина, чтобы повысить конверсию и средний чек заказа   \n",
       "3           Изменить структура категорий, что увеличит конверсию, т.к. пользователи быстрее найдут нужный товар   \n",
       "4                              Изменить цвет фона главной страницы, чтобы увеличить вовлеченность пользователей   \n",
       "5                      Добавить страницу отзывов клиентов о магазине, что позволит увеличить количество заказов   \n",
       "6          Показать на главной странице баннеры с актуальными акциями и распродажами, чтобы увеличить конверсию   \n",
       "7              Добавить форму подписки на все основные страницы, чтобы собрать базу клиентов для email-рассылок   \n",
       "8                                                       Запустить акцию, дающую скидку на товар в день рождения   \n",
       "\n",
       "   reach  impact  confidence  efforts   ice   rice  \n",
       "0      3      10           8        6  13.3   40.0  \n",
       "1      2       5           4       10   2.0    4.0  \n",
       "2      8       3           7        3   7.0   56.0  \n",
       "3      8       3           3        8   1.1    9.0  \n",
       "4      3       1           1        1   1.0    3.0  \n",
       "5      3       2           2        3   1.3    4.0  \n",
       "6      5       3           8        3   8.0   40.0  \n",
       "7     10       7           8        5  11.2  112.0  \n",
       "8      1       9           9        5  16.2   16.2  "
      ]
     },
     "execution_count": 8,
     "metadata": {},
     "output_type": "execute_result"
    }
   ],
   "source": [
    "hypothesis"
   ]
  },
  {
   "cell_type": "markdown",
   "metadata": {},
   "source": [
    "Так как параметр мы добавили в уравнение новый параметр Reach, то его влияние и предопределило изменение в приоретизации. Например, у 7-й гипотезы он равен 10, а у 8-й он равен 1, поэтому произошло разительное изменение в списке позиций."
   ]
  },
  {
   "cell_type": "markdown",
   "metadata": {},
   "source": [
    "<div style=\"border:solid green 2px; padding: 20px\"> <b>Отличная работа</b><br>\n",
    "Супер, ты отлично разобрался с приоритезацией и увидел, что добавление нового параметра существенно изменяет приоритеты.\n",
    "</div> <br>\n",
    "<div style=\"border:solid orange 2px; padding: 20px\"> <b>Что можно улучшить</b><br>\n",
    "<ul>\n",
    "    <li> гипотезы имеют длинные названия, чтобы они полностью отображались  можно использовать <a href=\"https://pandas.pydata.org/pandas-docs/stable/user_guide/options.html\">опции pandas</a>\n",
    "   <li>в качестве визуализации изменения приоритетов можно использовать <a href=\"https://datayoga.ru/tpost/zh3s62fori-sloupgraf\">slope graph</a>, <a href=\"https://chart-studio.plotly.com/~pcchang/224/slopegraph-spending-and-academic-performance-by-states-doc/#/\">реализация на plotly</a>\n",
    "    <li> В отчёте есть формулы для расчёта приоритезации, почему бы их не оформить, для этого есть микропакет для вёрстки `LaTex` - <a href=\"https://www.youtube.com/watch?v=vSc25kdgecg\">Использование LaTex в Jupyter Notebook</a>\n",
    "<br><a href=\"https://www.overleaf.com/static/latex/learn/free-online-introduction-to-latex-part-1.pdf\">LaTex for beginners</a>. Вот так будут выглядеть формулы:👇\n",
    "</ul></div> <br>\n",
    "\n",
    "$$ICE = \\frac{Impact * Confidence}{Efforts}$$\n",
    "\n",
    "$$RICE = \\frac{Rearch * Impact * Confidence}{Efforts}$$\n",
    "<hr style=\"border: 2px solid orange;\" />"
   ]
  },
  {
   "cell_type": "markdown",
   "metadata": {},
   "source": [
    "<div class=\"alert alert-info\" style=\"border:solid blue 2px; padding: 20px\"> <b>Комментарий студента:</b>\n",
    "    \n",
    "    1. За первый совет спасибо :)\n",
    "    \n",
    "    2. Не разобрался в этой простыне из реализованного кода, есть что-нибудь нагляднее ?:)\n",
    "    \n",
    "    3. Да, формулы смотрятся шикарно.</div>"
   ]
  },
  {
   "cell_type": "markdown",
   "metadata": {},
   "source": [
    "<div style=\"border:solid green 2px; padding: 20px\"> <b>Отличная работа 2</b><br>👍<br>\n",
    "2. Есть собственная <a href=\"http://eWD3K8Oyuzaaqdr9TRU6@storage.yandexcloud.net/public-bucket-6/lolipop.txt\">реализация</a></div> "
   ]
  },
  {
   "cell_type": "markdown",
   "metadata": {},
   "source": [
    "## Часть 2. Анализ A/B-теста."
   ]
  },
  {
   "cell_type": "markdown",
   "metadata": {},
   "source": [
    "### Анализ данных"
   ]
  },
  {
   "cell_type": "code",
   "execution_count": 9,
   "metadata": {},
   "outputs": [],
   "source": [
    "orders = pd.read_csv('/datasets/orders.csv')\n",
    "visitors = pd.read_csv('/datasets/visitors.csv')"
   ]
  },
  {
   "cell_type": "code",
   "execution_count": 10,
   "metadata": {},
   "outputs": [
    {
     "name": "stdout",
     "output_type": "stream",
     "text": [
      "Визиты\n",
      "<class 'pandas.core.frame.DataFrame'>\n",
      "RangeIndex: 62 entries, 0 to 61\n",
      "Data columns (total 3 columns):\n",
      "date        62 non-null object\n",
      "group       62 non-null object\n",
      "visitors    62 non-null int64\n",
      "dtypes: int64(1), object(2)\n",
      "memory usage: 1.6+ KB\n",
      "None\n",
      "Визиты\n"
     ]
    },
    {
     "data": {
      "text/html": [
       "<div>\n",
       "<style scoped>\n",
       "    .dataframe tbody tr th:only-of-type {\n",
       "        vertical-align: middle;\n",
       "    }\n",
       "\n",
       "    .dataframe tbody tr th {\n",
       "        vertical-align: top;\n",
       "    }\n",
       "\n",
       "    .dataframe thead th {\n",
       "        text-align: right;\n",
       "    }\n",
       "</style>\n",
       "<table border=\"1\" class=\"dataframe\">\n",
       "  <thead>\n",
       "    <tr style=\"text-align: right;\">\n",
       "      <th></th>\n",
       "      <th>visitors</th>\n",
       "    </tr>\n",
       "  </thead>\n",
       "  <tbody>\n",
       "    <tr>\n",
       "      <td>count</td>\n",
       "      <td>62.000000</td>\n",
       "    </tr>\n",
       "    <tr>\n",
       "      <td>mean</td>\n",
       "      <td>607.290323</td>\n",
       "    </tr>\n",
       "    <tr>\n",
       "      <td>std</td>\n",
       "      <td>114.400560</td>\n",
       "    </tr>\n",
       "    <tr>\n",
       "      <td>min</td>\n",
       "      <td>361.000000</td>\n",
       "    </tr>\n",
       "    <tr>\n",
       "      <td>25%</td>\n",
       "      <td>534.000000</td>\n",
       "    </tr>\n",
       "    <tr>\n",
       "      <td>50%</td>\n",
       "      <td>624.500000</td>\n",
       "    </tr>\n",
       "    <tr>\n",
       "      <td>75%</td>\n",
       "      <td>710.500000</td>\n",
       "    </tr>\n",
       "    <tr>\n",
       "      <td>max</td>\n",
       "      <td>770.000000</td>\n",
       "    </tr>\n",
       "  </tbody>\n",
       "</table>\n",
       "</div>"
      ],
      "text/plain": [
       "         visitors\n",
       "count   62.000000\n",
       "mean   607.290323\n",
       "std    114.400560\n",
       "min    361.000000\n",
       "25%    534.000000\n",
       "50%    624.500000\n",
       "75%    710.500000\n",
       "max    770.000000"
      ]
     },
     "metadata": {},
     "output_type": "display_data"
    },
    {
     "name": "stdout",
     "output_type": "stream",
     "text": [
      "Дубликаты\n"
     ]
    },
    {
     "data": {
      "text/plain": [
       "0"
      ]
     },
     "metadata": {},
     "output_type": "display_data"
    },
    {
     "name": "stdout",
     "output_type": "stream",
     "text": [
      "Визиты\n"
     ]
    },
    {
     "data": {
      "text/html": [
       "<div>\n",
       "<style scoped>\n",
       "    .dataframe tbody tr th:only-of-type {\n",
       "        vertical-align: middle;\n",
       "    }\n",
       "\n",
       "    .dataframe tbody tr th {\n",
       "        vertical-align: top;\n",
       "    }\n",
       "\n",
       "    .dataframe thead th {\n",
       "        text-align: right;\n",
       "    }\n",
       "</style>\n",
       "<table border=\"1\" class=\"dataframe\">\n",
       "  <thead>\n",
       "    <tr style=\"text-align: right;\">\n",
       "      <th></th>\n",
       "      <th>date</th>\n",
       "      <th>group</th>\n",
       "      <th>visitors</th>\n",
       "    </tr>\n",
       "  </thead>\n",
       "  <tbody>\n",
       "    <tr>\n",
       "      <td>0</td>\n",
       "      <td>2019-08-01</td>\n",
       "      <td>A</td>\n",
       "      <td>719</td>\n",
       "    </tr>\n",
       "    <tr>\n",
       "      <td>1</td>\n",
       "      <td>2019-08-02</td>\n",
       "      <td>A</td>\n",
       "      <td>619</td>\n",
       "    </tr>\n",
       "    <tr>\n",
       "      <td>2</td>\n",
       "      <td>2019-08-03</td>\n",
       "      <td>A</td>\n",
       "      <td>507</td>\n",
       "    </tr>\n",
       "    <tr>\n",
       "      <td>3</td>\n",
       "      <td>2019-08-04</td>\n",
       "      <td>A</td>\n",
       "      <td>717</td>\n",
       "    </tr>\n",
       "    <tr>\n",
       "      <td>4</td>\n",
       "      <td>2019-08-05</td>\n",
       "      <td>A</td>\n",
       "      <td>756</td>\n",
       "    </tr>\n",
       "    <tr>\n",
       "      <td>5</td>\n",
       "      <td>2019-08-06</td>\n",
       "      <td>A</td>\n",
       "      <td>667</td>\n",
       "    </tr>\n",
       "    <tr>\n",
       "      <td>6</td>\n",
       "      <td>2019-08-07</td>\n",
       "      <td>A</td>\n",
       "      <td>644</td>\n",
       "    </tr>\n",
       "    <tr>\n",
       "      <td>7</td>\n",
       "      <td>2019-08-08</td>\n",
       "      <td>A</td>\n",
       "      <td>610</td>\n",
       "    </tr>\n",
       "    <tr>\n",
       "      <td>8</td>\n",
       "      <td>2019-08-09</td>\n",
       "      <td>A</td>\n",
       "      <td>617</td>\n",
       "    </tr>\n",
       "    <tr>\n",
       "      <td>9</td>\n",
       "      <td>2019-08-10</td>\n",
       "      <td>A</td>\n",
       "      <td>406</td>\n",
       "    </tr>\n",
       "  </tbody>\n",
       "</table>\n",
       "</div>"
      ],
      "text/plain": [
       "         date group  visitors\n",
       "0  2019-08-01     A       719\n",
       "1  2019-08-02     A       619\n",
       "2  2019-08-03     A       507\n",
       "3  2019-08-04     A       717\n",
       "4  2019-08-05     A       756\n",
       "5  2019-08-06     A       667\n",
       "6  2019-08-07     A       644\n",
       "7  2019-08-08     A       610\n",
       "8  2019-08-09     A       617\n",
       "9  2019-08-10     A       406"
      ]
     },
     "metadata": {},
     "output_type": "display_data"
    },
    {
     "name": "stdout",
     "output_type": "stream",
     "text": [
      "Заказы\n",
      "<class 'pandas.core.frame.DataFrame'>\n",
      "RangeIndex: 1197 entries, 0 to 1196\n",
      "Data columns (total 5 columns):\n",
      "transactionId    1197 non-null int64\n",
      "visitorId        1197 non-null int64\n",
      "date             1197 non-null object\n",
      "revenue          1197 non-null int64\n",
      "group            1197 non-null object\n",
      "dtypes: int64(3), object(2)\n",
      "memory usage: 46.9+ KB\n",
      "None\n",
      "Заказы\n"
     ]
    },
    {
     "data": {
      "text/html": [
       "<div>\n",
       "<style scoped>\n",
       "    .dataframe tbody tr th:only-of-type {\n",
       "        vertical-align: middle;\n",
       "    }\n",
       "\n",
       "    .dataframe tbody tr th {\n",
       "        vertical-align: top;\n",
       "    }\n",
       "\n",
       "    .dataframe thead th {\n",
       "        text-align: right;\n",
       "    }\n",
       "</style>\n",
       "<table border=\"1\" class=\"dataframe\">\n",
       "  <thead>\n",
       "    <tr style=\"text-align: right;\">\n",
       "      <th></th>\n",
       "      <th>transactionId</th>\n",
       "      <th>visitorId</th>\n",
       "      <th>revenue</th>\n",
       "    </tr>\n",
       "  </thead>\n",
       "  <tbody>\n",
       "    <tr>\n",
       "      <td>count</td>\n",
       "      <td>1.197000e+03</td>\n",
       "      <td>1.197000e+03</td>\n",
       "      <td>1.197000e+03</td>\n",
       "    </tr>\n",
       "    <tr>\n",
       "      <td>mean</td>\n",
       "      <td>2.155621e+09</td>\n",
       "      <td>2.165960e+09</td>\n",
       "      <td>8.348006e+03</td>\n",
       "    </tr>\n",
       "    <tr>\n",
       "      <td>std</td>\n",
       "      <td>1.229085e+09</td>\n",
       "      <td>1.236014e+09</td>\n",
       "      <td>3.919113e+04</td>\n",
       "    </tr>\n",
       "    <tr>\n",
       "      <td>min</td>\n",
       "      <td>1.062393e+06</td>\n",
       "      <td>5.114589e+06</td>\n",
       "      <td>5.000000e+01</td>\n",
       "    </tr>\n",
       "    <tr>\n",
       "      <td>25%</td>\n",
       "      <td>1.166776e+09</td>\n",
       "      <td>1.111826e+09</td>\n",
       "      <td>1.220000e+03</td>\n",
       "    </tr>\n",
       "    <tr>\n",
       "      <td>50%</td>\n",
       "      <td>2.145194e+09</td>\n",
       "      <td>2.217985e+09</td>\n",
       "      <td>2.978000e+03</td>\n",
       "    </tr>\n",
       "    <tr>\n",
       "      <td>75%</td>\n",
       "      <td>3.237740e+09</td>\n",
       "      <td>3.177606e+09</td>\n",
       "      <td>8.290000e+03</td>\n",
       "    </tr>\n",
       "    <tr>\n",
       "      <td>max</td>\n",
       "      <td>4.293856e+09</td>\n",
       "      <td>4.283872e+09</td>\n",
       "      <td>1.294500e+06</td>\n",
       "    </tr>\n",
       "  </tbody>\n",
       "</table>\n",
       "</div>"
      ],
      "text/plain": [
       "       transactionId     visitorId       revenue\n",
       "count   1.197000e+03  1.197000e+03  1.197000e+03\n",
       "mean    2.155621e+09  2.165960e+09  8.348006e+03\n",
       "std     1.229085e+09  1.236014e+09  3.919113e+04\n",
       "min     1.062393e+06  5.114589e+06  5.000000e+01\n",
       "25%     1.166776e+09  1.111826e+09  1.220000e+03\n",
       "50%     2.145194e+09  2.217985e+09  2.978000e+03\n",
       "75%     3.237740e+09  3.177606e+09  8.290000e+03\n",
       "max     4.293856e+09  4.283872e+09  1.294500e+06"
      ]
     },
     "metadata": {},
     "output_type": "display_data"
    },
    {
     "name": "stdout",
     "output_type": "stream",
     "text": [
      "Дубликаты\n"
     ]
    },
    {
     "data": {
      "text/plain": [
       "0"
      ]
     },
     "metadata": {},
     "output_type": "display_data"
    },
    {
     "name": "stdout",
     "output_type": "stream",
     "text": [
      "Заказы\n"
     ]
    },
    {
     "data": {
      "text/html": [
       "<div>\n",
       "<style scoped>\n",
       "    .dataframe tbody tr th:only-of-type {\n",
       "        vertical-align: middle;\n",
       "    }\n",
       "\n",
       "    .dataframe tbody tr th {\n",
       "        vertical-align: top;\n",
       "    }\n",
       "\n",
       "    .dataframe thead th {\n",
       "        text-align: right;\n",
       "    }\n",
       "</style>\n",
       "<table border=\"1\" class=\"dataframe\">\n",
       "  <thead>\n",
       "    <tr style=\"text-align: right;\">\n",
       "      <th></th>\n",
       "      <th>transactionId</th>\n",
       "      <th>visitorId</th>\n",
       "      <th>date</th>\n",
       "      <th>revenue</th>\n",
       "      <th>group</th>\n",
       "    </tr>\n",
       "  </thead>\n",
       "  <tbody>\n",
       "    <tr>\n",
       "      <td>0</td>\n",
       "      <td>3667963787</td>\n",
       "      <td>3312258926</td>\n",
       "      <td>2019-08-15</td>\n",
       "      <td>1650</td>\n",
       "      <td>B</td>\n",
       "    </tr>\n",
       "    <tr>\n",
       "      <td>1</td>\n",
       "      <td>2804400009</td>\n",
       "      <td>3642806036</td>\n",
       "      <td>2019-08-15</td>\n",
       "      <td>730</td>\n",
       "      <td>B</td>\n",
       "    </tr>\n",
       "    <tr>\n",
       "      <td>2</td>\n",
       "      <td>2961555356</td>\n",
       "      <td>4069496402</td>\n",
       "      <td>2019-08-15</td>\n",
       "      <td>400</td>\n",
       "      <td>A</td>\n",
       "    </tr>\n",
       "    <tr>\n",
       "      <td>3</td>\n",
       "      <td>3797467345</td>\n",
       "      <td>1196621759</td>\n",
       "      <td>2019-08-15</td>\n",
       "      <td>9759</td>\n",
       "      <td>B</td>\n",
       "    </tr>\n",
       "    <tr>\n",
       "      <td>4</td>\n",
       "      <td>2282983706</td>\n",
       "      <td>2322279887</td>\n",
       "      <td>2019-08-15</td>\n",
       "      <td>2308</td>\n",
       "      <td>B</td>\n",
       "    </tr>\n",
       "    <tr>\n",
       "      <td>5</td>\n",
       "      <td>182168103</td>\n",
       "      <td>935554773</td>\n",
       "      <td>2019-08-15</td>\n",
       "      <td>2210</td>\n",
       "      <td>B</td>\n",
       "    </tr>\n",
       "    <tr>\n",
       "      <td>6</td>\n",
       "      <td>398296753</td>\n",
       "      <td>2900797465</td>\n",
       "      <td>2019-08-15</td>\n",
       "      <td>1860</td>\n",
       "      <td>B</td>\n",
       "    </tr>\n",
       "    <tr>\n",
       "      <td>7</td>\n",
       "      <td>2626614568</td>\n",
       "      <td>78758296</td>\n",
       "      <td>2019-08-15</td>\n",
       "      <td>1044</td>\n",
       "      <td>A</td>\n",
       "    </tr>\n",
       "    <tr>\n",
       "      <td>8</td>\n",
       "      <td>1576988021</td>\n",
       "      <td>295230930</td>\n",
       "      <td>2019-08-15</td>\n",
       "      <td>13710</td>\n",
       "      <td>A</td>\n",
       "    </tr>\n",
       "    <tr>\n",
       "      <td>9</td>\n",
       "      <td>1506739906</td>\n",
       "      <td>1882260405</td>\n",
       "      <td>2019-08-15</td>\n",
       "      <td>1855</td>\n",
       "      <td>B</td>\n",
       "    </tr>\n",
       "  </tbody>\n",
       "</table>\n",
       "</div>"
      ],
      "text/plain": [
       "   transactionId   visitorId        date  revenue group\n",
       "0     3667963787  3312258926  2019-08-15     1650     B\n",
       "1     2804400009  3642806036  2019-08-15      730     B\n",
       "2     2961555356  4069496402  2019-08-15      400     A\n",
       "3     3797467345  1196621759  2019-08-15     9759     B\n",
       "4     2282983706  2322279887  2019-08-15     2308     B\n",
       "5      182168103   935554773  2019-08-15     2210     B\n",
       "6      398296753  2900797465  2019-08-15     1860     B\n",
       "7     2626614568    78758296  2019-08-15     1044     A\n",
       "8     1576988021   295230930  2019-08-15    13710     A\n",
       "9     1506739906  1882260405  2019-08-15     1855     B"
      ]
     },
     "metadata": {},
     "output_type": "display_data"
    }
   ],
   "source": [
    "def basic_info(data, title):\n",
    "    print(title)\n",
    "    print(data.info())\n",
    "    print(title)\n",
    "    display(data.describe())\n",
    "    print('Дубликаты')\n",
    "    display(data.duplicated().sum())\n",
    "    print(title)\n",
    "    display(data.head(10))\n",
    "    \n",
    "basic_info(visitors, 'Визиты')\n",
    "basic_info(orders, 'Заказы')"
   ]
  },
  {
   "cell_type": "markdown",
   "metadata": {},
   "source": [
    "Визиты и заказы:\n",
    "- Переименуем столбцы;\n",
    "- Переведём столбцы со временем в тип даты;\n",
    "- Дубликатов нет."
   ]
  },
  {
   "cell_type": "markdown",
   "metadata": {},
   "source": [
    "<div style=\"border:solid orange 2px; padding: 20px\"> <b>Что можно улучшить</b><br>\n",
    "Рекомендую для вывода таблиц использовать функцию <code>display</code> - она доступна по умолчанию или новую ячейку, вывод через <code>print</code> - плохочитаем и содержит переносы при большой ширине таблицы</div> <br>"
   ]
  },
  {
   "cell_type": "markdown",
   "metadata": {},
   "source": [
    "<div class=\"alert alert-info\" style=\"border:solid blue 2px; padding: 20px\"> <b>Комментарий студента:</b> Да, так лучше :) </div>"
   ]
  },
  {
   "cell_type": "code",
   "execution_count": 11,
   "metadata": {},
   "outputs": [],
   "source": [
    "orders.columns = ['orderId', 'userId', 'date', 'revenue', 'group']\n",
    "orders['date'] = pd.to_datetime(orders['date'])\n",
    "visitors['date'] = pd.to_datetime(visitors['date'])\n",
    "# Тип данных категория не даёт следующему коду работать, не знаю, как это исправить.\n",
    "#orders['group'] = orders['group'].astype('category')\n",
    "#visits['group'] = visits['group'].astype('category')"
   ]
  },
  {
   "cell_type": "markdown",
   "metadata": {},
   "source": [
    "### Выводы:\n",
    "Столбцы в датафреймах названы корректно, каждый столбец имеет подходящий ему тип данных."
   ]
  },
  {
   "cell_type": "markdown",
   "metadata": {},
   "source": [
    "### Постройте график кумулятивной выручки по группам. Сделайте выводы и предположения."
   ]
  },
  {
   "cell_type": "code",
   "execution_count": 12,
   "metadata": {},
   "outputs": [],
   "source": [
    "import sys\n",
    "import warnings\n",
    "if not sys.warnoptions:\n",
    "       warnings.simplefilter(\"ignore\")"
   ]
  },
  {
   "cell_type": "code",
   "execution_count": 13,
   "metadata": {},
   "outputs": [
    {
     "data": {
      "image/png": "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\n",
      "text/plain": [
       "<Figure size 1080x360 with 1 Axes>"
      ]
     },
     "metadata": {
      "needs_background": "light"
     },
     "output_type": "display_data"
    },
    {
     "data": {
      "text/html": [
       "<div>\n",
       "<style scoped>\n",
       "    .dataframe tbody tr th:only-of-type {\n",
       "        vertical-align: middle;\n",
       "    }\n",
       "\n",
       "    .dataframe tbody tr th {\n",
       "        vertical-align: top;\n",
       "    }\n",
       "\n",
       "    .dataframe thead th {\n",
       "        text-align: right;\n",
       "    }\n",
       "</style>\n",
       "<table border=\"1\" class=\"dataframe\">\n",
       "  <thead>\n",
       "    <tr style=\"text-align: right;\">\n",
       "      <th></th>\n",
       "      <th>date</th>\n",
       "      <th>group</th>\n",
       "      <th>orders</th>\n",
       "      <th>buyers</th>\n",
       "      <th>revenue</th>\n",
       "      <th>visitors</th>\n",
       "    </tr>\n",
       "  </thead>\n",
       "  <tbody>\n",
       "    <tr>\n",
       "      <td>0</td>\n",
       "      <td>2019-08-01</td>\n",
       "      <td>A</td>\n",
       "      <td>24</td>\n",
       "      <td>20</td>\n",
       "      <td>148579</td>\n",
       "      <td>719</td>\n",
       "    </tr>\n",
       "    <tr>\n",
       "      <td>1</td>\n",
       "      <td>2019-08-01</td>\n",
       "      <td>B</td>\n",
       "      <td>21</td>\n",
       "      <td>20</td>\n",
       "      <td>101217</td>\n",
       "      <td>713</td>\n",
       "    </tr>\n",
       "    <tr>\n",
       "      <td>2</td>\n",
       "      <td>2019-08-02</td>\n",
       "      <td>A</td>\n",
       "      <td>44</td>\n",
       "      <td>38</td>\n",
       "      <td>242401</td>\n",
       "      <td>1338</td>\n",
       "    </tr>\n",
       "    <tr>\n",
       "      <td>3</td>\n",
       "      <td>2019-08-02</td>\n",
       "      <td>B</td>\n",
       "      <td>45</td>\n",
       "      <td>43</td>\n",
       "      <td>266748</td>\n",
       "      <td>1294</td>\n",
       "    </tr>\n",
       "    <tr>\n",
       "      <td>4</td>\n",
       "      <td>2019-08-03</td>\n",
       "      <td>A</td>\n",
       "      <td>68</td>\n",
       "      <td>62</td>\n",
       "      <td>354874</td>\n",
       "      <td>1845</td>\n",
       "    </tr>\n",
       "  </tbody>\n",
       "</table>\n",
       "</div>"
      ],
      "text/plain": [
       "        date group  orders  buyers  revenue  visitors\n",
       "0 2019-08-01     A      24      20   148579       719\n",
       "1 2019-08-01     B      21      20   101217       713\n",
       "2 2019-08-02     A      44      38   242401      1338\n",
       "3 2019-08-02     B      45      43   266748      1294\n",
       "4 2019-08-03     A      68      62   354874      1845"
      ]
     },
     "execution_count": 13,
     "metadata": {},
     "output_type": "execute_result"
    }
   ],
   "source": [
    "# создаем массив уникальных пар значений дат и групп теста\n",
    "datesGroups = orders[['date', 'group']].drop_duplicates()\n",
    "\n",
    "# получаем агрегированные кумулятивные по дням данные о заказах\n",
    "ordersAggregated = datesGroups.apply(\n",
    "    lambda x: orders[\n",
    "        np.logical_and(\n",
    "            orders['date'] <= x['date'], orders['group'] == x['group']\n",
    "        )\n",
    "    ].agg(\n",
    "        {\n",
    "            'date': 'max',\n",
    "            'group': 'max',\n",
    "            'orderId': pd.Series.nunique,\n",
    "            'userId': pd.Series.nunique,\n",
    "            'revenue': 'sum',\n",
    "        }\n",
    "    ),\n",
    "    axis=1,\n",
    ").sort_values(by=['date', 'group'])\n",
    "\n",
    "# получим агрегированные кумулятивные по дням данные о посетителях интернет-магазина\n",
    "visitorsAggregated = datesGroups.apply(\n",
    "    lambda x: visitors[\n",
    "        np.logical_and(\n",
    "            visitors['date'] <= x['date'], visitors['group'] == x['group']\n",
    "        )\n",
    "    ].agg({'date': 'max', 'group': 'max', 'visitors': 'sum'}),\n",
    "    axis=1,\n",
    ").sort_values(by=['date', 'group'])\n",
    "\n",
    "# объединяем кумулятивные данные в одной таблице\n",
    "cumulativeData = ordersAggregated.merge(\n",
    "    visitorsAggregated, left_on=['date', 'group'], right_on=['date', 'group']\n",
    ")\n",
    "\n",
    "# присваиваем ее столбцам понятные названия\n",
    "cumulativeData.columns = [\n",
    "    'date',\n",
    "    'group',\n",
    "    'orders',\n",
    "    'buyers',\n",
    "    'revenue',\n",
    "    'visitors',\n",
    "]\n",
    "\n",
    "# датафрейм с кумулятивным количеством заказов и кумулятивной выручкой по дням в группе А\n",
    "cumulativeRevenueA = cumulativeData[cumulativeData['group'] == 'A'][['date','revenue', 'orders']]\n",
    "\n",
    "# датафрейм с кумулятивным количеством заказов и кумулятивной выручкой по дням в группе B\n",
    "cumulativeRevenueB = cumulativeData[cumulativeData['group'] == 'B'][['date','revenue', 'orders']]\n",
    "\n",
    "\n",
    "# Строим график выручки группы А\n",
    "plt.figure(figsize=(15,5));\n",
    "plt.plot(cumulativeRevenueA['date'], cumulativeRevenueA['revenue'], label='A');\n",
    "\n",
    "# Строим график выручки группы B\n",
    "plt.plot(cumulativeRevenueB['date'], cumulativeRevenueB['revenue'], label='B');\n",
    "\n",
    "plt.title('График кумулятивной выручки по группам', fontsize = 15);\n",
    "plt.xlabel('Дата', fontsize = 15);\n",
    "plt.ylabel('Количество', fontsize = 15);\n",
    "\n",
    "plt.legend();\n",
    "plt.show();\n",
    "cumulativeData.head(5)"
   ]
  },
  {
   "cell_type": "markdown",
   "metadata": {},
   "source": [
    "#### Выводы:\n",
    "Почти на всём протяжении сегмент B лидировал; в середине теста в данные, видимо, затесались выбросы, что объясняет резкий скачок в графике. Нужно будет проверить это позже."
   ]
  },
  {
   "cell_type": "markdown",
   "metadata": {},
   "source": [
    "### Постройте график кумулятивного среднего чека по группам. Сделайте выводы и предположения.\n"
   ]
  },
  {
   "cell_type": "code",
   "execution_count": 14,
   "metadata": {},
   "outputs": [
    {
     "data": {
      "image/png": "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\n",
      "text/plain": [
       "<Figure size 1080x360 with 1 Axes>"
      ]
     },
     "metadata": {
      "needs_background": "light"
     },
     "output_type": "display_data"
    }
   ],
   "source": [
    "# Построим графики среднего чека по группам — разделим кумулятивную выручку на кумулятивное число заказов:\n",
    "plt.figure(figsize=(15,5));\n",
    "plt.plot(cumulativeRevenueA['date'], cumulativeRevenueA['revenue']/cumulativeRevenueA['orders'], label='A')\n",
    "plt.plot(cumulativeRevenueB['date'], cumulativeRevenueB['revenue']/cumulativeRevenueB['orders'], label='B')\n",
    "\n",
    "plt.title('График кумулятивного среднего чека по группам', fontsize = 15);\n",
    "plt.xlabel('Дата', fontsize = 15);\n",
    "plt.ylabel('Количество', fontsize = 15);\n",
    "\n",
    "plt.legend();\n",
    "plt.show();"
   ]
  },
  {
   "cell_type": "markdown",
   "metadata": {},
   "source": [
    "#### Вывод:\n",
    "График начинает приходить в равновесное состояние примерно 15 августа, 18-го августа мы можем отчётливо наблюдать выброс в данных у сегмента B, с этим нужно что-то делать. Скорее всего, после избавления от этого выброса будет видно, что средний чек по сегменту A будет выше."
   ]
  },
  {
   "cell_type": "markdown",
   "metadata": {},
   "source": [
    "### Постройте график относительного изменения кумулятивного среднего чека группы B к группе A. Сделайте выводы и предположения.\n"
   ]
  },
  {
   "cell_type": "code",
   "execution_count": 15,
   "metadata": {},
   "outputs": [
    {
     "data": {
      "image/png": "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\n",
      "text/plain": [
       "<Figure size 1080x360 with 1 Axes>"
      ]
     },
     "metadata": {
      "needs_background": "light"
     },
     "output_type": "display_data"
    }
   ],
   "source": [
    "# собираем данные в одном датафрейме\n",
    "mergedCumulativeRevenue = cumulativeRevenueA.merge(cumulativeRevenueB, left_on='date', right_on='date', how='left', suffixes=['A', 'B'])\n",
    "\n",
    "# cтроим отношение средних чеков\n",
    "plt.figure(figsize=(15,5));\n",
    "plt.plot(mergedCumulativeRevenue['date'], (mergedCumulativeRevenue['revenueB']/mergedCumulativeRevenue['ordersB'])/(mergedCumulativeRevenue['revenueA']/mergedCumulativeRevenue['ordersA'])-1)\n",
    "\n",
    "# добавляем ось X\n",
    "plt.axhline(y=0, color='black', linestyle='--') \n",
    "\n",
    "plt.title('График относительного изменения кумулятивного среднего чека группы B к группе A', fontsize = 15);\n",
    "plt.xlabel('Дата', fontsize = 15);\n",
    "plt.ylabel('Соотношние', fontsize = 15);\n",
    "plt.show();"
   ]
  },
  {
   "cell_type": "markdown",
   "metadata": {},
   "source": [
    "#### Выводы:\n",
    "В нескольких точках график различия между сегментами резко «скачет», особенно сильно это заметно 9-го и 18-го августа. Где-то уж точно спрятались крупные заказы и выбросы."
   ]
  },
  {
   "cell_type": "markdown",
   "metadata": {},
   "source": [
    "### Постройте график кумулятивной конверсии по группам. Сделайте выводы и предположения.\n"
   ]
  },
  {
   "cell_type": "code",
   "execution_count": 16,
   "metadata": {},
   "outputs": [
    {
     "data": {
      "image/png": "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\n",
      "text/plain": [
       "<Figure size 1080x360 with 1 Axes>"
      ]
     },
     "metadata": {
      "needs_background": "light"
     },
     "output_type": "display_data"
    }
   ],
   "source": [
    "# считаем кумулятивную конверсию\n",
    "cumulativeData['conversion'] = cumulativeData['orders']/cumulativeData['visitors']\n",
    "\n",
    "# отделяем данные по группе A\n",
    "cumulativeDataA = cumulativeData[cumulativeData['group']=='A']\n",
    "\n",
    "# отделяем данные по группе B\n",
    "cumulativeDataB = cumulativeData[cumulativeData['group']=='B']\n",
    "\n",
    "# строим графики\n",
    "plt.figure(figsize=(15,5));\n",
    "plt.plot(cumulativeDataA['date'], cumulativeDataA['conversion'], label='A')\n",
    "plt.plot(cumulativeDataB['date'], cumulativeDataB['conversion'], label='B')\n",
    "\n",
    "plt.title('График кумулятивной конверсии по группам', fontsize = 15);\n",
    "plt.xlabel('Дата', fontsize = 15);\n",
    "plt.ylabel('Соотношние', fontsize = 15);\n",
    "plt.axis([\"2019-08-01\", '2019-09-01', 0, 0.05])\n",
    "plt.legend();\n",
    "plt.show();"
   ]
  },
  {
   "cell_type": "markdown",
   "metadata": {},
   "source": [
    "#### Выводы:\n",
    "Поначалу сегмент A имел большую конверсию, но потом сигмент B стал явно лидировать. Отчётливо видно, что данные по конверсии установились у своего среднего значения, для сегмента A она составляет 30%, для сегмента B 35%. "
   ]
  },
  {
   "cell_type": "markdown",
   "metadata": {},
   "source": [
    "### Постройте график относительного изменения кумулятивной конверсии группы B к группе A. Сделайте выводы и предположения.\n"
   ]
  },
  {
   "cell_type": "code",
   "execution_count": 17,
   "metadata": {},
   "outputs": [
    {
     "data": {
      "image/png": "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\n",
      "text/plain": [
       "<Figure size 1080x360 with 1 Axes>"
      ]
     },
     "metadata": {
      "needs_background": "light"
     },
     "output_type": "display_data"
    }
   ],
   "source": [
    "mergedCumulativeConversions = cumulativeDataA[['date','conversion']].merge(cumulativeDataB[['date','conversion']], left_on='date', right_on='date', how='left', suffixes=['A', 'B'])\n",
    "\n",
    "plt.figure(figsize=(15,5));\n",
    "plt.plot(mergedCumulativeConversions['date'], mergedCumulativeConversions['conversionB']/mergedCumulativeConversions['conversionA']-1, label=\"Относительный прирост конверсии группы B относительно группы A\")\n",
    "plt.legend()\n",
    "\n",
    "plt.axhline(y=0, color='black', linestyle='--')\n",
    "plt.axhline(y=-0.1, color='grey', linestyle='--')\n",
    "plt.title('График относительного изменения кумулятивной конверсии группы B к группе A', fontsize = 15);\n",
    "plt.xlabel('Дата', fontsize = 15);\n",
    "plt.ylabel('Соотношние', fontsize = 15);\n",
    "plt.axis([\"2019-08-01\", '2019-09-01', -0.2, 0.3])\n",
    "plt.show();"
   ]
  },
  {
   "cell_type": "markdown",
   "metadata": {},
   "source": [
    "#### Выводы:\n",
    "В начале теста группа B значительно проигрывала группе A, затем вырвалась вперёд. Потом её конверсия немного падала, но теперь она, кажется, начинает снова растёт.\n",
    "В целом отношение конверсии ещё не установилось и сейчас делать какие-либо выводы по тесту нельзя. Как мы уже заметили ранее, сперва стоит проанализировать аномалии, они должны изменить картину."
   ]
  },
  {
   "cell_type": "markdown",
   "metadata": {},
   "source": [
    "<div style=\"border:solid green 2px; padding: 20px\"> <b>Отличная работа</b><br>\n",
    "Супер, ты олично справился со всеми шагами в разделе кумулятивных метрик: подготовил данные, построил графики, проанализировал поведение метрик и отметил наличие аномалий</div> <br>"
   ]
  },
  {
   "cell_type": "markdown",
   "metadata": {},
   "source": [
    "### Постройте точечный график количества заказов по пользователям. Сделайте выводы и предположения.\n"
   ]
  },
  {
   "cell_type": "code",
   "execution_count": 18,
   "metadata": {},
   "outputs": [
    {
     "data": {
      "image/png": "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\n",
      "text/plain": [
       "<Figure size 1080x360 with 1 Axes>"
      ]
     },
     "metadata": {
      "needs_background": "light"
     },
     "output_type": "display_data"
    }
   ],
   "source": [
    "x_values = pd.Series(range(0, len(orders['revenue'])))\n",
    "plt.figure(figsize=(15,5));\n",
    "plt.scatter(x_values, orders['revenue']) \n",
    "plt.title('Точечный график количества заказов по пользователям', fontsize = 15);\n",
    "plt.xlabel('Пользователи', fontsize = 15);\n",
    "plt.ylabel('Количество заказов', fontsize = 15);\n",
    "plt.show();"
   ]
  },
  {
   "cell_type": "code",
   "execution_count": 19,
   "metadata": {},
   "outputs": [
    {
     "name": "stdout",
     "output_type": "stream",
     "text": [
      "          userId  orders\n",
      "1023  4256040402      11\n",
      "591   2458001652      11\n",
      "569   2378935119       9\n",
      "487   2038680547       8\n",
      "44     199603092       5\n",
      "744   3062433592       5\n",
      "55     237748145       5\n",
      "917   3803269165       5\n",
      "299   1230306981       5\n",
      "897   3717692402       5\n"
     ]
    }
   ],
   "source": [
    "ordersByUsers = (\n",
    "    orders.drop(['group', 'revenue', 'date'], axis=1)\n",
    "    .groupby('userId', as_index=False)\n",
    "    .agg({'orderId': pd.Series.nunique})\n",
    ")\n",
    "\n",
    "ordersByUsers.columns = ['userId', 'orders']\n",
    "\n",
    "print(ordersByUsers.sort_values(by='orders', ascending=False).head(10)) "
   ]
  },
  {
   "cell_type": "code",
   "execution_count": 20,
   "metadata": {
    "scrolled": true
   },
   "outputs": [
    {
     "data": {
      "image/png": "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\n",
      "text/plain": [
       "<Figure size 1080x360 with 1 Axes>"
      ]
     },
     "metadata": {
      "needs_background": "light"
     },
     "output_type": "display_data"
    }
   ],
   "source": [
    "x_values = pd.Series(range(0,len(ordersByUsers)))\n",
    "plt.figure(figsize=(15,5));\n",
    "plt.scatter(x_values, ordersByUsers['orders'])\n",
    "plt.title('Точечный график количества заказов по пользователям', fontsize = 15);\n",
    "plt.xlabel('Пользователи', fontsize = 15);\n",
    "plt.ylabel('Количество заказов', fontsize = 15);\n",
    "plt.show();"
   ]
  },
  {
   "cell_type": "code",
   "execution_count": 21,
   "metadata": {},
   "outputs": [
    {
     "name": "stdout",
     "output_type": "stream",
     "text": [
      "[2. 3. 4.]\n"
     ]
    }
   ],
   "source": [
    "print(np.percentile(ordersByUsers['orders'], [95, 98, 99]))"
   ]
  },
  {
   "cell_type": "markdown",
   "metadata": {},
   "source": [
    "#### Выводы:\n",
    "Сразу бросаются в глаза выбросы:\n",
    "1) один заказ больше чем на миллион, есть заказ на 200 тысяч. Думаю, что если эти выбросы удалить, то можно будет избавиться от скачков в графиках.\n",
    "2) Большая часть пользователей делает 2 заказа, хотя встречаются выбросы в 11 и от них стоит избавиться."
   ]
  },
  {
   "cell_type": "markdown",
   "metadata": {},
   "source": [
    "### Посчитайте 95-й и 99-й перцентили количества заказов на пользователя. Выберите границу для определения аномальных пользователей."
   ]
  },
  {
   "cell_type": "code",
   "execution_count": 22,
   "metadata": {},
   "outputs": [
    {
     "name": "stdout",
     "output_type": "stream",
     "text": [
      "[28000.  44133.2 58233.2]\n"
     ]
    }
   ],
   "source": [
    "print(np.percentile(orders['revenue'], [95, 98, 99]))"
   ]
  },
  {
   "cell_type": "markdown",
   "metadata": {},
   "source": [
    "#### Выводы:\n",
    "Можно смело выбрасывать все заказы выше 50000 ₽, они явно выбиваются из общей картины."
   ]
  },
  {
   "cell_type": "markdown",
   "metadata": {},
   "source": [
    "<div style=\"border:solid green 2px; padding: 20px\"> <b>Отличная работа</b><br>\n",
    "Границы аномалий выбраны корректно\n",
    "<br>\n",
    "<img src=data:image/jpeg;base64,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></div> <br>"
   ]
  },
  {
   "cell_type": "markdown",
   "metadata": {},
   "source": [
    "### Посчитайте статистическую значимость различий в конверсии между группами по «сырым» данным. Сделайте выводы и предположения."
   ]
  },
  {
   "cell_type": "code",
   "execution_count": 23,
   "metadata": {},
   "outputs": [
    {
     "name": "stdout",
     "output_type": "stream",
     "text": [
      "        date  ordersPerDateA  revenuePerDateA  ordersPerDateB  \\\n",
      "0 2019-08-01              24           148579              21   \n",
      "1 2019-08-02              20            93822              24   \n",
      "2 2019-08-03              24           112473              16   \n",
      "3 2019-08-04              16            70825              17   \n",
      "4 2019-08-05              25           124218              23   \n",
      "\n",
      "   revenuePerDateB  ordersCummulativeA  revenueCummulativeA  \\\n",
      "0           101217                  24               148579   \n",
      "1           165531                  44               242401   \n",
      "2           114248                  68               354874   \n",
      "3           108571                  84               425699   \n",
      "4            92428                 109               549917   \n",
      "\n",
      "   ordersCummulativeB  revenueCummulativeB  visitorsPerDateA  \\\n",
      "0                  21               101217               719   \n",
      "1                  45               266748               619   \n",
      "2                  61               380996               507   \n",
      "3                  78               489567               717   \n",
      "4                 101               581995               756   \n",
      "\n",
      "   visitorsPerDateB  visitorsCummulativeA  visitorsCummulativeB  \n",
      "0               713                   719                   713  \n",
      "1               581                  1338                  1294  \n",
      "2               509                  1845                  1803  \n",
      "3               770                  2562                  2573  \n",
      "4               707                  3318                  3280  \n"
     ]
    }
   ],
   "source": [
    "visitorsADaily = visitors[visitors['group'] == 'A'][['date', 'visitors']]\n",
    "visitorsADaily.columns = ['date', 'visitorsPerDateA']\n",
    "\n",
    "visitorsACummulative = visitorsADaily.apply(\n",
    "    lambda x: visitorsADaily[visitorsADaily['date'] <= x['date']].agg(\n",
    "        {'date': 'max', 'visitorsPerDateA': 'sum'}\n",
    "    ),\n",
    "    axis=1,\n",
    ")\n",
    "visitorsACummulative.columns = ['date', 'visitorsCummulativeA']\n",
    "\n",
    "visitorsBDaily = visitors[visitors['group'] == 'B'][['date', 'visitors']]\n",
    "visitorsBDaily.columns = ['date', 'visitorsPerDateB']\n",
    "\n",
    "visitorsBCummulative = visitorsBDaily.apply(\n",
    "    lambda x: visitorsBDaily[visitorsBDaily['date'] <= x['date']].agg(\n",
    "        {'date': 'max', 'visitorsPerDateB': 'sum'}\n",
    "    ),\n",
    "    axis=1,\n",
    ")\n",
    "visitorsBCummulative.columns = ['date', 'visitorsCummulativeB']\n",
    "\n",
    "ordersADaily = (\n",
    "    orders[orders['group'] == 'A'][['date', 'orderId', 'userId', 'revenue']]\n",
    "    .groupby('date', as_index=False)\n",
    "    .agg({'orderId': pd.Series.nunique, 'revenue': 'sum'})\n",
    ")\n",
    "ordersADaily.columns = ['date', 'ordersPerDateA', 'revenuePerDateA']\n",
    "\n",
    "ordersACummulative = ordersADaily.apply(\n",
    "    lambda x: ordersADaily[ordersADaily['date'] <= x['date']].agg(\n",
    "        {'date': 'max', 'ordersPerDateA': 'sum', 'revenuePerDateA': 'sum'}\n",
    "    ),\n",
    "    axis=1,\n",
    ").sort_values(by=['date'])\n",
    "ordersACummulative.columns = [\n",
    "    'date',\n",
    "    'ordersCummulativeA',\n",
    "    'revenueCummulativeA',\n",
    "]\n",
    "\n",
    "ordersBDaily = (\n",
    "    orders[orders['group'] == 'B'][['date', 'orderId', 'userId', 'revenue']]\n",
    "    .groupby('date', as_index=False)\n",
    "    .agg({'orderId': pd.Series.nunique, 'revenue': 'sum'})\n",
    ")\n",
    "ordersBDaily.columns = ['date', 'ordersPerDateB', 'revenuePerDateB']\n",
    "\n",
    "ordersBCummulative = ordersBDaily.apply(\n",
    "    lambda x: ordersBDaily[ordersBDaily['date'] <= x['date']].agg(\n",
    "        {'date': 'max', 'ordersPerDateB': 'sum', 'revenuePerDateB': 'sum'}\n",
    "    ),\n",
    "    axis=1,\n",
    ").sort_values(by=['date'])\n",
    "ordersBCummulative.columns = [\n",
    "    'date',\n",
    "    'ordersCummulativeB',\n",
    "    'revenueCummulativeB',\n",
    "]\n",
    "\n",
    "data = (\n",
    "    ordersADaily.merge(\n",
    "        ordersBDaily, left_on='date', right_on='date', how='left'\n",
    "    )\n",
    "    .merge(ordersACummulative, left_on='date', right_on='date', how='left')\n",
    "    .merge(ordersBCummulative, left_on='date', right_on='date', how='left')\n",
    "    .merge(visitorsADaily, left_on='date', right_on='date', how='left')\n",
    "    .merge(visitorsBDaily, left_on='date', right_on='date', how='left')\n",
    "    .merge(visitorsACummulative, left_on='date', right_on='date', how='left')\n",
    "    .merge(visitorsBCummulative, left_on='date', right_on='date', how='left')\n",
    ")\n",
    "\n",
    "print(data.head(5))\n",
    "\n",
    "ordersByUsersA = (\n",
    "    orders[orders['group'] == 'A']\n",
    "    .groupby('userId', as_index=False)\n",
    "    .agg({'orderId': pd.Series.nunique})\n",
    ")\n",
    "ordersByUsersA.columns = ['userId', 'orders']\n",
    "\n",
    "ordersByUsersB = (\n",
    "    orders[orders['group'] == 'B']\n",
    "    .groupby('userId', as_index=False)\n",
    "    .agg({'orderId': pd.Series.nunique})\n",
    ")\n",
    "ordersByUsersB.columns = ['userId', 'orders']\n",
    "\n",
    "sampleA = pd.concat(\n",
    "    [\n",
    "        ordersByUsersA['orders'],\n",
    "        pd.Series(\n",
    "            0,\n",
    "            index=np.arange(\n",
    "                data['visitorsPerDateA'].sum() - len(ordersByUsersA['orders'])\n",
    "            ),\n",
    "            name='orders',\n",
    "        ),\n",
    "    ],\n",
    "    axis=0,\n",
    ")\n",
    "sampleB = pd.concat(\n",
    "    [\n",
    "        ordersByUsersB['orders'],\n",
    "        pd.Series(\n",
    "            0,\n",
    "            index=np.arange(\n",
    "                data['visitorsPerDateB'].sum() - len(ordersByUsersB['orders'])\n",
    "            ),\n",
    "            name='orders',\n",
    "        ),\n",
    "    ],\n",
    "    axis=0,\n",
    ")"
   ]
  },
  {
   "cell_type": "markdown",
   "metadata": {},
   "source": [
    "Формулируем гипотезы:\n",
    "- Нулевая гипотеза H0 - статистической значимости различий в конверсии между группами по «сырым» данным нет;\n",
    "- Альтернативная гипотеза H1 - статистически значимые различия в конверсии между группами по «сырым» данным есть.\n",
    "\n",
    "Гипотезы получились двусторонними."
   ]
  },
  {
   "cell_type": "markdown",
   "metadata": {},
   "source": [
    "<div style=\"border:solid green 2px; padding: 20px\"> <b>Отличная работа 2</b><br>\n",
    "Гипотезы сформулированы верно ✅</div> <br>"
   ]
  },
  {
   "cell_type": "code",
   "execution_count": 24,
   "metadata": {},
   "outputs": [
    {
     "name": "stdout",
     "output_type": "stream",
     "text": [
      "0.0084\n",
      "Отвергаем нулевую гипотезу\n"
     ]
    }
   ],
   "source": [
    "p = (\"{0:.5f}\".format(stats.mannwhitneyu(sampleA, sampleB)[1]))\n",
    "\n",
    "p = float(p)\n",
    "print(p)\n",
    "alpha = .05\n",
    "\n",
    "if (p < alpha):\n",
    "    print(\"Отвергаем нулевую гипотезу\")\n",
    "else:\n",
    "    print(\"Не получилось отвергнуть нулевую гипотезу\")"
   ]
  },
  {
   "cell_type": "code",
   "execution_count": 25,
   "metadata": {},
   "outputs": [
    {
     "name": "stdout",
     "output_type": "stream",
     "text": [
      "0.138\n"
     ]
    }
   ],
   "source": [
    "print(\n",
    "    \"{0:.3f}\".format(\n",
    "        (data['ordersPerDateB'].sum() / data['visitorsPerDateB'].sum())\n",
    "        / (data['ordersPerDateA'].sum() / data['visitorsPerDateA'].sum())\n",
    "        - 1\n",
    "    )\n",
    ")"
   ]
  },
  {
   "cell_type": "markdown",
   "metadata": {},
   "source": [
    "#### Выводы:\n",
    "- Отвергаем нулевую гипотезу - статистически значимые различия в конверсии между группами по «сырым» данным есть;\n",
    "- Статистические данные говорят о том, что разница в приросте конверсии между сегментами B и A достигает ~14 %."
   ]
  },
  {
   "cell_type": "markdown",
   "metadata": {},
   "source": [
    "### Посчитайте статистическую значимость различий в среднем чеке заказа между группами по «сырым» данным. Сделайте выводы и предположения."
   ]
  },
  {
   "cell_type": "code",
   "execution_count": 26,
   "metadata": {},
   "outputs": [
    {
     "name": "stdout",
     "output_type": "stream",
     "text": [
      "0.365\n",
      "Не получилось отвергнуть нулевую гипотезу\n"
     ]
    }
   ],
   "source": [
    "p = ('{0:.3f}'.format(stats.mannwhitneyu(orders[orders['group']=='A']['revenue'], orders[orders['group']=='B']['revenue'])[1]))\n",
    "\n",
    "p = float(p)\n",
    "print(p)\n",
    "alpha = .05\n",
    "\n",
    "if (p < alpha):\n",
    "    print(\"Отвергаем нулевую гипотезу\")\n",
    "else:\n",
    "    print(\"Не получилось отвергнуть нулевую гипотезу\")"
   ]
  },
  {
   "cell_type": "code",
   "execution_count": 27,
   "metadata": {},
   "outputs": [
    {
     "name": "stdout",
     "output_type": "stream",
     "text": [
      "0.259\n"
     ]
    }
   ],
   "source": [
    "print('{0:.3f}'.format(orders[orders['group']=='B']['revenue'].mean()/orders[orders['group']=='A']['revenue'].mean()-1))"
   ]
  },
  {
   "cell_type": "markdown",
   "metadata": {},
   "source": [
    "#### Выводы:\n",
    "- Не получилось отвергнуть нулевую гипотезу - статистически значимых различий в среднем чеке между двумя сегментами нет;\n",
    "- При этом относительное различие в среднем чеке между сегментами достигает 25%. "
   ]
  },
  {
   "cell_type": "markdown",
   "metadata": {},
   "source": [
    "### Посчитайте статистическую значимость различий в конверсии между группами по «очищенным» данным. Сделайте выводы и предположения."
   ]
  },
  {
   "cell_type": "code",
   "execution_count": 28,
   "metadata": {},
   "outputs": [],
   "source": [
    "visitorsADaily = visitors[visitors['group'] == 'A'][['date', 'visitors']]\n",
    "visitorsADaily.columns = ['date', 'visitorsPerDateA']\n",
    "\n",
    "visitorsACummulative = visitorsADaily.apply(\n",
    "    lambda x: visitorsADaily[visitorsADaily['date'] <= x['date']].agg(\n",
    "        {'date': 'max', 'visitorsPerDateA': 'sum'}\n",
    "    ),\n",
    "    axis=1,\n",
    ")\n",
    "visitorsACummulative.columns = ['date', 'visitorsCummulativeA']\n",
    "\n",
    "visitorsBDaily = visitors[visitors['group'] == 'B'][['date', 'visitors']]\n",
    "visitorsBDaily.columns = ['date', 'visitorsPerDateB']\n",
    "\n",
    "visitorsBCummulative = visitorsBDaily.apply(\n",
    "    lambda x: visitorsBDaily[visitorsBDaily['date'] <= x['date']].agg(\n",
    "        {'date': 'max', 'visitorsPerDateB': 'sum'}\n",
    "    ),\n",
    "    axis=1,\n",
    ")\n",
    "visitorsBCummulative.columns = ['date', 'visitorsCummulativeB']\n",
    "\n",
    "ordersADaily = (\n",
    "    orders[orders['group'] == 'A'][['date', 'orderId', 'userId', 'revenue']]\n",
    "    .groupby('date', as_index=False)\n",
    "    .agg({'orderId': pd.Series.nunique, 'revenue': 'sum'})\n",
    ")\n",
    "ordersADaily.columns = ['date', 'ordersPerDateA', 'revenuePerDateA']\n",
    "\n",
    "ordersACummulative = ordersADaily.apply(\n",
    "    lambda x: ordersADaily[ordersADaily['date'] <= x['date']].agg(\n",
    "        {'date': 'max', 'ordersPerDateA': 'sum', 'revenuePerDateA': 'sum'}\n",
    "    ),\n",
    "    axis=1,\n",
    ").sort_values(by=['date'])\n",
    "ordersACummulative.columns = [\n",
    "    'date',\n",
    "    'ordersCummulativeA',\n",
    "    'revenueCummulativeA',\n",
    "]\n",
    "\n",
    "ordersBDaily = (\n",
    "    orders[orders['group'] == 'B'][['date', 'orderId', 'userId', 'revenue']]\n",
    "    .groupby('date', as_index=False)\n",
    "    .agg({'orderId': pd.Series.nunique, 'revenue': 'sum'})\n",
    ")\n",
    "ordersBDaily.columns = ['date', 'ordersPerDateB', 'revenuePerDateB']\n",
    "\n",
    "ordersBCummulative = ordersBDaily.apply(\n",
    "    lambda x: ordersBDaily[ordersBDaily['date'] <= x['date']].agg(\n",
    "        {'date': 'max', 'ordersPerDateB': 'sum', 'revenuePerDateB': 'sum'}\n",
    "    ),\n",
    "    axis=1,\n",
    ").sort_values(by=['date'])\n",
    "ordersBCummulative.columns = [\n",
    "    'date',\n",
    "    'ordersCummulativeB',\n",
    "    'revenueCummulativeB',\n",
    "]\n",
    "\n",
    "data = (\n",
    "    ordersADaily.merge(\n",
    "        ordersBDaily, left_on='date', right_on='date', how='left'\n",
    "    )\n",
    "    .merge(ordersACummulative, left_on='date', right_on='date', how='left')\n",
    "    .merge(ordersBCummulative, left_on='date', right_on='date', how='left')\n",
    "    .merge(visitorsADaily, left_on='date', right_on='date', how='left')\n",
    "    .merge(visitorsBDaily, left_on='date', right_on='date', how='left')\n",
    "    .merge(visitorsACummulative, left_on='date', right_on='date', how='left')\n",
    "    .merge(visitorsBCummulative, left_on='date', right_on='date', how='left')\n",
    ")\n",
    "\n",
    "ordersByUsersA = (\n",
    "    orders[orders['group'] == 'A']\n",
    "    .groupby('userId', as_index=False)\n",
    "    .agg({'orderId': pd.Series.nunique})\n",
    ")\n",
    "ordersByUsersA.columns = ['userId', 'orders']\n",
    "\n",
    "ordersByUsersB = (\n",
    "    orders[orders['group'] == 'B']\n",
    "    .groupby('userId', as_index=False)\n",
    "    .agg({'orderId': pd.Series.nunique})\n",
    ")\n",
    "ordersByUsersB.columns = ['userId', 'orders']\n",
    "\n",
    "\n",
    "usersWithManyOrders = pd.concat(\n",
    "    [\n",
    "        ordersByUsersA[ordersByUsersA['orders'] > 2]['userId'],\n",
    "        ordersByUsersB[ordersByUsersB['orders'] > 2]['userId'],\n",
    "    ],\n",
    "    axis=0,\n",
    ")\n",
    "usersWithExpensiveOrders = orders[orders['revenue'] > 10000]['userId']\n",
    "abnormalUsers = (\n",
    "    pd.concat([usersWithManyOrders, usersWithExpensiveOrders], axis=0)\n",
    "    .drop_duplicates()\n",
    "    .sort_values()\n",
    ")\n",
    "\n",
    "sampleAFiltered = pd.concat(\n",
    "    [\n",
    "        ordersByUsersA[\n",
    "            np.logical_not(ordersByUsersA['userId'].isin(abnormalUsers))\n",
    "        ]['orders'],\n",
    "        pd.Series(\n",
    "            0,\n",
    "            index=np.arange(\n",
    "                data['visitorsPerDateA'].sum() - len(ordersByUsersA['orders'])\n",
    "            ),\n",
    "            name='orders',\n",
    "        ),\n",
    "    ],\n",
    "    axis=0,\n",
    ")\n",
    "\n",
    "sampleBFiltered = pd.concat(\n",
    "    [\n",
    "        ordersByUsersB[\n",
    "            np.logical_not(ordersByUsersB['userId'].isin(abnormalUsers))\n",
    "        ]['orders'],\n",
    "        pd.Series(\n",
    "            0,\n",
    "            index=np.arange(\n",
    "                data['visitorsPerDateB'].sum() - len(ordersByUsersB['orders'])\n",
    "            ),\n",
    "            name='orders',\n",
    "        ),\n",
    "    ],\n",
    "    axis=0,\n",
    ") "
   ]
  },
  {
   "cell_type": "markdown",
   "metadata": {},
   "source": [
    "Формулируем гипотезы:\n",
    "- Нулевая гипотеза H0 - статистической значимости различий в конверсии между группами по «очищенным» данным нет;\n",
    "- Альтернативная гипотеза H1 - статистически значимые различия в конверсии между группами по «очищенным» данным есть.\n",
    "\n",
    "Гипотезы получились двусторонними."
   ]
  },
  {
   "cell_type": "code",
   "execution_count": 29,
   "metadata": {},
   "outputs": [
    {
     "name": "stdout",
     "output_type": "stream",
     "text": [
      "0.00448\n",
      "Отвергаем нулевую гипотезу\n"
     ]
    }
   ],
   "source": [
    "p = ('{0:.5f}'.format(stats.mannwhitneyu(sampleAFiltered, sampleBFiltered)[1]))\n",
    "\n",
    "p = float(p)\n",
    "print(p)\n",
    "alpha = .05\n",
    "\n",
    "if (p < alpha):\n",
    "    print(\"Отвергаем нулевую гипотезу\")\n",
    "else:\n",
    "    print(\"Не получилось отвергнуть нулевую гипотезу\")"
   ]
  },
  {
   "cell_type": "code",
   "execution_count": 30,
   "metadata": {},
   "outputs": [
    {
     "name": "stdout",
     "output_type": "stream",
     "text": [
      "0.205\n"
     ]
    }
   ],
   "source": [
    "print('{0:.3f}'.format(sampleBFiltered.mean()/sampleAFiltered.mean()-1)) "
   ]
  },
  {
   "cell_type": "markdown",
   "metadata": {},
   "source": [
    "#### Выводы:\n",
    "- Отвергаем нулевую гипотезу - статистически значимые различия в конверсии между группами по «чистым» данным есть;\n",
    "- По сравнению с «сырыми» данными показатель упал почти в 2 раза;\n",
    "- Статистические данные говорят о том, что разница в приросте конверсии между сегментами B и A достигает ~20 %;\n",
    "- Это на 6 % больше, чем по «сырым» данным.\n",
    "- Сегмент B значительно лучше сегмента A."
   ]
  },
  {
   "cell_type": "markdown",
   "metadata": {},
   "source": [
    "### Посчитайте статистическую значимость различий в среднем чеке заказа между группами по «очищенным» данным. Сделайте выводы и предположения."
   ]
  },
  {
   "cell_type": "code",
   "execution_count": 31,
   "metadata": {},
   "outputs": [
    {
     "name": "stdout",
     "output_type": "stream",
     "text": [
      "0.483\n",
      "0.002\n"
     ]
    }
   ],
   "source": [
    "print(\n",
    "    '{0:.3f}'.format(\n",
    "        stats.mannwhitneyu(\n",
    "            orders[\n",
    "                np.logical_and(\n",
    "                    orders['group'] == 'A',\n",
    "                    np.logical_not(orders['userId'].isin(abnormalUsers)),\n",
    "                )\n",
    "            ]['revenue'],\n",
    "            orders[\n",
    "                np.logical_and(\n",
    "                    orders['group'] == 'B',\n",
    "                    np.logical_not(orders['userId'].isin(abnormalUsers)),\n",
    "                )\n",
    "            ]['revenue'],\n",
    "        )[1]\n",
    "    )\n",
    ")\n",
    "\n",
    "print(\n",
    "    \"{0:.3f}\".format(\n",
    "        orders[\n",
    "            np.logical_and(\n",
    "                orders['group'] == 'B',\n",
    "                np.logical_not(orders['userId'].isin(abnormalUsers)),\n",
    "            )\n",
    "        ]['revenue'].mean()\n",
    "        / orders[\n",
    "            np.logical_and(\n",
    "                orders['group'] == 'A',\n",
    "                np.logical_not(orders['userId'].isin(abnormalUsers)),\n",
    "            )\n",
    "        ]['revenue'].mean()\n",
    "        - 1\n",
    "    )\n",
    ") "
   ]
  },
  {
   "cell_type": "markdown",
   "metadata": {},
   "source": [
    "#### Выводы:\n",
    "- Не получилось отвергнуть нулевую гипотезу - статистически значимых различий в среднем чеке между двумя сегментами по прежнему нет, хотя значения скакнули на четверть с 0.365 до 0.483;\n",
    "- Различие по выручке после удаления выбросов снизилась с 25% до всего 0.2%."
   ]
  },
  {
   "cell_type": "markdown",
   "metadata": {},
   "source": [
    "<div style=\"border:solid green 2px; padding: 20px\"> <b>Отличная работа</b><br>\n",
    "Проверки выполнены верно, результаты интерпретированы корректно!</div> <br>\n",
    "<div style=\"border:solid red 2px; padding: 20px\"> <b>Что необходимо доработать</b><br>\n",
    "Попрощу тебя сформулировать гипотезы - <b>нулевую и альтернативную</b></div><br>"
   ]
  },
  {
   "cell_type": "markdown",
   "metadata": {},
   "source": [
    "<div class=\"alert alert-block alert-info\">   \n",
    "Готово.\n",
    "    </div>"
   ]
  },
  {
   "cell_type": "markdown",
   "metadata": {},
   "source": [
    "### Примите решение по результатам теста и объясните его. Варианты решений: "
   ]
  },
  {
   "cell_type": "markdown",
   "metadata": {},
   "source": [
    "Давайте ещё раз посмотрим на графики:"
   ]
  },
  {
   "cell_type": "code",
   "execution_count": 32,
   "metadata": {},
   "outputs": [
    {
     "data": {
      "image/png": "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\n",
      "text/plain": [
       "<Figure size 1080x360 with 1 Axes>"
      ]
     },
     "metadata": {
      "needs_background": "light"
     },
     "output_type": "display_data"
    }
   ],
   "source": [
    "# Построим графики среднего чека по группам — разделим кумулятивную выручку на кумулятивное число заказов:\n",
    "plt.figure(figsize=(15,5));\n",
    "#plt.plot(cumulativeRevenueA['date'], cumulativeRevenueA['revenue']/cumulativeRevenueA['orders'], label='A')\n",
    "#plt.plot(cumulativeRevenueB['date'], cumulativeRevenueB['revenue']/cumulativeRevenueB['orders'], label='B')\n",
    "\n",
    "#plt.plot(ordersACummulative['date'], ordersACummulative['revenueCummulativeA']/ordersACummulative['ordersCummulativeA'], label='A')\n",
    "#plt.plot(ordersBCummulative['date'], ordersBCummulative['revenueCummulativeB']/ordersBCummulative['ordersCummulativeB'], label='B')\n",
    "\n",
    "plt.plot(data['date'], data['revenueCummulativeA']/data['ordersCummulativeA'], label='A')\n",
    "plt.plot(data['date'], data['revenueCummulativeB']/data['ordersCummulativeB'], label='B')\n",
    "\n",
    "plt.title('График кумулятивного среднего чека по группам', fontsize = 15);\n",
    "plt.xlabel('Дата', fontsize = 15);\n",
    "plt.ylabel('Количество', fontsize = 15);\n",
    "\n",
    "plt.legend();\n",
    "plt.show();"
   ]
  },
  {
   "cell_type": "code",
   "execution_count": 33,
   "metadata": {},
   "outputs": [
    {
     "data": {
      "text/html": [
       "<div>\n",
       "<style scoped>\n",
       "    .dataframe tbody tr th:only-of-type {\n",
       "        vertical-align: middle;\n",
       "    }\n",
       "\n",
       "    .dataframe tbody tr th {\n",
       "        vertical-align: top;\n",
       "    }\n",
       "\n",
       "    .dataframe thead th {\n",
       "        text-align: right;\n",
       "    }\n",
       "</style>\n",
       "<table border=\"1\" class=\"dataframe\">\n",
       "  <thead>\n",
       "    <tr style=\"text-align: right;\">\n",
       "      <th></th>\n",
       "      <th>date</th>\n",
       "      <th>ordersPerDateA</th>\n",
       "      <th>revenuePerDateA</th>\n",
       "      <th>ordersPerDateB</th>\n",
       "      <th>revenuePerDateB</th>\n",
       "      <th>ordersCummulativeA</th>\n",
       "      <th>revenueCummulativeA</th>\n",
       "      <th>ordersCummulativeB</th>\n",
       "      <th>revenueCummulativeB</th>\n",
       "      <th>visitorsPerDateA</th>\n",
       "      <th>visitorsPerDateB</th>\n",
       "      <th>visitorsCummulativeA</th>\n",
       "      <th>visitorsCummulativeB</th>\n",
       "    </tr>\n",
       "  </thead>\n",
       "  <tbody>\n",
       "    <tr>\n",
       "      <td>0</td>\n",
       "      <td>2019-08-01</td>\n",
       "      <td>24</td>\n",
       "      <td>148579</td>\n",
       "      <td>21</td>\n",
       "      <td>101217</td>\n",
       "      <td>24</td>\n",
       "      <td>148579</td>\n",
       "      <td>21</td>\n",
       "      <td>101217</td>\n",
       "      <td>719</td>\n",
       "      <td>713</td>\n",
       "      <td>719</td>\n",
       "      <td>713</td>\n",
       "    </tr>\n",
       "    <tr>\n",
       "      <td>1</td>\n",
       "      <td>2019-08-02</td>\n",
       "      <td>20</td>\n",
       "      <td>93822</td>\n",
       "      <td>24</td>\n",
       "      <td>165531</td>\n",
       "      <td>44</td>\n",
       "      <td>242401</td>\n",
       "      <td>45</td>\n",
       "      <td>266748</td>\n",
       "      <td>619</td>\n",
       "      <td>581</td>\n",
       "      <td>1338</td>\n",
       "      <td>1294</td>\n",
       "    </tr>\n",
       "    <tr>\n",
       "      <td>2</td>\n",
       "      <td>2019-08-03</td>\n",
       "      <td>24</td>\n",
       "      <td>112473</td>\n",
       "      <td>16</td>\n",
       "      <td>114248</td>\n",
       "      <td>68</td>\n",
       "      <td>354874</td>\n",
       "      <td>61</td>\n",
       "      <td>380996</td>\n",
       "      <td>507</td>\n",
       "      <td>509</td>\n",
       "      <td>1845</td>\n",
       "      <td>1803</td>\n",
       "    </tr>\n",
       "    <tr>\n",
       "      <td>3</td>\n",
       "      <td>2019-08-04</td>\n",
       "      <td>16</td>\n",
       "      <td>70825</td>\n",
       "      <td>17</td>\n",
       "      <td>108571</td>\n",
       "      <td>84</td>\n",
       "      <td>425699</td>\n",
       "      <td>78</td>\n",
       "      <td>489567</td>\n",
       "      <td>717</td>\n",
       "      <td>770</td>\n",
       "      <td>2562</td>\n",
       "      <td>2573</td>\n",
       "    </tr>\n",
       "    <tr>\n",
       "      <td>4</td>\n",
       "      <td>2019-08-05</td>\n",
       "      <td>25</td>\n",
       "      <td>124218</td>\n",
       "      <td>23</td>\n",
       "      <td>92428</td>\n",
       "      <td>109</td>\n",
       "      <td>549917</td>\n",
       "      <td>101</td>\n",
       "      <td>581995</td>\n",
       "      <td>756</td>\n",
       "      <td>707</td>\n",
       "      <td>3318</td>\n",
       "      <td>3280</td>\n",
       "    </tr>\n",
       "  </tbody>\n",
       "</table>\n",
       "</div>"
      ],
      "text/plain": [
       "        date  ordersPerDateA  revenuePerDateA  ordersPerDateB  \\\n",
       "0 2019-08-01              24           148579              21   \n",
       "1 2019-08-02              20            93822              24   \n",
       "2 2019-08-03              24           112473              16   \n",
       "3 2019-08-04              16            70825              17   \n",
       "4 2019-08-05              25           124218              23   \n",
       "\n",
       "   revenuePerDateB  ordersCummulativeA  revenueCummulativeA  \\\n",
       "0           101217                  24               148579   \n",
       "1           165531                  44               242401   \n",
       "2           114248                  68               354874   \n",
       "3           108571                  84               425699   \n",
       "4            92428                 109               549917   \n",
       "\n",
       "   ordersCummulativeB  revenueCummulativeB  visitorsPerDateA  \\\n",
       "0                  21               101217               719   \n",
       "1                  45               266748               619   \n",
       "2                  61               380996               507   \n",
       "3                  78               489567               717   \n",
       "4                 101               581995               756   \n",
       "\n",
       "   visitorsPerDateB  visitorsCummulativeA  visitorsCummulativeB  \n",
       "0               713                   719                   713  \n",
       "1               581                  1338                  1294  \n",
       "2               509                  1845                  1803  \n",
       "3               770                  2562                  2573  \n",
       "4               707                  3318                  3280  "
      ]
     },
     "execution_count": 33,
     "metadata": {},
     "output_type": "execute_result"
    }
   ],
   "source": [
    "data.head()"
   ]
  },
  {
   "cell_type": "code",
   "execution_count": 34,
   "metadata": {},
   "outputs": [
    {
     "data": {
      "image/png": "iVBORw0KGgoAAAANSUhEUgAAA5UAAAFUCAYAAAC0gxjrAAAABHNCSVQICAgIfAhkiAAAAAlwSFlzAAALEgAACxIB0t1+/AAAADh0RVh0U29mdHdhcmUAbWF0cGxvdGxpYiB2ZXJzaW9uMy4xLjAsIGh0dHA6Ly9tYXRwbG90bGliLm9yZy+17YcXAAAgAElEQVR4nOzdd3xW9fn/8deVSRIggbADJCxBZKmgDBVwtFq3rXthW627dtjarbb9Wq211jrqxqpVq786cA+GEwSUITIS9ggJEEZCIPPz++NzAje3d0hCxp2Q9/PxuB/Jfc65z7nuc591nc845pxDRERERERE5EDERDsAERERERERabmUVIqIiIiIiMgBU1IpIiIiIiIiB0xJpYiIiIiIiBwwJZUiIiIiIiJywJRUioiIiIiIyAFTUimY2a1m5qp5TWiC5U8IljWksZclIiIi0hjMLCvsGqrCzNaY2aNm1jna8R1sQq4fP452LAJx0Q5Amo3twMkRhn/d1IGIiIiItGA/Bz4BYoFDgT8DmcC3ohnUQejC4O9YM+vtnFsT1WhaOSWVUqXcOTcz2kGIiIiItHBLQ66pPjGzBOB+M2vrnCuKZmAHCzOLB74HTAWOBy4A7opqUK2cqr9KrQRVZDeb2Tgz+8LMdpvZPDM7Jmy6y8zsYzMrMLOtZjbNzEaGTWNm9lczKzSzr/B38QBGmlm2mW0zs9+GfWa6mU0OGzYzvIpu8H5SyPtTzazMzK6o4ft1MrOnzGyLmRUHyxsZMn76fqoIOzPLCln+9WHzPi10mtosL2S6K81sYbC+88zsJTNLDcZNNrPpYdO/ELoO6hB3jJndYmY5ZlZiZsvM7PII8UyqYT41VmWu2pYiDJ8T4Tc+L/j+JWa21sz+bGZxIeOri+e3IdOMMLMPgvW81cyeNbOu1cUXOt+wYdcE854cMuwPZrbCzHYF+8fLZtY3ZPzk4DP/CpvXqKpYw4Z3NLNHgt96t5l9amZHh01T222sjZndFay3EjObb2bfCfvcKjO7O2zYEKt5v+psZjsixD8hiHlH2O+xv+1hn3Vt3rNB3L3MLNbMNpjZrRE+O93MXg6dj5ktDpsm0fx+tuc7mdl/w/edYPitwbqPD1tG+PY1PWS8mdnvgu2gLGSaOWFxVfe6NZiuxv05GLYq5LMlZva1mV0aMr6q+t1pYfO6PsLv1cfMXgl+r0Izm2Jm/cOmiRRzTsj4ZDO7z8w2BtvsbDOrsTQm+F1/Zf5YU2Jm62zffWu6+ePdVcF33mVmb5hZRth8atzOa/gdJoRMU5dj07FmNsP8cWWL+eqN7WqxvPoemyZXbVs1DBsSrK/C4PWimXULGV91rM4KGXaHmW03s+Ehw/5i/hhcFPxGz4bOp5oYw6uAVr3eDxt/kZk9HcSXb2Z/CJnH4PDfJxjeNojlxyHffb/7VjDd/s6Fk0Km+8YxMcL3Oi3S+BoUAoYvuaxpvU0IGfYjMyvd3z4V8luGvx4LG/8tM3vdzHaar5J7dcg8vmNmlWbWJ2zefYLhZwbv67Iea2xWZbW89qjGt4COwJ3AZ+wttZQoUUml1EUy8AxwB5AL/Ax4y8wGOOc2BtNkAf8GlgMJ+J38IzM7zDm3Ipjmh8BNwK+BlcBfg+G/wFcZOQK43cwWOedejhSImZ0DfCMJC5vmaOC/wK3OuSdr+G6vAP2D5W8Gbgammdnhzrkc4FqgfUj8pwJnh3w+t4b513V5BBcftwMPBuOTg+W2xVdXDv++RwLnhA2ubdz/BC4PlvcFcBLwhJltcc69HiH+44FdwDgg4gm4voKT6Av47elmYBjwRyAduDps8qp4qqwN5tEZmA4sBi7Cr7u/AO+Z2UjnXGktY0kGfg9UhI1aFMSWH8T1qyDmUSHTbAMuMLOfOOeqYvw+sBXoELKMROB9IC1kntcA74ftY7X1EnAU8Af8/nge8FrwvefVcV7hfoffHvcws/bAq8Ac4Fz8NnoE8EAd53038B3gWOdc1e/4FHCZmd3mnHPBsL7AccCZYZ/vZmZjnHOfBe/Pwl/MhXocf+zq45xbGczP8PvAM865srDpp+GPVwD/x743ZC8DbsOv5+lAGX79VCUHbwBjgv+7A/8DrsPvZwDrIq2EavbnKv/B77NJ+H1hspl94ZxbVM30keafCHwQxHslUB58jxlmNtQ5VxAy+d/w21OV3SH/PwqcgV8/OcG83jCzic65/bVzehi/7u4CZuAvDr8bNs0YYCDwU6AN/uLxFfbdv+q6nVcdK/oCz+4nvmqZ2Tj8vvoKvqQkHX9c6RC8j7S8Kg16bKomvv74qpdzgEvw13p/BKaY2VFV+1DYZ67Hr+eTnXPzQ0Z1wW/zG4DO+PP+VDMb4pyrrCGUqiqgVcLPW38FXsevs+OAP5jZZufcA865r81sJjAJv56qnAvE469FqiwBwm8cvx0hntD9GPz+M7WG73CgYszfAI0FBhGc451z3zh3VydI5O4HrnDOvVuLj1wMrAh5nx82/nHgafyx42zgITNbF5zj38H/xpcDt4Z8ZlIwnzdChtV2PVYdp6pE2ufqeu0R6kJgE/44NhC4z8wGOeeW1PA5aSzOOb1a+Qt/ANlci2kccFHIsLZAAfCXaj4Tgz+ZLQF+HzL8K+CBkPfnBfM+PmTYS/gDcNX76cDk4P9Y/In4seBzE0Kmc/iD4CH4g80D+/tewWdODj43PmRYSvD5h6tZF6uqmZcDrg8bdlowPKu2y8MnFsXAPfuJezIwPeT9eyHrZFJt48Ynt5XA5WHD/w3MDht2ZTD/NtV8twnB+yF13d7wF0CTQ97PDN0GgmG/wCd2PYP3k4Llta1mWX/BJ3XtQ4YdHXzmwv3EOAlwIe9/E2zHH4XGGIwz/HbeDX+hsyPsN5oDfE6w7+Avjrfik63QZfwAKAUGhAyLw18o/7WO29gJ4dtYMPxD4MWQ96uAu8OmGUI1+1Xwfx+gpGpbC5lmVDDd6JBhtdke9qxr/EXtLnxCGTrNgGA+E0OG3Q5sBOLCtoUHgUdCpnunal1XfSf8sWkNcFvIdMdHihV/Ufx8yPuX2He/ewBYEmHfnBPhu2aFr9u67s/hvxk+UXXAuWHLOC1s/teH/V5X4xPJviHDeuK3wV/tb3sLGXcoYceOYN1+Bbyzn998UDDfG/czzXR8wts7ZNi44HMn12U7D4ZdFUybtJ/t/FZqd2z6iG8em/bZfmi8Y9NDwOL9bW/4xGEpkBC2D1UAp4btm1n4pK4MOL+65QafiQUygs8dt5/pIm6DEca/Gzb8UWA9EBO8/yFQFLoOg9/2pVrsa5vxN5RDt6eXwqZpSw37V12+V9g04a9FQEYN67fqsxPw2/ou4Ob9fSbst4x4nA0Z/0jY8PeAmSHv/4S/0W/BewtfH/VZj4Ttc9Th2iPCd0rCl/4+GLzvSnBjrKb1pVfjvVT9VepqT8mh8+0C3sPfJQbAzA41XwUwD38CK8PfQTokGB+PvxD5NGSe+WF/wV/IDSeyK/B3hP9ezfhu+AvJYuCGWnyno4B859yMkO+2E38H9ZhqP1W9GDOLq3rxzWrmtVneGPxB88naLNDMTgw+e+sBxHsC/sD+cljcHwAjzCy0uk5S8Lemu+ixFlJNtZqY48KWFzouFl/K9WLYx17Ar88x1M5R+AuXHVUDnHOz8Ce8Wv22ZpaOT2Z/wzdLKsHfZS3Dl/pegD8xh3uCvXfSz8Ff8C0Om+ZEYC6wMmydzOCbpfI1bWMn4hOuTyL8puHzsrBpqq2eFfgj8C4QXgq1Dr9+Ljez9FrOKzSIC/GllH9zzn0UOs45l42/mJxUFTC+lOtp51x52KyeAM43syQz64n/nZ8Lm18lft+6LJgXwbznOOe+CptfEj6Jrs4qoI+ZnWK+KmYc3ywZrZNa7M9Vv1k7/I2e3cDssGlqcxz6wu2tQYJzbh3+2Fvb494o/Hfds58G6/bFGuYxMfg7uYb5f+FCOt5wzn2CP09UnXPqsp0n4y9od1ODGo5Nyfjjz3/DpvkYfxw4sqb5Bw702PQVMNB80474ara3E/Hn6sqQ+FYG8w5fL+PxN8NecM69EL6wYLv+1My24y/aq0rWD6nd19yv8JpI/wN64G9ugD/egy+dxMz64ddNrc6L9VC1f9XnGvkn+P3jKHyp4A587Yi2tfjsocBrwFzn3F9rmrgOIq3vI0PO8U/gOxOaELyfGLxvrPVdl2uPcKfjk9nnAZxzefiEV1Vgo0hJpdRFkdtbfa9KPv5OOcEFzrtAL3yJw7H4g+p8fOkMQCf8dldTQ/VCoEOEE3oS/kLrdmBnNZ+9DV/q1x1/kV+T7nyzmghAHr5KVl39A39xUfV69QCWlx78rbFabXBR/Bfgn8FFYV11wl/8b2ffuCfjS8q6h0zbEdjqaq72NA8oM98Oaq6ZnRo2Pj1sWeEXY53wVZzywj5X9b62v0v3CPOomk9t5/FrfEnU/6tm/BT8hcMl+JPhZxGmeQ4YY2a98VVfI52kOwGj+eZ6uQK/T4WqaRvrhL+5Ej6vWyPM66dh01RbNdZ8W6vz8dV89+Gcy8VXtz4PX0pQhq8iWFuT8evuh2bWIcL4x4HvBhdlx+Mvdp6IMN0SfKnAd/GJ4mv4EqFwTwbzmBgcu75bzfw6Alv2E/eDwTJex5cslOET3gNSy/256jfbAfwW+IlzblXYNK+y7+/6j7DxDbFvdMefF4ojzCM5qGIbSTqwMzShqkak4+Secw512867A5tcUKyxHzUdmzrgj5cPhk1Tgj9mhS+3Oge6/p/AXzy/jr+5F2l76wT8MsL36BshvkfwN7POCZK2PcxsFH7bXgdcik+mRwej21B/4b9v1fvuAM65QnwTlqobcpPwNxEiVW1tSHuOiebbkd5VQ4ITSY5zbo5zbrZz7hV8FfHDCG6M1eBe/HFsTFDVuqFEWt9x+O2F4AbTdPau7yuAz10dqtXXUV2uPcJdiN9XFppZmpml4c/FA4KmAxIFalMpddHWzJLCEssu7E18xuDvMJ7kQuq0W9CxTGAL/m5xTRct6cC2CKUQN+Av3B7FV8OJZAn+Tu0vgXvN7B3n3P4uCnOD7xGuK756b139FX8irHIM+5aq1mZ5VfF2x1+g78+5QD98W4QDUYC/Az0Of9cwXOiJqC/+bndNLsBX22wP3Aj8PzPLcnvbBW7H/0ah/h3yf1VSEr6eqtqp1fZ32d+6nlvTh4Mk8DoiP24HgGDb2gLMNt8Rystm1t2FtMtzzm03s1fx7b7G4BOYS8NmVYCvZndNhMWEl5TVtI0V4KuRnVX9t9vjGfZNOPoR3P2N4A7gWefcVxahYynn3CNmNgBfGnsBvrT5X+HT7WfedwIL8G34vh82/kXgPnzSOhGY5ZwLL+2t8mTw+d74RPcbnHOrzHccMglfpTeGsBJN8z029mQ/27xzbqf5DiqqLsD/jf+d93dBtD+12Z+rfrM4fJXJf5hZrnMu9ObCT9i3NPk8fLuuKrn4i9xwdTnu5eLPC8lhiWVXoNg5V10J7xYgxcza15BYRtp3Q885ddnOB1O7R2TVdGzahj+H3Qq8GeHzG2qxDDjAY1Nw/j3efIcqVTcfw7e3Anyp1GMRZhF+PvkPvur9DHw719Dvfjb+Bu35Vcm4mWVWF9sBCP/+Ve9Db6Y+BnwcHFcuA/7tnItUY6Qhhe5fY/Dtfjfg29AeEOfcJvOdQB1a48T+tzgVn1w9amYjXD3a2IaItL7L2XebeCxY5q/wx/GfNcByq1OXa489gmvKU4BEIh+rLqQW53dpeEoqpa7Oxp+ECEoMTsLf6YS9VSP3XEiY2Vh8O4G5AM65UjNbCoxlb2lN57C/4A8yC8OW3QG4BbjGOVe2t9baN/zdObfDzP6Ibyvyd/ZfcjALuM3MjnPOfRjEXdUpTsSOgmqwxjm3pyc++2ZPebVZ3mf45PlyfGcH1YnDV7f8i3Nu6wHECr6BfSyQ6px7r7qJzKwNvlrMlFrMc1FVNUIz24TvTGUg/i4z+EfYhPdWuOei1DlXYWZz8RfYD4VMdh7+5BOpNDCSWcA1ZtYuuOtddfc9i29W34zkdnzbqem1XF4S/kKvLb7dZKgn8CV3/wmSzPDPfoDvzW6Ncy7iyTRETdvYB/iLgSJXc6cFeWHzqq564Hh8CWG11d7M7Ah8J1zfcc7NNrOUGpa9h3Pu1mAeP8J3TvSMc25qyPhdZvYcPskfhC9NqM7z+Lv9Bfh1Pria6R7H/y6HAa8458JLNE/E7xs1bW9/wl8c/TKIcwsHllTWdn8O/c1mmtll+MQqNKnMCftdR7OvWfjqv6GdFWXgj8231jLe2fgE63sEiVdQ0vo99r9/Vf2ul+E7IqnOERby7Lmg1KYLvo0y1HI7D45d4/ElwDWp6di003wHMgOdc7fXYn7VqdexKfjNqn638O3tA/w2PbcWJbO3OecqzexKYJ6Zfd85V1VinwSUhc3j4pq/Wq2dzb7H93PwCeWeEnrn3KfBNcMT+JtEkxtw+dUJ378uwTfHOeCk0nyvvp0IOmqqwf8F1zg34ZtJ/BbfUVx9nQ28FfZ+bliS/j98O/Hn8TfaqrvB2BBqde0RwTn4hPJyfNv4UL/CN3+4uRbbvjQwJZVSF7uAPwfJ5AZ8spPA3lKOmfhqrY+a2V34O/y34u8kh7oPf2d9Cb4E4M5g+P3B3bHD8R2PnB/2udOAL9m3hKZazrndZnYVvlfVZ1w1vac5594xs0+BF8zsFvxd9J/jT6gN2Z6h1stzzm0LkuI/B6Ulb+IPoqfiLwKq1ukY/En4vnrEs9T8Iy+eD363OfiqTYcBhzjnfhiUSv0Zfxf9oerntkcfMysH2uGTjN34EuS6+APwjpk9iT+xDcW353u0DtV878GX/L1jZneyt4fFhUB11VlDXcx+ehk2sxfwNwI24tfXbcBn1SQEU/FJSnXr4d/4zlOmm+/SfgU+QT0K2Oicq64NcSTv4dsVvxd870X4UuMR+E6WvlF9tRYuA+511TxcOqiq/hi+U5u6XCDswzk31fzjGx4x3wtpaM2Ix/HraBf7udhxzhWa2Xhgd3DBXN2kr+CrMR5BWJXe4CL7dnz77znf/Oie6Ubha1B8O0LzgLqq7f7cPUgSq0oqhxHc7KuDyfjaHG+ZWVXPxn/Al1o8XJsZOOcWB4n+/UEV4uX4Np6DiFziXvW5pWb2CPA3M+uCby+bBnzPORfaZGETvifZP7C399cvnHNV1R9r3M7Nt6u9Hb/vfx2SXFc9+mew+Z7GN9XmOwd+AXxgZpX4jpsK8QnPqcBvnHPLajGP+h6b9udWfOL9hpk9gf9NM/A3gSdHuknmnFtiZv8H3G1mbwRt1N4DbjKze/E3E8fiq/k3lMPM7GH89z0OX2L64wjNKx7Hnxs/q8VNsobQ0cwGsXf/GgI8Vcd5DAxKJg2/7m/GbyfP7fdTIYLSzZ8Cj5nZCw1QDfUUM/szviT0HPz2sE/v2cF107P4m3fPRbjR1mBqc+1RzUcvxDdJ+Xf4CDPriN+ejsUfV6QJKamUuijGX1j+E1+FYwm+RCIXfENpMzsX39nGq0A2/gLwF2HzeRhf2nEbPqm8C5+o/BV/ou0M3O6cC++kJQa4pS53n5xzM8w/q+lf5rtAD2/7U+UsfJW7e/EHtc/xvdHmVDN9fdW4POfcHWZWAPwY+BG+5OtD/ImpSgy+h7v6XsxeByzDXxDejm+r9TX+ZA7+d48HTnTf7MgkkteCv0XBfM4OLlJqzTn3rpldgL9LezG+Kszf8Be+tZ3HJjObGHzuOXwbpDfxbdBqU53oBbdv9/rhYvAl4R2D+F4J4o0Ui8OXIFQX6+4g1tvx+0bXYJ6fs3d91opzzpl/7M6v8Ul9b3yp3Tz27eK9Lorwjxaozk+D5dT4jMJa+Bn+Dv1thBw/nHNzzGw9vpfU/XbNH17aVM00JWb2Fv6CNrz95x/w673aY05IIv2sc67a37YOars/XxS8yvE37e7GH0tqLfjuJ+KPuY/jL36nA991+z5OpCZX4pO93+MTw4X43jFrKm27FliN7+HzFvy2Hn7j71P873Iv/rwwHd+La9V3qM12/kP2thGLVPPkAfy5bXIN8e7hnPvYzI7Db59P40tbVuPb+tXqONcAx6b9zXtZkDz/CV+TKAm/nXyAf+xLde7A1wb5J3Cec+5NM/sl/qbJlfgS+9Pw54qG8Itgfv8Pf+Pxj0QuuX4Ff30Qqc1zY7gieFXtX/fgt5PatpeFfR+1lYdPmH7knFtdl0Ccc/82s4vxieW4CAl3XVQ9zu0n+P3kOudcpHPLK/hrgqZY3zVde+wjKPE9nupLbt/AV1G/ECWVTc6qOVeK7MP8Q4Svd851aoR5T8A/92hoLRMWEWmFzGwwvjTqxIZI4oKkcDXwhHPud/WdnzQcM5uOf7xH+HMf6zqfW/GP2pm0n+VMds5Nrs9ypPbMLAtfdfd0V/OzCDGza/E3n3u4mjt3kjB1vcYKSg3Pwz9uqD5JrLQyKqkUEZFmzfxjXQbiSzK+op4PLA+qlA/Hl/alU8vqntIiVT3qpjpf46vZSjMTJJ+H4EuiJyuhbFxmNhDf/vwagra2UQ5JWhgllSIi0tydjq+KtQS4tAE6YOiBr1acj6+SdiCP4pEWwDkXqQfU0PEReweWZuFW/I2fGYBqEjS+h/FtSF+jHv00SOul6q8iIiIiIiJywGKiHYCIiIiIiIi0XEoqRURERERE5IC1ijaVnTp1cllZWdEOQ0REREREJCrmzp272TnXuTHm3SqSyqysLObMqfGRZSIiIiIiIgclM6vTs1LrQtVfRURERERE5IApqRQREREREZEDpqRSREREREREDpiSShERERERETlgSipFRERERETkgDW7pNLMTjazpWaWY2a3RBg/ycw2mdm84PXDaMQpIiIiIiIizeyRImYWCzwAnASsA2ab2WvOua/DJn3BOXd9kwcoIiIiIiIi+2huJZVHATnOuRXOuVLgeeDMKMckIiIiIiIi1WhuSWUGsDbk/bpgWLjvmtkCM3vJzHo1TWgiIiIiIiISrrkllbUxBchyzg0D3gOeijSRmV1lZnPMbM6mTZuaNEARERE5cKs27+T9r/PYUlQS7VBERKQWmlWbSmA9EFry2DMYtodzbkvI28eAuyLNyDn3CPAIwMiRI13DhikiIiKN5TevLOSTHH+679s5hZGZHRiZ1ZGRmR3o0ykFM4tyhCIiEqq5JZWzgQFm1gefTF4AXBQ6gZl1d87lBm/PABY3bYgiIiLSmJZuLGT8IZ0Z0y+dOasKePfrPP47Zx0A6SkJHJnZgVFZHTkyqwNDeqSSENcSK16JiBw8mlVS6ZwrN7PrgXeAWOAJ59wiM7sdmOOcew240czOAMqBAmBS1AIWERGRBlWws5TNRaUc078TVx7XF8b3o7LSsWJzEXNWbWX2qq3MWe0TTYDEuBhG9EpjZJYvzTyidwdSk+Kj/C1ERFoXc+7grxk6cuRIN2fOnGiHISIiIjX4fGUB5z38GU9eMYqJA7tUO11+4W7mrtrKnNVbmbOqgK827KCi0mEGA7u221uamdmBnh2SVGVWRFo9M5vrnBvZGPNuViWVIiIi0rpl5xcCcEjXdvudrku7NpwytDunDO0OQHFpOfPWbmNOkGi+Om8Dz85aA0C39m04MqsDo4K2mYO6tSMuVlVmRUQaipJKERERaTay84pISYilR2qbOn0uOSGOsf06MbZfJwAqKh1LNxYyZ3WBTzRXFfDGAt8lQ0pCLEdkdmBYz1TatYknMS6GxLhY2sTv+zcxPoY2YX8T42JoEx9LQmwMMTEq/RQRASWVIiIi0ozk5BfRv0vbeldXjY0xBvdoz+Ae7blsTBYA67ftYs6qgj2lmQ9OX059WgElxMYEiWZVIvrNpDQpPpaj+3TknCN70r6N2nqKyMFJSaWIiIg0G9n5hRzTv3OjzDsjLYmMERmcOSID8KWZpeWV7C6roKS8kpLyCnaX7fu3pKyS3WF/S0I+E/rZkrDP7txZzvZdZbz11UbufHspZ47owSWjMxmSkdoo309EJFqUVIqIiEizsH1XGXk7ShjQtW2TLC82xkhKiCUpIbZRl7Nw3XaembmaV+at5/nZaxneK41Lju7N6cN70Ca+cZctItIU1EpdREREmoWc/CIABnRpmqSyqQztmcqd3xvGrF+fyB9OH0zR7jJufmkBR//fB/zx9a9Zsako2iGKiNSLSipFRESkWcjO8z2/Duiy/55fW6rUpHiuGNeHSWOzmLmigGdmreapT1fx+McrGdc/nUuOzuTEwV2JV8+0ItLCKKkUERGRZiE7v4g28TFkdEiKdiiNyswY0y+dMf3SyS/czX9nr+W5z9dyzbNf0LV9IueP6s2FR/Wie2p018PusgoWrNvOF2u28sXqrazeUsyJg7twyejMqMcmIs2Lufp0e9ZCjBw50s2ZMyfaYYiIiMh+XPbE52wpKuGNG4+NdihNrqLSMW1JPs/MWs2MZZuIMeOEQV24dEwm4/p1avTHlzjnWLd1154E8os121icu4PySn+dmJWeTLfUNsxaWUCMGScf1o1J47IYmdmh3j31ikjTMLO5zrmRjTFvlVSKiIhIs5CTV8hRfTpGO4yoiI0xThzclRMHd2XNlmL+8/ka/jtnLe9+nUdWejIXH53J947sSYeUhAZZ3q7SChas28YXa7bxxZqtfLlmG5uLSgBITohleM80fjS+L4f36sDhvdNIb5sIwNqCYp6euZrnP1/DGwtzGdy9PZPGZXGGOh0SadVUUikiIiJRV7i7jKG3vsvN3x7IdRP7RzucZqGkvIK3v9rIMzNXM3vVVhLiYjhtWHcuGZ3J4b3Sal1C6JxjbUFQChm8FucWUhGUQvbplMLhvdM4ordPIAd2bUdcDe06i0vLeeXLDTz16SqW5hXSITmeC4/qzSWjM+mRpqqxIs1RY5ZUKqkUERGRqJu3dhtnPfAJj1x6JN86rFu0w2l2lmzcwbMz1/Dyl+spKilncPf2XDI6kzNH9CAlcd+KZ8Wl5SFtIbcxb+1WNheVApCSEMvwXj6BPCIzjRG9OtCxHqWfzjk+W7GFpz5dxXtf52FmfPuwrkwa24dRWaoaK9KcKKmsJyWVIqBaZLEAACAASURBVCIizduLc9Zy80sLmPbzCfTplBLtcJqtopJyXp23nmdmrmFx7g7aJsZxzhEZDOuZxvy1virrko17SyH7dkrh8CCBPKJ3Bw7p2o7YRmqfubagmGdmreb5z9eyfVcZh3Zvz6SxmZw5IkNVY0WaASWV9aSkUkREpHm7483FPPnpKr6+7ds1Vr0UX0L4xZptPDtzNa8vzKW0vJK2iXEM75XqSyF7d2BEr7QGa4NZF7tKK3h13nomf7qKJRsLSUuO54JRvbl0TCYZqhorEjVKKutJSaWIiEjz9v3Js9mwbRdv33RctENpcbbuLGVzUQl9O7dttFLIA+GcY9bKAiZ/sop3v94IwLcG+15jj+7TUVVjRZqYen8VERGRg1p2fiEjenWIdhgtUoeUhKiUSNbEzBjdN53RfdNZt7WYZ2au4fnZa3h70UYGdWvHpLFZnDkig6QEVY0VaelUv0RERESiqri0nHVbdzGgS9tohyKNpGeHZG45ZRCf3XICd353KAC3/G8ho+/4gDveWsy6rcVRjlBE6kMllSIiIhJVKzbtxDmUVLYCSQmxnD+qN+eN7MXnKwuY/OkqHv1wBY9+uIKTBnfl8rFZjOmbrqqxIi2MkkoRERGJqmV5hQAM6KqksrUwM47um87RfdNZv20Xz8xczXOfr+GdRXkkJ8TSu2PynldmejK901Po3TGZjLQkEuJU0U6kuVFSKSIiIlGVnV9EXIyRma5HibRGGWlJ/PLkQfz4hAG8uTCXheu3s7agmJWbdzJj2SZKyiv3TBtj0CMtaW+y2TFlz/+9OiaTmhQfxW8i0nopqRQREZGoys4rok+nFOL1KJFWrU18LOcc0ZNzjui5Z1hlpWNTUQmrtxSzpqCYNVt2srrA///uojy27CzdZx5pyfFkdvQJZmZ6MpkdU/b83619G2KaUe+4IgcTJZUiIiISVTn5hQzu0T7aYUgzFBNjdG3fhq7t23BUn47fGF+4u4y1BbtYU7CTNQXFe5LPheu38/ZXGymv3PvovITYGHp2TCKzYzKH9Ujl8rFZdG6X2JRfR+SgpaRSREREomZ3WQVrCoo5Y0RGtEORFqhdm3gG94iPeFOivKKS3O27Wb2lmNVB0rlmi088ZyzL4bGPV3D5mCyuOq4v6W2VXIrUh5JKERERiZoVm3ZS6eAQddIjDSwuNoZeQVXYY+i0z7gVm4r459QcHv1oBU/PXM3lY7O46ti+zfJ5nyItgRoviIiISNRk5wc9v3ZpF+VIpDXp27ktfz9/BO/+ZDwnHtqVf81YzjF3TuXud5ayrbi05hmIyD6aXVJpZieb2VIzyzGzW/Yz3XfNzJnZyKaMT0RERBpOTn4RsTFGVqfkaIcirVD/Lm2578LDefem45gwqAv3T8vh2Duncc97y9i+qyza4Ym0GM0qqTSzWOAB4BRgMHChmQ2OMF074MfArKaNUERERBpSdl4RmenJJMbFRjsUacUGdG3HAxcdwds3HcsxAzpx3wfZHHPnVP7xfjY7diu5FKlJs0oqgaOAHOfcCudcKfA8cGaE6f4I3AnsbsrgREREpGFl5xcyoIvaU0rzMKhbex665EjeuPEYxvRN5+/vL+PYO6dx/9RsikrKox2eSLPV3JLKDGBtyPt1wbA9zOwIoJdz7o2mDExEREQaVml5Jau2FKs9pTQ7h/VI5ZHLRvL6DccwKqsDd7+7jGPunMqD03PYqeRS5BuaW1K5X2YWA9wD/KwW015lZnPMbM6mTZsaPzgRERGpk1VbdlJR6Rignl+lmRqSkcpjl4/i1evGcXivNO56eynH3jWNh2csp7hUyaVIleaWVK4HeoW87xkMq9IOGAJMN7NVwGjgtUid9TjnHnHOjXTOjezcuXMjhiwiIiIHYlme7/m1v6q/SjM3vFcaT15xFP+7dixDMlK5460lHHfXNB77aAW7SiuiHZ5I1DW3pHI2MMDM+phZAnAB8FrVSOfcdudcJ+dclnMuC5gJnOGcmxOdcEVERORAZecVYQb9OiuplJbhiN4d+Pf3j+L/XTOGQd3a86c3FnPcX6fxxMcr2V2m5FJar2aVVDrnyoHrgXeAxcB/nXOLzOx2MzsjutGJiIhIQ8rJL6J3x2TaxKvnV2lZjszsyDM/PJr//mgM/Tu35fbXv2b8X6fx1KerKClXcimtjznnoh1Doxs5cqSbM0eFmSIiIs3Jt/4+g94dk3ns8lHRDkWkXj5dvpl738vm81UFdE9tw3UT+3PeyF4kxDWr8htp5cxsrnPuG80GG4K2dBEREWlyZRWVrNy8k/7q+VUOAmP7deKFH43m2R8eTY+0JH77yldMvHs6z3++hrKKymiHJ9LolFSKiIhIk1u9pZiyCsch6vlVDhJmxrj+nXjp6jE89f2j6NQukVv+t5CT7pnBK1+up6Ly4K8dKK2XkkoRERFpcjn5vudXPaNSDjZmxvhDOvPKtWN57LKRtImP5aYX5nHKPz7k7a9yaQ1Nz6T1UVIpIiIiTS47rwiAfl1SohyJSOMwM04c3JU3bzyW+y86nPJKx9XPfMHp93/MtKX5Si7loKKkUkRERJpcdn4RPTskkZwQF+1QRBpVTIxx2rAevHvTcdx97nC2FZdxxZOzOfdfn/HZ8i3RDk+kQSipFBERkSaXnV/EgC5qTymtR1xsDN87sidTfzaBP501hLVbi7nw0Zlc/NhMvlizNdrhidSLkkoRERFpUhWVjuWbihjQVe0ppfVJiIvhktGZzLh5Ir87bTBLcgs558FP+cHk2SzasD3a4YkcECWVIiIi0qTWFhRTWl5Jf5VUSivWJj6WHxzThw9/MZGbvz2Q2asKOPW+j7nu2S/2dGQl0lIoqRSRA7a7rILScj1/S0TqZlleVc+vSipFUhLjuG5ifz765fHceHx/pi/N51t//5Cf/ncea7YURzs8kVpR63iRJrZq807+/dlq+nRK5tDu7RnYrR3t2sRHO6wa7S6rYMnGQhau28bC9dtZsG472flFDOuZyv+uGYuZRTtEEWkhsvN9z68qqRTZKzUpnp9+ayCXj83i4Q9X8NSnq3ht3gbOG9WLG47vT/fUpGiHKFItJZUiTexfM5bz/Oy1+wzr1TGJQ7u1Z1D39gzu3o5B3drTu2MyMTHRSdRKyitYurGQBeu281WQQC7LK6Q8eHBzx5QEhmak0q9zW95YmMv0ZZuYOLBLVGIVkZYnJ7+I7qltWsQNNZGmlt42kV9/51B+cEwfHpiWw3Ofr+Glueu45OhMrpnQj87tEqMdosg3KKkUaUKl5ZW89dVGzj48g5u/PZDFuTtYsrGQr3N3sCR3B+8vziPI20hOiGVgt3Yc2r29f3Vrx6Du7Wmb2LC7bWl5JcvyfAK5cP12Fq7fxtKNhZRV+EDSkuMZmpHKVQP7MqxnKkN7ptEjtQ1mRml5JV+u2coDU3OYcEhnlVaKSK1k5xeqlFKkBl3bt+H2M4dw5bF9+efUbJ76bBXPfb6GK8ZlcdVxfUlLToh2iCJ7KKkUaUIf52xi+64yTh/enR5pSfRIS+KEQ7vuGb+rtIJleYUs2biDxbk+2Xx9/gb+M2vNnml6d0xm0J5k0//t1aF2pZplFT6BXLhuOwvW+1LIJbmFlFb4dpHt28QxrGcaPzgmSCAzUunZIanaZDEhLoarJ/Tj968uYtbKAkb3Ta/nGhKRg11lpSMnv4iLj86MdigiLUKvjsnc9b3hXD2+H/e+n81DM5bz9GerufK4vlwxLksl/tIsKKkUaUJT5ueSmhTPMf07RxyflBDL8F5pDO+VtmeYc44N23ezJHcHi3N9srl44w7eW5yHC0o1U0JKNauq0Pbv3I4N23cFCeQ2Fq73n6/qWKddmziGZqRyxTFZDM1IZVhGGr06Vp9AVue8kb2474Mc7p+ao6RSRGq0ftsudpdVqpMekTrq27kt9114ONdO7Mc97y7jnveW8eQnK7nyuL5cOjpTyaVElZJKkSayu6yCdxdt5PThPUiIq33Hy2ZGRloSGRFKNZfmFe5NNjcW8tr8DTwbUqpZpW1iHEMy2jNpbBZDMlIZlpHaYG0228THcuWxfbjjrSXMW7uNESEJsYhIuOzgUQkDuiqpFDkQg7q155HLRrJg3Tb+9u4y7np7KQ9NX85lYzK5YlwfOrVVm0tpekoqRZrItCX57Cyt4PThPRpkfkkJsYzolbZPEuecY/22XSzJLSRnk+8IY2hGKlnpKY3a6c/FozN5aMZy7p+aw2OXj2y05YhIy5edF/T82rldlCMRadmG9Uzjqe8fxcJ123loRg4PTl/O4x+v5IJRvbnyuL5kpKm3WGk6SipFmsiUBRvo1DaxUauImhk9OyTTs0MyJ9K15g80kLaJcVwxtg9/f38Zi3N3cGj39k22bBFpWbLzi+jSLpHUZFXVE2kIQ3um8uDFR5KTX8TDM5bzzMzVPDNzNWcdnsHV4/upUyxpErWvgyciB6yopJwPFudz6tBuxEbpMSGNbdLYLNomxvHAtJxohyIizVh2fpGqvoo0gv5d2vLXc4cz4xcTuWR0Jq8v2MBJf5/B1U/PZcG6bdEOTw5ySipFmsD7X+dRUl7ZYFVfm6PU5HguHZPJGwtzWb6pKNrhiEgz5JwjJ6+QAV1U9VWksWSkJXHrGYfxyS+P5/qJ/flk+WbOuP8TLn18Fp8u34yr6uVPpAEpqRRpAq8v2ECP1DYc0btDtENpVD84pg+JcTE8NH15tEMRkWYod/tudpZWqDqeSBNIb5vIz741kE9vOZ5bThnE4txCLnp0Fmc/+CnvLtpIZaWSS2k4SipFGtn24jJmLNvEacN7NGpnOc1Bp7aJXDCqN698uZ51W4ujHY6INDPL8oKeX5VUijSZdm3iuXp8Pz7+5UT+eNYQNheVcNXTczn5Hx/y8pfrKA+eVS1SH0oqRRrZO4s2UlbhOH3YwVv1NdSPxvfFDB6esSLaoYhIM5OT76vGD+iq6q8iTa1NfCyXjs5k+s8ncO/5IwD4yQvzmXD3dJ7+bBW7yyqiG6C0aEoqRRrZlAUbyExPZkhG6+gRtXtqEt87sicvzFlL/o7d0Q5HRJqR7Lwi0lMS6JiSEO1QRFqtuNgYzjo8g7d/fByPXjaSzu0S+d2rizjmzmk8NH05hbvLoh2itEBKKkUa0eaiEj7J2czpw3pgdnBXfQ119fh+lFdU8uhHKq0Ukb2y8wvVnlKkmYiJMU4a3JX/XTOW564czaHd23Hn20sY+5ep3P3OUrYUlUQ7RGlBlFSKNKK3FuZS6Tioe32NJDM9hTNHZPDsrDUU7CyNdjgi0gw458jOL+IQVX0VaVbMjDH90nn6B0fz2vXjOKZ/Jx6YnsO4O6dy62uLWL9tV7RDlBZASaVII5oyP5dDurZlYLfWdxF17YR+FJdW8OQnK6Mdiog0A/mFJRTuLtczKkWasWE903jokiN57yfjOW1YD56ZuZrxd03jFy/NJ79QTVqkes0uqTSzk81sqZnlmNktEcZfbWYLzWyemX1sZoOjEadITXK37+LzVQWtpoOecAO6tuPkw7ox+dNV7FD7DJFWLzvPd9Kj6q8izV//Lm25+9zhzPjFRC4ZnckrX27ghLtn8OQnK9VbrETUrJJKM4sFHgBOAQYDF0ZIGv/jnBvqnBsB3AXc08RhitTKGwtyATitlVV9DXX98f0p3F3O05+tjnYoIhJl2flVjxNpfTU3RFqqjLQkbj3jMN75yXGM6J3GbVO+5oz7P2Hu6q3RDk2amWaVVAJHATnOuRXOuVLgeeDM0AmccztC3qYAenKrNEtT5m9gaEYqfTqlRDuUqBmSkcqEgZ15/OOVFJeWRzscEYmi7Pwi0pLj6dRWPb+KtDR9OqXw7+8fxUMXH8HW4lK++9Cn/OKl+erMR/ZobkllBrA25P26YNg+zOw6M1uOL6m8sYliE6m11Vt2Mn/ddk4f3j3aoUTd9RP7U7CzlOc+X1vzxCJy0MrJK2JAl7atqidskYOJmXHK0O68/9Px/Gh8X/73xXqO/9sMnp21mopKlfG0ds0tqawV59wDzrl+wC+B30aaxsyuMrM5ZjZn06ZNTRugtHqvB1VfT22l7SlDjczqyOi+HXnkw+WUlOvByiKtkXOOZfmF9FfVV5EWLyUxjl+dcihv/fhYBnVrx29e/opzHvyEBeu2RTs0iaLmllSuB3qFvO8ZDKvO88BZkUY45x5xzo10zo3s3LlzA4YoUrMp8zcwMrMDGWlJ0Q6lWbh+4gDydpTw0tx10Q5FRKJgy85SthWXMUCd9IgcNAZ0bcfzV43m3vNHsH7bbs584BN++8pCtherc77WqLkllbOBAWbWx8wSgAuA10InMLMBIW9PBbKbMD6RGmXnFbJkY2Grezbl/ozrn87wXmn8a8Zy9Ron0gotyws66dHjREQOKmbGWYdnMPXn47l8TBb/mbWG4/82nRfnrKVSVWJblWaVVDrnyoHrgXeAxcB/nXOLzOx2MzsjmOx6M1tkZvOAnwKXRylckYimLMglxuCUod2iHUqzYWbcMLE/awt28dr8DdEOR0SaWE6+f5yIen4VOTi1bxPPrWccxpQbjiEzPZmbX1rAeQ9/xuLcHTV/WA4KcdEOIJxz7k3gzbBhvw/5/8dNHpRILTnneH3+Bkb3TadLuzbRDqdZOeHQLgzq1o4HpuVw1ogMYmLUWYdIa5GdV0S7xDi6tk+Mdigi0ogO65HKS1eP5aW56/jL20s47Z8fc/mYLH5y0gDatYmPdnjSiJpVSaVIS7doww5WbN6pqq8RmBnXTezP8k07eXvRxmiHIyJNKDu/kP5d1fOrSGsQE2OcN6oXU382nvNH9eLJT1dywt9m8Oq89TinKrEHKyWVIg1oyoINxMUYJx+mqq+RfGdod/p2SuH+qTk6sYi0Ijn5RRyiqq8irUpacgL/d/ZQXrl2HF3bt+HHz8/jokdnkZNfGO3QpBEoqRRpIL7qay7HDuhEhxQ93DuS2Bjjmgn9+Dp3B9OW5kc7HBFpAgU7S9lcVKpOekRaqeG90njlunH88awhLNqwnVP+8RF/eWsJxaXl0Q5NGpCSSpEG8sWabazftktVX2tw1uEZZKQlqbRSpJWo6qSnvx4nItJqxcYYl47OZOrPJ3DmiAz+NWM5J/5tBm9/latrgYNEnZJKM0s0s2vM7HEze7fq8R5mdr6ZHdo4IYq0DFPmbyAhLoaTBneNdijNWnxsDFdP6McXa7bx2Yot0Q5HRBpZdn7V40RU/VWktevUNpG7zx3Oi1ePoX1SPFc/8wWTnpzNqs07ox2a1FOtk0ozOwRYBtwBZAEnAFVniGOBXzV0cCItRUWl442FuRw/sIt6N6uFc4/sSZd2idw/NSfaoYhII8vOKyIlIZYeqeoRW0S8UVkdef2GY/jdaYOZu3or37r3Q+55dylzVhXw9YYdrNlSzOaiEnaXVagks4WoyyNF7gPWAKcDRUBpyLgZwJ0NGJdIizJr5RY2FZao6msttYmP5cpj+/LnNxfzxZqtHNG7Q7RDEpFGkpNfRP8u6vlVRPYVFxvDD47pw2nDuvPnNxZz39Qc7otwszk2xkhOiCUlIY6UxFhSEuNIToilbWIcyQlxpCTGkZLgh1eNT6lmeHKCHxYXqxaADa0uSeWxwLnOuW1mFhs2Lg/o3nBhibQsU+bnkpwQy/GDukQ7lBbjoqN78+D0HB6YmsPjk0ZFOxwRaSTZ+YUc079ztMMQkWaqa/s23Hfh4dxwfH827tjNzpJydpZUsLM0+FtSHvxfzs5S/764pILc7bv3HVZaUetlxscaSfGxJCfEkZQQG/wfG+H/OJISYvx08X5YcjDN3v/j9v4fjItvhUlrXZLK3UBSNeMygG31D0ek5SmrqOStr3I5aXBXkhLC77dIdVIS4/j+uD787b1lLNqwncN6pEY7JBFpYNt3lZG3o0Q9v4pIjQZ0bVevtteVlY7isgqKS8opCpJM/zc0OfXji8sq2FXqX/7/cnaV+ek3FZawq6yC4qrxpeVU1rEGbnys8daPj2tVHZTVJal8D/i1mb2Pr/4K4MwsEbgBeLOhgxNpCT7O2cy24jJOH6aqr3V12dgsHvlwBQ9OW84DFx8R7XBEpIFV9fw6oBVdWIlIdMTEGG0T42ibGEdD1htzzlFaUemT0JBkc+//5WFJqB+X3soeL1eXpPJm4BMgB59gOuD3wGFAAnBOg0cn0gJMmb+B9m3iOPaQTtEOpcVJTYrnsrGZPDh9+Z52VyJy8MjOC3p+7aKeX0WkZTIzEuNiSYyLJS3awTRjta7w65xbCwwH/oXv/XU5vh3li8CRzrmNjRGgSHO2u6yC9xbl8e3DupEYp6qvB+L74/rQJi6WB6erJ1iRg012fhFt4mPo2aG61jMiInIwqFMrUufcVufc75xzY51zhzjnRjvnfuOc08PmpFWasWwThSXl6vW1HtLbJnLhUb15dd4G1hYURzscEWlA2UENhJgY9fwqInIwa31dE4k0oCnzN9AxJYGx/dKjHUqLdtVxfYk1418zlkc7FBFpQDl5har6KiLSCtS6TaWZrahpGudc3/qFI9JyFJeW88HifL57ZIaed1RP3VLb8L2RPXlxzjpuOH4A3fSQdJEWr3B3GRu271ZbaRGRVqAuV8KZQE/gQ+Cpal4iDa64tJy/v7eMI//4Hm8uzI12OHu8vzifXWUV6vW1gVwzvh8VzvHoRzXevxKRFmD5pp2Aen4VEWkN6tL76zDgDuAC4GHgj865zY0SlQj+eUMvf7meu95ZQt6OEjq1TeDmF+czsFs7+nWO/kXKlPkb6No+kVFZHaMdykGhV8dkzhzRg//MWsO1E/qR3jYx2iGJSD3s6fm1Hs+dExGRlqEuvb8ucs6dAZwAHAEsN7PfmVlKo0UnrdbsVQWc9eAn/OzF+XRr34aXrh7DlBuOITE+lmuemUtxaXlU49u+q4wZSzdx2rAe6oCiAV07oT+7yyt44pOV0Q5FROopJ7+IhLgYeqnnVxGRg16dG4I55z5xzh0LXAKci08urzWzupR6ikS0tqCYa5+dy7n/+oz8HSX8/fzhvHztOEZmdaR7ahL3nj+C7PwifvvKVzjnohbnu4s2UlpRqV5fG1j/Lm05ZUg3/v3parbvKot2OCJSD9n5RfTtlKI25yIirUCtj/RmdlzoC9gO/Bh4C/gHsLiRYpRWoHB3GX95awkn/G0G05Zs4qYTBzD15+M5+/Ce+5QEHndIZ248fgD/+2I9L8xeG7V4pyzIpVfHJIb3TI1aDAer6yb2p7CknKc/WxXtUESkHrLzC1X1VUSklahL6eJ0wAGhdf1C36vnV6mzikrHC7PXcs97S9lcVMo5R2Twi28P2m/vnzeeMIC5q7fy+9cWMbRnKof1aNrEbktRCZ/kbOZHx/XFTFVfG9phPVI5flAXHv94JVeM60NKoipBiLQ0xaXlrNu6i3OP7BXtUEREpAnUpU5KH3zi2Cfk1Tfsf5Fa+zh7M6fe9xG/fnkhfTql8Nr147jnvBE1Pk4iNsb4xwUj6JicwLXPfsGO3U1bTfKtrzZSUelU9bURXTexP1uLy3ju8zXRDkVEDsCKTTtxTj2/ioi0FnXpqGd1Ta/GDFQOHss3FfGDybO55PFZFJWU8+DFR/DfH41hWM+0Ws8jvW0i9190OOu27uLmF+c3afvKKfM30K9zCoO6qVpXYzkyswNj+6XzyIcr2F1WEe1wRKSOlu3p+VVJpYhIa1CXNpW9a3o1ZqDS8m0rLuW2KYv49t8/ZNbKAn558iDe/+l4vjO0+wFVIx2Z1ZFbTh7EO4vyePzjpuktNG/Hbj5fVcDpw3uo6msju35if/ILS3hx7rpohyIidZSdX0R8rJGZrg7iRURag7o0VlqFb0MZiQXjYusbkBx8yioqeWbmav7xQTY7dpVx/qje/PSkQ+jcrv7PIfzhsX2YvaqAv7y1hMN7p3FkZuM+M/KNBbk4B6cNU9XXxjamXzqH907jX9OXc8GoXsSrB0mRFiM7r4g+nVK034qItBJ1OdqfDpwRvM7GJ5I/Dd5Xjas3MzvZzJaaWY6Z3RJh/E/N7GszW2BmH5hZZkMsVxqec46pS/L49r0fctuUrxnSI5U3bjyWO84Z2iAJJYCZ8ddzh9MjLYnrnv2SLUUlDTLf6kxZsIHB3dvTX+2EGp2ZccPx/Vm/bRevztsQ7XBEpA5y8gsZ0EVNBEREWou6tKl8o+oFvBEM/ihseL2YWSzwAHAKMBi40MwGh032JTDSOTcMeAm4q77LlYa3dGMhlz3xOd+fPAccPH75SJ7+wVEc2r19gy8rNSmeBy8+goLiUm56YR4VlY3TvnJtQTFfrtmmDnqa0MSBXRjcvT0PTstptN9VRBrW7rIK1hQU6+abiEgr0tzqpRwF5DjnVjjnSoHngTNDJ3DOTXPOFQdvZwI9mzhG2Y/NRSX8+uWFnPKPD1mwbju/P20wb990HCcc2rVR2yAOyUjltjMO46PszfxzanajLOP1BbkAnDase6PMX77JzLhuYn9WbN7Jmwtzox2OiNTCik07qXTqpEdEpDVpbg+AywBCn2i/Djh6P9P/AHirUSOSWikpr+DJT1bxwNQcdpVVcNmYLG46cQBpyQlNFsMFo3oxe2UB//ggmyMzO3DsgM4NOv8p8zdweO80enVMbtD5yv6dMqQb/bu05f6pOZw6tDsxMeogSaQ5y84Pen5V9VcRkVaj1kmlmV0b8jYG3zHPuWY2OhjmnHMPNWRwNcRzCTASGF/N+KuAqwB691bHtI1p3tpt3Pjcl6wpKOaEQV349amH0q9z09+hNjP+dPYQvtqwnR8/P483bjyG7qlJDTLvnPwivs7dwe9PC6+NLY0tJsa4bmI/fvLCfN5bnMe3D+sW7ZBEZD9y8ouIjTGyOukGnIhIa1GX6q/3h7zuw3fU88uw4fW1HugV8r5nMGwfZnYi8Bvg1i7GZAAAIABJREFUDOdcxJ5ZnHOPOOdGOudGdu7csCVWstfusgpuev5LyisqefoHR/H4pFFRSSirJCfE8eDFR1JSVsH1//mSsorKBpnv6ws2YAanquprVJw+rAeZ6cncPzWnSZ9JKiJ1l51XRGZ6Molx6hBeRKS1qEtHPTE1vBri7DEbGGBmfcwsAbgAeC10AjM7HHgYn1DmN8AypR4e+XAFq7YUc+f3hjV4ddMD1b9LW+747jDmrt7KXW8vqff8nHNMmb+Bo/t0pGv7Ng0QodRVXGwM103oz8L125m+bFO0wxGR/cjOL2SAOukREWlVmlVHPc65cuB64B1gMfBf59wiM7vdzKoeWfJXoC3wopnNM7PXqpmdNLLVW3Zy/7QcThvWvdkklFXOGN6Dy8Zk8uhHK3n7q431mtfi3EKWb9qpXl+j7KzDM8hIS+KfH2SrtFKkmSotr2TVlmK1pxQRaWXq0qbyiJqmcc59Ub9wwDn3JvBm2LDfh/x/Yn2XIfXnnOPW1xYRH2P89tTm2c7wN6ceyvy127j5xfkc2r0dmekpBzSfKQs2EBtjnDJEVV+jKSEuhqsn9ON3r3zFZ8u3MLZ/p2iHJCJhVm3ZSUWlU8+vIiKtTF1KKufgq6dGes0BPm/w6KTZemdRHtOWbuInJx1Ct9TmWSU0MS6W+y86gpgY45pnvmB3WUWd51FV9XVc/050TGm6nmwlsnOP7EnX9onc10iPjRGR+lmW53t+1TMqRURal7oklWOAsdW8LsR33COtQHFpObdPWcSgbu2YNDYr2uHsV6+Oydxz3nC+zt3BbVMW1fnz89ZuY93WXZyuDnqahTbxsVx1XD9mrihg9qqCaIcjImGy84qIMaLaYZuIiDS9unTUM6u6FzCvEWOUZua+D3LYsH03fzprCHGxzapZbkQnHNqVayb047nP1/K/L9bV6bNT5ueSEBvDt/QYi2bjoqN6k56SwD+n5kQ7FBEJk5NfRO+OybSJV8+vIiKtSfPPCKRZyc4r5LGPVnDukT0ZmdUx2uHU2s9OOoSj+3TkNy9/xdKNhbX6TGWl442FGxg/sDOpSfGNHKHUVlJCLD88ti8fLtvEvLXboh2OiITIzi+kvzrpERFpdWqdVJrZ76t7Adc1YozSTDjn+O0rX5GSGMctpwyKdjh1Ehcbwz8vPJyUxDiueXYuRSXlNX5m9qoC8naUqNfXZujSMZmkJcdzv9pWijQbZRWVrNy8U530iIi0QrXu/RW4YT/jVM+lFXh13gZmrSzg/84eSnrbxGiHU2dd2rfhnxcezsWPzeRX/1vIfReMwKz6psBTFmwgKT6WEw/t0oRRSm20TYzj++P6cM97y1i0YTuH9UiNdkgird7qLcWUVTg9o1JEpBWqS5vKztW98J31yEFs+64y/vTGYob3SuOCUb2iHc4BG9MvnZ99ayBT5m/gmZmrq52uvKKSNxdu5IRDu5CcUJd7L9JULh+bRbvEOB6YpraVIs1BTr5vWqBnVIqItD4N1aZSTyI/yN3z7lIKdpbw57OGEBPTsjv6vWZ8PyYO7Mztr3/N/Gra5H26fAsFO0tV9bUZS02K5/KxWbz11Uay/3979x1fZX3+f/x1ZRMCgUAYMhPCFGUvB7h3HXVh68CtaP3aavvValtHW7U//dbWTZ24V23FvXACQWTJDiRsSCAhQALZn98f545GZk7IyX3Oyfv5eJxH7nPPi/tzOOdc57Py69dPVkRCJye/BIBeHRo2J7CIiEQuDdQj+7Vg3Vaen7GKi0b3YGCXyG9mGBNj/N95g+nQKomJL86meEfFbvtMmbeeVolxjOuT7kOEUl+XHZFBi/hY1VaKhIGcghK6tm2h1h0iIs1QMAP1fGtmM/f0AF4PYYzio5oax23/WUBay0R+c0Jfv8NpNG1bJvDIL4dSsL2Mm16bR03Nj5Xt5VXVfLBwIycc3EnD4oe5tJYJXDi6B2/PW0/e5lK/wxFp1nIKStSfUkSkmQqmpnLhPh7fAZMbPTrx3SvfrmHemmJuP7V/1E2rMbhbG24/dQCfLing8S9X/LD+y2Wb2V5Wxc8GdfYxOqmvK47MID42hkdVWynim+oax4pNJfTuqP6UIiLNUb3bqDjnJoQwDglDhSXl3PfBEkZnpnHG4OjsW3jxmB7MXFnE/R8uZWj3tozObMeUeetpmxzP4Vnt/Q5P6qFDqyQuGNmdF2as4oZje9MtLdnvkESanTVFO6ioqiFLNZUiIs1Sg/pUmlk7M+ttZu0aOyAJH/e+v4TS8iruPmPgPqfeiGRmxn1nH0rP9i351ctzWF24g48X5XPSwM7Ex6rLcaS4elwmMWY8/sWK/e8sIo1uWX7tyK9KKkVEmqOgvjWb2flmthgoAJYABWa22MzODUl04ptZK4t4/bu1XHFkZtQ3Z0pJjOOxXw5je1klP39sGjsrq9X0NcJ0Tm3BOcO78vqstWzcWuZ3OCLNTk5BYOTXaP+8EBGRPQtmoJ4LgJeBXOBS4BTvby7wipmND0mE0uSqqmu4/T8LOCg1iRuOzfI7nCbRt1Mr/nLmIWwuKSe9VSKjMlQJH2muHdeLaud44kvVVoo0teUFJRyUmkRKokZ+FRFpjoJ5978NmOScu2aX9ZPN7HHgduCVRotMfPPstJUs2bidxy8c1qyGhj97WFe27KigQ+skYiN8Ls7mqFtaMmcN6cJL2auZeFQW6a0S/Q5JpNnIKdhOlmopRUSarWCav2YBb+5l25vedolwG7eW8fePl3F033ROPLij3+E0uSuOzOT0QdE5KFFzMPGoXlRW1/Dk17l+hyLSbNTUOJZrOhERkWYtmKQyHxi+l23Dve0S4f787iKqahx3nh69g/NI9MpMT+G0Qw/i+emr2FJa4Xc4Is3CuuKdlFXWKKkUEWnGgkkqnwHuMLPbzayfmbU1s75mdjvwJ+Dp0IQoTeWrnE28M38D1x2dRfd2mpZBItP1x2Sxo6Kap7/J8zsUkWYhp8Ab+bWjkkoRkeYqmA5zdwHxwC3AnXXW7wTu97ZLhCqvquaP/11Iz3bJXDU20+9wRBqsT8dWnDywE89+s5IrjswktUW83yGJRLWc/MDIr1np6lMpItJc1bum0jlX45y7DegGHAVc4P3t5py73TnnQhKhNIlJX+SSt7mUu84YSFJ8rN/hiByQ647OYnt5FZOnrfQ7FJGol1NQQodWiaQm6wccEZHmKujZ3Z1zW5xzXznnXvP+bglFYNJ01hTt4OGpyzn1kM6M7ZPudzgiB2xgl1SO7deBp77Jo6S8yu9wRKJaTkGJmr6KiDRz9W7+amYX728f59zkAwtHmppzjj+9vZC4GOMPpw3wOxyRRnP9MVmc9eg0XpyxiqvH9fI7HJGo5Jxjef52zh3eze9QRETER8H0qXx2l+cOsF2eK6mMMB8vyuezJQXcdkp/OqUm+R2OSKMZ0r0tR/Zuz7++yuXiMT1pkaBm3SKNbcPWMkorqsnSyK8iIs1aMM1fW9V5tCWQUB5ZZ13rRo9OQmpHRRV3TllE346tmHB4T7/DEWl0vzqmN5tLKnh55mq/QxGJSsvyvZFflVSKiDRrwQzUU1r7AEq81Tt3WS8R5KHPlrOueCd/Pmsg8bFBd68VCXsjM9IYlZHGE1+uoLyq2u9wRKLO8oLA14E+HTXyq4hIcxZ2mYSZnWRmS81suZndsoftY81stplVmdk5fsQYDZYXbOfJr3I5Z1hXRvRM8zsckZD51TG9yd9Wzuuz1vodikjUyckvoX1KAm1bJvgdioiI+OhAk8pGnUbEzGKBR4CTgQHABWa26+gxq4EJwEuNee3mxDnHH/6zkBbxsdxycj+/wxEJqcOz2jGkexse+3wFldU1focjElVyCrarP6WIiNQ/qTSz12ofwCve6r/VWf9qI8QzEljunMt1zlV41zmj7g7OuZXOufmAvh020Nvz1jM9t5DfndSP9imJfocjElJmxg3H9GZd8U7emrPO73BEooZzLjCdSAc1fRURae6CqansAKR7j/bAFwRGj61d16ER4ukCrKnzfK23ThrJtrJK7n5nMYO6pnLByO5+hyPSJI7qm87ALq15dOpyqlRbKdIoCraXs72sSnNUiohI/acUcc4dFcI4Gp2ZXQVcBdC9u5KnWv/30TIKS8t5ZsIIYmNs/weIRAEz4/qje3PNC9/xzvwNnDlEv1WJHKic/MAgPWr+KiIiwTR/vdjM2oUyGGAdUHcG5a7euqA55yY554Y754anp6c3SnCRbsG6rUyevpILR/XgkK6pfocj0qROGNCRvh1b8fDU5dTUNGp3cJFmKaegdjoRNX8VEWnugmn++gzQK1SBeL4FeptZhpklAOOBt0N8zWahpsZx+38WkNYygZtP6Ot3OCJNLibGuO6YLJYXlPDBwo1+hyMS8XIKSmiTHE/7FI38KiLS3AWTVIa8raRzrgq4HvgQWAy85pxbaGZ3mdnpAGY2wszWAucCT5jZwlDHFQ1enbWGuWuK+f0p/UlNjvc7HBFfnHpIZzLbt+Shz5bjnGorRQ7E8vwSendIwUxdKUREmrt696n0dDKzvXZQdM6tPsB4cM69B7y3y7o/1ln+lkCzWKmnotIK7vtgCSMz0jhLfcmkGYuNMSYencXNr8/j08UFHDego98hiUQk5xzLCrZz8sDOfociIiJhINh5Kt8C8vbwWOn9lTB03/tLKCmr4s9nDtQvytLsnTH4ILqlteChz3JUWynSQIWlFRTvqKS3BukRERGCr6m8HlgUikAkNL5bVcSrs9Zw9dhM+nTUYAoi8bExTDwqi1v//T1f5WxmbB8N5CUSrGX53iA9mk5EREQIPqn8zjk3MySRSEjc9c5iOqcmccOxvf0ORSRs/HxoF/75aQ4PfZbDkb3bqwZfJEjLCwLTiejHShERgeCbv0oE2VxSzrw1xVw8pictE4P9/UAkeiXGxXLNuF58u3ILM3KL/A5HJOLk5JfQKimODq0S/Q5FRETCQDBJ5Z3A2lAFIo0v2/uyPDozzedIRMLP+SO6kd4qkYen5vgdikjEySnYrpFfRUTkB/VOKp1zdzrn1gOYWTsz621m7UIXmhyo7LxCkhNiGdgl1e9QRMJOUnwsVx2ZyTfLC/lu1Ra/wxGJKMsLSujdQU1fRUQkIKjmr2Z2vpktBgqAJUCBmS02s3NDEp0ckOzcIob1aEt8rFo5i+zJL0d3p21yPA99ptpKkfoqKq1gc0mFBukREZEf1DvbMLMLgJeBXOBS4BTvby7wipmND0mE0iBFpRUszd/O6ExVJovsTXJCHFccmcnnSzfx/dqtfocjEhFqB+nJ0nQiIiLiCaYK6zZgknPuVOfcZOfch97fU4F/AbeHJkRpiJl5hYD6U4rsz8VjetA6KU61lSL1lFNQO52Imr+KiEhAMEllFvDmXra96W2XMDEjt4ik+BgO6dLG71BEwlqrpHguPTyDjxblM3VpAVXVNX6HJBLWcvJLaJkQy0GpSX6HIiIiYSKYeSbygeHAx3vYNtzbLmEiO6+I4T3SSIhTf0qR/bn08J48P2MVlz7zLS0TYhnaoy2jMtIYmdGOQd1SSYyL9TtEkbCxvKCELI38KiIidQSTVD4D3GFmscAbBJLIDsC5BJq+3tP44UlDFO+oYMnGbfzmuD5+hyISEdokJ/DJb8YxfUUhM/MKyc4r4v6PlgGQEBfDkG5tfkgyh/ZoQ3KC5n2V5iunYDtHZKX7HYaIiISRYL4Z3QXEA7cQmLOy1k7gfm+7hIGZeUU4B6M0SI9IvaW1TODUQztz6qGdgcCPM9+u3PJDkvnw1OXUfLacuBhjYJdURmWmMSojjWE90khtEe9z9CKhU1PjmLe2mKlLCvhsaQH528rp20mD9IiIyI/qnVQ652qA28zsfuAQoBOwAVjgnNMkb2EkO6+IxLgYBnXT/JQiDdUmOYHjB3Tk+AEdASgpr+K7VV6SmVvE01/n8cQXuZhB/06tGZmRxujMNEb0TKNdSqLP0YscmK07K/ly2SamLingi2WbKCytIMZgaPe2/PbEvlwwsrvfIYqISBgJug2Xl0B+GYJYpJFk5xUytHtb9QMTaUQpiXGM65POuD6BZn9lldXMWV3MzLwiZq4s5JVvV/PstJVAYKqFkRmBmsxRGe3opAFNJMw558gpKOGzJQV8tqSA71ZtobrG0SY5nnF90jmmXwfG9k6nbcsEv0MVEZEwFFRSaWaZwG+BI4A0oAj4CrjfOZfb+OFJsLburGTh+m38z7G9/Q5FJKolxccyplc7xvRqB/SmoqqG79dtDSSZeYVMmbuel7JXA9A9LZmRGWmMzEjjqD7pdGitJFP8V1ZZzfQVhT8kkuuKdwLQr1Mrrh6byTH9OjCke1tiYzQgj4iI7Fu9k0ozGwZMBcqAdwgM1NMROBv4pZkd7ZybHZIopd5mrfT6U2aoP6VIU0qIi2FYj7YM69GWa4/qRXWNY/GGbWR7Seani/N547u1tEqM4+lLRzCip+aQlaa3rngnny0pYOqSAqat2ExZZQ0t4mM5PKs91x2dxdH90umc2sLvMEVEJMIEU1N5PzAHONk5t6N2pZklA+95249p3PAkWNl5RSTExjCku+anFPFTrDegz8AuqVx+RAY1NY7FG7fxq5fncNFT2Uy6aDhj+2gETQmtquoaZq8u/iGRXJq/HQjUno8f0Z2j+3VgVEYaSfHqLiEiIg0XTFI5EjivbkIJ4Jzb4Q3e82qjRiYNkp1byODubfQFQSTMxMQYBx+UymtXj+Gip2ZyxXOz+OcFQzhpYCe/Q5MoU1RawedLC5i6dBNfLtvE1p2VxMUYI3qmcdsp/Tm6Xwd6pbfUPJMiItJogkkqdwJ7a1OZRqBZrPhoe1kl36/byvVHZ/kdiojsRfuURF65cjQTnp3JdS/N5v5zD+WsIV39DktCrKKqhuKdFVRWOyqraqisrqHc+1tZ7aisrqGiusbb5qiorqayygXWVf+4X4V3zA9/vWNrH+uLy5i3thjnoH1KYATjY/p14Ije7WmdpKlvREQkNIJJKt8F7jWzXOfc17UrzewI4B5gSmMHJ8GZtWoLNZqfUiTspSbH88Llo7hy8ix+/eo8SsqruWh0D7/DkkZWWV3DN8s3M2XeBj5auJHt5VWNct74WCMhNob4uBjiY2MCy7FGfGwMqS3iueGY3hzTrwOHdEklRoPsiIhIEwgmqfwN8F/gCzMrAAqADgQG65kG3NT44UkwsnOLiI81hnZv63coIrIfLRPjeHrCCK57cTZ/+M8CSsuruGZcL7/DkgNUU+OYubKIKfPW8/6CjRSVVtAqKY6TBnbi0G5tSIyNIT7OfkwG42qTwh8Tw4S4mDpJo9XZHniuZqsiIhJu6p1UOucKgSPM7CRgBNAZ2ABkO+c+ClF8EoQZuYUM6tqGFgnqTykSCZLiY3n8omH8+tW53Pv+EkrKqrjphD5KGiKMc475a7fy9rz1vDt/Axu3lZEUH8Nx/Tty+qCDGNc3XfMGi4hIVNtnUmlmnYGHgUnOuQ8BnHMfAB/U2edEM3sTuNY5VxDKYGXvSsur+H7dVq4Zl+l3KCIShPjYGP4xfggpiXE8PHU5JeVV/PG0AWq2GAGWbtzOlHnrmTJ/PasKdxAfa4zr04FbT+nHcf070jIxqKmgRUREItb+PvFuBjKBfdVEfkSgT+VNwP82UlwSpO9WbaG6xml+SpEIFBtj3PPzQ2iZGMdTX+dRWl7FvWcfqknnw9CqwtJAIjlvA0vztxNjcFiv9lx3VBYnHtyJ1GQNhiMiIs3P/pLK04D/c865ve3gnHNm9gTwaxohqfSa1/4DiAWedM7du8v2RGAyMAwoBM53zq080OtGuuy8QuJijGE91J9SJBKZGbef2p+UxDj+8WkOOyqq+fv5g0mIi/E7tGZv49Yy3pm/ninz1jNv7VYAhvdoy52nH8wph3QmvVWizxGKiIj4a39JZQ9gUT3OsxjoeaDBmFks8AhwPLAW+NbM3nbO1Y3hcmCLcy7LzMYD9wHnH+i1I92M3CIO6Zqq5lYiEczM+PXxfUhJjOMv7y1mR0UVj104TPPO+qCwpJz3F2xkyrz1zFxZhHMwsEtrbj25H6cNOogubVr4HaKIiEjY2F8GshNoXY/zpHj7HqiRwHLnXC6Amb0CnMFPE9szgDu85TeAh83M9lWbGu12VlQzf20xlx+h/pQi0eDKsZm0TIzjtv98zyVPz+SpCSNI0Q9GIbe9rJIPF+YzZd56vl6+meoaR6/0ltx4bB9OG9SZXukpfocoIiISlvb3LWU2cDqBOSr35Qxv3wPVBVhT5/laYNTe9nHOVZnZVqAdsHlvJ126dClHHXXUT9add955TJw4kR07dnDKKafsdsyECROYMGECmzdv5pxzztlt+7XXXsv555/PmjVruOiii3bbftNNN/Gzn/2MpUuXcvXVV++2/fbbb+e4445j7ty53Hjjjbtt/+tf/8phhx3GtGnT+P3vf7/b9gcffJDBgwfzySef8Nvb/sSaDdt45ePWfHBfoD/PE088Qd++fZkyZQoPPPDAbsc///zzdOvWjVdffZXHHntst+1vvPEG7du359lnn+XZZ5/dbft7771HcnIyjz76KK+99tpu2z///HMA7r//ft55552fbGvRogXvv/8+AHfffTeffvrpT7a3a9eON998E4Bbb72V6dOn/2R7165deeGFFwC48cYbmTt37k+29+nTh0mTJgFw1VVXsWzZsp9sHzx4MA8++CAAF154IWvXrv3J9jFjxnDPPfcAcPbZZ1NYWPiT7cceeyx/+MMfADj55JPZufOnv6ecdtpp3HzzzQC7ve4gul57f/7zn3fbrtde47z23vzbr2m5aj1vbyql5/2x9OvcmhOPP06vvRC89opKK9hcUk6Lk39LdUIr4ld8gVv6OR1SEqlOiOWtKfAWzee1p/c9ve/VpdeeXnt67UXna6+x7S+pfBR41cymOeee29MOZnYxcClh1gTVzK4CrgJITIzu/i7byyoxM1olqSZDJJq0T0kk1oycghIWrd/GEeVVfocUVRyQt7mUgm1lxMfGcOHQrowfezDzPi3guU0z/Q5PREQkYtj+Wo2a2QMEBuH5jsBUIqsJfBZ3B04EhgN/d87dfMDBmI0B7nDOneg9vxXAOXdPnX0+9PaZbmZxwEYgfV/NX4cPH+5mzZp1oOGFrfMen055VTX/vf4Iv0MRkRD4OmczV06eRafUJF64YpT68zWCsspqbnxlLh8s3Mi1R/Xi5hP6arRdERGJamb2nXNueCjOvd9hBZ1zNxFo3rqNwBQjTwCTgN8C24EzGiOh9HwL9DazDDNLAMYDb++yz9vAJd7yOcBnzbk/ZVllNXPXFDMqU1OJiESrI3q354UrRrK5pJxzH5tG3uZSv0OKaNvKKrnk6Zl8sHAjfzxtAP97Uj8llCIiIgegXmPVO+emOOeOBVoBnb1HK+fccc65d/Z9dP0556qA64EPCYwo+5pzbqGZ3WVmp3u7PQW0M7PlwG+AWxrr+pFozupiKqprGJWR5ncoIhJCw3qk8fKVoymrquHcx6ezeMM2v0OKSAXbyjj/iRl8t2oL/xg/mMuOyPA7JBERkYgX1ARozrkq51y+9whJ5x7n3HvOuT7OuV7Oub946/7onHvbWy5zzp3rnMtyzo2sHSm2uZqRW0iMwfCeSipFot3ALqm8dvUY4mKM8ZNmMHdNsd8hRZS8zaWc/fg0VhWW8vSEEZwxuIvfIYmIiEQFzaod4bLzChlwUGtSW8T7HYqINIGsDim8fs0YUlvE88t/zWD6isL9HyR8v3Yr5zw2jdLyal66cjRj+6T7HZKIiEjUUFIZwcqrqpmzuphRGepPKdKcdEtL5vVrxnBQmxZMeGYmU5cU+B1SWPs6ZzPjJ00nKT6W168Zw+BubfwOSUREJKooqYxg89ZspbyqhtEapEek2enYOolXrx5D744pXDl5Fu/O3+B3SGHpnfnrufTZmXRLS+bfEw+jV3qK3yGJiIhEHSWVEWxGbiFmMFL9KUWapbSWCbx05WgGd2vDr16ezWuz1vgdUlh5btpKfvXyHAZ3a8OrV4+hY+skv0MSERGJSkoqI1h2XiH9OrUmNVn9KUWaq9ZJ8Uy+fCSHZ7Xnd2/M55lv8vwOyXfOOR74aCl/enshx/bryPOXj1K/cxERkRBSUhmhKqpq+G7VFk0lIiIkJ8Tx5CXDOfHgjtw5ZREPf5ZDc52+t6q6ht+/9T0Pfbac84d34/ELh5IUH+t3WCIiIlFNSWWEmr+2mLJK9acUkYDEuFge+cVQzhrShfs/WsYr3za/prBlldVMfHE2L89cw/VHZ3Hv2YcQF6uPORERkVCL8zsAaZjsvCIARqqmUkQ8cbExPHDuIDaXlPOntxcyqGsbBhzU2u+wmsTWnZVcOXkW364s4o6fDWDC4Rl+hyQiItJs6CfcCDUjt5C+HVuR1jLB71BEJIzExBh/P38wbZPjue6l2ZSUV/kdUsjlbyvj/CemM2f1Fv4xfogSShERkSampDICVVZ7/SkzVUspIrtrn5LIP8cPYVVhKbf++/uo7l+Zu6mEsx+bxuqiHTw9YQSnDzrI75BERESaHSWVEej7dVvZUVGt/pQislejMttx0wl9mTJvPS/NXO13OCExf20x5z4+nR0V1bxy1WiO7J3ud0giIiLNkpLKCJSdq/6UIrJ/147rxdg+6dw5ZREL1m31O5xG9VXOJi6YNIMWCbG8cc0YDu3axu+QREREmi0llREoO6+QrA4ptE9J9DsUEQljMTHG388bRFpyAte/NJvtZZV+h9Qo3p63nsue/ZZuacm8ee1hZKan+B2SiIhIs6akMsJUVdfwbV4Ro9WfUkTqoV1KIg/9YghrtuzklijoX/nMN3nc8PIchnRvy6tXj6Fj6yS/QxIREWn2lFRGmIXrt1FaUc2oDPWnFJH6GdEBq2n7AAAV4ElEQVQzjZtO6MO78zfwwoxVfofTIM45/t+HS7hzyiJOGNCRyZeNJLVFvN9hiYiICEoqI052XiGARn4VkaBcM7YXR/dN5+53Fkdc/8qq6hpuefN7Hpm6ggtGduPRXw4lKT7W77BERETEo6QywmTnFpHZviUdWqnJl4jUX0yM8cB5g2mXksDEF2ezLUL6V5ZVVnPti7N5ddYabjgmi7+edQhxsfroEhERCSf6ZI4g1TWOmXlFjNJUIiLSAGktE3jogiGsK97JLW/OD/v+lVt3VnLxUzP5ZHE+d55+ML85oS9m5ndYIiIisgsllRFk8YZtbC+v0iA9ItJgw3um8bsT+/Le9xuZPD18+1euKdrB2Y9NY86aLTx0wRAuOayn3yGJiIjIXiipjCAzcr3+lBqkR0QOwJVHZnJMvw785d3FzF9b7Hc4u5mzegtnPfoNBdvKmHzZKE479CC/QxIREZF9UFIZQbLziujRLplOqepPKSINFxNjPHDuINqnJHDdS7PZujN8+le+//0Gxk+aQXJCHP+eeDhjeulHNBERkXCnpDJC1Hj9KUerllJEGkHblgk89IuhbCgu43dvzPO9f6Vzjie+WMG1L87m4INa89bEw8jqkOJrTCIiIlI/SiojxJKN29m6s1JTiYhIoxnWoy3/e1I/PlyYz7PTVvoWR2V1Db9/awH3vL+E0w7tzEtXjqZdSqJv8YiIiEhw4vwOQOrnx/kpVVMpIo3niiMzyM4r5K/vLWZI97YM7tamSa+/rayS616czVc5m7nu6F7cdHxfYmI0wquIiEgkUU1lhJiRW0i3tBZ0adPC71BEJIqYGfefO4gOrZK4/qXZbN3RdP0r127ZwTmPTWP6ikL+dvah/PbEfkooRUREIpCSyghQ259So76KSCi0SU7goV8MYePWMm5uov6V89YUc+Yj09iwtYznLhvJeSO6hfyaIiIiEhphk1SaWZqZfWxmOd7ftnvZ7wMzKzazd5o6Rr/kFJSwZUclozLUn1JEQmNo97bccnI/Pl6Uz9PfrAzptT5YsJHzJ00nKT6Gf197GIdntQ/p9URERCS0wiapBG4BPnXO9QY+9Z7vyf8DLmqyqMJAbX/K0epPKSIhdPkRGRw/oCP3vLeYOau3NPr5nXM8+VUu1774HX07teatiYfTu2OrRr+OiIiINK1wSirPAJ7zlp8DztzTTs65T4HtTRVUOJiRW0iXNi3o2lb9KUUkdMyM+88ZRMfWSVz/0hyKd1Q02rmrqmv4w38X8Od3F3PSwZ145crRpLfSCK8iIiLRIJySyo7OuQ3e8kago5/BhAvnavtTpmGmASxEJLRSk+N55JdDKdhexs2vz2+U/pUl5VVcMXkWL8xYzdXjMnnkF0NpkRDbCNGKiIhIOGjSpNLMPjGzBXt4nFF3Pxf4FnNA32TM7Cozm2VmszZt2nRAcftpxaYSNpdUaH5KEWkyg7u14daT+/PJ4nye+jrvgM61YetOznlsGl/lbOavZx3CrSf31wivIiIiUaZJ56l0zh23t21mlm9mnZ1zG8ysM1BwgNeaBEwCGD58eOiHMgyR6blFABr5VUSa1KWH9yQ7r5B731/C0B5tGdp9j2On7dOCdVu5/LlvKS2v5pkJIxjbJz0EkYqIiIjfwqn569vAJd7yJcB/fYwlbGTnFtKpdRI92iX7HYqINCNmxt/OGUTnNklc/+JstpQG17/yk0X5nPfEdOJiYnjz2sOUUIqIiESxcEoq7wWON7Mc4DjvOWY23MyerN3JzL4CXgeONbO1ZnaiL9E2Aecc2XlFjMpUf0oRaXqpLeJ55BdD2VRSzk2vz6Ompn6NPp75Jo+rnp9FVocU3pp4GH07aYRXERGRaNakzV/3xTlXCBy7h/WzgCvqPD+yKePyU97mUjZtL1fTVxHxzaFd23DbKf25Y8oi/vVVLleP67XXfatrHHe/s4hnp63khAEdeXD8YJITwuZjRkREREJEn/ZhbEZtf0oN0iMiPrrksJ5k5xXxtw+XMrxnW4b12P09qbS8ihtensOnSwq48sgMbjm5P7EakEdERKRZCKfmr7KL7LxC0lslktm+pd+hiEgzZmbcd86hdGnTgutfmkPRLv0rN24t47wnpjN1aQF3nzmQ204doIRSRESkGVFSGaacc2Tnan5KEQkPrZMC/SsLSyq46bW5P/SvXLR+G2c+8g0rN5fy1IQRXDS6h8+RioiISFNTUhmmVhXuYOO2MkZlqj+liISHQ7qmcvtp/Zm6dBNPfJnL1CUFnPv4NABev+Ywju7bwecIRURExA/qUxmmsvMKARij/pQiEkYuGt2D7Nwi7v9oKc45+nduzVOXjKBTapLfoYmIiIhPlFSGqezcItqnJNArPcXvUEREfmBm3HP2IeRuLqVHWjIPnDeIlon6KBEREWnO9E0gDNXOTzlS/SlFJAy1TornvRuO0PuTiIiIAOpTGZbWbtnJuuKdmp9SRMKWEkoRERGppaQyDM3IDfSnHK1BekREREREJMwpqQxD2XlFtE2Op3cH9acUEREREZHwpqQyDGXnFTIyI40YTR4uIiIiIiJhTkllmFlXvJM1RepPKSIiIiIikUFJZZjJVn9KERERERGJIEoqw0x2bhGpLeLp16mV36GIiIiIiIjsl5LKMDMjr5ARPdWfUkREREREIoOSyjCycWsZqwp3MDozze9QRERERERE6kVJZRjJzlN/ShERERERiSxKKsPIjNwiWiXF0b9za79DERERERERqRcllWEkOzfQnzJW/SlFRERERCRCKKkMEwXbysjdXKr+lCIiIiIiElGUVIaJ7LwiAEZlqD+liIiIiIhEDiWVYWJGbiEpiXEcfJD6U4qIiIiISORQUhkmsvOKGNajLXGxKhIREREREYkcymDCwOaScpYXlGgqERERERERiThKKsPAzNr+lBqkR0REREREIkzYJJVmlmZmH5tZjve37R72GWxm081soZnNN7Pz/Yi1sc3ILSQ5IZZDuqT6HYqIiIiIiEhQwiapBG4BPnXO9QY+9Z7vagdwsXPuYOAk4EEza9OEMYZEdm6gP2W8+lOKiIiIiEiECacs5gzgOW/5OeDMXXdwzi1zzuV4y+uBAiC9ySIMgaLSCpbmb1d/ShERERERiUjhlFR2dM5t8JY3Ah33tbOZjQQSgBWhDiyUfuhPmaH+lCIiIiIiEnnimvJiZvYJ0GkPm26r+8Q558zM7eM8nYHngUucczV72ecq4CqA7t27NzjmUJuRW0hSfAyHdo34VrwiIiIiItIMNWlS6Zw7bm/bzCzfzDo75zZ4SWPBXvZrDbwL3Oacm7GPa00CJgEMHz58rwmq32rnp0yIC6dKYxERERERkfoJp0zmbeASb/kS4L+77mBmCcBbwGTn3BtNGFtIFO+oYMnGbYzKUH9KERERERGJTOGUVN4LHG9mOcBx3nPMbLiZPentcx4wFphgZnO9x2B/wj1wM/OKcE79KUVEREREJHI1afPXfXHOFQLH7mH9LOAKb/kF4IUmDi1ksvOKSIiLYVA39acUEREREZHIFE41lc1Odl4hQ7u3ISk+1u9QREREREREGkRJpU+27qxk0Xr1pxQRERERkcimpNIns1YWUeNgVKb6U4qIiIiISOQKmz6Vzc3YPun8e+JhDOjc2u9QREREREREGkxJpU/iY2MY2r2t32GIiIiIiIgcEDV/FRERERERkQZTUikiIiIiIiINpqRSREREREREGkxJpYiIiIiIiDSYkkoRERERERFpMCWVIiIiIiIi0mBKKkVERERERKTBlFSKiIiIiIhIgympFBERERERkQZTUikiIiIiIiINZs45v2MIOTPbBKzyO449aA9s9jsI2Y3KJfyoTMKTyiX8qEzCk8ol/KhMwpPKJTjB3q8ezrn0UATSLJLKcGVms5xzw/2OQ35K5RJ+VCbhSeUSflQm4UnlEn5UJuFJ5RKccLpfav4qIiIiIiIiDaakUkRERERERBpMSaW/JvkdgOyRyiX8qEzCk8ol/KhMwpPKJfyoTMKTyiU4YXO/1KdSREREREREGkw1lSIiIiIiItJgSirrMLNuZjbVzBaZ2UIz+x9vfZqZfWxmOd7ftt76fmY23czKzezmXc71P2a2wDvPjfu45klmttTMlpvZLXXWH2tms81srpl9bWZZezl+mJl97x3/TzMzb/253rVrzCwsRoVqqCgrlzvMbJ13/FwzO6Ux7lFTi7IyGeTF9r2ZTTGz1o1xj/wQoeXyFzNbY2Ylu6y/xiuT2uMHHMi98UuUlcnf67x3LTOz4gO5N36KtHIxs2Qze9fMlnjXubfOtrHe8VVmdk5j3B8/RFmZTDCzTXX+v1zRGPeoqUVZmfQws0/NbL6ZfW5mXRvjHu0hhnC6Z8d492yBmT1nZnF7OT7DzLK94181swRvfXDvLc45PbwH0BkY6i23ApYBA4C/Abd4628B7vOWOwAjgL8AN9c5z0BgAZAMxAGfAFl7uF4ssALIBBKAecAAb9syoL+3PBF4di8xzwRGAwa8D5zsre8P9AU+B4b7fW9VLj+Uyx11Y4rUR5SVybfAOG/5MuBuv+9vMyuX0V7cJbusb11n+XTgA7/vb3Mvk132+RXwtN/3t7mUi3f+o73lBOArfnwP6wkcCkwGzvH73qpMHMAE4GG/76nK5Cdl8jpwibd8DPB8NN8zAhWHa4A+3n53AZfvJebXgPHe8uPAtd5yT4J4b1FNZR3OuQ3Oudne8nZgMdAFOAN4ztvtOeBMb58C59y3QOUup+oPZDvndjjnqoAvgJ/v4ZIjgeXOuVznXAXwinctAAfU1pikAut3PdjMOhP44jXDBUp/cp3YFjvnlgZ7D8JRNJVLtIiyMukDfOktfwycXb+7EH4irVy8GGY45zbsYf22Ok9beueLONFUJru4AHh5P/uErUgrF+/8U73lCmA20NV7vtI5Nx+oCe4uhJdoKpNoEWVlMgD4zFueWue8jSqM7lk7oMI5t8zbb4/fb8zMCCTZb+whtqDeW5RU7oWZ9QSGANlAxzofsBuBjvs5fAFwpJm1M7Nk4BSg2x7260LgV4Raa711AFcA75nZWuAi4F5218U7Zk/HR6UoKZfrveYXT9c2f4hkUVAmC/nxw+XcvVw/4kRIuezv33Cdma0g8AvvDcEeH26ioUwg0IwMyODHL2gRLdLKxczaAD8DPt1PbBErSsrkbO+z/g0zi/jPlSgok3n8mJSdBbQys3b7ifuA+HzPNgNx9mMXuHP2cnw7oNhLXOseHzQllXtgZinAm8CNu/xajlfLsc9fzJ1zi4H7gI+AD4C5QHWQYfwaOMU51xV4Bvi/II+POlFSLo8BvYDBwAbggSCPDytRUiaXARPN7DsCTVUqgjw+7ERJueCce8Q51wv4X+D2YI8PJ9FSJp7xwBvOuWCvH3YirVy8PlEvA/90zuUGeZ2IECVlMgXo6Zw7lEAN0XN7Oz4SREmZ3AyMM7M5wDhgXQNiqDe/75l3jfHA381sJrA9mOMbQknlLswsnsCL4EXn3L+91fle87naZnQF+zuPc+4p59ww59xYYAuwzOu8W9tp+xoCL+i6vxp0BdaZWTowyDmX7a1/FTjMzGLrHH+Xd3zXXY9v8D8+jEVLuTjn8p1z1c65GuBfBJotRKQoKpMlzrkTnHPDCHwIrWjQDQkTEVYu9fUKEdyEPArLZDwR3PS1VoSWyyQgxzn34AH808NWtJSJc67QOVfuPX0SGBbkrQgbUVQm651zP3fODQFu89aFZLCxcLhn3vHTnXNHOudGEujms8y7/ofe8U8ChUAb+3EQnwbnEnscBai5MjMDngIWO+fq/gLyNnAJgar2S4D/1uNcHZxzBWbWnUB1+2jvxTu4zj5xQG8zyyBQgOOBXxB44aSaWR8XaAt9vBdTdd3jvXNsM7PRBKrWLwYeati/PnxFU7mYWec6zR/OItC8IeJEWZnUXj+GQG3Y48HfkfAQieWyj+v3ds7leE9PBXL2tX+4iqYy8c7fD2gLTK/vMeEoEsvFzP5MoC9ZRI4kuj/RVCa7fNafTqBfXcSJsjJpDxR5P+rfCjxd/ztRf2F0z+oen0igxc9fAJxzJ+5ynakEmse+Ut/Y9siFwehS4fIAjiBQHT2fQDXzXAJtmNsRaJOdQ2D0pTRv/04E2h5vA4q95dbetq+ARQTacB+7j2ueQuCXgxXAbXXWnwV87x3/OZC5l+OHE0hMVgAPA1bn+LVAOZAPfOj3/VW5OIDnvePnE3iD6ez3/VWZ8D/eeZcReLM3v+9vMyuXv3nXrfH+3uGt/weB/q5zCQyqcLDf97e5l4m37Q7gXr/va3MrFwK1B45AclIb7xXethFePKUEah0W+n1/VSbcQ+D9ax6B969+ft9flQnnePEuI1B7nNgM7tn/8+7FUgLNcPd2fCaBEfKXExglN9FbH9R7S+2XKhEREREREZGgqU+liIiIiIiINJiSShEREREREWkwJZUiIiIiIiLSYEoqRUREREREpMGUVIqIiIiIiEiDKakUERERERGRBlNSKSIiUg9m9rmZuT08Pvc7NhERET8pqRQREam/qcCYOo+p/oYjIiLivzi/AxAREYkQBhQ652b8sMKsCGjvX0giIiL+U02liIhI/SQA1fvawcwuNrOvzazIzLaY2VQzG15n+x17aUJb+5jg7XeqmX1sZgVmts3MZpjZCaH954mIiDSMaipFRETqJxEo388+PYHJwAoCSegFwFdmdrBzLhd4EvjA23co8Ajwc2CDt26F9zcDmALcD9QAJwPvm9lY59w3jfKvERERaSRKKkVEROonDdi2rx2cc3fVLptZDPAxMBK4ELjLObcWWOttT/J2neOcW7nLeR7e5TxTgYOBywEllSIiElbU/FVERKR+0oGCfe1gZv3N7C0zyyfQVLYS6Av0CeZCZtbVzJ4zs3VAlXeeE4I9j4iISFNQTaWIiMh+mFlnIBnI3cc+rYCPgHzgN8AqoIxAk9ekvR23h/PEAG8DrYA/AsuBUuAuoEPD/gUiIiKho6RSRERk/4Z6fxfuY58xQFfgeOfcktqVZpYa5LWygCHAyc652v6XmFmLIM8jIiLSJNT8VUREZP9+RqA/5ff72Kc26fthMB8zO4zA4D3B2NN5egCHB3keERGRJqGaShERkb0ws9bAJcBlBJq2jjCzurukAa3NbDQwAygB/mVmfyNQa3kHsC7Iyy4hMJjPA2b2BwLNYO9swHlERESahJJKERGRvRsK/NNbPtV77Ml055yZ2bkEpgH5L5ADXAP8LpgLOufKzeznBKYbeYNAgvkX4ChgYLD/ABERkVAz55zfMYiIiIQlMzsKmOqcswPZR0REJJqpT6WIiIiIiIg0mJJKERGRvdsGZDfCPiIiIlFLzV9FRERERESkwVRTKSIiIiIiIg2mpFJEREREREQaTEmliIiIiIiINJiSShEREREREWkwJZUiIiIiIiLSYP8fLSybL50lXJQAAAAASUVORK5CYII=\n",
      "text/plain": [
       "<Figure size 1080x360 with 1 Axes>"
      ]
     },
     "metadata": {
      "needs_background": "light"
     },
     "output_type": "display_data"
    }
   ],
   "source": [
    "# cтроим отношение средних чеков\n",
    "plt.figure(figsize=(15,5));\n",
    "#plt.plot(mergedCumulativeRevenue['date'], (mergedCumulativeRevenue['revenueB']/mergedCumulativeRevenue['ordersB'])/(mergedCumulativeRevenue['revenueA']/mergedCumulativeRevenue['ordersA'])-1)\n",
    "plt.plot(data['date'], (data['revenueCummulativeB']/data['ordersCummulativeB'])/(data['revenueCummulativeA']/data['ordersCummulativeA'])-1)\n",
    "\n",
    "# добавляем ось X\n",
    "plt.axhline(y=0, color='black', linestyle='--') \n",
    "\n",
    "plt.title('График относительного изменения кумулятивного среднего чека группы B к группе A', fontsize = 15);\n",
    "plt.xlabel('Дата', fontsize = 15);\n",
    "plt.ylabel('Соотношние', fontsize = 15);\n",
    "plt.show();"
   ]
  },
  {
   "cell_type": "code",
   "execution_count": 35,
   "metadata": {},
   "outputs": [
    {
     "data": {
      "image/png": "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\n",
      "text/plain": [
       "<Figure size 1080x360 with 1 Axes>"
      ]
     },
     "metadata": {
      "needs_background": "light"
     },
     "output_type": "display_data"
    }
   ],
   "source": [
    "# строим графики\n",
    "plt.figure(figsize=(15,5));\n",
    "plt.plot(cumulativeDataA['date'], cumulativeDataA['conversion'], label='A')\n",
    "plt.plot(cumulativeDataB['date'], cumulativeDataB['conversion'], label='B')\n",
    "\n",
    "plt.title('График кумулятивной конверсии по группам', fontsize = 15);\n",
    "plt.xlabel('Дата', fontsize = 15);\n",
    "plt.ylabel('Соотношние', fontsize = 15);\n",
    "plt.axis([\"2019-08-01\", '2019-09-01', 0, 0.05])\n",
    "plt.legend();\n",
    "plt.show();"
   ]
  },
  {
   "cell_type": "code",
   "execution_count": 36,
   "metadata": {},
   "outputs": [
    {
     "data": {
      "image/png": "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\n",
      "text/plain": [
       "<Figure size 1080x360 with 1 Axes>"
      ]
     },
     "metadata": {
      "needs_background": "light"
     },
     "output_type": "display_data"
    }
   ],
   "source": [
    "mergedCumulativeConversions = cumulativeDataA[['date','conversion']].merge(cumulativeDataB[['date','conversion']], left_on='date', right_on='date', how='left', suffixes=['A', 'B'])\n",
    "\n",
    "plt.figure(figsize=(15,5));\n",
    "plt.plot(mergedCumulativeConversions['date'], mergedCumulativeConversions['conversionB']/mergedCumulativeConversions['conversionA']-1, label=\"Относительный прирост конверсии группы B относительно группы A\")\n",
    "plt.legend()\n",
    "\n",
    "plt.axhline(y=0, color='black', linestyle='--')\n",
    "plt.axhline(y=-0.1, color='grey', linestyle='--')\n",
    "plt.title('График относительного изменения кумулятивной конверсии группы B к группе A', fontsize = 15);\n",
    "plt.xlabel('Дата', fontsize = 15);\n",
    "plt.ylabel('Соотношние', fontsize = 15);\n",
    "plt.axis([\"2019-08-01\", '2019-09-01', -0.2, 0.3])\n",
    "plt.show();"
   ]
  },
  {
   "cell_type": "markdown",
   "metadata": {},
   "source": [
    "Есть статистически значимое различие по конверсии между группами как по сырым данным, так и после фильтрации аномалий. Оно составляет около 16% для сырых данных и около 20% для отфильтрованных.\n",
    "\n",
    "По сырым данным есть статистически значимое различие по среднему чеку между группами, оно достигает 25%. Однако после удаления аномалий статистически значимое различие пропало, оно составляет всего 0.2%.\n",
    "\n",
    "График различия конверсии между группами сообщает, что результаты группы B лучше группы A: они уже зафиксировались около среднего значения.\n",
    "\n",
    "График различия среднего чека колеблется: он-то и позволил вам найти аномалии. Сделать из этого графика определённые выводы нельзя."
   ]
  },
  {
   "cell_type": "markdown",
   "metadata": {},
   "source": [
    "#### Решение:\n",
    "1. Остановить тест, зафиксировать победу одной из групп — B. "
   ]
  },
  {
   "cell_type": "markdown",
   "metadata": {},
   "source": [
    "<hr style=\"border: 2px solid green;\" />\n",
    "\n",
    "## Общий комментарий\n",
    "Спасибо за проделанную работу🤝\n",
    "\n",
    "Ярослав, проект выполнен отлично, осталось сформулировать гипотезы!\n",
    "\n",
    "**По решениею теста**\n",
    "\n",
    "Согласен с твоим решением, действительно по всем показателям гр В лидирует. Было бы более наглядно в конце привести графики не те же, а по очищенным данным\n",
    "\n",
    "Исправляй и отправляй на проверку🛠"
   ]
  },
  {
   "cell_type": "markdown",
   "metadata": {},
   "source": [
    "## Чек-лист готовности проекта\n",
    "\n",
    "Часть 1. Приоритизация гипотез.\n",
    "- Примените фреймворк ICE для приоритизации гипотез. Отсортируйте их по убыванию приоритета.\n",
    "- Примените фреймворк RICE для приоритизации гипотез. Отсортируйте их по убыванию приоритета.\n",
    "- Укажите, как изменилась приоритизация гипотез при применении RICE вместо ICE. Объясните, почему так произошло.\n",
    "\n",
    "Часть 2. Анализ A/B-теста.\n",
    "- Постройте график кумулятивной выручки по группам. Сделайте выводы и предположения.\n",
    "- Постройте график кумулятивного среднего чека по группам. Сделайте выводы и предположения.\n",
    "- Постройте график относительного изменения кумулятивного среднего чека группы B к группе A. Сделайте выводы и предположения.\n",
    "- Постройте график кумулятивной конверсии по группам. Сделайте выводы и предположения.\n",
    "- Постройте график относительного изменения кумулятивной конверсии группы B к группе A. Сделайте выводы и предположения.\n",
    "- Постройте точечный график количества заказов по пользователям. Сделайте выводы и предположения.\n",
    "- Посчитайте 95-й и 99-й перцентили количества заказов на пользователя. Выберите границу для определения аномальных пользователей.\n",
    "- Постройте точечный график стоимостей заказов. Сделайте выводы и предположения.\n",
    "- Посчитайте 95-й и 99-й перцентили стоимости заказов. Выберите границу для определения аномальных заказов.\n",
    "- Посчитайте статистическую значимость различий в конверсии между группами по «сырым» данным. Сделайте выводы и предположения.\n",
    "- Посчитайте статистическую значимость различий в среднем чеке заказа между группами по «сырым» данным. Сделайте выводы и предположения.\n",
    "- Посчитайте статистическую значимость различий в конверсии между группами по «очищенным» данным. Сделайте выводы и предположения.\n",
    "- Посчитайте статистическую значимость различий в среднем чеке заказа между группами по «очищенным» данным. Сделайте выводы и предположения.\n",
    "- Примите решение по результатам теста и объясните его. Варианты решений: \n",
    "-- 1. Остановить тест, зафиксировать победу одной из групп. \n",
    "-- 2. Остановить тест, зафиксировать отсутствие различий между группами. \n",
    "-- 3. Продолжить тест."
   ]
  }
 ],
 "metadata": {
  "ExecuteTimeLog": [
   {
    "duration": 1108,
    "start_time": "2021-08-06T15:22:59.233Z"
   },
   {
    "duration": 18,
    "start_time": "2021-08-06T15:23:01.036Z"
   },
   {
    "duration": 11,
    "start_time": "2021-08-06T15:23:02.114Z"
   },
   {
    "duration": 6999,
    "start_time": "2021-08-06T15:28:56.579Z"
   },
   {
    "duration": 4,
    "start_time": "2021-08-06T15:30:11.371Z"
   },
   {
    "duration": 13,
    "start_time": "2021-08-06T15:30:13.596Z"
   },
   {
    "duration": 8,
    "start_time": "2021-08-06T15:30:29.108Z"
   },
   {
    "duration": 8,
    "start_time": "2021-08-06T15:33:09.943Z"
   },
   {
    "duration": 9,
    "start_time": "2021-08-06T15:34:00.853Z"
   },
   {
    "duration": 7,
    "start_time": "2021-08-06T15:34:05.907Z"
   },
   {
    "duration": 7,
    "start_time": "2021-08-06T15:34:13.356Z"
   },
   {
    "duration": 7,
    "start_time": "2021-08-06T15:34:20.566Z"
   },
   {
    "duration": 222,
    "start_time": "2021-08-06T15:34:35.540Z"
   },
   {
    "duration": 7,
    "start_time": "2021-08-06T15:34:43.350Z"
   },
   {
    "duration": 8,
    "start_time": "2021-08-06T15:35:05.771Z"
   },
   {
    "duration": 7,
    "start_time": "2021-08-06T15:35:13.875Z"
   },
   {
    "duration": 2,
    "start_time": "2021-08-06T15:35:18.928Z"
   },
   {
    "duration": 16,
    "start_time": "2021-08-06T15:35:19.372Z"
   },
   {
    "duration": 8,
    "start_time": "2021-08-06T15:35:19.749Z"
   },
   {
    "duration": 3,
    "start_time": "2021-08-06T15:35:21.480Z"
   },
   {
    "duration": 8,
    "start_time": "2021-08-06T15:35:23.156Z"
   },
   {
    "duration": 8,
    "start_time": "2021-08-06T15:35:24.819Z"
   },
   {
    "duration": 9,
    "start_time": "2021-08-06T15:35:26.956Z"
   },
   {
    "duration": 8,
    "start_time": "2021-08-06T15:35:58.172Z"
   },
   {
    "duration": 8,
    "start_time": "2021-08-06T15:36:01.484Z"
   },
   {
    "duration": 9,
    "start_time": "2021-08-06T15:36:04.720Z"
   },
   {
    "duration": 3,
    "start_time": "2021-08-06T15:36:09.341Z"
   },
   {
    "duration": 18,
    "start_time": "2021-08-06T15:36:09.346Z"
   },
   {
    "duration": 9,
    "start_time": "2021-08-06T15:36:09.365Z"
   },
   {
    "duration": 5,
    "start_time": "2021-08-06T15:36:09.375Z"
   },
   {
    "duration": 10,
    "start_time": "2021-08-06T15:36:09.382Z"
   },
   {
    "duration": 8,
    "start_time": "2021-08-06T15:36:09.394Z"
   },
   {
    "duration": 9,
    "start_time": "2021-08-06T15:36:09.403Z"
   },
   {
    "duration": 1078,
    "start_time": "2021-08-06T15:36:23.315Z"
   },
   {
    "duration": 16,
    "start_time": "2021-08-06T15:36:24.395Z"
   },
   {
    "duration": 17,
    "start_time": "2021-08-06T15:36:24.413Z"
   },
   {
    "duration": 13,
    "start_time": "2021-08-06T15:36:24.432Z"
   },
   {
    "duration": 19,
    "start_time": "2021-08-06T15:36:24.446Z"
   },
   {
    "duration": 7,
    "start_time": "2021-08-06T15:36:24.466Z"
   },
   {
    "duration": 18,
    "start_time": "2021-08-06T15:36:24.474Z"
   },
   {
    "duration": 12,
    "start_time": "2021-08-06T15:37:14.918Z"
   },
   {
    "duration": 8,
    "start_time": "2021-08-06T15:37:36.776Z"
   },
   {
    "duration": 7,
    "start_time": "2021-08-06T15:37:40.175Z"
   },
   {
    "duration": 11,
    "start_time": "2021-08-06T15:37:41.830Z"
   },
   {
    "duration": 1090,
    "start_time": "2021-08-06T15:37:49.914Z"
   },
   {
    "duration": 16,
    "start_time": "2021-08-06T15:37:51.006Z"
   },
   {
    "duration": 12,
    "start_time": "2021-08-06T15:37:51.024Z"
   },
   {
    "duration": 3,
    "start_time": "2021-08-06T15:37:51.037Z"
   },
   {
    "duration": 11,
    "start_time": "2021-08-06T15:37:51.041Z"
   },
   {
    "duration": 8,
    "start_time": "2021-08-06T15:37:51.053Z"
   },
   {
    "duration": 13,
    "start_time": "2021-08-06T15:37:51.062Z"
   },
   {
    "duration": 7,
    "start_time": "2021-08-06T15:38:19.227Z"
   },
   {
    "duration": 43,
    "start_time": "2021-08-06T15:48:53.162Z"
   },
   {
    "duration": 23,
    "start_time": "2021-08-06T15:48:55.637Z"
   },
   {
    "duration": 43,
    "start_time": "2021-08-06T15:54:23.320Z"
   },
   {
    "duration": 13,
    "start_time": "2021-08-06T15:54:31.107Z"
   },
   {
    "duration": 7,
    "start_time": "2021-08-06T15:55:44.624Z"
   },
   {
    "duration": 5837,
    "start_time": "2021-08-06T16:04:22.466Z"
   },
   {
    "duration": 1153,
    "start_time": "2021-08-06T16:04:44.753Z"
   },
   {
    "duration": 17,
    "start_time": "2021-08-06T16:04:45.908Z"
   },
   {
    "duration": 11,
    "start_time": "2021-08-06T16:04:45.929Z"
   },
   {
    "duration": 5,
    "start_time": "2021-08-06T16:04:45.941Z"
   },
   {
    "duration": 10,
    "start_time": "2021-08-06T16:04:45.947Z"
   },
   {
    "duration": 7,
    "start_time": "2021-08-06T16:04:45.959Z"
   },
   {
    "duration": 8,
    "start_time": "2021-08-06T16:04:45.991Z"
   },
   {
    "duration": 49,
    "start_time": "2021-08-06T16:04:46.001Z"
   },
   {
    "duration": 7,
    "start_time": "2021-08-06T16:04:46.052Z"
   },
   {
    "duration": 5739,
    "start_time": "2021-08-06T16:04:46.061Z"
   },
   {
    "duration": 261,
    "start_time": "2021-08-06T16:04:51.541Z"
   },
   {
    "duration": 3,
    "start_time": "2021-08-06T16:05:28.526Z"
   },
   {
    "duration": 5880,
    "start_time": "2021-08-06T16:05:33.564Z"
   },
   {
    "duration": 12,
    "start_time": "2021-08-06T16:06:00.445Z"
   },
   {
    "duration": 14,
    "start_time": "2021-08-06T16:07:19.087Z"
   },
   {
    "duration": 8,
    "start_time": "2021-08-06T16:07:27.341Z"
   },
   {
    "duration": 6766,
    "start_time": "2021-08-06T16:07:46.068Z"
   },
   {
    "duration": 6302,
    "start_time": "2021-08-06T16:08:26.885Z"
   },
   {
    "duration": 5879,
    "start_time": "2021-08-06T16:08:53.344Z"
   },
   {
    "duration": 1135,
    "start_time": "2021-08-06T16:13:31.784Z"
   },
   {
    "duration": 16,
    "start_time": "2021-08-06T16:13:32.921Z"
   },
   {
    "duration": 12,
    "start_time": "2021-08-06T16:13:32.941Z"
   },
   {
    "duration": 4,
    "start_time": "2021-08-06T16:13:32.955Z"
   },
   {
    "duration": 13,
    "start_time": "2021-08-06T16:13:32.961Z"
   },
   {
    "duration": 7,
    "start_time": "2021-08-06T16:13:32.975Z"
   },
   {
    "duration": 8,
    "start_time": "2021-08-06T16:13:32.991Z"
   },
   {
    "duration": 45,
    "start_time": "2021-08-06T16:13:33.001Z"
   },
   {
    "duration": 5,
    "start_time": "2021-08-06T16:13:33.048Z"
   },
   {
    "duration": 14,
    "start_time": "2021-08-06T16:13:33.055Z"
   },
   {
    "duration": 10,
    "start_time": "2021-08-06T16:13:33.071Z"
   },
   {
    "duration": 13,
    "start_time": "2021-08-06T16:13:33.083Z"
   },
   {
    "duration": 14,
    "start_time": "2021-08-06T16:13:33.099Z"
   },
   {
    "duration": 27,
    "start_time": "2021-08-06T16:13:33.115Z"
   },
   {
    "duration": 21,
    "start_time": "2021-08-06T16:13:52.710Z"
   },
   {
    "duration": 31,
    "start_time": "2021-08-06T16:15:19.968Z"
   },
   {
    "duration": 10,
    "start_time": "2021-08-06T16:18:51.328Z"
   },
   {
    "duration": 796,
    "start_time": "2021-08-06T16:20:06.430Z"
   },
   {
    "duration": 803,
    "start_time": "2021-08-06T16:20:32.879Z"
   },
   {
    "duration": 754,
    "start_time": "2021-08-06T16:21:05.863Z"
   },
   {
    "duration": 1858,
    "start_time": "2021-08-06T16:21:14.543Z"
   },
   {
    "duration": 815,
    "start_time": "2021-08-06T16:22:03.847Z"
   },
   {
    "duration": 873,
    "start_time": "2021-08-06T16:22:26.839Z"
   },
   {
    "duration": 835,
    "start_time": "2021-08-06T16:22:39.400Z"
   },
   {
    "duration": 6,
    "start_time": "2021-08-06T16:22:49.200Z"
   },
   {
    "duration": 14,
    "start_time": "2021-08-06T16:22:59.031Z"
   },
   {
    "duration": 15,
    "start_time": "2021-08-06T16:23:52.887Z"
   },
   {
    "duration": 921,
    "start_time": "2021-08-06T16:25:39.330Z"
   },
   {
    "duration": 72,
    "start_time": "2021-08-06T16:27:51.765Z"
   },
   {
    "duration": 3,
    "start_time": "2021-08-06T16:28:07.783Z"
   },
   {
    "duration": 99,
    "start_time": "2021-08-06T16:28:08.542Z"
   },
   {
    "duration": 2118,
    "start_time": "2021-08-06T16:28:14.823Z"
   },
   {
    "duration": 674,
    "start_time": "2021-08-06T16:29:33.155Z"
   },
   {
    "duration": 1055,
    "start_time": "2021-08-06T16:29:41.345Z"
   },
   {
    "duration": 17,
    "start_time": "2021-08-06T16:29:42.402Z"
   },
   {
    "duration": 15,
    "start_time": "2021-08-06T16:29:42.421Z"
   },
   {
    "duration": 3,
    "start_time": "2021-08-06T16:29:42.438Z"
   },
   {
    "duration": 10,
    "start_time": "2021-08-06T16:29:42.443Z"
   },
   {
    "duration": 8,
    "start_time": "2021-08-06T16:29:42.455Z"
   },
   {
    "duration": 9,
    "start_time": "2021-08-06T16:29:42.465Z"
   },
   {
    "duration": 49,
    "start_time": "2021-08-06T16:29:42.492Z"
   },
   {
    "duration": 47,
    "start_time": "2021-08-06T16:29:42.543Z"
   },
   {
    "duration": 9,
    "start_time": "2021-08-06T16:29:42.591Z"
   },
   {
    "duration": 13,
    "start_time": "2021-08-06T16:29:42.602Z"
   },
   {
    "duration": 4,
    "start_time": "2021-08-06T16:29:42.616Z"
   },
   {
    "duration": 3867,
    "start_time": "2021-08-06T16:29:42.621Z"
   },
   {
    "duration": 1000,
    "start_time": "2021-08-06T16:30:19.295Z"
   },
   {
    "duration": 1114,
    "start_time": "2021-08-06T16:31:41.988Z"
   },
   {
    "duration": 17,
    "start_time": "2021-08-06T16:31:43.104Z"
   },
   {
    "duration": 10,
    "start_time": "2021-08-06T16:31:43.125Z"
   },
   {
    "duration": 2,
    "start_time": "2021-08-06T16:31:43.137Z"
   },
   {
    "duration": 10,
    "start_time": "2021-08-06T16:31:43.141Z"
   },
   {
    "duration": 9,
    "start_time": "2021-08-06T16:31:43.152Z"
   },
   {
    "duration": 28,
    "start_time": "2021-08-06T16:31:43.165Z"
   },
   {
    "duration": 49,
    "start_time": "2021-08-06T16:31:43.195Z"
   },
   {
    "duration": 32,
    "start_time": "2021-08-06T16:31:43.246Z"
   },
   {
    "duration": 8,
    "start_time": "2021-08-06T16:31:43.280Z"
   },
   {
    "duration": 13,
    "start_time": "2021-08-06T16:31:43.290Z"
   },
   {
    "duration": 2,
    "start_time": "2021-08-06T16:31:43.305Z"
   },
   {
    "duration": 83,
    "start_time": "2021-08-06T16:31:43.309Z"
   },
   {
    "duration": 1132,
    "start_time": "2021-08-06T16:31:56.668Z"
   },
   {
    "duration": 16,
    "start_time": "2021-08-06T16:31:57.804Z"
   },
   {
    "duration": 13,
    "start_time": "2021-08-06T16:31:57.822Z"
   },
   {
    "duration": 5,
    "start_time": "2021-08-06T16:31:57.837Z"
   },
   {
    "duration": 11,
    "start_time": "2021-08-06T16:31:57.843Z"
   },
   {
    "duration": 7,
    "start_time": "2021-08-06T16:31:57.855Z"
   },
   {
    "duration": 28,
    "start_time": "2021-08-06T16:31:57.865Z"
   },
   {
    "duration": 51,
    "start_time": "2021-08-06T16:31:57.894Z"
   },
   {
    "duration": 32,
    "start_time": "2021-08-06T16:31:57.946Z"
   },
   {
    "duration": 8,
    "start_time": "2021-08-06T16:31:57.979Z"
   },
   {
    "duration": 15,
    "start_time": "2021-08-06T16:31:57.988Z"
   },
   {
    "duration": 2,
    "start_time": "2021-08-06T16:31:58.005Z"
   },
   {
    "duration": 83,
    "start_time": "2021-08-06T16:31:58.009Z"
   },
   {
    "duration": 853,
    "start_time": "2021-08-06T16:32:08.938Z"
   },
   {
    "duration": 689,
    "start_time": "2021-08-06T16:36:51.346Z"
   },
   {
    "duration": 743,
    "start_time": "2021-08-06T16:37:13.442Z"
   },
   {
    "duration": 745,
    "start_time": "2021-08-06T16:37:40.506Z"
   },
   {
    "duration": 1057,
    "start_time": "2021-08-06T16:38:04.738Z"
   },
   {
    "duration": 17,
    "start_time": "2021-08-06T16:38:05.797Z"
   },
   {
    "duration": 11,
    "start_time": "2021-08-06T16:38:05.817Z"
   },
   {
    "duration": 8,
    "start_time": "2021-08-06T16:38:05.830Z"
   },
   {
    "duration": 14,
    "start_time": "2021-08-06T16:38:05.839Z"
   },
   {
    "duration": 7,
    "start_time": "2021-08-06T16:38:05.855Z"
   },
   {
    "duration": 13,
    "start_time": "2021-08-06T16:38:05.864Z"
   },
   {
    "duration": 51,
    "start_time": "2021-08-06T16:38:05.879Z"
   },
   {
    "duration": 37,
    "start_time": "2021-08-06T16:38:05.931Z"
   },
   {
    "duration": 5,
    "start_time": "2021-08-06T16:38:05.970Z"
   },
   {
    "duration": 18,
    "start_time": "2021-08-06T16:38:05.976Z"
   },
   {
    "duration": 19,
    "start_time": "2021-08-06T16:38:05.995Z"
   },
   {
    "duration": 201,
    "start_time": "2021-08-06T16:38:06.015Z"
   },
   {
    "duration": 1067,
    "start_time": "2021-08-06T16:38:27.508Z"
   },
   {
    "duration": 16,
    "start_time": "2021-08-06T16:38:28.577Z"
   },
   {
    "duration": 11,
    "start_time": "2021-08-06T16:38:28.596Z"
   },
   {
    "duration": 3,
    "start_time": "2021-08-06T16:38:28.608Z"
   },
   {
    "duration": 11,
    "start_time": "2021-08-06T16:38:28.612Z"
   },
   {
    "duration": 7,
    "start_time": "2021-08-06T16:38:28.624Z"
   },
   {
    "duration": 9,
    "start_time": "2021-08-06T16:38:28.632Z"
   },
   {
    "duration": 49,
    "start_time": "2021-08-06T16:38:28.644Z"
   },
   {
    "duration": 30,
    "start_time": "2021-08-06T16:38:28.695Z"
   },
   {
    "duration": 8,
    "start_time": "2021-08-06T16:38:28.726Z"
   },
   {
    "duration": 11,
    "start_time": "2021-08-06T16:38:28.735Z"
   },
   {
    "duration": 2,
    "start_time": "2021-08-06T16:38:28.747Z"
   },
   {
    "duration": 505,
    "start_time": "2021-08-06T16:38:28.751Z"
   },
   {
    "duration": 1107,
    "start_time": "2021-08-06T16:39:01.398Z"
   },
   {
    "duration": 17,
    "start_time": "2021-08-06T16:39:02.507Z"
   },
   {
    "duration": 12,
    "start_time": "2021-08-06T16:39:02.526Z"
   },
   {
    "duration": 3,
    "start_time": "2021-08-06T16:39:02.540Z"
   },
   {
    "duration": 11,
    "start_time": "2021-08-06T16:39:02.544Z"
   },
   {
    "duration": 7,
    "start_time": "2021-08-06T16:39:02.556Z"
   },
   {
    "duration": 12,
    "start_time": "2021-08-06T16:39:02.565Z"
   },
   {
    "duration": 48,
    "start_time": "2021-08-06T16:39:02.592Z"
   },
   {
    "duration": 34,
    "start_time": "2021-08-06T16:39:02.642Z"
   },
   {
    "duration": 6,
    "start_time": "2021-08-06T16:39:02.678Z"
   },
   {
    "duration": 14,
    "start_time": "2021-08-06T16:39:02.685Z"
   },
   {
    "duration": 6,
    "start_time": "2021-08-06T16:39:02.701Z"
   },
   {
    "duration": 708,
    "start_time": "2021-08-06T16:39:02.708Z"
   },
   {
    "duration": 585,
    "start_time": "2021-08-06T16:39:34.031Z"
   },
   {
    "duration": 577,
    "start_time": "2021-08-06T16:40:11.908Z"
   },
   {
    "duration": 624,
    "start_time": "2021-08-06T16:40:24.474Z"
   },
   {
    "duration": 201,
    "start_time": "2021-08-06T16:40:35.777Z"
   },
   {
    "duration": 313,
    "start_time": "2021-08-06T16:41:46.066Z"
   },
   {
    "duration": 593,
    "start_time": "2021-08-06T16:41:59.937Z"
   },
   {
    "duration": 544,
    "start_time": "2021-08-06T16:42:15.804Z"
   },
   {
    "duration": 323,
    "start_time": "2021-08-06T16:42:25.137Z"
   },
   {
    "duration": 320,
    "start_time": "2021-08-06T16:42:39.633Z"
   },
   {
    "duration": 573,
    "start_time": "2021-08-06T16:43:03.593Z"
   },
   {
    "duration": 329,
    "start_time": "2021-08-06T16:43:26.802Z"
   },
   {
    "duration": 6,
    "start_time": "2021-08-06T16:44:17.945Z"
   },
   {
    "duration": 328,
    "start_time": "2021-08-06T16:44:25.026Z"
   },
   {
    "duration": 537,
    "start_time": "2021-08-06T16:44:56.105Z"
   },
   {
    "duration": 485,
    "start_time": "2021-08-06T16:45:27.682Z"
   },
   {
    "duration": 3,
    "start_time": "2021-08-06T16:46:34.089Z"
   },
   {
    "duration": 478,
    "start_time": "2021-08-06T16:46:34.643Z"
   },
   {
    "duration": 546,
    "start_time": "2021-08-06T16:52:41.939Z"
   },
   {
    "duration": 489,
    "start_time": "2021-08-06T16:52:47.452Z"
   },
   {
    "duration": 163,
    "start_time": "2021-08-06T16:58:37.339Z"
   },
   {
    "duration": 168,
    "start_time": "2021-08-06T16:58:50.708Z"
   },
   {
    "duration": 161,
    "start_time": "2021-08-06T16:58:54.853Z"
   },
   {
    "duration": 171,
    "start_time": "2021-08-06T16:59:02.018Z"
   },
   {
    "duration": 176,
    "start_time": "2021-08-06T17:01:10.679Z"
   },
   {
    "duration": 180,
    "start_time": "2021-08-06T17:01:37.236Z"
   },
   {
    "duration": 177,
    "start_time": "2021-08-06T17:01:49.644Z"
   },
   {
    "duration": 603,
    "start_time": "2021-08-06T17:02:51.197Z"
   },
   {
    "duration": 421,
    "start_time": "2021-08-06T17:03:01.581Z"
   },
   {
    "duration": 181,
    "start_time": "2021-08-06T17:04:21.093Z"
   },
   {
    "duration": 255,
    "start_time": "2021-08-06T17:04:25.445Z"
   },
   {
    "duration": 174,
    "start_time": "2021-08-06T17:04:29.580Z"
   },
   {
    "duration": 181,
    "start_time": "2021-08-06T17:04:33.611Z"
   },
   {
    "duration": 399,
    "start_time": "2021-08-06T17:05:00.921Z"
   },
   {
    "duration": 532,
    "start_time": "2021-08-06T17:09:43.942Z"
   },
   {
    "duration": 196,
    "start_time": "2021-08-06T17:10:33.167Z"
   },
   {
    "duration": 180,
    "start_time": "2021-08-06T17:10:39.357Z"
   },
   {
    "duration": 184,
    "start_time": "2021-08-06T17:10:44.294Z"
   },
   {
    "duration": 183,
    "start_time": "2021-08-06T17:10:49.975Z"
   },
   {
    "duration": 190,
    "start_time": "2021-08-06T17:11:00.501Z"
   },
   {
    "duration": 181,
    "start_time": "2021-08-06T17:11:07.661Z"
   },
   {
    "duration": 176,
    "start_time": "2021-08-06T17:11:10.780Z"
   },
   {
    "duration": 701,
    "start_time": "2021-08-06T17:12:20.973Z"
   },
   {
    "duration": 368,
    "start_time": "2021-08-06T17:12:36.222Z"
   },
   {
    "duration": 236,
    "start_time": "2021-08-06T17:12:43.325Z"
   },
   {
    "duration": 564,
    "start_time": "2021-08-06T17:13:01.640Z"
   },
   {
    "duration": 613,
    "start_time": "2021-08-06T17:13:10.222Z"
   },
   {
    "duration": 299,
    "start_time": "2021-08-06T17:18:20.265Z"
   },
   {
    "duration": 331,
    "start_time": "2021-08-06T17:20:15.793Z"
   },
   {
    "duration": 297,
    "start_time": "2021-08-06T17:20:22.118Z"
   },
   {
    "duration": 177,
    "start_time": "2021-08-06T17:23:55.271Z"
   },
   {
    "duration": 370,
    "start_time": "2021-08-06T17:24:28.760Z"
   },
   {
    "duration": 347,
    "start_time": "2021-08-06T17:24:52.048Z"
   },
   {
    "duration": 326,
    "start_time": "2021-08-06T17:26:19.072Z"
   },
   {
    "duration": 368,
    "start_time": "2021-08-06T17:26:49.448Z"
   },
   {
    "duration": 470,
    "start_time": "2021-08-06T17:27:01.249Z"
   },
   {
    "duration": 228,
    "start_time": "2021-08-06T17:27:07.584Z"
   },
   {
    "duration": 332,
    "start_time": "2021-08-06T17:27:30.431Z"
   },
   {
    "duration": 460,
    "start_time": "2021-08-06T17:28:36.935Z"
   },
   {
    "duration": 227,
    "start_time": "2021-08-06T17:28:58.214Z"
   },
   {
    "duration": 282,
    "start_time": "2021-08-06T17:32:46.048Z"
   },
   {
    "duration": 304,
    "start_time": "2021-08-06T17:32:53.360Z"
   },
   {
    "duration": 230,
    "start_time": "2021-08-06T17:33:17.977Z"
   },
   {
    "duration": 320,
    "start_time": "2021-08-06T17:33:30.801Z"
   },
   {
    "duration": 285,
    "start_time": "2021-08-06T17:33:48.042Z"
   },
   {
    "duration": 343,
    "start_time": "2021-08-06T17:33:56.345Z"
   },
   {
    "duration": 396,
    "start_time": "2021-08-06T17:34:06.344Z"
   },
   {
    "duration": 317,
    "start_time": "2021-08-06T17:34:15.993Z"
   },
   {
    "duration": 320,
    "start_time": "2021-08-06T17:34:35.035Z"
   },
   {
    "duration": 337,
    "start_time": "2021-08-06T17:35:02.009Z"
   },
   {
    "duration": 444,
    "start_time": "2021-08-06T23:44:10.597Z"
   },
   {
    "duration": 310,
    "start_time": "2021-08-06T23:44:52.374Z"
   },
   {
    "duration": 285,
    "start_time": "2021-08-06T23:45:15.524Z"
   },
   {
    "duration": 341,
    "start_time": "2021-08-06T23:45:37.898Z"
   },
   {
    "duration": 5,
    "start_time": "2021-08-06T23:53:41.273Z"
   },
   {
    "duration": 4,
    "start_time": "2021-08-06T23:54:14.904Z"
   },
   {
    "duration": 11,
    "start_time": "2021-08-07T00:05:10.850Z"
   },
   {
    "duration": 288,
    "start_time": "2021-08-07T00:08:14.971Z"
   },
   {
    "duration": 593,
    "start_time": "2021-08-07T00:09:07.083Z"
   },
   {
    "duration": 576,
    "start_time": "2021-08-07T00:09:57.554Z"
   },
   {
    "duration": 1089,
    "start_time": "2021-08-07T00:10:23.767Z"
   },
   {
    "duration": 16,
    "start_time": "2021-08-07T00:10:24.858Z"
   },
   {
    "duration": 12,
    "start_time": "2021-08-07T00:10:24.876Z"
   },
   {
    "duration": 4,
    "start_time": "2021-08-07T00:10:24.890Z"
   },
   {
    "duration": 14,
    "start_time": "2021-08-07T00:10:24.896Z"
   },
   {
    "duration": 11,
    "start_time": "2021-08-07T00:10:24.911Z"
   },
   {
    "duration": 10,
    "start_time": "2021-08-07T00:10:24.923Z"
   },
   {
    "duration": 49,
    "start_time": "2021-08-07T00:10:24.935Z"
   },
   {
    "duration": 36,
    "start_time": "2021-08-07T00:10:24.986Z"
   },
   {
    "duration": 5,
    "start_time": "2021-08-07T00:10:25.024Z"
   },
   {
    "duration": 5,
    "start_time": "2021-08-07T00:10:25.030Z"
   },
   {
    "duration": 574,
    "start_time": "2021-08-07T00:10:25.037Z"
   },
   {
    "duration": 248,
    "start_time": "2021-08-07T00:10:25.613Z"
   },
   {
    "duration": 397,
    "start_time": "2021-08-07T00:10:25.862Z"
   },
   {
    "duration": 255,
    "start_time": "2021-08-07T00:10:26.261Z"
   },
   {
    "duration": 347,
    "start_time": "2021-08-07T00:10:26.518Z"
   },
   {
    "duration": 383,
    "start_time": "2021-08-07T00:10:26.867Z"
   },
   {
    "duration": 4,
    "start_time": "2021-08-07T00:10:27.252Z"
   },
   {
    "duration": 11,
    "start_time": "2021-08-07T00:10:27.258Z"
   },
   {
    "duration": 766,
    "start_time": "2021-08-07T00:10:27.270Z"
   },
   {
    "duration": 4,
    "start_time": "2021-08-07T00:12:10.891Z"
   },
   {
    "duration": 352,
    "start_time": "2021-08-07T00:12:17.323Z"
   },
   {
    "duration": 348,
    "start_time": "2021-08-07T00:12:24.504Z"
   },
   {
    "duration": 349,
    "start_time": "2021-08-07T00:12:47.244Z"
   },
   {
    "duration": 7,
    "start_time": "2021-08-07T00:12:58.226Z"
   },
   {
    "duration": 242,
    "start_time": "2021-08-07T00:14:33.882Z"
   },
   {
    "duration": 241,
    "start_time": "2021-08-07T00:14:57.571Z"
   },
   {
    "duration": 235,
    "start_time": "2021-08-07T00:15:18.093Z"
   },
   {
    "duration": 6,
    "start_time": "2021-08-07T00:15:35.540Z"
   },
   {
    "duration": 4,
    "start_time": "2021-08-07T00:16:07.927Z"
   },
   {
    "duration": 10,
    "start_time": "2021-08-07T00:18:54.641Z"
   },
   {
    "duration": 10,
    "start_time": "2021-08-07T00:19:37.188Z"
   },
   {
    "duration": 7,
    "start_time": "2021-08-07T00:19:44.247Z"
   },
   {
    "duration": 7,
    "start_time": "2021-08-07T00:22:47.768Z"
   },
   {
    "duration": 5,
    "start_time": "2021-08-07T00:22:49.169Z"
   },
   {
    "duration": 8,
    "start_time": "2021-08-07T00:22:55.220Z"
   },
   {
    "duration": 8,
    "start_time": "2021-08-07T00:22:56.564Z"
   },
   {
    "duration": 117,
    "start_time": "2021-08-07T00:26:20.630Z"
   },
   {
    "duration": 239,
    "start_time": "2021-08-07T00:28:57.957Z"
   },
   {
    "duration": 234,
    "start_time": "2021-08-07T00:29:05.247Z"
   },
   {
    "duration": 252,
    "start_time": "2021-08-07T00:29:11.717Z"
   },
   {
    "duration": 214,
    "start_time": "2021-08-07T00:29:28.654Z"
   },
   {
    "duration": 112,
    "start_time": "2021-08-07T00:31:09.663Z"
   },
   {
    "duration": 255,
    "start_time": "2021-08-07T00:32:10.022Z"
   },
   {
    "duration": 341,
    "start_time": "2021-08-07T00:33:00.822Z"
   },
   {
    "duration": 4,
    "start_time": "2021-08-07T00:33:46.221Z"
   },
   {
    "duration": 125,
    "start_time": "2021-08-07T00:35:47.871Z"
   },
   {
    "duration": 6099,
    "start_time": "2021-08-07T00:36:35.172Z"
   },
   {
    "duration": -749,
    "start_time": "2021-08-07T00:36:42.022Z"
   },
   {
    "duration": 268,
    "start_time": "2021-08-07T00:39:03.352Z"
   },
   {
    "duration": 1098,
    "start_time": "2021-08-07T00:43:41.601Z"
   },
   {
    "duration": 18,
    "start_time": "2021-08-07T00:43:42.703Z"
   },
   {
    "duration": 20,
    "start_time": "2021-08-07T00:43:42.723Z"
   },
   {
    "duration": 8,
    "start_time": "2021-08-07T00:43:42.745Z"
   },
   {
    "duration": 11,
    "start_time": "2021-08-07T00:43:42.755Z"
   },
   {
    "duration": 13,
    "start_time": "2021-08-07T00:43:42.768Z"
   },
   {
    "duration": 23,
    "start_time": "2021-08-07T00:43:42.783Z"
   },
   {
    "duration": 47,
    "start_time": "2021-08-07T00:43:42.808Z"
   },
   {
    "duration": 325,
    "start_time": "2021-08-07T00:43:42.857Z"
   },
   {
    "duration": -75,
    "start_time": "2021-08-07T00:43:43.259Z"
   },
   {
    "duration": -77,
    "start_time": "2021-08-07T00:43:43.262Z"
   },
   {
    "duration": -79,
    "start_time": "2021-08-07T00:43:43.265Z"
   },
   {
    "duration": -82,
    "start_time": "2021-08-07T00:43:43.269Z"
   },
   {
    "duration": -83,
    "start_time": "2021-08-07T00:43:43.271Z"
   },
   {
    "duration": -84,
    "start_time": "2021-08-07T00:43:43.273Z"
   },
   {
    "duration": -912,
    "start_time": "2021-08-07T00:43:44.101Z"
   },
   {
    "duration": -920,
    "start_time": "2021-08-07T00:43:44.110Z"
   },
   {
    "duration": -921,
    "start_time": "2021-08-07T00:43:44.113Z"
   },
   {
    "duration": -925,
    "start_time": "2021-08-07T00:43:44.118Z"
   },
   {
    "duration": -927,
    "start_time": "2021-08-07T00:43:44.121Z"
   },
   {
    "duration": -929,
    "start_time": "2021-08-07T00:43:44.125Z"
   },
   {
    "duration": -931,
    "start_time": "2021-08-07T00:43:44.128Z"
   },
   {
    "duration": -933,
    "start_time": "2021-08-07T00:43:44.131Z"
   },
   {
    "duration": -935,
    "start_time": "2021-08-07T00:43:44.134Z"
   },
   {
    "duration": -937,
    "start_time": "2021-08-07T00:43:44.137Z"
   },
   {
    "duration": -938,
    "start_time": "2021-08-07T00:43:44.139Z"
   },
   {
    "duration": -939,
    "start_time": "2021-08-07T00:43:44.141Z"
   },
   {
    "duration": -939,
    "start_time": "2021-08-07T00:43:44.142Z"
   },
   {
    "duration": 1107,
    "start_time": "2021-08-07T00:44:12.898Z"
   },
   {
    "duration": 16,
    "start_time": "2021-08-07T00:44:14.007Z"
   },
   {
    "duration": 13,
    "start_time": "2021-08-07T00:44:14.025Z"
   },
   {
    "duration": 3,
    "start_time": "2021-08-07T00:44:14.039Z"
   },
   {
    "duration": 11,
    "start_time": "2021-08-07T00:44:14.043Z"
   },
   {
    "duration": 7,
    "start_time": "2021-08-07T00:44:14.056Z"
   },
   {
    "duration": 11,
    "start_time": "2021-08-07T00:44:14.064Z"
   },
   {
    "duration": 51,
    "start_time": "2021-08-07T00:44:14.077Z"
   },
   {
    "duration": 32,
    "start_time": "2021-08-07T00:44:14.130Z"
   },
   {
    "duration": 5,
    "start_time": "2021-08-07T00:44:14.163Z"
   },
   {
    "duration": 5,
    "start_time": "2021-08-07T00:44:14.170Z"
   },
   {
    "duration": 582,
    "start_time": "2021-08-07T00:44:14.176Z"
   },
   {
    "duration": 255,
    "start_time": "2021-08-07T00:44:14.760Z"
   },
   {
    "duration": 365,
    "start_time": "2021-08-07T00:44:15.017Z"
   },
   {
    "duration": 243,
    "start_time": "2021-08-07T00:44:15.384Z"
   },
   {
    "duration": 345,
    "start_time": "2021-08-07T00:44:15.629Z"
   },
   {
    "duration": 366,
    "start_time": "2021-08-07T00:44:15.975Z"
   },
   {
    "duration": 112,
    "start_time": "2021-08-07T00:44:16.342Z"
   },
   {
    "duration": 409,
    "start_time": "2021-08-07T00:44:16.456Z"
   },
   {
    "duration": 5,
    "start_time": "2021-08-07T00:44:16.866Z"
   },
   {
    "duration": 20,
    "start_time": "2021-08-07T00:44:16.872Z"
   },
   {
    "duration": 350,
    "start_time": "2021-08-07T00:44:16.897Z"
   },
   {
    "duration": 6,
    "start_time": "2021-08-07T00:44:17.250Z"
   },
   {
    "duration": 6010,
    "start_time": "2021-08-07T00:44:17.258Z"
   },
   {
    "duration": -321,
    "start_time": "2021-08-07T00:44:23.591Z"
   },
   {
    "duration": -330,
    "start_time": "2021-08-07T00:44:23.601Z"
   },
   {
    "duration": -332,
    "start_time": "2021-08-07T00:44:23.604Z"
   },
   {
    "duration": -341,
    "start_time": "2021-08-07T00:44:23.614Z"
   },
   {
    "duration": 4,
    "start_time": "2021-08-07T00:44:39.970Z"
   },
   {
    "duration": 8,
    "start_time": "2021-08-07T00:44:42.549Z"
   },
   {
    "duration": 7,
    "start_time": "2021-08-07T00:44:46.013Z"
   },
   {
    "duration": 351,
    "start_time": "2021-08-07T00:44:48.117Z"
   },
   {
    "duration": 7,
    "start_time": "2021-08-07T00:44:49.484Z"
   },
   {
    "duration": 7,
    "start_time": "2021-08-07T00:45:43.185Z"
   },
   {
    "duration": 4,
    "start_time": "2021-08-07T00:45:44.255Z"
   },
   {
    "duration": 14,
    "start_time": "2021-08-07T00:49:38.402Z"
   },
   {
    "duration": 236,
    "start_time": "2021-08-07T00:54:52.990Z"
   },
   {
    "duration": 340,
    "start_time": "2021-08-07T00:57:28.034Z"
   },
   {
    "duration": 6,
    "start_time": "2021-08-07T00:58:05.790Z"
   },
   {
    "duration": 340,
    "start_time": "2021-08-07T00:58:55.368Z"
   },
   {
    "duration": 241,
    "start_time": "2021-08-07T01:04:15.579Z"
   },
   {
    "duration": 244,
    "start_time": "2021-08-07T01:04:59.168Z"
   },
   {
    "duration": 596,
    "start_time": "2021-08-07T01:05:30.112Z"
   },
   {
    "duration": 1094,
    "start_time": "2021-08-07T01:12:01.647Z"
   },
   {
    "duration": 16,
    "start_time": "2021-08-07T01:12:02.743Z"
   },
   {
    "duration": 15,
    "start_time": "2021-08-07T01:12:02.763Z"
   },
   {
    "duration": 9,
    "start_time": "2021-08-07T01:12:02.779Z"
   },
   {
    "duration": 21,
    "start_time": "2021-08-07T01:12:02.789Z"
   },
   {
    "duration": 8,
    "start_time": "2021-08-07T01:12:02.812Z"
   },
   {
    "duration": 11,
    "start_time": "2021-08-07T01:12:02.822Z"
   },
   {
    "duration": 49,
    "start_time": "2021-08-07T01:12:02.835Z"
   },
   {
    "duration": 42,
    "start_time": "2021-08-07T01:12:02.886Z"
   },
   {
    "duration": 6,
    "start_time": "2021-08-07T01:12:02.930Z"
   },
   {
    "duration": 7,
    "start_time": "2021-08-07T01:12:02.937Z"
   },
   {
    "duration": 624,
    "start_time": "2021-08-07T01:12:02.945Z"
   },
   {
    "duration": 257,
    "start_time": "2021-08-07T01:12:03.570Z"
   },
   {
    "duration": 367,
    "start_time": "2021-08-07T01:12:03.829Z"
   },
   {
    "duration": 263,
    "start_time": "2021-08-07T01:12:04.198Z"
   },
   {
    "duration": 419,
    "start_time": "2021-08-07T01:12:04.463Z"
   },
   {
    "duration": 371,
    "start_time": "2021-08-07T01:12:04.883Z"
   },
   {
    "duration": 107,
    "start_time": "2021-08-07T01:12:05.256Z"
   },
   {
    "duration": 405,
    "start_time": "2021-08-07T01:12:05.365Z"
   },
   {
    "duration": 4,
    "start_time": "2021-08-07T01:12:05.772Z"
   },
   {
    "duration": 15,
    "start_time": "2021-08-07T01:12:05.777Z"
   },
   {
    "duration": 364,
    "start_time": "2021-08-07T01:12:05.795Z"
   },
   {
    "duration": 8,
    "start_time": "2021-08-07T01:12:06.161Z"
   },
   {
    "duration": 23,
    "start_time": "2021-08-07T01:12:06.171Z"
   },
   {
    "duration": 21,
    "start_time": "2021-08-07T01:12:06.196Z"
   },
   {
    "duration": 18,
    "start_time": "2021-08-07T01:12:06.220Z"
   },
   {
    "duration": 359,
    "start_time": "2021-08-07T01:12:06.240Z"
   },
   {
    "duration": 8,
    "start_time": "2021-08-07T01:12:06.602Z"
   },
   {
    "duration": 11,
    "start_time": "2021-08-07T01:12:06.612Z"
   },
   {
    "duration": 26,
    "start_time": "2021-08-07T01:12:06.625Z"
   },
   {
    "duration": 239,
    "start_time": "2021-08-07T01:12:06.653Z"
   },
   {
    "duration": 377,
    "start_time": "2021-08-07T01:12:06.894Z"
   },
   {
    "duration": 245,
    "start_time": "2021-08-07T01:12:07.273Z"
   },
   {
    "duration": 367,
    "start_time": "2021-08-07T01:12:07.520Z"
   },
   {
    "duration": 1503,
    "start_time": "2021-08-07T04:55:06.457Z"
   },
   {
    "duration": 17,
    "start_time": "2021-08-07T04:55:07.963Z"
   },
   {
    "duration": 18,
    "start_time": "2021-08-07T04:55:07.982Z"
   },
   {
    "duration": 4,
    "start_time": "2021-08-07T04:55:08.003Z"
   },
   {
    "duration": 14,
    "start_time": "2021-08-07T04:55:08.009Z"
   },
   {
    "duration": 41,
    "start_time": "2021-08-07T04:55:08.025Z"
   },
   {
    "duration": 14,
    "start_time": "2021-08-07T04:55:08.069Z"
   },
   {
    "duration": 69,
    "start_time": "2021-08-07T04:55:08.086Z"
   },
   {
    "duration": 56,
    "start_time": "2021-08-07T04:55:08.158Z"
   },
   {
    "duration": 9,
    "start_time": "2021-08-07T04:55:08.216Z"
   },
   {
    "duration": 6,
    "start_time": "2021-08-07T04:55:08.227Z"
   },
   {
    "duration": 1188,
    "start_time": "2021-08-07T04:55:08.235Z"
   },
   {
    "duration": 436,
    "start_time": "2021-08-07T04:55:09.425Z"
   },
   {
    "duration": 538,
    "start_time": "2021-08-07T04:55:09.867Z"
   },
   {
    "duration": 446,
    "start_time": "2021-08-07T04:55:10.407Z"
   },
   {
    "duration": 554,
    "start_time": "2021-08-07T04:55:10.855Z"
   },
   {
    "duration": 495,
    "start_time": "2021-08-07T04:55:11.411Z"
   },
   {
    "duration": 193,
    "start_time": "2021-08-07T04:55:11.908Z"
   },
   {
    "duration": 651,
    "start_time": "2021-08-07T04:55:12.104Z"
   },
   {
    "duration": 10,
    "start_time": "2021-08-07T04:55:12.757Z"
   },
   {
    "duration": 6,
    "start_time": "2021-08-07T04:55:12.769Z"
   },
   {
    "duration": 646,
    "start_time": "2021-08-07T04:55:12.777Z"
   },
   {
    "duration": 10,
    "start_time": "2021-08-07T04:55:13.427Z"
   },
   {
    "duration": 5,
    "start_time": "2021-08-07T04:55:13.440Z"
   },
   {
    "duration": 12,
    "start_time": "2021-08-07T04:55:13.468Z"
   },
   {
    "duration": 13,
    "start_time": "2021-08-07T04:55:13.483Z"
   },
   {
    "duration": 675,
    "start_time": "2021-08-07T04:55:13.499Z"
   },
   {
    "duration": 9,
    "start_time": "2021-08-07T04:55:14.176Z"
   },
   {
    "duration": 15,
    "start_time": "2021-08-07T04:55:14.188Z"
   },
   {
    "duration": 23,
    "start_time": "2021-08-07T04:55:14.206Z"
   },
   {
    "duration": 438,
    "start_time": "2021-08-07T04:55:14.232Z"
   },
   {
    "duration": 525,
    "start_time": "2021-08-07T04:55:14.672Z"
   },
   {
    "duration": 433,
    "start_time": "2021-08-07T04:55:15.200Z"
   },
   {
    "duration": 555,
    "start_time": "2021-08-07T04:55:15.636Z"
   },
   {
    "duration": 339,
    "start_time": "2021-08-07T07:57:14.937Z"
   },
   {
    "duration": 1462,
    "start_time": "2021-08-07T07:57:27.157Z"
   },
   {
    "duration": 19,
    "start_time": "2021-08-07T07:57:28.622Z"
   },
   {
    "duration": 19,
    "start_time": "2021-08-07T07:57:28.645Z"
   },
   {
    "duration": 6,
    "start_time": "2021-08-07T07:57:28.666Z"
   },
   {
    "duration": 17,
    "start_time": "2021-08-07T07:57:30.221Z"
   },
   {
    "duration": 13,
    "start_time": "2021-08-07T07:57:31.210Z"
   },
   {
    "duration": 14,
    "start_time": "2021-08-07T07:57:32.237Z"
   },
   {
    "duration": 53,
    "start_time": "2021-08-07T07:57:34.852Z"
   },
   {
    "duration": 57,
    "start_time": "2021-08-07T07:57:36.118Z"
   },
   {
    "duration": 79,
    "start_time": "2021-08-07T07:57:56.261Z"
   },
   {
    "duration": 71,
    "start_time": "2021-08-07T07:58:05.365Z"
   },
   {
    "duration": 80,
    "start_time": "2021-08-07T07:58:12.166Z"
   },
   {
    "duration": 63,
    "start_time": "2021-08-07T07:58:23.074Z"
   },
   {
    "duration": 125,
    "start_time": "2021-08-07T07:58:38.903Z"
   },
   {
    "duration": 83,
    "start_time": "2021-08-07T07:59:08.938Z"
   },
   {
    "duration": 102,
    "start_time": "2021-08-07T07:59:18.425Z"
   },
   {
    "duration": 90,
    "start_time": "2021-08-07T07:59:26.856Z"
   },
   {
    "duration": 85,
    "start_time": "2021-08-07T07:59:33.756Z"
   },
   {
    "duration": 70,
    "start_time": "2021-08-07T07:59:52.865Z"
   },
   {
    "duration": 96,
    "start_time": "2021-08-07T07:59:59.838Z"
   },
   {
    "duration": 96,
    "start_time": "2021-08-07T08:00:17.023Z"
   },
   {
    "duration": 79,
    "start_time": "2021-08-07T08:00:35.843Z"
   },
   {
    "duration": 406,
    "start_time": "2021-08-07T08:03:27.790Z"
   },
   {
    "duration": 14,
    "start_time": "2021-08-07T08:03:35.533Z"
   },
   {
    "duration": 281,
    "start_time": "2021-08-07T08:03:39.102Z"
   },
   {
    "duration": 277,
    "start_time": "2021-08-07T08:03:45.653Z"
   },
   {
    "duration": 5,
    "start_time": "2021-08-07T08:04:11.470Z"
   },
   {
    "duration": 20,
    "start_time": "2021-08-07T08:04:12.671Z"
   },
   {
    "duration": 4,
    "start_time": "2021-08-07T08:04:17.605Z"
   },
   {
    "duration": 19,
    "start_time": "2021-08-07T08:04:18.551Z"
   },
   {
    "duration": 4,
    "start_time": "2021-08-07T08:04:23.901Z"
   },
   {
    "duration": 15,
    "start_time": "2021-08-07T08:04:24.606Z"
   },
   {
    "duration": 5,
    "start_time": "2021-08-07T08:04:29.882Z"
   },
   {
    "duration": 14,
    "start_time": "2021-08-07T08:04:30.686Z"
   },
   {
    "duration": 4,
    "start_time": "2021-08-07T08:04:51.501Z"
   },
   {
    "duration": 15,
    "start_time": "2021-08-07T08:04:52.088Z"
   },
   {
    "duration": 1150,
    "start_time": "2021-08-07T08:04:53.037Z"
   },
   {
    "duration": 11,
    "start_time": "2021-08-07T08:04:54.405Z"
   },
   {
    "duration": 1509,
    "start_time": "2021-08-07T08:05:24.868Z"
   },
   {
    "duration": 22,
    "start_time": "2021-08-07T08:05:26.382Z"
   },
   {
    "duration": 7,
    "start_time": "2021-08-07T08:05:26.408Z"
   },
   {
    "duration": 22,
    "start_time": "2021-08-07T08:05:26.418Z"
   },
   {
    "duration": 4,
    "start_time": "2021-08-07T08:05:26.443Z"
   },
   {
    "duration": 16,
    "start_time": "2021-08-07T08:05:26.450Z"
   },
   {
    "duration": 14,
    "start_time": "2021-08-07T08:05:26.500Z"
   },
   {
    "duration": 25,
    "start_time": "2021-08-07T08:05:26.517Z"
   },
   {
    "duration": 427,
    "start_time": "2021-08-07T08:05:26.546Z"
   },
   {
    "duration": 1457,
    "start_time": "2021-08-07T08:05:25.521Z"
   },
   {
    "duration": 1454,
    "start_time": "2021-08-07T08:05:25.526Z"
   },
   {
    "duration": 1448,
    "start_time": "2021-08-07T08:05:25.534Z"
   },
   {
    "duration": 1445,
    "start_time": "2021-08-07T08:05:25.539Z"
   },
   {
    "duration": 1443,
    "start_time": "2021-08-07T08:05:25.543Z"
   },
   {
    "duration": 1441,
    "start_time": "2021-08-07T08:05:25.547Z"
   },
   {
    "duration": 1440,
    "start_time": "2021-08-07T08:05:25.551Z"
   },
   {
    "duration": 1438,
    "start_time": "2021-08-07T08:05:25.554Z"
   },
   {
    "duration": 1436,
    "start_time": "2021-08-07T08:05:25.558Z"
   },
   {
    "duration": 1434,
    "start_time": "2021-08-07T08:05:25.561Z"
   },
   {
    "duration": 1432,
    "start_time": "2021-08-07T08:05:25.565Z"
   },
   {
    "duration": 1430,
    "start_time": "2021-08-07T08:05:25.568Z"
   },
   {
    "duration": 1428,
    "start_time": "2021-08-07T08:05:25.572Z"
   },
   {
    "duration": 1425,
    "start_time": "2021-08-07T08:05:25.576Z"
   },
   {
    "duration": 1422,
    "start_time": "2021-08-07T08:05:25.580Z"
   },
   {
    "duration": 1420,
    "start_time": "2021-08-07T08:05:25.584Z"
   },
   {
    "duration": 1418,
    "start_time": "2021-08-07T08:05:25.587Z"
   },
   {
    "duration": 1416,
    "start_time": "2021-08-07T08:05:25.590Z"
   },
   {
    "duration": 1415,
    "start_time": "2021-08-07T08:05:25.592Z"
   },
   {
    "duration": 1413,
    "start_time": "2021-08-07T08:05:25.596Z"
   },
   {
    "duration": 1410,
    "start_time": "2021-08-07T08:05:25.600Z"
   },
   {
    "duration": 1409,
    "start_time": "2021-08-07T08:05:25.602Z"
   },
   {
    "duration": 1399,
    "start_time": "2021-08-07T08:05:25.614Z"
   },
   {
    "duration": 1398,
    "start_time": "2021-08-07T08:05:25.616Z"
   },
   {
    "duration": 1397,
    "start_time": "2021-08-07T08:05:25.619Z"
   },
   {
    "duration": 1396,
    "start_time": "2021-08-07T08:05:25.621Z"
   },
   {
    "duration": 1394,
    "start_time": "2021-08-07T08:05:25.624Z"
   },
   {
    "duration": 1393,
    "start_time": "2021-08-07T08:05:25.627Z"
   },
   {
    "duration": 1425,
    "start_time": "2021-08-07T08:05:49.950Z"
   },
   {
    "duration": 19,
    "start_time": "2021-08-07T08:05:51.378Z"
   },
   {
    "duration": 8,
    "start_time": "2021-08-07T08:05:51.400Z"
   },
   {
    "duration": 25,
    "start_time": "2021-08-07T08:05:51.410Z"
   },
   {
    "duration": 5,
    "start_time": "2021-08-07T08:05:51.438Z"
   },
   {
    "duration": 17,
    "start_time": "2021-08-07T08:05:51.445Z"
   },
   {
    "duration": 44,
    "start_time": "2021-08-07T08:05:51.465Z"
   },
   {
    "duration": 25,
    "start_time": "2021-08-07T08:05:51.512Z"
   },
   {
    "duration": 413,
    "start_time": "2021-08-07T08:05:51.541Z"
   },
   {
    "duration": 1472,
    "start_time": "2021-08-07T08:05:50.486Z"
   },
   {
    "duration": 1456,
    "start_time": "2021-08-07T08:05:50.503Z"
   },
   {
    "duration": 1454,
    "start_time": "2021-08-07T08:05:50.507Z"
   },
   {
    "duration": 1452,
    "start_time": "2021-08-07T08:05:50.510Z"
   },
   {
    "duration": 1450,
    "start_time": "2021-08-07T08:05:50.514Z"
   },
   {
    "duration": 1447,
    "start_time": "2021-08-07T08:05:50.518Z"
   },
   {
    "duration": 1446,
    "start_time": "2021-08-07T08:05:50.521Z"
   },
   {
    "duration": 1443,
    "start_time": "2021-08-07T08:05:50.525Z"
   },
   {
    "duration": 1441,
    "start_time": "2021-08-07T08:05:50.528Z"
   },
   {
    "duration": 1440,
    "start_time": "2021-08-07T08:05:50.531Z"
   },
   {
    "duration": 1438,
    "start_time": "2021-08-07T08:05:50.534Z"
   },
   {
    "duration": 1436,
    "start_time": "2021-08-07T08:05:50.538Z"
   },
   {
    "duration": 1433,
    "start_time": "2021-08-07T08:05:50.542Z"
   },
   {
    "duration": 1431,
    "start_time": "2021-08-07T08:05:50.546Z"
   },
   {
    "duration": 1429,
    "start_time": "2021-08-07T08:05:50.549Z"
   },
   {
    "duration": 1426,
    "start_time": "2021-08-07T08:05:50.553Z"
   },
   {
    "duration": 1424,
    "start_time": "2021-08-07T08:05:50.557Z"
   },
   {
    "duration": 1422,
    "start_time": "2021-08-07T08:05:50.560Z"
   },
   {
    "duration": 1421,
    "start_time": "2021-08-07T08:05:50.562Z"
   },
   {
    "duration": 1420,
    "start_time": "2021-08-07T08:05:50.565Z"
   },
   {
    "duration": 1418,
    "start_time": "2021-08-07T08:05:50.568Z"
   },
   {
    "duration": 1415,
    "start_time": "2021-08-07T08:05:50.573Z"
   },
   {
    "duration": 1406,
    "start_time": "2021-08-07T08:05:50.583Z"
   },
   {
    "duration": 1405,
    "start_time": "2021-08-07T08:05:50.586Z"
   },
   {
    "duration": 1402,
    "start_time": "2021-08-07T08:05:50.590Z"
   },
   {
    "duration": 1401,
    "start_time": "2021-08-07T08:05:50.593Z"
   },
   {
    "duration": 1399,
    "start_time": "2021-08-07T08:05:50.596Z"
   },
   {
    "duration": 1401,
    "start_time": "2021-08-07T08:05:50.599Z"
   },
   {
    "duration": 1444,
    "start_time": "2021-08-07T08:06:10.611Z"
   },
   {
    "duration": 19,
    "start_time": "2021-08-07T08:06:12.058Z"
   },
   {
    "duration": 7,
    "start_time": "2021-08-07T08:06:12.080Z"
   },
   {
    "duration": 18,
    "start_time": "2021-08-07T08:06:12.090Z"
   },
   {
    "duration": 7,
    "start_time": "2021-08-07T08:06:12.111Z"
   },
   {
    "duration": 14,
    "start_time": "2021-08-07T08:06:12.121Z"
   },
   {
    "duration": 13,
    "start_time": "2021-08-07T08:06:12.138Z"
   },
   {
    "duration": 14,
    "start_time": "2021-08-07T08:06:12.201Z"
   },
   {
    "duration": 418,
    "start_time": "2021-08-07T08:06:12.220Z"
   },
   {
    "duration": 1487,
    "start_time": "2021-08-07T08:06:11.155Z"
   },
   {
    "duration": 1483,
    "start_time": "2021-08-07T08:06:11.160Z"
   },
   {
    "duration": 1477,
    "start_time": "2021-08-07T08:06:11.168Z"
   },
   {
    "duration": 1473,
    "start_time": "2021-08-07T08:06:11.174Z"
   },
   {
    "duration": 1459,
    "start_time": "2021-08-07T08:06:11.190Z"
   },
   {
    "duration": 1455,
    "start_time": "2021-08-07T08:06:11.195Z"
   },
   {
    "duration": 1453,
    "start_time": "2021-08-07T08:06:11.199Z"
   },
   {
    "duration": 1448,
    "start_time": "2021-08-07T08:06:11.205Z"
   },
   {
    "duration": 1444,
    "start_time": "2021-08-07T08:06:11.210Z"
   },
   {
    "duration": 1441,
    "start_time": "2021-08-07T08:06:11.215Z"
   },
   {
    "duration": 1437,
    "start_time": "2021-08-07T08:06:11.220Z"
   },
   {
    "duration": 1435,
    "start_time": "2021-08-07T08:06:11.224Z"
   },
   {
    "duration": 1433,
    "start_time": "2021-08-07T08:06:11.227Z"
   },
   {
    "duration": 1430,
    "start_time": "2021-08-07T08:06:11.231Z"
   },
   {
    "duration": 1430,
    "start_time": "2021-08-07T08:06:11.233Z"
   },
   {
    "duration": 1427,
    "start_time": "2021-08-07T08:06:11.238Z"
   },
   {
    "duration": 1425,
    "start_time": "2021-08-07T08:06:11.241Z"
   },
   {
    "duration": 1423,
    "start_time": "2021-08-07T08:06:11.245Z"
   },
   {
    "duration": 1420,
    "start_time": "2021-08-07T08:06:11.249Z"
   },
   {
    "duration": 1413,
    "start_time": "2021-08-07T08:06:11.258Z"
   },
   {
    "duration": 1411,
    "start_time": "2021-08-07T08:06:11.261Z"
   },
   {
    "duration": 1411,
    "start_time": "2021-08-07T08:06:11.263Z"
   },
   {
    "duration": 1410,
    "start_time": "2021-08-07T08:06:11.266Z"
   },
   {
    "duration": 1408,
    "start_time": "2021-08-07T08:06:11.269Z"
   },
   {
    "duration": 1408,
    "start_time": "2021-08-07T08:06:11.271Z"
   },
   {
    "duration": 1406,
    "start_time": "2021-08-07T08:06:11.274Z"
   },
   {
    "duration": 1405,
    "start_time": "2021-08-07T08:06:11.276Z"
   },
   {
    "duration": 1403,
    "start_time": "2021-08-07T08:06:11.280Z"
   },
   {
    "duration": 1953,
    "start_time": "2021-08-07T08:06:28.376Z"
   },
   {
    "duration": 22,
    "start_time": "2021-08-07T08:06:30.332Z"
   },
   {
    "duration": 13,
    "start_time": "2021-08-07T08:06:30.358Z"
   },
   {
    "duration": 37,
    "start_time": "2021-08-07T08:06:30.375Z"
   },
   {
    "duration": 8,
    "start_time": "2021-08-07T08:06:30.415Z"
   },
   {
    "duration": 35,
    "start_time": "2021-08-07T08:06:30.426Z"
   },
   {
    "duration": 16,
    "start_time": "2021-08-07T08:06:30.464Z"
   },
   {
    "duration": 35,
    "start_time": "2021-08-07T08:06:30.485Z"
   },
   {
    "duration": 1110,
    "start_time": "2021-08-07T08:06:30.523Z"
   },
   {
    "duration": 1521,
    "start_time": "2021-08-07T08:06:30.115Z"
   },
   {
    "duration": 1495,
    "start_time": "2021-08-07T08:06:30.143Z"
   },
   {
    "duration": 1490,
    "start_time": "2021-08-07T08:06:30.149Z"
   },
   {
    "duration": 1481,
    "start_time": "2021-08-07T08:06:30.160Z"
   },
   {
    "duration": 1477,
    "start_time": "2021-08-07T08:06:30.165Z"
   },
   {
    "duration": 1467,
    "start_time": "2021-08-07T08:06:30.177Z"
   },
   {
    "duration": 1454,
    "start_time": "2021-08-07T08:06:30.191Z"
   },
   {
    "duration": 1453,
    "start_time": "2021-08-07T08:06:30.194Z"
   },
   {
    "duration": 1439,
    "start_time": "2021-08-07T08:06:30.209Z"
   },
   {
    "duration": 1438,
    "start_time": "2021-08-07T08:06:30.212Z"
   },
   {
    "duration": 1424,
    "start_time": "2021-08-07T08:06:30.227Z"
   },
   {
    "duration": 1420,
    "start_time": "2021-08-07T08:06:30.232Z"
   },
   {
    "duration": 1410,
    "start_time": "2021-08-07T08:06:30.244Z"
   },
   {
    "duration": 1397,
    "start_time": "2021-08-07T08:06:30.258Z"
   },
   {
    "duration": 1395,
    "start_time": "2021-08-07T08:06:30.261Z"
   },
   {
    "duration": 1383,
    "start_time": "2021-08-07T08:06:30.275Z"
   },
   {
    "duration": 1378,
    "start_time": "2021-08-07T08:06:30.281Z"
   },
   {
    "duration": 1370,
    "start_time": "2021-08-07T08:06:30.291Z"
   },
   {
    "duration": 1368,
    "start_time": "2021-08-07T08:06:30.294Z"
   },
   {
    "duration": 1356,
    "start_time": "2021-08-07T08:06:30.307Z"
   },
   {
    "duration": 1353,
    "start_time": "2021-08-07T08:06:30.311Z"
   },
   {
    "duration": 1342,
    "start_time": "2021-08-07T08:06:30.324Z"
   },
   {
    "duration": 1340,
    "start_time": "2021-08-07T08:06:30.327Z"
   },
   {
    "duration": 1329,
    "start_time": "2021-08-07T08:06:30.340Z"
   },
   {
    "duration": 1326,
    "start_time": "2021-08-07T08:06:30.344Z"
   },
   {
    "duration": 1313,
    "start_time": "2021-08-07T08:06:30.359Z"
   },
   {
    "duration": 1326,
    "start_time": "2021-08-07T08:06:30.374Z"
   },
   {
    "duration": 1324,
    "start_time": "2021-08-07T08:06:30.377Z"
   },
   {
    "duration": 1452,
    "start_time": "2021-08-07T08:06:53.910Z"
   },
   {
    "duration": 20,
    "start_time": "2021-08-07T08:06:55.365Z"
   },
   {
    "duration": 6,
    "start_time": "2021-08-07T08:06:55.388Z"
   },
   {
    "duration": 21,
    "start_time": "2021-08-07T08:06:55.396Z"
   },
   {
    "duration": 5,
    "start_time": "2021-08-07T08:06:55.419Z"
   },
   {
    "duration": 19,
    "start_time": "2021-08-07T08:06:55.427Z"
   },
   {
    "duration": 13,
    "start_time": "2021-08-07T08:06:55.449Z"
   },
   {
    "duration": 14,
    "start_time": "2021-08-07T08:06:55.503Z"
   },
   {
    "duration": 425,
    "start_time": "2021-08-07T08:06:55.520Z"
   },
   {
    "duration": 1451,
    "start_time": "2021-08-07T08:06:54.497Z"
   },
   {
    "duration": 1448,
    "start_time": "2021-08-07T08:06:54.502Z"
   },
   {
    "duration": 1443,
    "start_time": "2021-08-07T08:06:54.508Z"
   },
   {
    "duration": 1440,
    "start_time": "2021-08-07T08:06:54.513Z"
   },
   {
    "duration": 1437,
    "start_time": "2021-08-07T08:06:54.517Z"
   },
   {
    "duration": 1434,
    "start_time": "2021-08-07T08:06:54.522Z"
   },
   {
    "duration": 1430,
    "start_time": "2021-08-07T08:06:54.527Z"
   },
   {
    "duration": 1427,
    "start_time": "2021-08-07T08:06:54.532Z"
   },
   {
    "duration": 1424,
    "start_time": "2021-08-07T08:06:54.536Z"
   },
   {
    "duration": 1421,
    "start_time": "2021-08-07T08:06:54.541Z"
   },
   {
    "duration": 1418,
    "start_time": "2021-08-07T08:06:54.546Z"
   },
   {
    "duration": 1415,
    "start_time": "2021-08-07T08:06:54.550Z"
   },
   {
    "duration": 1412,
    "start_time": "2021-08-07T08:06:54.554Z"
   },
   {
    "duration": 1410,
    "start_time": "2021-08-07T08:06:54.558Z"
   },
   {
    "duration": 1408,
    "start_time": "2021-08-07T08:06:54.561Z"
   },
   {
    "duration": 1406,
    "start_time": "2021-08-07T08:06:54.564Z"
   },
   {
    "duration": 1397,
    "start_time": "2021-08-07T08:06:54.574Z"
   },
   {
    "duration": 1396,
    "start_time": "2021-08-07T08:06:54.577Z"
   },
   {
    "duration": 1394,
    "start_time": "2021-08-07T08:06:54.580Z"
   },
   {
    "duration": 1391,
    "start_time": "2021-08-07T08:06:54.584Z"
   },
   {
    "duration": 1390,
    "start_time": "2021-08-07T08:06:54.587Z"
   },
   {
    "duration": 1387,
    "start_time": "2021-08-07T08:06:54.591Z"
   },
   {
    "duration": 1386,
    "start_time": "2021-08-07T08:06:54.594Z"
   },
   {
    "duration": 1385,
    "start_time": "2021-08-07T08:06:54.596Z"
   },
   {
    "duration": 1384,
    "start_time": "2021-08-07T08:06:54.599Z"
   },
   {
    "duration": 1382,
    "start_time": "2021-08-07T08:06:54.602Z"
   },
   {
    "duration": 1380,
    "start_time": "2021-08-07T08:06:54.605Z"
   },
   {
    "duration": 1378,
    "start_time": "2021-08-07T08:06:54.608Z"
   },
   {
    "duration": 1550,
    "start_time": "2021-08-07T08:07:13.636Z"
   },
   {
    "duration": 19,
    "start_time": "2021-08-07T08:07:15.188Z"
   },
   {
    "duration": 6,
    "start_time": "2021-08-07T08:07:15.211Z"
   },
   {
    "duration": 23,
    "start_time": "2021-08-07T08:07:15.220Z"
   },
   {
    "duration": 4,
    "start_time": "2021-08-07T08:07:15.245Z"
   },
   {
    "duration": 16,
    "start_time": "2021-08-07T08:07:15.252Z"
   },
   {
    "duration": 39,
    "start_time": "2021-08-07T08:07:15.270Z"
   },
   {
    "duration": 15,
    "start_time": "2021-08-07T08:07:15.313Z"
   },
   {
    "duration": 419,
    "start_time": "2021-08-07T08:07:15.331Z"
   },
   {
    "duration": 1478,
    "start_time": "2021-08-07T08:07:14.277Z"
   },
   {
    "duration": 1476,
    "start_time": "2021-08-07T08:07:14.281Z"
   },
   {
    "duration": 1476,
    "start_time": "2021-08-07T08:07:14.283Z"
   },
   {
    "duration": 1466,
    "start_time": "2021-08-07T08:07:14.296Z"
   },
   {
    "duration": 1464,
    "start_time": "2021-08-07T08:07:14.300Z"
   },
   {
    "duration": 1462,
    "start_time": "2021-08-07T08:07:14.305Z"
   },
   {
    "duration": 1454,
    "start_time": "2021-08-07T08:07:14.315Z"
   },
   {
    "duration": 1452,
    "start_time": "2021-08-07T08:07:14.319Z"
   },
   {
    "duration": 1443,
    "start_time": "2021-08-07T08:07:14.330Z"
   },
   {
    "duration": 1442,
    "start_time": "2021-08-07T08:07:14.333Z"
   },
   {
    "duration": 1438,
    "start_time": "2021-08-07T08:07:14.338Z"
   },
   {
    "duration": 1429,
    "start_time": "2021-08-07T08:07:14.349Z"
   },
   {
    "duration": 1426,
    "start_time": "2021-08-07T08:07:14.354Z"
   },
   {
    "duration": 1416,
    "start_time": "2021-08-07T08:07:14.366Z"
   },
   {
    "duration": 1413,
    "start_time": "2021-08-07T08:07:14.371Z"
   },
   {
    "duration": 1405,
    "start_time": "2021-08-07T08:07:14.381Z"
   },
   {
    "duration": 1403,
    "start_time": "2021-08-07T08:07:14.385Z"
   },
   {
    "duration": 1393,
    "start_time": "2021-08-07T08:07:14.397Z"
   },
   {
    "duration": 1400,
    "start_time": "2021-08-07T08:07:14.400Z"
   },
   {
    "duration": 1389,
    "start_time": "2021-08-07T08:07:14.413Z"
   },
   {
    "duration": 1388,
    "start_time": "2021-08-07T08:07:14.417Z"
   },
   {
    "duration": 1377,
    "start_time": "2021-08-07T08:07:14.429Z"
   },
   {
    "duration": 1362,
    "start_time": "2021-08-07T08:07:14.446Z"
   },
   {
    "duration": 1360,
    "start_time": "2021-08-07T08:07:14.450Z"
   },
   {
    "duration": 1358,
    "start_time": "2021-08-07T08:07:14.454Z"
   },
   {
    "duration": 1349,
    "start_time": "2021-08-07T08:07:14.465Z"
   },
   {
    "duration": 1346,
    "start_time": "2021-08-07T08:07:14.470Z"
   },
   {
    "duration": 1336,
    "start_time": "2021-08-07T08:07:14.482Z"
   },
   {
    "duration": 20,
    "start_time": "2021-08-07T08:07:26.847Z"
   },
   {
    "duration": 1555,
    "start_time": "2021-08-07T08:07:52.745Z"
   },
   {
    "duration": 21,
    "start_time": "2021-08-07T08:07:54.303Z"
   },
   {
    "duration": 6,
    "start_time": "2021-08-07T08:07:54.327Z"
   },
   {
    "duration": 18,
    "start_time": "2021-08-07T08:07:54.336Z"
   },
   {
    "duration": 7,
    "start_time": "2021-08-07T08:07:54.357Z"
   },
   {
    "duration": 47,
    "start_time": "2021-08-07T08:07:54.367Z"
   },
   {
    "duration": 18,
    "start_time": "2021-08-07T08:07:54.417Z"
   },
   {
    "duration": 15,
    "start_time": "2021-08-07T08:07:54.440Z"
   },
   {
    "duration": 655,
    "start_time": "2021-08-07T08:07:54.458Z"
   },
   {
    "duration": 1500,
    "start_time": "2021-08-07T08:07:53.617Z"
   },
   {
    "duration": 1495,
    "start_time": "2021-08-07T08:07:53.623Z"
   },
   {
    "duration": 1491,
    "start_time": "2021-08-07T08:07:53.629Z"
   },
   {
    "duration": 1484,
    "start_time": "2021-08-07T08:07:53.639Z"
   },
   {
    "duration": 1481,
    "start_time": "2021-08-07T08:07:53.644Z"
   },
   {
    "duration": 1475,
    "start_time": "2021-08-07T08:07:53.652Z"
   },
   {
    "duration": 1472,
    "start_time": "2021-08-07T08:07:53.657Z"
   },
   {
    "duration": 1462,
    "start_time": "2021-08-07T08:07:53.668Z"
   },
   {
    "duration": 1460,
    "start_time": "2021-08-07T08:07:53.672Z"
   },
   {
    "duration": 1456,
    "start_time": "2021-08-07T08:07:53.677Z"
   },
   {
    "duration": 1445,
    "start_time": "2021-08-07T08:07:53.689Z"
   },
   {
    "duration": 1442,
    "start_time": "2021-08-07T08:07:53.694Z"
   },
   {
    "duration": 1431,
    "start_time": "2021-08-07T08:07:53.706Z"
   },
   {
    "duration": 1426,
    "start_time": "2021-08-07T08:07:53.712Z"
   },
   {
    "duration": 1417,
    "start_time": "2021-08-07T08:07:53.723Z"
   },
   {
    "duration": 1404,
    "start_time": "2021-08-07T08:07:53.737Z"
   },
   {
    "duration": 1401,
    "start_time": "2021-08-07T08:07:53.741Z"
   },
   {
    "duration": 1390,
    "start_time": "2021-08-07T08:07:53.754Z"
   },
   {
    "duration": 1364,
    "start_time": "2021-08-07T08:07:53.781Z"
   },
   {
    "duration": 1359,
    "start_time": "2021-08-07T08:07:53.787Z"
   },
   {
    "duration": 1358,
    "start_time": "2021-08-07T08:07:53.790Z"
   },
   {
    "duration": 1354,
    "start_time": "2021-08-07T08:07:53.795Z"
   },
   {
    "duration": 1346,
    "start_time": "2021-08-07T08:07:53.804Z"
   },
   {
    "duration": 1341,
    "start_time": "2021-08-07T08:07:53.810Z"
   },
   {
    "duration": 1335,
    "start_time": "2021-08-07T08:07:53.817Z"
   },
   {
    "duration": 1379,
    "start_time": "2021-08-07T08:07:53.821Z"
   },
   {
    "duration": 1369,
    "start_time": "2021-08-07T08:07:53.833Z"
   },
   {
    "duration": 1367,
    "start_time": "2021-08-07T08:07:53.836Z"
   },
   {
    "duration": 98,
    "start_time": "2021-08-07T08:09:57.325Z"
   },
   {
    "duration": 101,
    "start_time": "2021-08-07T08:10:18.574Z"
   },
   {
    "duration": 6,
    "start_time": "2021-08-07T08:10:32.168Z"
   },
   {
    "duration": 6,
    "start_time": "2021-08-07T08:10:56.102Z"
   },
   {
    "duration": 91,
    "start_time": "2021-08-07T08:11:19.166Z"
   },
   {
    "duration": 120,
    "start_time": "2021-08-07T08:11:24.063Z"
   },
   {
    "duration": 106,
    "start_time": "2021-08-07T08:11:27.088Z"
   },
   {
    "duration": 99,
    "start_time": "2021-08-07T08:12:16.100Z"
   },
   {
    "duration": 91,
    "start_time": "2021-08-07T08:12:47.399Z"
   },
   {
    "duration": 101,
    "start_time": "2021-08-07T08:12:56.375Z"
   },
   {
    "duration": 90,
    "start_time": "2021-08-07T08:13:18.054Z"
   },
   {
    "duration": 91,
    "start_time": "2021-08-07T08:13:23.470Z"
   },
   {
    "duration": 98,
    "start_time": "2021-08-07T08:13:37.109Z"
   },
   {
    "duration": 96,
    "start_time": "2021-08-07T08:13:43.526Z"
   },
   {
    "duration": 1493,
    "start_time": "2021-08-07T08:13:56.093Z"
   },
   {
    "duration": 19,
    "start_time": "2021-08-07T08:13:57.589Z"
   },
   {
    "duration": 9,
    "start_time": "2021-08-07T08:13:57.612Z"
   },
   {
    "duration": 24,
    "start_time": "2021-08-07T08:13:57.624Z"
   },
   {
    "duration": 15,
    "start_time": "2021-08-07T08:13:57.651Z"
   },
   {
    "duration": 23,
    "start_time": "2021-08-07T08:13:57.668Z"
   },
   {
    "duration": 19,
    "start_time": "2021-08-07T08:13:57.694Z"
   },
   {
    "duration": 21,
    "start_time": "2021-08-07T08:13:57.716Z"
   },
   {
    "duration": 90,
    "start_time": "2021-08-07T08:13:57.740Z"
   },
   {
    "duration": 1413,
    "start_time": "2021-08-07T08:13:56.420Z"
   },
   {
    "duration": 1410,
    "start_time": "2021-08-07T08:13:56.424Z"
   },
   {
    "duration": 1408,
    "start_time": "2021-08-07T08:13:56.427Z"
   },
   {
    "duration": 1407,
    "start_time": "2021-08-07T08:13:56.430Z"
   },
   {
    "duration": 1374,
    "start_time": "2021-08-07T08:13:56.464Z"
   },
   {
    "duration": 1374,
    "start_time": "2021-08-07T08:13:56.466Z"
   },
   {
    "duration": 1372,
    "start_time": "2021-08-07T08:13:56.469Z"
   },
   {
    "duration": 1371,
    "start_time": "2021-08-07T08:13:56.472Z"
   },
   {
    "duration": 1369,
    "start_time": "2021-08-07T08:13:56.475Z"
   },
   {
    "duration": 1368,
    "start_time": "2021-08-07T08:13:56.478Z"
   },
   {
    "duration": 1366,
    "start_time": "2021-08-07T08:13:56.481Z"
   },
   {
    "duration": 1364,
    "start_time": "2021-08-07T08:13:56.484Z"
   },
   {
    "duration": 1363,
    "start_time": "2021-08-07T08:13:56.487Z"
   },
   {
    "duration": 1361,
    "start_time": "2021-08-07T08:13:56.490Z"
   },
   {
    "duration": 1360,
    "start_time": "2021-08-07T08:13:56.493Z"
   },
   {
    "duration": 1359,
    "start_time": "2021-08-07T08:13:56.495Z"
   },
   {
    "duration": 1357,
    "start_time": "2021-08-07T08:13:56.498Z"
   },
   {
    "duration": 1356,
    "start_time": "2021-08-07T08:13:56.501Z"
   },
   {
    "duration": 1354,
    "start_time": "2021-08-07T08:13:56.504Z"
   },
   {
    "duration": 1353,
    "start_time": "2021-08-07T08:13:56.507Z"
   },
   {
    "duration": 1350,
    "start_time": "2021-08-07T08:13:56.511Z"
   },
   {
    "duration": 1349,
    "start_time": "2021-08-07T08:13:56.513Z"
   },
   {
    "duration": 1348,
    "start_time": "2021-08-07T08:13:56.516Z"
   },
   {
    "duration": 1346,
    "start_time": "2021-08-07T08:13:56.519Z"
   },
   {
    "duration": 1344,
    "start_time": "2021-08-07T08:13:56.522Z"
   },
   {
    "duration": 1343,
    "start_time": "2021-08-07T08:13:56.525Z"
   },
   {
    "duration": 1341,
    "start_time": "2021-08-07T08:13:56.528Z"
   },
   {
    "duration": 1339,
    "start_time": "2021-08-07T08:13:56.531Z"
   },
   {
    "duration": 96,
    "start_time": "2021-08-07T08:14:32.865Z"
   },
   {
    "duration": 95,
    "start_time": "2021-08-07T08:14:41.862Z"
   },
   {
    "duration": 107,
    "start_time": "2021-08-07T08:14:46.294Z"
   },
   {
    "duration": 103,
    "start_time": "2021-08-07T08:14:51.412Z"
   },
   {
    "duration": 94,
    "start_time": "2021-08-07T08:15:18.758Z"
   },
   {
    "duration": 108,
    "start_time": "2021-08-07T08:15:27.206Z"
   },
   {
    "duration": 95,
    "start_time": "2021-08-07T08:15:34.488Z"
   },
   {
    "duration": 93,
    "start_time": "2021-08-07T08:15:40.413Z"
   },
   {
    "duration": 103,
    "start_time": "2021-08-07T08:15:44.309Z"
   },
   {
    "duration": 91,
    "start_time": "2021-08-07T08:16:01.781Z"
   },
   {
    "duration": 1901,
    "start_time": "2021-08-07T08:16:17.887Z"
   },
   {
    "duration": 21,
    "start_time": "2021-08-07T08:16:19.791Z"
   },
   {
    "duration": 7,
    "start_time": "2021-08-07T08:16:19.816Z"
   },
   {
    "duration": 28,
    "start_time": "2021-08-07T08:16:19.826Z"
   },
   {
    "duration": 4,
    "start_time": "2021-08-07T08:16:19.857Z"
   },
   {
    "duration": 44,
    "start_time": "2021-08-07T08:16:19.864Z"
   },
   {
    "duration": 18,
    "start_time": "2021-08-07T08:16:19.911Z"
   },
   {
    "duration": 13,
    "start_time": "2021-08-07T08:16:19.933Z"
   },
   {
    "duration": 105,
    "start_time": "2021-08-07T08:16:19.949Z"
   },
   {
    "duration": 1446,
    "start_time": "2021-08-07T08:16:18.611Z"
   },
   {
    "duration": 1443,
    "start_time": "2021-08-07T08:16:18.615Z"
   },
   {
    "duration": 1441,
    "start_time": "2021-08-07T08:16:18.619Z"
   },
   {
    "duration": 1439,
    "start_time": "2021-08-07T08:16:18.622Z"
   },
   {
    "duration": 1438,
    "start_time": "2021-08-07T08:16:18.625Z"
   },
   {
    "duration": 1436,
    "start_time": "2021-08-07T08:16:18.628Z"
   },
   {
    "duration": 1413,
    "start_time": "2021-08-07T08:16:18.652Z"
   },
   {
    "duration": 1411,
    "start_time": "2021-08-07T08:16:18.656Z"
   },
   {
    "duration": 1409,
    "start_time": "2021-08-07T08:16:18.659Z"
   },
   {
    "duration": 1408,
    "start_time": "2021-08-07T08:16:18.662Z"
   },
   {
    "duration": 1407,
    "start_time": "2021-08-07T08:16:18.664Z"
   },
   {
    "duration": 1405,
    "start_time": "2021-08-07T08:16:18.667Z"
   },
   {
    "duration": 1400,
    "start_time": "2021-08-07T08:16:18.673Z"
   },
   {
    "duration": 1400,
    "start_time": "2021-08-07T08:16:18.675Z"
   },
   {
    "duration": 1398,
    "start_time": "2021-08-07T08:16:18.678Z"
   },
   {
    "duration": 1397,
    "start_time": "2021-08-07T08:16:18.681Z"
   },
   {
    "duration": 1394,
    "start_time": "2021-08-07T08:16:18.685Z"
   },
   {
    "duration": 1392,
    "start_time": "2021-08-07T08:16:18.688Z"
   },
   {
    "duration": 1391,
    "start_time": "2021-08-07T08:16:18.691Z"
   },
   {
    "duration": 1390,
    "start_time": "2021-08-07T08:16:18.693Z"
   },
   {
    "duration": 1389,
    "start_time": "2021-08-07T08:16:18.696Z"
   },
   {
    "duration": 1387,
    "start_time": "2021-08-07T08:16:18.699Z"
   },
   {
    "duration": 1385,
    "start_time": "2021-08-07T08:16:18.702Z"
   },
   {
    "duration": 1384,
    "start_time": "2021-08-07T08:16:18.705Z"
   },
   {
    "duration": 1382,
    "start_time": "2021-08-07T08:16:18.708Z"
   },
   {
    "duration": 1381,
    "start_time": "2021-08-07T08:16:18.710Z"
   },
   {
    "duration": 1379,
    "start_time": "2021-08-07T08:16:18.714Z"
   },
   {
    "duration": 96,
    "start_time": "2021-08-07T08:16:49.959Z"
   },
   {
    "duration": 52,
    "start_time": "2021-08-07T08:17:19.894Z"
   },
   {
    "duration": 110,
    "start_time": "2021-08-07T08:17:20.990Z"
   },
   {
    "duration": 98,
    "start_time": "2021-08-07T08:22:28.315Z"
   },
   {
    "duration": 105,
    "start_time": "2021-08-07T08:23:16.089Z"
   },
   {
    "duration": 101,
    "start_time": "2021-08-07T08:23:50.255Z"
   },
   {
    "duration": 87,
    "start_time": "2021-08-07T08:23:58.818Z"
   },
   {
    "duration": 127,
    "start_time": "2021-08-07T08:24:10.752Z"
   },
   {
    "duration": 96,
    "start_time": "2021-08-07T08:24:18.920Z"
   },
   {
    "duration": 1502,
    "start_time": "2021-08-07T08:28:36.776Z"
   },
   {
    "duration": 21,
    "start_time": "2021-08-07T08:28:38.281Z"
   },
   {
    "duration": 9,
    "start_time": "2021-08-07T08:28:38.305Z"
   },
   {
    "duration": 18,
    "start_time": "2021-08-07T08:28:38.316Z"
   },
   {
    "duration": 4,
    "start_time": "2021-08-07T08:28:38.336Z"
   },
   {
    "duration": 21,
    "start_time": "2021-08-07T08:28:38.342Z"
   },
   {
    "duration": 46,
    "start_time": "2021-08-07T08:28:38.366Z"
   },
   {
    "duration": 14,
    "start_time": "2021-08-07T08:28:38.416Z"
   },
   {
    "duration": 59,
    "start_time": "2021-08-07T08:28:38.432Z"
   },
   {
    "duration": 82,
    "start_time": "2021-08-07T08:28:38.494Z"
   },
   {
    "duration": 10,
    "start_time": "2021-08-07T08:28:38.602Z"
   },
   {
    "duration": 13,
    "start_time": "2021-08-07T08:28:38.614Z"
   },
   {
    "duration": 1459,
    "start_time": "2021-08-07T08:28:38.629Z"
   },
   {
    "duration": 421,
    "start_time": "2021-08-07T08:28:40.102Z"
   },
   {
    "duration": 512,
    "start_time": "2021-08-07T08:28:40.526Z"
   },
   {
    "duration": 431,
    "start_time": "2021-08-07T08:28:41.041Z"
   },
   {
    "duration": 687,
    "start_time": "2021-08-07T08:28:41.475Z"
   },
   {
    "duration": 528,
    "start_time": "2021-08-07T08:28:42.165Z"
   },
   {
    "duration": 204,
    "start_time": "2021-08-07T08:28:42.696Z"
   },
   {
    "duration": 564,
    "start_time": "2021-08-07T08:28:42.903Z"
   },
   {
    "duration": 7,
    "start_time": "2021-08-07T08:28:43.470Z"
   },
   {
    "duration": 23,
    "start_time": "2021-08-07T08:28:43.479Z"
   },
   {
    "duration": 658,
    "start_time": "2021-08-07T08:28:43.507Z"
   },
   {
    "duration": 11,
    "start_time": "2021-08-07T08:28:44.169Z"
   },
   {
    "duration": 8,
    "start_time": "2021-08-07T08:28:44.201Z"
   },
   {
    "duration": 10,
    "start_time": "2021-08-07T08:28:44.212Z"
   },
   {
    "duration": 9,
    "start_time": "2021-08-07T08:28:44.225Z"
   },
   {
    "duration": 675,
    "start_time": "2021-08-07T08:28:44.237Z"
   },
   {
    "duration": 8,
    "start_time": "2021-08-07T08:28:44.914Z"
   },
   {
    "duration": 8,
    "start_time": "2021-08-07T08:28:44.925Z"
   },
   {
    "duration": 26,
    "start_time": "2021-08-07T08:28:44.936Z"
   },
   {
    "duration": 436,
    "start_time": "2021-08-07T08:28:44.964Z"
   },
   {
    "duration": 506,
    "start_time": "2021-08-07T08:28:45.403Z"
   },
   {
    "duration": 416,
    "start_time": "2021-08-07T08:28:45.911Z"
   },
   {
    "duration": 530,
    "start_time": "2021-08-07T08:28:46.329Z"
   },
   {
    "duration": 402,
    "start_time": "2021-08-07T08:35:04.479Z"
   },
   {
    "duration": 410,
    "start_time": "2021-08-07T08:39:00.078Z"
   },
   {
    "duration": 8,
    "start_time": "2021-08-07T08:39:49.106Z"
   },
   {
    "duration": 7,
    "start_time": "2021-08-07T08:39:58.091Z"
   },
   {
    "duration": 26,
    "start_time": "2021-08-07T08:40:11.764Z"
   },
   {
    "duration": 18,
    "start_time": "2021-08-07T08:40:32.541Z"
   },
   {
    "duration": 16,
    "start_time": "2021-08-07T08:41:35.308Z"
   },
   {
    "duration": 395,
    "start_time": "2021-08-07T08:42:34.660Z"
   },
   {
    "duration": 530,
    "start_time": "2021-08-07T08:43:07.084Z"
   },
   {
    "duration": 532,
    "start_time": "2021-08-07T08:44:31.155Z"
   },
   {
    "duration": 8,
    "start_time": "2021-08-07T08:45:41.547Z"
   },
   {
    "duration": 1443,
    "start_time": "2021-08-07T08:46:18.016Z"
   },
   {
    "duration": 20,
    "start_time": "2021-08-07T08:46:19.461Z"
   },
   {
    "duration": 7,
    "start_time": "2021-08-07T08:46:19.484Z"
   },
   {
    "duration": 20,
    "start_time": "2021-08-07T08:46:19.493Z"
   },
   {
    "duration": 4,
    "start_time": "2021-08-07T08:46:19.515Z"
   },
   {
    "duration": 18,
    "start_time": "2021-08-07T08:46:19.522Z"
   },
   {
    "duration": 15,
    "start_time": "2021-08-07T08:46:19.542Z"
   },
   {
    "duration": 47,
    "start_time": "2021-08-07T08:46:19.561Z"
   },
   {
    "duration": 53,
    "start_time": "2021-08-07T08:46:19.612Z"
   },
   {
    "duration": 72,
    "start_time": "2021-08-07T08:46:19.668Z"
   },
   {
    "duration": 9,
    "start_time": "2021-08-07T08:46:19.742Z"
   },
   {
    "duration": 7,
    "start_time": "2021-08-07T08:46:19.753Z"
   },
   {
    "duration": 1026,
    "start_time": "2021-08-07T08:46:19.762Z"
   },
   {
    "duration": 414,
    "start_time": "2021-08-07T08:46:20.800Z"
   },
   {
    "duration": 513,
    "start_time": "2021-08-07T08:46:21.216Z"
   },
   {
    "duration": 419,
    "start_time": "2021-08-07T08:46:21.732Z"
   },
   {
    "duration": 556,
    "start_time": "2021-08-07T08:46:22.154Z"
   },
   {
    "duration": 497,
    "start_time": "2021-08-07T08:46:22.713Z"
   },
   {
    "duration": 195,
    "start_time": "2021-08-07T08:46:23.213Z"
   },
   {
    "duration": 583,
    "start_time": "2021-08-07T08:46:23.411Z"
   },
   {
    "duration": 6,
    "start_time": "2021-08-07T08:46:23.997Z"
   },
   {
    "duration": 11,
    "start_time": "2021-08-07T08:46:24.005Z"
   },
   {
    "duration": 695,
    "start_time": "2021-08-07T08:46:24.021Z"
   },
   {
    "duration": 9,
    "start_time": "2021-08-07T08:46:24.719Z"
   },
   {
    "duration": 11,
    "start_time": "2021-08-07T08:46:24.730Z"
   },
   {
    "duration": 14,
    "start_time": "2021-08-07T08:46:24.744Z"
   },
   {
    "duration": 43,
    "start_time": "2021-08-07T08:46:24.760Z"
   },
   {
    "duration": 665,
    "start_time": "2021-08-07T08:46:24.806Z"
   },
   {
    "duration": 9,
    "start_time": "2021-08-07T08:46:25.474Z"
   },
   {
    "duration": 23,
    "start_time": "2021-08-07T08:46:25.486Z"
   },
   {
    "duration": 26,
    "start_time": "2021-08-07T08:46:25.511Z"
   },
   {
    "duration": 428,
    "start_time": "2021-08-07T08:46:25.540Z"
   },
   {
    "duration": 29,
    "start_time": "2021-08-07T08:46:25.971Z"
   },
   {
    "duration": 619,
    "start_time": "2021-08-07T08:46:26.003Z"
   },
   {
    "duration": 429,
    "start_time": "2021-08-07T08:46:26.624Z"
   },
   {
    "duration": 569,
    "start_time": "2021-08-07T08:46:27.057Z"
   },
   {
    "duration": 785,
    "start_time": "2021-08-17T06:13:38.446Z"
   },
   {
    "duration": 1473,
    "start_time": "2021-08-17T06:13:47.062Z"
   },
   {
    "duration": 20,
    "start_time": "2021-08-17T06:13:48.538Z"
   },
   {
    "duration": 16,
    "start_time": "2021-08-17T06:13:48.561Z"
   },
   {
    "duration": 31,
    "start_time": "2021-08-17T06:13:48.579Z"
   },
   {
    "duration": 13,
    "start_time": "2021-08-17T06:13:48.613Z"
   },
   {
    "duration": 39,
    "start_time": "2021-08-17T06:13:48.628Z"
   },
   {
    "duration": 15,
    "start_time": "2021-08-17T06:13:48.670Z"
   },
   {
    "duration": 47,
    "start_time": "2021-08-17T06:13:48.689Z"
   },
   {
    "duration": 7964,
    "start_time": "2021-08-17T06:13:48.739Z"
   },
   {
    "duration": 1698,
    "start_time": "2021-08-17T06:13:55.008Z"
   },
   {
    "duration": 1695,
    "start_time": "2021-08-17T06:13:55.012Z"
   },
   {
    "duration": 1693,
    "start_time": "2021-08-17T06:13:55.015Z"
   },
   {
    "duration": 1690,
    "start_time": "2021-08-17T06:13:55.019Z"
   },
   {
    "duration": 1688,
    "start_time": "2021-08-17T06:13:55.023Z"
   },
   {
    "duration": 1684,
    "start_time": "2021-08-17T06:13:55.028Z"
   },
   {
    "duration": 1681,
    "start_time": "2021-08-17T06:13:55.032Z"
   },
   {
    "duration": 1679,
    "start_time": "2021-08-17T06:13:55.035Z"
   },
   {
    "duration": 1677,
    "start_time": "2021-08-17T06:13:55.039Z"
   },
   {
    "duration": 1667,
    "start_time": "2021-08-17T06:13:55.050Z"
   },
   {
    "duration": 1664,
    "start_time": "2021-08-17T06:13:55.054Z"
   },
   {
    "duration": 1662,
    "start_time": "2021-08-17T06:13:55.057Z"
   },
   {
    "duration": 1660,
    "start_time": "2021-08-17T06:13:55.060Z"
   },
   {
    "duration": 1658,
    "start_time": "2021-08-17T06:13:55.063Z"
   },
   {
    "duration": 1657,
    "start_time": "2021-08-17T06:13:55.066Z"
   },
   {
    "duration": 1656,
    "start_time": "2021-08-17T06:13:55.068Z"
   },
   {
    "duration": 1654,
    "start_time": "2021-08-17T06:13:55.071Z"
   },
   {
    "duration": 1651,
    "start_time": "2021-08-17T06:13:55.075Z"
   },
   {
    "duration": 1650,
    "start_time": "2021-08-17T06:13:55.077Z"
   },
   {
    "duration": 1649,
    "start_time": "2021-08-17T06:13:55.080Z"
   },
   {
    "duration": 1647,
    "start_time": "2021-08-17T06:13:55.083Z"
   },
   {
    "duration": 1646,
    "start_time": "2021-08-17T06:13:55.085Z"
   },
   {
    "duration": 1644,
    "start_time": "2021-08-17T06:13:55.088Z"
   },
   {
    "duration": 1642,
    "start_time": "2021-08-17T06:13:55.091Z"
   },
   {
    "duration": 1641,
    "start_time": "2021-08-17T06:13:55.094Z"
   },
   {
    "duration": 1640,
    "start_time": "2021-08-17T06:13:55.096Z"
   },
   {
    "duration": 1638,
    "start_time": "2021-08-17T06:13:55.099Z"
   },
   {
    "duration": 1637,
    "start_time": "2021-08-17T06:13:55.102Z"
   },
   {
    "duration": 7257,
    "start_time": "2021-08-17T06:15:56.182Z"
   },
   {
    "duration": 1432,
    "start_time": "2021-08-17T06:17:29.901Z"
   },
   {
    "duration": 20,
    "start_time": "2021-08-17T06:17:31.336Z"
   },
   {
    "duration": 6,
    "start_time": "2021-08-17T06:17:31.359Z"
   },
   {
    "duration": 29,
    "start_time": "2021-08-17T06:17:31.368Z"
   },
   {
    "duration": 10,
    "start_time": "2021-08-17T06:17:31.400Z"
   },
   {
    "duration": 30,
    "start_time": "2021-08-17T06:17:31.412Z"
   },
   {
    "duration": 15,
    "start_time": "2021-08-17T06:17:31.444Z"
   },
   {
    "duration": 17,
    "start_time": "2021-08-17T06:17:31.461Z"
   },
   {
    "duration": 57,
    "start_time": "2021-08-17T06:17:31.482Z"
   },
   {
    "duration": 72,
    "start_time": "2021-08-17T06:17:31.542Z"
   },
   {
    "duration": 46,
    "start_time": "2021-08-17T06:17:31.616Z"
   },
   {
    "duration": 6,
    "start_time": "2021-08-17T06:17:31.665Z"
   },
   {
    "duration": 1040,
    "start_time": "2021-08-17T06:17:31.674Z"
   },
   {
    "duration": 442,
    "start_time": "2021-08-17T06:17:32.716Z"
   },
   {
    "duration": 521,
    "start_time": "2021-08-17T06:17:33.160Z"
   },
   {
    "duration": 439,
    "start_time": "2021-08-17T06:17:33.684Z"
   },
   {
    "duration": 551,
    "start_time": "2021-08-17T06:17:34.125Z"
   },
   {
    "duration": 488,
    "start_time": "2021-08-17T06:17:34.678Z"
   },
   {
    "duration": 241,
    "start_time": "2021-08-17T06:17:35.169Z"
   },
   {
    "duration": 545,
    "start_time": "2021-08-17T06:17:35.412Z"
   },
   {
    "duration": 5,
    "start_time": "2021-08-17T06:17:35.959Z"
   },
   {
    "duration": 21,
    "start_time": "2021-08-17T06:17:35.966Z"
   },
   {
    "duration": 648,
    "start_time": "2021-08-17T06:17:35.990Z"
   },
   {
    "duration": 20,
    "start_time": "2021-08-17T06:17:36.641Z"
   },
   {
    "duration": 35,
    "start_time": "2021-08-17T06:17:36.664Z"
   },
   {
    "duration": 32,
    "start_time": "2021-08-17T06:17:36.702Z"
   },
   {
    "duration": 20,
    "start_time": "2021-08-17T06:17:36.741Z"
   },
   {
    "duration": 665,
    "start_time": "2021-08-17T06:17:36.765Z"
   },
   {
    "duration": 21,
    "start_time": "2021-08-17T06:17:37.433Z"
   },
   {
    "duration": 15,
    "start_time": "2021-08-17T06:17:37.457Z"
   },
   {
    "duration": 31,
    "start_time": "2021-08-17T06:17:37.475Z"
   },
   {
    "duration": 423,
    "start_time": "2021-08-17T06:17:37.509Z"
   },
   {
    "duration": 27,
    "start_time": "2021-08-17T06:17:37.936Z"
   },
   {
    "duration": 507,
    "start_time": "2021-08-17T06:17:37.966Z"
   },
   {
    "duration": 419,
    "start_time": "2021-08-17T06:17:38.476Z"
   },
   {
    "duration": 601,
    "start_time": "2021-08-17T06:17:38.898Z"
   }
  ],
  "kernelspec": {
   "display_name": "Python 3",
   "language": "python",
   "name": "python3"
  },
  "language_info": {
   "codemirror_mode": {
    "name": "ipython",
    "version": 3
   },
   "file_extension": ".py",
   "mimetype": "text/x-python",
   "name": "python",
   "nbconvert_exporter": "python",
   "pygments_lexer": "ipython3",
   "version": "3.7.8"
  },
  "toc": {
   "base_numbering": 1,
   "nav_menu": {
    "height": "633px",
    "width": "714px"
   },
   "number_sections": true,
   "sideBar": true,
   "skip_h1_title": true,
   "title_cell": "Table of Contents",
   "title_sidebar": "Contents",
   "toc_cell": false,
   "toc_position": {
    "height": "calc(100% - 180px)",
    "left": "10px",
    "top": "150px",
    "width": "659.391px"
   },
   "toc_section_display": true,
   "toc_window_display": false
  }
 },
 "nbformat": 4,
 "nbformat_minor": 2
}
