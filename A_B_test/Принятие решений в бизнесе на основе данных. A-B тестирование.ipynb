{
 "cells": [
  {
   "cell_type": "markdown",
   "metadata": {},
   "source": [
    "# Описание проекта\n",
    "\n",
    "Вы — аналитик крупного интернет-магазина. Вместе с отделом маркетинга вы подготовили список гипотез для увеличения выручки.\n",
    "Приоритизируйте гипотезы, запустите A/B-тест и проанализируйте результаты."
   ]
  },
  {
   "cell_type": "code",
   "execution_count": 1,
   "metadata": {},
   "outputs": [],
   "source": [
    "import pandas as pd\n",
    "import seaborn as sns\n",
    "import matplotlib.pyplot as plt\n",
    "import numpy as np\n",
    "from scipy import stats as st\n",
    "from scipy.stats import mannwhitneyu\n",
    "import scipy.stats as stats\n",
    "import datetime as dt"
   ]
  },
  {
   "cell_type": "code",
   "execution_count": 2,
   "metadata": {},
   "outputs": [],
   "source": [
    "hypothesis = pd.read_csv('/1/hypothesis.csv')"
   ]
  },
  {
   "cell_type": "code",
   "execution_count": 3,
   "metadata": {},
   "outputs": [],
   "source": [
    "pd.set_option(\"max_colwidth\", 120)"
   ]
  },
  {
   "cell_type": "code",
   "execution_count": 4,
   "metadata": {},
   "outputs": [
    {
     "data": {
      "text/html": [
       "<div>\n",
       "<style scoped>\n",
       "    .dataframe tbody tr th:only-of-type {\n",
       "        vertical-align: middle;\n",
       "    }\n",
       "\n",
       "    .dataframe tbody tr th {\n",
       "        vertical-align: top;\n",
       "    }\n",
       "\n",
       "    .dataframe thead th {\n",
       "        text-align: right;\n",
       "    }\n",
       "</style>\n",
       "<table border=\"1\" class=\"dataframe\">\n",
       "  <thead>\n",
       "    <tr style=\"text-align: right;\">\n",
       "      <th></th>\n",
       "      <th>Hypothesis</th>\n",
       "      <th>Reach</th>\n",
       "      <th>Impact</th>\n",
       "      <th>Confidence</th>\n",
       "      <th>Efforts</th>\n",
       "    </tr>\n",
       "  </thead>\n",
       "  <tbody>\n",
       "    <tr>\n",
       "      <th>0</th>\n",
       "      <td>Добавить два новых канала привлечения трафика, что позволит привлекать на 30% больше пользователей</td>\n",
       "      <td>3</td>\n",
       "      <td>10</td>\n",
       "      <td>8</td>\n",
       "      <td>6</td>\n",
       "    </tr>\n",
       "    <tr>\n",
       "      <th>1</th>\n",
       "      <td>Запустить собственную службу доставки, что сократит срок доставки заказов</td>\n",
       "      <td>2</td>\n",
       "      <td>5</td>\n",
       "      <td>4</td>\n",
       "      <td>10</td>\n",
       "    </tr>\n",
       "    <tr>\n",
       "      <th>2</th>\n",
       "      <td>Добавить блоки рекомендаций товаров на сайт интернет магазина, чтобы повысить конверсию и средний чек заказа</td>\n",
       "      <td>8</td>\n",
       "      <td>3</td>\n",
       "      <td>7</td>\n",
       "      <td>3</td>\n",
       "    </tr>\n",
       "    <tr>\n",
       "      <th>3</th>\n",
       "      <td>Изменить структура категорий, что увеличит конверсию, т.к. пользователи быстрее найдут нужный товар</td>\n",
       "      <td>8</td>\n",
       "      <td>3</td>\n",
       "      <td>3</td>\n",
       "      <td>8</td>\n",
       "    </tr>\n",
       "    <tr>\n",
       "      <th>4</th>\n",
       "      <td>Изменить цвет фона главной страницы, чтобы увеличить вовлеченность пользователей</td>\n",
       "      <td>3</td>\n",
       "      <td>1</td>\n",
       "      <td>1</td>\n",
       "      <td>1</td>\n",
       "    </tr>\n",
       "    <tr>\n",
       "      <th>5</th>\n",
       "      <td>Добавить страницу отзывов клиентов о магазине, что позволит увеличить количество заказов</td>\n",
       "      <td>3</td>\n",
       "      <td>2</td>\n",
       "      <td>2</td>\n",
       "      <td>3</td>\n",
       "    </tr>\n",
       "    <tr>\n",
       "      <th>6</th>\n",
       "      <td>Показать на главной странице баннеры с актуальными акциями и распродажами, чтобы увеличить конверсию</td>\n",
       "      <td>5</td>\n",
       "      <td>3</td>\n",
       "      <td>8</td>\n",
       "      <td>3</td>\n",
       "    </tr>\n",
       "    <tr>\n",
       "      <th>7</th>\n",
       "      <td>Добавить форму подписки на все основные страницы, чтобы собрать базу клиентов для email-рассылок</td>\n",
       "      <td>10</td>\n",
       "      <td>7</td>\n",
       "      <td>8</td>\n",
       "      <td>5</td>\n",
       "    </tr>\n",
       "    <tr>\n",
       "      <th>8</th>\n",
       "      <td>Запустить акцию, дающую скидку на товар в день рождения</td>\n",
       "      <td>1</td>\n",
       "      <td>9</td>\n",
       "      <td>9</td>\n",
       "      <td>5</td>\n",
       "    </tr>\n",
       "  </tbody>\n",
       "</table>\n",
       "</div>"
      ],
      "text/plain": [
       "                                                                                                     Hypothesis  \\\n",
       "0            Добавить два новых канала привлечения трафика, что позволит привлекать на 30% больше пользователей   \n",
       "1                                     Запустить собственную службу доставки, что сократит срок доставки заказов   \n",
       "2  Добавить блоки рекомендаций товаров на сайт интернет магазина, чтобы повысить конверсию и средний чек заказа   \n",
       "3           Изменить структура категорий, что увеличит конверсию, т.к. пользователи быстрее найдут нужный товар   \n",
       "4                              Изменить цвет фона главной страницы, чтобы увеличить вовлеченность пользователей   \n",
       "5                      Добавить страницу отзывов клиентов о магазине, что позволит увеличить количество заказов   \n",
       "6          Показать на главной странице баннеры с актуальными акциями и распродажами, чтобы увеличить конверсию   \n",
       "7              Добавить форму подписки на все основные страницы, чтобы собрать базу клиентов для email-рассылок   \n",
       "8                                                       Запустить акцию, дающую скидку на товар в день рождения   \n",
       "\n",
       "   Reach  Impact  Confidence  Efforts  \n",
       "0      3      10           8        6  \n",
       "1      2       5           4       10  \n",
       "2      8       3           7        3  \n",
       "3      8       3           3        8  \n",
       "4      3       1           1        1  \n",
       "5      3       2           2        3  \n",
       "6      5       3           8        3  \n",
       "7     10       7           8        5  \n",
       "8      1       9           9        5  "
      ]
     },
     "execution_count": 4,
     "metadata": {},
     "output_type": "execute_result"
    }
   ],
   "source": [
    "hypothesis"
   ]
  },
  {
   "cell_type": "code",
   "execution_count": 5,
   "metadata": {},
   "outputs": [],
   "source": [
    "hypothesis.columns = ['hypothesis','reach', 'impact', 'confidence', 'efforts']"
   ]
  },
  {
   "cell_type": "markdown",
   "metadata": {},
   "source": [
    "## Часть 1. Приоритизация гипотез."
   ]
  },
  {
   "cell_type": "markdown",
   "metadata": {},
   "source": [
    "### Примените фреймворк ICE для приоритизации гипотез. Отсортируйте их по убыванию приоритета."
   ]
  },
  {
   "cell_type": "markdown",
   "metadata": {},
   "source": [
    "$$ICE = \\frac{Impact * Confidence}{Efforts}$$"
   ]
  },
  {
   "cell_type": "code",
   "execution_count": 6,
   "metadata": {},
   "outputs": [
    {
     "data": {
      "text/html": [
       "<div>\n",
       "<style scoped>\n",
       "    .dataframe tbody tr th:only-of-type {\n",
       "        vertical-align: middle;\n",
       "    }\n",
       "\n",
       "    .dataframe tbody tr th {\n",
       "        vertical-align: top;\n",
       "    }\n",
       "\n",
       "    .dataframe thead th {\n",
       "        text-align: right;\n",
       "    }\n",
       "</style>\n",
       "<table border=\"1\" class=\"dataframe\">\n",
       "  <thead>\n",
       "    <tr style=\"text-align: right;\">\n",
       "      <th></th>\n",
       "      <th>hypothesis</th>\n",
       "      <th>ice</th>\n",
       "    </tr>\n",
       "  </thead>\n",
       "  <tbody>\n",
       "    <tr>\n",
       "      <th>8</th>\n",
       "      <td>Запустить акцию, дающую скидку на товар в день рождения</td>\n",
       "      <td>16.2</td>\n",
       "    </tr>\n",
       "    <tr>\n",
       "      <th>0</th>\n",
       "      <td>Добавить два новых канала привлечения трафика, что позволит привлекать на 30% больше пользователей</td>\n",
       "      <td>13.3</td>\n",
       "    </tr>\n",
       "    <tr>\n",
       "      <th>7</th>\n",
       "      <td>Добавить форму подписки на все основные страницы, чтобы собрать базу клиентов для email-рассылок</td>\n",
       "      <td>11.2</td>\n",
       "    </tr>\n",
       "    <tr>\n",
       "      <th>6</th>\n",
       "      <td>Показать на главной странице баннеры с актуальными акциями и распродажами, чтобы увеличить конверсию</td>\n",
       "      <td>8.0</td>\n",
       "    </tr>\n",
       "    <tr>\n",
       "      <th>2</th>\n",
       "      <td>Добавить блоки рекомендаций товаров на сайт интернет магазина, чтобы повысить конверсию и средний чек заказа</td>\n",
       "      <td>7.0</td>\n",
       "    </tr>\n",
       "    <tr>\n",
       "      <th>1</th>\n",
       "      <td>Запустить собственную службу доставки, что сократит срок доставки заказов</td>\n",
       "      <td>2.0</td>\n",
       "    </tr>\n",
       "    <tr>\n",
       "      <th>5</th>\n",
       "      <td>Добавить страницу отзывов клиентов о магазине, что позволит увеличить количество заказов</td>\n",
       "      <td>1.3</td>\n",
       "    </tr>\n",
       "    <tr>\n",
       "      <th>3</th>\n",
       "      <td>Изменить структура категорий, что увеличит конверсию, т.к. пользователи быстрее найдут нужный товар</td>\n",
       "      <td>1.1</td>\n",
       "    </tr>\n",
       "    <tr>\n",
       "      <th>4</th>\n",
       "      <td>Изменить цвет фона главной страницы, чтобы увеличить вовлеченность пользователей</td>\n",
       "      <td>1.0</td>\n",
       "    </tr>\n",
       "  </tbody>\n",
       "</table>\n",
       "</div>"
      ],
      "text/plain": [
       "                                                                                                     hypothesis  \\\n",
       "8                                                       Запустить акцию, дающую скидку на товар в день рождения   \n",
       "0            Добавить два новых канала привлечения трафика, что позволит привлекать на 30% больше пользователей   \n",
       "7              Добавить форму подписки на все основные страницы, чтобы собрать базу клиентов для email-рассылок   \n",
       "6          Показать на главной странице баннеры с актуальными акциями и распродажами, чтобы увеличить конверсию   \n",
       "2  Добавить блоки рекомендаций товаров на сайт интернет магазина, чтобы повысить конверсию и средний чек заказа   \n",
       "1                                     Запустить собственную службу доставки, что сократит срок доставки заказов   \n",
       "5                      Добавить страницу отзывов клиентов о магазине, что позволит увеличить количество заказов   \n",
       "3           Изменить структура категорий, что увеличит конверсию, т.к. пользователи быстрее найдут нужный товар   \n",
       "4                              Изменить цвет фона главной страницы, чтобы увеличить вовлеченность пользователей   \n",
       "\n",
       "    ice  \n",
       "8  16.2  \n",
       "0  13.3  \n",
       "7  11.2  \n",
       "6   8.0  \n",
       "2   7.0  \n",
       "1   2.0  \n",
       "5   1.3  \n",
       "3   1.1  \n",
       "4   1.0  "
      ]
     },
     "metadata": {},
     "output_type": "display_data"
    }
   ],
   "source": [
    "hypothesis['ice'] = ((hypothesis['impact'] * hypothesis['confidence'])/hypothesis['efforts']).round(1)\n",
    "display(hypothesis[['hypothesis', 'ice']].sort_values(by = 'ice', ascending = False))"
   ]
  },
  {
   "cell_type": "markdown",
   "metadata": {},
   "source": [
    "### Примените фреймворк RICE для приоритизации гипотез. Отсортируйте их по убыванию приоритета."
   ]
  },
  {
   "cell_type": "markdown",
   "metadata": {},
   "source": [
    "$$RICE = \\frac{Rearch * Impact * Confidence}{Efforts}$$"
   ]
  },
  {
   "cell_type": "code",
   "execution_count": 7,
   "metadata": {},
   "outputs": [
    {
     "data": {
      "text/html": [
       "<div>\n",
       "<style scoped>\n",
       "    .dataframe tbody tr th:only-of-type {\n",
       "        vertical-align: middle;\n",
       "    }\n",
       "\n",
       "    .dataframe tbody tr th {\n",
       "        vertical-align: top;\n",
       "    }\n",
       "\n",
       "    .dataframe thead th {\n",
       "        text-align: right;\n",
       "    }\n",
       "</style>\n",
       "<table border=\"1\" class=\"dataframe\">\n",
       "  <thead>\n",
       "    <tr style=\"text-align: right;\">\n",
       "      <th></th>\n",
       "      <th>hypothesis</th>\n",
       "      <th>rice</th>\n",
       "    </tr>\n",
       "  </thead>\n",
       "  <tbody>\n",
       "    <tr>\n",
       "      <th>7</th>\n",
       "      <td>Добавить форму подписки на все основные страницы, чтобы собрать базу клиентов для email-рассылок</td>\n",
       "      <td>112.0</td>\n",
       "    </tr>\n",
       "    <tr>\n",
       "      <th>2</th>\n",
       "      <td>Добавить блоки рекомендаций товаров на сайт интернет магазина, чтобы повысить конверсию и средний чек заказа</td>\n",
       "      <td>56.0</td>\n",
       "    </tr>\n",
       "    <tr>\n",
       "      <th>0</th>\n",
       "      <td>Добавить два новых канала привлечения трафика, что позволит привлекать на 30% больше пользователей</td>\n",
       "      <td>40.0</td>\n",
       "    </tr>\n",
       "    <tr>\n",
       "      <th>6</th>\n",
       "      <td>Показать на главной странице баннеры с актуальными акциями и распродажами, чтобы увеличить конверсию</td>\n",
       "      <td>40.0</td>\n",
       "    </tr>\n",
       "    <tr>\n",
       "      <th>8</th>\n",
       "      <td>Запустить акцию, дающую скидку на товар в день рождения</td>\n",
       "      <td>16.2</td>\n",
       "    </tr>\n",
       "    <tr>\n",
       "      <th>3</th>\n",
       "      <td>Изменить структура категорий, что увеличит конверсию, т.к. пользователи быстрее найдут нужный товар</td>\n",
       "      <td>9.0</td>\n",
       "    </tr>\n",
       "    <tr>\n",
       "      <th>1</th>\n",
       "      <td>Запустить собственную службу доставки, что сократит срок доставки заказов</td>\n",
       "      <td>4.0</td>\n",
       "    </tr>\n",
       "    <tr>\n",
       "      <th>5</th>\n",
       "      <td>Добавить страницу отзывов клиентов о магазине, что позволит увеличить количество заказов</td>\n",
       "      <td>4.0</td>\n",
       "    </tr>\n",
       "    <tr>\n",
       "      <th>4</th>\n",
       "      <td>Изменить цвет фона главной страницы, чтобы увеличить вовлеченность пользователей</td>\n",
       "      <td>3.0</td>\n",
       "    </tr>\n",
       "  </tbody>\n",
       "</table>\n",
       "</div>"
      ],
      "text/plain": [
       "                                                                                                     hypothesis  \\\n",
       "7              Добавить форму подписки на все основные страницы, чтобы собрать базу клиентов для email-рассылок   \n",
       "2  Добавить блоки рекомендаций товаров на сайт интернет магазина, чтобы повысить конверсию и средний чек заказа   \n",
       "0            Добавить два новых канала привлечения трафика, что позволит привлекать на 30% больше пользователей   \n",
       "6          Показать на главной странице баннеры с актуальными акциями и распродажами, чтобы увеличить конверсию   \n",
       "8                                                       Запустить акцию, дающую скидку на товар в день рождения   \n",
       "3           Изменить структура категорий, что увеличит конверсию, т.к. пользователи быстрее найдут нужный товар   \n",
       "1                                     Запустить собственную службу доставки, что сократит срок доставки заказов   \n",
       "5                      Добавить страницу отзывов клиентов о магазине, что позволит увеличить количество заказов   \n",
       "4                              Изменить цвет фона главной страницы, чтобы увеличить вовлеченность пользователей   \n",
       "\n",
       "    rice  \n",
       "7  112.0  \n",
       "2   56.0  \n",
       "0   40.0  \n",
       "6   40.0  \n",
       "8   16.2  \n",
       "3    9.0  \n",
       "1    4.0  \n",
       "5    4.0  \n",
       "4    3.0  "
      ]
     },
     "metadata": {},
     "output_type": "display_data"
    }
   ],
   "source": [
    "hypothesis['rice'] = ((hypothesis['reach'] * hypothesis['impact'] * hypothesis['confidence'])/hypothesis['efforts'])\n",
    "display(hypothesis[['hypothesis', 'rice']].sort_values(by = 'rice', ascending = False))"
   ]
  },
  {
   "cell_type": "markdown",
   "metadata": {},
   "source": [
    "### Укажите, как изменилась приоритизация гипотез при применении RICE вместо ICE. Объясните, почему так произошло."
   ]
  },
  {
   "cell_type": "code",
   "execution_count": 8,
   "metadata": {},
   "outputs": [
    {
     "data": {
      "text/html": [
       "<div>\n",
       "<style scoped>\n",
       "    .dataframe tbody tr th:only-of-type {\n",
       "        vertical-align: middle;\n",
       "    }\n",
       "\n",
       "    .dataframe tbody tr th {\n",
       "        vertical-align: top;\n",
       "    }\n",
       "\n",
       "    .dataframe thead th {\n",
       "        text-align: right;\n",
       "    }\n",
       "</style>\n",
       "<table border=\"1\" class=\"dataframe\">\n",
       "  <thead>\n",
       "    <tr style=\"text-align: right;\">\n",
       "      <th></th>\n",
       "      <th>hypothesis</th>\n",
       "      <th>reach</th>\n",
       "      <th>impact</th>\n",
       "      <th>confidence</th>\n",
       "      <th>efforts</th>\n",
       "      <th>ice</th>\n",
       "      <th>rice</th>\n",
       "    </tr>\n",
       "  </thead>\n",
       "  <tbody>\n",
       "    <tr>\n",
       "      <th>0</th>\n",
       "      <td>Добавить два новых канала привлечения трафика, что позволит привлекать на 30% больше пользователей</td>\n",
       "      <td>3</td>\n",
       "      <td>10</td>\n",
       "      <td>8</td>\n",
       "      <td>6</td>\n",
       "      <td>13.3</td>\n",
       "      <td>40.0</td>\n",
       "    </tr>\n",
       "    <tr>\n",
       "      <th>1</th>\n",
       "      <td>Запустить собственную службу доставки, что сократит срок доставки заказов</td>\n",
       "      <td>2</td>\n",
       "      <td>5</td>\n",
       "      <td>4</td>\n",
       "      <td>10</td>\n",
       "      <td>2.0</td>\n",
       "      <td>4.0</td>\n",
       "    </tr>\n",
       "    <tr>\n",
       "      <th>2</th>\n",
       "      <td>Добавить блоки рекомендаций товаров на сайт интернет магазина, чтобы повысить конверсию и средний чек заказа</td>\n",
       "      <td>8</td>\n",
       "      <td>3</td>\n",
       "      <td>7</td>\n",
       "      <td>3</td>\n",
       "      <td>7.0</td>\n",
       "      <td>56.0</td>\n",
       "    </tr>\n",
       "    <tr>\n",
       "      <th>3</th>\n",
       "      <td>Изменить структура категорий, что увеличит конверсию, т.к. пользователи быстрее найдут нужный товар</td>\n",
       "      <td>8</td>\n",
       "      <td>3</td>\n",
       "      <td>3</td>\n",
       "      <td>8</td>\n",
       "      <td>1.1</td>\n",
       "      <td>9.0</td>\n",
       "    </tr>\n",
       "    <tr>\n",
       "      <th>4</th>\n",
       "      <td>Изменить цвет фона главной страницы, чтобы увеличить вовлеченность пользователей</td>\n",
       "      <td>3</td>\n",
       "      <td>1</td>\n",
       "      <td>1</td>\n",
       "      <td>1</td>\n",
       "      <td>1.0</td>\n",
       "      <td>3.0</td>\n",
       "    </tr>\n",
       "    <tr>\n",
       "      <th>5</th>\n",
       "      <td>Добавить страницу отзывов клиентов о магазине, что позволит увеличить количество заказов</td>\n",
       "      <td>3</td>\n",
       "      <td>2</td>\n",
       "      <td>2</td>\n",
       "      <td>3</td>\n",
       "      <td>1.3</td>\n",
       "      <td>4.0</td>\n",
       "    </tr>\n",
       "    <tr>\n",
       "      <th>6</th>\n",
       "      <td>Показать на главной странице баннеры с актуальными акциями и распродажами, чтобы увеличить конверсию</td>\n",
       "      <td>5</td>\n",
       "      <td>3</td>\n",
       "      <td>8</td>\n",
       "      <td>3</td>\n",
       "      <td>8.0</td>\n",
       "      <td>40.0</td>\n",
       "    </tr>\n",
       "    <tr>\n",
       "      <th>7</th>\n",
       "      <td>Добавить форму подписки на все основные страницы, чтобы собрать базу клиентов для email-рассылок</td>\n",
       "      <td>10</td>\n",
       "      <td>7</td>\n",
       "      <td>8</td>\n",
       "      <td>5</td>\n",
       "      <td>11.2</td>\n",
       "      <td>112.0</td>\n",
       "    </tr>\n",
       "    <tr>\n",
       "      <th>8</th>\n",
       "      <td>Запустить акцию, дающую скидку на товар в день рождения</td>\n",
       "      <td>1</td>\n",
       "      <td>9</td>\n",
       "      <td>9</td>\n",
       "      <td>5</td>\n",
       "      <td>16.2</td>\n",
       "      <td>16.2</td>\n",
       "    </tr>\n",
       "  </tbody>\n",
       "</table>\n",
       "</div>"
      ],
      "text/plain": [
       "                                                                                                     hypothesis  \\\n",
       "0            Добавить два новых канала привлечения трафика, что позволит привлекать на 30% больше пользователей   \n",
       "1                                     Запустить собственную службу доставки, что сократит срок доставки заказов   \n",
       "2  Добавить блоки рекомендаций товаров на сайт интернет магазина, чтобы повысить конверсию и средний чек заказа   \n",
       "3           Изменить структура категорий, что увеличит конверсию, т.к. пользователи быстрее найдут нужный товар   \n",
       "4                              Изменить цвет фона главной страницы, чтобы увеличить вовлеченность пользователей   \n",
       "5                      Добавить страницу отзывов клиентов о магазине, что позволит увеличить количество заказов   \n",
       "6          Показать на главной странице баннеры с актуальными акциями и распродажами, чтобы увеличить конверсию   \n",
       "7              Добавить форму подписки на все основные страницы, чтобы собрать базу клиентов для email-рассылок   \n",
       "8                                                       Запустить акцию, дающую скидку на товар в день рождения   \n",
       "\n",
       "   reach  impact  confidence  efforts   ice   rice  \n",
       "0      3      10           8        6  13.3   40.0  \n",
       "1      2       5           4       10   2.0    4.0  \n",
       "2      8       3           7        3   7.0   56.0  \n",
       "3      8       3           3        8   1.1    9.0  \n",
       "4      3       1           1        1   1.0    3.0  \n",
       "5      3       2           2        3   1.3    4.0  \n",
       "6      5       3           8        3   8.0   40.0  \n",
       "7     10       7           8        5  11.2  112.0  \n",
       "8      1       9           9        5  16.2   16.2  "
      ]
     },
     "execution_count": 8,
     "metadata": {},
     "output_type": "execute_result"
    }
   ],
   "source": [
    "hypothesis"
   ]
  },
  {
   "cell_type": "markdown",
   "metadata": {},
   "source": [
    "Так как параметр мы добавили в уравнение новый параметр Reach, то его влияние и предопределило изменение в приоретизации. Например, у 7-й гипотезы он равен 10, а у 8-й он равен 1, поэтому произошло разительное изменение в списке позиций."
   ]
  },
  {
   "cell_type": "markdown",
   "metadata": {},
   "source": [
    "## Часть 2. Анализ A/B-теста."
   ]
  },
  {
   "cell_type": "markdown",
   "metadata": {},
   "source": [
    "### Анализ данных"
   ]
  },
  {
   "cell_type": "code",
   "execution_count": 9,
   "metadata": {},
   "outputs": [],
   "source": [
    "orders = pd.read_csv('/1/orders.csv')\n",
    "visitors = pd.read_csv('/1/visitors.csv')"
   ]
  },
  {
   "cell_type": "code",
   "execution_count": 10,
   "metadata": {},
   "outputs": [
    {
     "name": "stdout",
     "output_type": "stream",
     "text": [
      "Визиты\n",
      "<class 'pandas.core.frame.DataFrame'>\n",
      "RangeIndex: 62 entries, 0 to 61\n",
      "Data columns (total 3 columns):\n",
      " #   Column    Non-Null Count  Dtype \n",
      "---  ------    --------------  ----- \n",
      " 0   date      62 non-null     object\n",
      " 1   group     62 non-null     object\n",
      " 2   visitors  62 non-null     int64 \n",
      "dtypes: int64(1), object(2)\n",
      "memory usage: 1.6+ KB\n",
      "None\n",
      "Визиты\n"
     ]
    },
    {
     "data": {
      "text/html": [
       "<div>\n",
       "<style scoped>\n",
       "    .dataframe tbody tr th:only-of-type {\n",
       "        vertical-align: middle;\n",
       "    }\n",
       "\n",
       "    .dataframe tbody tr th {\n",
       "        vertical-align: top;\n",
       "    }\n",
       "\n",
       "    .dataframe thead th {\n",
       "        text-align: right;\n",
       "    }\n",
       "</style>\n",
       "<table border=\"1\" class=\"dataframe\">\n",
       "  <thead>\n",
       "    <tr style=\"text-align: right;\">\n",
       "      <th></th>\n",
       "      <th>visitors</th>\n",
       "    </tr>\n",
       "  </thead>\n",
       "  <tbody>\n",
       "    <tr>\n",
       "      <th>count</th>\n",
       "      <td>62.000000</td>\n",
       "    </tr>\n",
       "    <tr>\n",
       "      <th>mean</th>\n",
       "      <td>607.290323</td>\n",
       "    </tr>\n",
       "    <tr>\n",
       "      <th>std</th>\n",
       "      <td>114.400560</td>\n",
       "    </tr>\n",
       "    <tr>\n",
       "      <th>min</th>\n",
       "      <td>361.000000</td>\n",
       "    </tr>\n",
       "    <tr>\n",
       "      <th>25%</th>\n",
       "      <td>534.000000</td>\n",
       "    </tr>\n",
       "    <tr>\n",
       "      <th>50%</th>\n",
       "      <td>624.500000</td>\n",
       "    </tr>\n",
       "    <tr>\n",
       "      <th>75%</th>\n",
       "      <td>710.500000</td>\n",
       "    </tr>\n",
       "    <tr>\n",
       "      <th>max</th>\n",
       "      <td>770.000000</td>\n",
       "    </tr>\n",
       "  </tbody>\n",
       "</table>\n",
       "</div>"
      ],
      "text/plain": [
       "         visitors\n",
       "count   62.000000\n",
       "mean   607.290323\n",
       "std    114.400560\n",
       "min    361.000000\n",
       "25%    534.000000\n",
       "50%    624.500000\n",
       "75%    710.500000\n",
       "max    770.000000"
      ]
     },
     "metadata": {},
     "output_type": "display_data"
    },
    {
     "name": "stdout",
     "output_type": "stream",
     "text": [
      "Дубликаты\n"
     ]
    },
    {
     "data": {
      "text/plain": [
       "0"
      ]
     },
     "metadata": {},
     "output_type": "display_data"
    },
    {
     "name": "stdout",
     "output_type": "stream",
     "text": [
      "Визиты\n"
     ]
    },
    {
     "data": {
      "text/html": [
       "<div>\n",
       "<style scoped>\n",
       "    .dataframe tbody tr th:only-of-type {\n",
       "        vertical-align: middle;\n",
       "    }\n",
       "\n",
       "    .dataframe tbody tr th {\n",
       "        vertical-align: top;\n",
       "    }\n",
       "\n",
       "    .dataframe thead th {\n",
       "        text-align: right;\n",
       "    }\n",
       "</style>\n",
       "<table border=\"1\" class=\"dataframe\">\n",
       "  <thead>\n",
       "    <tr style=\"text-align: right;\">\n",
       "      <th></th>\n",
       "      <th>date</th>\n",
       "      <th>group</th>\n",
       "      <th>visitors</th>\n",
       "    </tr>\n",
       "  </thead>\n",
       "  <tbody>\n",
       "    <tr>\n",
       "      <th>0</th>\n",
       "      <td>2019-08-01</td>\n",
       "      <td>A</td>\n",
       "      <td>719</td>\n",
       "    </tr>\n",
       "    <tr>\n",
       "      <th>1</th>\n",
       "      <td>2019-08-02</td>\n",
       "      <td>A</td>\n",
       "      <td>619</td>\n",
       "    </tr>\n",
       "    <tr>\n",
       "      <th>2</th>\n",
       "      <td>2019-08-03</td>\n",
       "      <td>A</td>\n",
       "      <td>507</td>\n",
       "    </tr>\n",
       "    <tr>\n",
       "      <th>3</th>\n",
       "      <td>2019-08-04</td>\n",
       "      <td>A</td>\n",
       "      <td>717</td>\n",
       "    </tr>\n",
       "    <tr>\n",
       "      <th>4</th>\n",
       "      <td>2019-08-05</td>\n",
       "      <td>A</td>\n",
       "      <td>756</td>\n",
       "    </tr>\n",
       "    <tr>\n",
       "      <th>5</th>\n",
       "      <td>2019-08-06</td>\n",
       "      <td>A</td>\n",
       "      <td>667</td>\n",
       "    </tr>\n",
       "    <tr>\n",
       "      <th>6</th>\n",
       "      <td>2019-08-07</td>\n",
       "      <td>A</td>\n",
       "      <td>644</td>\n",
       "    </tr>\n",
       "    <tr>\n",
       "      <th>7</th>\n",
       "      <td>2019-08-08</td>\n",
       "      <td>A</td>\n",
       "      <td>610</td>\n",
       "    </tr>\n",
       "    <tr>\n",
       "      <th>8</th>\n",
       "      <td>2019-08-09</td>\n",
       "      <td>A</td>\n",
       "      <td>617</td>\n",
       "    </tr>\n",
       "    <tr>\n",
       "      <th>9</th>\n",
       "      <td>2019-08-10</td>\n",
       "      <td>A</td>\n",
       "      <td>406</td>\n",
       "    </tr>\n",
       "  </tbody>\n",
       "</table>\n",
       "</div>"
      ],
      "text/plain": [
       "         date group  visitors\n",
       "0  2019-08-01     A       719\n",
       "1  2019-08-02     A       619\n",
       "2  2019-08-03     A       507\n",
       "3  2019-08-04     A       717\n",
       "4  2019-08-05     A       756\n",
       "5  2019-08-06     A       667\n",
       "6  2019-08-07     A       644\n",
       "7  2019-08-08     A       610\n",
       "8  2019-08-09     A       617\n",
       "9  2019-08-10     A       406"
      ]
     },
     "metadata": {},
     "output_type": "display_data"
    },
    {
     "name": "stdout",
     "output_type": "stream",
     "text": [
      "Заказы\n",
      "<class 'pandas.core.frame.DataFrame'>\n",
      "RangeIndex: 1197 entries, 0 to 1196\n",
      "Data columns (total 5 columns):\n",
      " #   Column         Non-Null Count  Dtype \n",
      "---  ------         --------------  ----- \n",
      " 0   transactionId  1197 non-null   int64 \n",
      " 1   visitorId      1197 non-null   int64 \n",
      " 2   date           1197 non-null   object\n",
      " 3   revenue        1197 non-null   int64 \n",
      " 4   group          1197 non-null   object\n",
      "dtypes: int64(3), object(2)\n",
      "memory usage: 46.9+ KB\n",
      "None\n",
      "Заказы\n"
     ]
    },
    {
     "data": {
      "text/html": [
       "<div>\n",
       "<style scoped>\n",
       "    .dataframe tbody tr th:only-of-type {\n",
       "        vertical-align: middle;\n",
       "    }\n",
       "\n",
       "    .dataframe tbody tr th {\n",
       "        vertical-align: top;\n",
       "    }\n",
       "\n",
       "    .dataframe thead th {\n",
       "        text-align: right;\n",
       "    }\n",
       "</style>\n",
       "<table border=\"1\" class=\"dataframe\">\n",
       "  <thead>\n",
       "    <tr style=\"text-align: right;\">\n",
       "      <th></th>\n",
       "      <th>transactionId</th>\n",
       "      <th>visitorId</th>\n",
       "      <th>revenue</th>\n",
       "    </tr>\n",
       "  </thead>\n",
       "  <tbody>\n",
       "    <tr>\n",
       "      <th>count</th>\n",
       "      <td>1.197000e+03</td>\n",
       "      <td>1.197000e+03</td>\n",
       "      <td>1.197000e+03</td>\n",
       "    </tr>\n",
       "    <tr>\n",
       "      <th>mean</th>\n",
       "      <td>2.155621e+09</td>\n",
       "      <td>2.165960e+09</td>\n",
       "      <td>8.348006e+03</td>\n",
       "    </tr>\n",
       "    <tr>\n",
       "      <th>std</th>\n",
       "      <td>1.229085e+09</td>\n",
       "      <td>1.236014e+09</td>\n",
       "      <td>3.919113e+04</td>\n",
       "    </tr>\n",
       "    <tr>\n",
       "      <th>min</th>\n",
       "      <td>1.062393e+06</td>\n",
       "      <td>5.114589e+06</td>\n",
       "      <td>5.000000e+01</td>\n",
       "    </tr>\n",
       "    <tr>\n",
       "      <th>25%</th>\n",
       "      <td>1.166776e+09</td>\n",
       "      <td>1.111826e+09</td>\n",
       "      <td>1.220000e+03</td>\n",
       "    </tr>\n",
       "    <tr>\n",
       "      <th>50%</th>\n",
       "      <td>2.145194e+09</td>\n",
       "      <td>2.217985e+09</td>\n",
       "      <td>2.978000e+03</td>\n",
       "    </tr>\n",
       "    <tr>\n",
       "      <th>75%</th>\n",
       "      <td>3.237740e+09</td>\n",
       "      <td>3.177606e+09</td>\n",
       "      <td>8.290000e+03</td>\n",
       "    </tr>\n",
       "    <tr>\n",
       "      <th>max</th>\n",
       "      <td>4.293856e+09</td>\n",
       "      <td>4.283872e+09</td>\n",
       "      <td>1.294500e+06</td>\n",
       "    </tr>\n",
       "  </tbody>\n",
       "</table>\n",
       "</div>"
      ],
      "text/plain": [
       "       transactionId     visitorId       revenue\n",
       "count   1.197000e+03  1.197000e+03  1.197000e+03\n",
       "mean    2.155621e+09  2.165960e+09  8.348006e+03\n",
       "std     1.229085e+09  1.236014e+09  3.919113e+04\n",
       "min     1.062393e+06  5.114589e+06  5.000000e+01\n",
       "25%     1.166776e+09  1.111826e+09  1.220000e+03\n",
       "50%     2.145194e+09  2.217985e+09  2.978000e+03\n",
       "75%     3.237740e+09  3.177606e+09  8.290000e+03\n",
       "max     4.293856e+09  4.283872e+09  1.294500e+06"
      ]
     },
     "metadata": {},
     "output_type": "display_data"
    },
    {
     "name": "stdout",
     "output_type": "stream",
     "text": [
      "Дубликаты\n"
     ]
    },
    {
     "data": {
      "text/plain": [
       "0"
      ]
     },
     "metadata": {},
     "output_type": "display_data"
    },
    {
     "name": "stdout",
     "output_type": "stream",
     "text": [
      "Заказы\n"
     ]
    },
    {
     "data": {
      "text/html": [
       "<div>\n",
       "<style scoped>\n",
       "    .dataframe tbody tr th:only-of-type {\n",
       "        vertical-align: middle;\n",
       "    }\n",
       "\n",
       "    .dataframe tbody tr th {\n",
       "        vertical-align: top;\n",
       "    }\n",
       "\n",
       "    .dataframe thead th {\n",
       "        text-align: right;\n",
       "    }\n",
       "</style>\n",
       "<table border=\"1\" class=\"dataframe\">\n",
       "  <thead>\n",
       "    <tr style=\"text-align: right;\">\n",
       "      <th></th>\n",
       "      <th>transactionId</th>\n",
       "      <th>visitorId</th>\n",
       "      <th>date</th>\n",
       "      <th>revenue</th>\n",
       "      <th>group</th>\n",
       "    </tr>\n",
       "  </thead>\n",
       "  <tbody>\n",
       "    <tr>\n",
       "      <th>0</th>\n",
       "      <td>3667963787</td>\n",
       "      <td>3312258926</td>\n",
       "      <td>2019-08-15</td>\n",
       "      <td>1650</td>\n",
       "      <td>B</td>\n",
       "    </tr>\n",
       "    <tr>\n",
       "      <th>1</th>\n",
       "      <td>2804400009</td>\n",
       "      <td>3642806036</td>\n",
       "      <td>2019-08-15</td>\n",
       "      <td>730</td>\n",
       "      <td>B</td>\n",
       "    </tr>\n",
       "    <tr>\n",
       "      <th>2</th>\n",
       "      <td>2961555356</td>\n",
       "      <td>4069496402</td>\n",
       "      <td>2019-08-15</td>\n",
       "      <td>400</td>\n",
       "      <td>A</td>\n",
       "    </tr>\n",
       "    <tr>\n",
       "      <th>3</th>\n",
       "      <td>3797467345</td>\n",
       "      <td>1196621759</td>\n",
       "      <td>2019-08-15</td>\n",
       "      <td>9759</td>\n",
       "      <td>B</td>\n",
       "    </tr>\n",
       "    <tr>\n",
       "      <th>4</th>\n",
       "      <td>2282983706</td>\n",
       "      <td>2322279887</td>\n",
       "      <td>2019-08-15</td>\n",
       "      <td>2308</td>\n",
       "      <td>B</td>\n",
       "    </tr>\n",
       "    <tr>\n",
       "      <th>5</th>\n",
       "      <td>182168103</td>\n",
       "      <td>935554773</td>\n",
       "      <td>2019-08-15</td>\n",
       "      <td>2210</td>\n",
       "      <td>B</td>\n",
       "    </tr>\n",
       "    <tr>\n",
       "      <th>6</th>\n",
       "      <td>398296753</td>\n",
       "      <td>2900797465</td>\n",
       "      <td>2019-08-15</td>\n",
       "      <td>1860</td>\n",
       "      <td>B</td>\n",
       "    </tr>\n",
       "    <tr>\n",
       "      <th>7</th>\n",
       "      <td>2626614568</td>\n",
       "      <td>78758296</td>\n",
       "      <td>2019-08-15</td>\n",
       "      <td>1044</td>\n",
       "      <td>A</td>\n",
       "    </tr>\n",
       "    <tr>\n",
       "      <th>8</th>\n",
       "      <td>1576988021</td>\n",
       "      <td>295230930</td>\n",
       "      <td>2019-08-15</td>\n",
       "      <td>13710</td>\n",
       "      <td>A</td>\n",
       "    </tr>\n",
       "    <tr>\n",
       "      <th>9</th>\n",
       "      <td>1506739906</td>\n",
       "      <td>1882260405</td>\n",
       "      <td>2019-08-15</td>\n",
       "      <td>1855</td>\n",
       "      <td>B</td>\n",
       "    </tr>\n",
       "  </tbody>\n",
       "</table>\n",
       "</div>"
      ],
      "text/plain": [
       "   transactionId   visitorId        date  revenue group\n",
       "0     3667963787  3312258926  2019-08-15     1650     B\n",
       "1     2804400009  3642806036  2019-08-15      730     B\n",
       "2     2961555356  4069496402  2019-08-15      400     A\n",
       "3     3797467345  1196621759  2019-08-15     9759     B\n",
       "4     2282983706  2322279887  2019-08-15     2308     B\n",
       "5      182168103   935554773  2019-08-15     2210     B\n",
       "6      398296753  2900797465  2019-08-15     1860     B\n",
       "7     2626614568    78758296  2019-08-15     1044     A\n",
       "8     1576988021   295230930  2019-08-15    13710     A\n",
       "9     1506739906  1882260405  2019-08-15     1855     B"
      ]
     },
     "metadata": {},
     "output_type": "display_data"
    }
   ],
   "source": [
    "def basic_info(data, title):\n",
    "    print(title)\n",
    "    print(data.info())\n",
    "    print(title)\n",
    "    display(data.describe())\n",
    "    print('Дубликаты')\n",
    "    display(data.duplicated().sum())\n",
    "    print(title)\n",
    "    display(data.head(10))\n",
    "    \n",
    "basic_info(visitors, 'Визиты')\n",
    "basic_info(orders, 'Заказы')"
   ]
  },
  {
   "cell_type": "markdown",
   "metadata": {},
   "source": [
    "Визиты и заказы:\n",
    "- Переименуем столбцы;\n",
    "- Переведём столбцы со временем в тип даты;\n",
    "- Дубликатов нет."
   ]
  },
  {
   "cell_type": "code",
   "execution_count": 11,
   "metadata": {},
   "outputs": [],
   "source": [
    "orders.columns = ['orderId', 'userId', 'date', 'revenue', 'group']\n",
    "orders['date'] = pd.to_datetime(orders['date'])\n",
    "visitors['date'] = pd.to_datetime(visitors['date'])\n",
    "# Тип данных категория не даёт следующему коду работать, не знаю, как это исправить.\n",
    "#orders['group'] = orders['group'].astype('category')\n",
    "#visits['group'] = visits['group'].astype('category')"
   ]
  },
  {
   "cell_type": "markdown",
   "metadata": {},
   "source": [
    "### Выводы:\n",
    "Столбцы в датафреймах названы корректно, каждый столбец имеет подходящий ему тип данных."
   ]
  },
  {
   "cell_type": "markdown",
   "metadata": {},
   "source": [
    "### Постройте график кумулятивной выручки по группам. Сделайте выводы и предположения."
   ]
  },
  {
   "cell_type": "code",
   "execution_count": 12,
   "metadata": {},
   "outputs": [],
   "source": [
    "import sys\n",
    "import warnings\n",
    "if not sys.warnoptions:\n",
    "       warnings.simplefilter(\"ignore\")"
   ]
  },
  {
   "cell_type": "code",
   "execution_count": 13,
   "metadata": {},
   "outputs": [
    {
     "data": {
      "image/png": "[encoded data removed]",
      "text/plain": [
       "<Figure size 1080x360 with 1 Axes>"
      ]
     },
     "metadata": {
      "needs_background": "light"
     },
     "output_type": "display_data"
    },
    {
     "data": {
      "text/html": [
       "<div>\n",
       "<style scoped>\n",
       "    .dataframe tbody tr th:only-of-type {\n",
       "        vertical-align: middle;\n",
       "    }\n",
       "\n",
       "    .dataframe tbody tr th {\n",
       "        vertical-align: top;\n",
       "    }\n",
       "\n",
       "    .dataframe thead th {\n",
       "        text-align: right;\n",
       "    }\n",
       "</style>\n",
       "<table border=\"1\" class=\"dataframe\">\n",
       "  <thead>\n",
       "    <tr style=\"text-align: right;\">\n",
       "      <th></th>\n",
       "      <th>date</th>\n",
       "      <th>group</th>\n",
       "      <th>orders</th>\n",
       "      <th>buyers</th>\n",
       "      <th>revenue</th>\n",
       "      <th>visitors</th>\n",
       "    </tr>\n",
       "  </thead>\n",
       "  <tbody>\n",
       "    <tr>\n",
       "      <th>0</th>\n",
       "      <td>2019-08-01</td>\n",
       "      <td>A</td>\n",
       "      <td>24</td>\n",
       "      <td>20</td>\n",
       "      <td>148579</td>\n",
       "      <td>719</td>\n",
       "    </tr>\n",
       "    <tr>\n",
       "      <th>1</th>\n",
       "      <td>2019-08-01</td>\n",
       "      <td>B</td>\n",
       "      <td>21</td>\n",
       "      <td>20</td>\n",
       "      <td>101217</td>\n",
       "      <td>713</td>\n",
       "    </tr>\n",
       "    <tr>\n",
       "      <th>2</th>\n",
       "      <td>2019-08-02</td>\n",
       "      <td>A</td>\n",
       "      <td>44</td>\n",
       "      <td>38</td>\n",
       "      <td>242401</td>\n",
       "      <td>1338</td>\n",
       "    </tr>\n",
       "    <tr>\n",
       "      <th>3</th>\n",
       "      <td>2019-08-02</td>\n",
       "      <td>B</td>\n",
       "      <td>45</td>\n",
       "      <td>43</td>\n",
       "      <td>266748</td>\n",
       "      <td>1294</td>\n",
       "    </tr>\n",
       "    <tr>\n",
       "      <th>4</th>\n",
       "      <td>2019-08-03</td>\n",
       "      <td>A</td>\n",
       "      <td>68</td>\n",
       "      <td>62</td>\n",
       "      <td>354874</td>\n",
       "      <td>1845</td>\n",
       "    </tr>\n",
       "  </tbody>\n",
       "</table>\n",
       "</div>"
      ],
      "text/plain": [
       "        date group  orders  buyers  revenue  visitors\n",
       "0 2019-08-01     A      24      20   148579       719\n",
       "1 2019-08-01     B      21      20   101217       713\n",
       "2 2019-08-02     A      44      38   242401      1338\n",
       "3 2019-08-02     B      45      43   266748      1294\n",
       "4 2019-08-03     A      68      62   354874      1845"
      ]
     },
     "execution_count": 13,
     "metadata": {},
     "output_type": "execute_result"
    }
   ],
   "source": [
    "# создаем массив уникальных пар значений дат и групп теста\n",
    "datesGroups = orders[['date', 'group']].drop_duplicates()\n",
    "\n",
    "# получаем агрегированные кумулятивные по дням данные о заказах\n",
    "ordersAggregated = datesGroups.apply(\n",
    "    lambda x: orders[\n",
    "        np.logical_and(\n",
    "            orders['date'] <= x['date'], orders['group'] == x['group']\n",
    "        )\n",
    "    ].agg(\n",
    "        {\n",
    "            'date': 'max',\n",
    "            'group': 'max',\n",
    "            'orderId': pd.Series.nunique,\n",
    "            'userId': pd.Series.nunique,\n",
    "            'revenue': 'sum',\n",
    "        }\n",
    "    ),\n",
    "    axis=1,\n",
    ").sort_values(by=['date', 'group'])\n",
    "\n",
    "# получим агрегированные кумулятивные по дням данные о посетителях интернет-магазина\n",
    "visitorsAggregated = datesGroups.apply(\n",
    "    lambda x: visitors[\n",
    "        np.logical_and(\n",
    "            visitors['date'] <= x['date'], visitors['group'] == x['group']\n",
    "        )\n",
    "    ].agg({'date': 'max', 'group': 'max', 'visitors': 'sum'}),\n",
    "    axis=1,\n",
    ").sort_values(by=['date', 'group'])\n",
    "\n",
    "# объединяем кумулятивные данные в одной таблице\n",
    "cumulativeData = ordersAggregated.merge(\n",
    "    visitorsAggregated, left_on=['date', 'group'], right_on=['date', 'group']\n",
    ")\n",
    "\n",
    "# присваиваем ее столбцам понятные названия\n",
    "cumulativeData.columns = [\n",
    "    'date',\n",
    "    'group',\n",
    "    'orders',\n",
    "    'buyers',\n",
    "    'revenue',\n",
    "    'visitors',\n",
    "]\n",
    "\n",
    "# датафрейм с кумулятивным количеством заказов и кумулятивной выручкой по дням в группе А\n",
    "cumulativeRevenueA = cumulativeData[cumulativeData['group'] == 'A'][['date','revenue', 'orders']]\n",
    "\n",
    "# датафрейм с кумулятивным количеством заказов и кумулятивной выручкой по дням в группе B\n",
    "cumulativeRevenueB = cumulativeData[cumulativeData['group'] == 'B'][['date','revenue', 'orders']]\n",
    "\n",
    "\n",
    "# Строим график выручки группы А\n",
    "plt.figure(figsize=(15,5));\n",
    "plt.plot(cumulativeRevenueA['date'], cumulativeRevenueA['revenue'], label='A');\n",
    "\n",
    "# Строим график выручки группы B\n",
    "plt.plot(cumulativeRevenueB['date'], cumulativeRevenueB['revenue'], label='B');\n",
    "\n",
    "plt.title('График кумулятивной выручки по группам', fontsize = 15);\n",
    "plt.xlabel('Дата', fontsize = 15);\n",
    "plt.ylabel('Количество', fontsize = 15);\n",
    "\n",
    "plt.legend();\n",
    "plt.show();\n",
    "cumulativeData.head(5)"
   ]
  },
  {
   "cell_type": "markdown",
   "metadata": {},
   "source": [
    "#### Выводы:\n",
    "Почти на всём протяжении сегмент B лидировал; в середине теста в данные, видимо, затесались выбросы, что объясняет резкий скачок в графике. Нужно будет проверить это позже."
   ]
  },
  {
   "cell_type": "markdown",
   "metadata": {},
   "source": [
    "### Постройте график кумулятивного среднего чека по группам. Сделайте выводы и предположения.\n"
   ]
  },
  {
   "cell_type": "code",
   "execution_count": 14,
   "metadata": {},
   "outputs": [
    {
     "data": {
      "image/png": "[encoded data removed]",
      "text/plain": [
       "<Figure size 1080x360 with 1 Axes>"
      ]
     },
     "metadata": {
      "needs_background": "light"
     },
     "output_type": "display_data"
    }
   ],
   "source": [
    "# Построим графики среднего чека по группам — разделим кумулятивную выручку на кумулятивное число заказов:\n",
    "plt.figure(figsize=(15,5));\n",
    "plt.plot(cumulativeRevenueA['date'], cumulativeRevenueA['revenue']/cumulativeRevenueA['orders'], label='A')\n",
    "plt.plot(cumulativeRevenueB['date'], cumulativeRevenueB['revenue']/cumulativeRevenueB['orders'], label='B')\n",
    "\n",
    "plt.title('График кумулятивного среднего чека по группам', fontsize = 15);\n",
    "plt.xlabel('Дата', fontsize = 15);\n",
    "plt.ylabel('Количество', fontsize = 15);\n",
    "\n",
    "plt.legend();\n",
    "plt.show();"
   ]
  },
  {
   "cell_type": "markdown",
   "metadata": {},
   "source": [
    "#### Вывод:\n",
    "График начинает приходить в равновесное состояние примерно 15 августа, 18-го августа мы можем отчётливо наблюдать выброс в данных у сегмента B, с этим нужно что-то делать. Скорее всего, после избавления от этого выброса будет видно, что средний чек по сегменту A будет выше."
   ]
  },
  {
   "cell_type": "markdown",
   "metadata": {},
   "source": [
    "### Постройте график относительного изменения кумулятивного среднего чека группы B к группе A. Сделайте выводы и предположения.\n"
   ]
  },
  {
   "cell_type": "code",
   "execution_count": 15,
   "metadata": {},
   "outputs": [
    {
     "data": {
      "image/png": "[encoded data removed]",
      "text/plain": [
       "<Figure size 1080x360 with 1 Axes>"
      ]
     },
     "metadata": {
      "needs_background": "light"
     },
     "output_type": "display_data"
    }
   ],
   "source": [
    "# собираем данные в одном датафрейме\n",
    "mergedCumulativeRevenue = cumulativeRevenueA.merge(cumulativeRevenueB, left_on='date', right_on='date', how='left', suffixes=['A', 'B'])\n",
    "\n",
    "# cтроим отношение средних чеков\n",
    "plt.figure(figsize=(15,5));\n",
    "plt.plot(mergedCumulativeRevenue['date'], (mergedCumulativeRevenue['revenueB']/mergedCumulativeRevenue['ordersB'])/(mergedCumulativeRevenue['revenueA']/mergedCumulativeRevenue['ordersA'])-1)\n",
    "\n",
    "# добавляем ось X\n",
    "plt.axhline(y=0, color='black', linestyle='--') \n",
    "\n",
    "plt.title('График относительного изменения кумулятивного среднего чека группы B к группе A', fontsize = 15);\n",
    "plt.xlabel('Дата', fontsize = 15);\n",
    "plt.ylabel('Соотношние', fontsize = 15);\n",
    "plt.show();"
   ]
  },
  {
   "cell_type": "markdown",
   "metadata": {},
   "source": [
    "#### Выводы:\n",
    "В нескольких точках график различия между сегментами резко «скачет», особенно сильно это заметно 9-го и 18-го августа. Где-то уж точно спрятались крупные заказы и выбросы."
   ]
  },
  {
   "cell_type": "markdown",
   "metadata": {},
   "source": [
    "### Постройте график кумулятивной конверсии по группам. Сделайте выводы и предположения.\n"
   ]
  },
  {
   "cell_type": "code",
   "execution_count": 16,
   "metadata": {},
   "outputs": [
    {
     "data": {
      "image/png": "[encoded data removed]",
      "text/plain": [
       "<Figure size 1080x360 with 1 Axes>"
      ]
     },
     "metadata": {
      "needs_background": "light"
     },
     "output_type": "display_data"
    }
   ],
   "source": [
    "# считаем кумулятивную конверсию\n",
    "cumulativeData['conversion'] = cumulativeData['orders']/cumulativeData['visitors']\n",
    "\n",
    "# отделяем данные по группе A\n",
    "cumulativeDataA = cumulativeData[cumulativeData['group']=='A']\n",
    "\n",
    "# отделяем данные по группе B\n",
    "cumulativeDataB = cumulativeData[cumulativeData['group']=='B']\n",
    "\n",
    "# строим графики\n",
    "plt.figure(figsize=(15,5));\n",
    "plt.plot(cumulativeDataA['date'], cumulativeDataA['conversion'], label='A')\n",
    "plt.plot(cumulativeDataB['date'], cumulativeDataB['conversion'], label='B')\n",
    "\n",
    "plt.title('График кумулятивной конверсии по группам', fontsize = 15);\n",
    "plt.xlabel('Дата', fontsize = 15);\n",
    "plt.ylabel('Соотношние', fontsize = 15);\n",
    "plt.axis([\"2019-08-01\", '2019-09-01', 0, 0.05])\n",
    "plt.legend();\n",
    "plt.show();"
   ]
  },
  {
   "cell_type": "markdown",
   "metadata": {},
   "source": [
    "#### Выводы:\n",
    "Поначалу сегмент A имел большую конверсию, но потом сигмент B стал явно лидировать. Отчётливо видно, что данные по конверсии установились у своего среднего значения, для сегмента A она составляет 30%, для сегмента B 35%. "
   ]
  },
  {
   "cell_type": "markdown",
   "metadata": {},
   "source": [
    "### Постройте график относительного изменения кумулятивной конверсии группы B к группе A. Сделайте выводы и предположения.\n"
   ]
  },
  {
   "cell_type": "code",
   "execution_count": 17,
   "metadata": {},
   "outputs": [
    {
     "data": {
      "image/png": "[encoded data removed]",
      "text/plain": [
       "<Figure size 1080x360 with 1 Axes>"
      ]
     },
     "metadata": {
      "needs_background": "light"
     },
     "output_type": "display_data"
    }
   ],
   "source": [
    "mergedCumulativeConversions = cumulativeDataA[['date','conversion']].merge(cumulativeDataB[['date','conversion']], left_on='date', right_on='date', how='left', suffixes=['A', 'B'])\n",
    "\n",
    "plt.figure(figsize=(15,5));\n",
    "plt.plot(mergedCumulativeConversions['date'], mergedCumulativeConversions['conversionB']/mergedCumulativeConversions['conversionA']-1, label=\"Относительный прирост конверсии группы B относительно группы A\")\n",
    "plt.legend()\n",
    "\n",
    "plt.axhline(y=0, color='black', linestyle='--')\n",
    "plt.axhline(y=-0.1, color='grey', linestyle='--')\n",
    "plt.title('График относительного изменения кумулятивной конверсии группы B к группе A', fontsize = 15);\n",
    "plt.xlabel('Дата', fontsize = 15);\n",
    "plt.ylabel('Соотношние', fontsize = 15);\n",
    "plt.axis([\"2019-08-01\", '2019-09-01', -0.2, 0.3])\n",
    "plt.show();"
   ]
  },
  {
   "cell_type": "markdown",
   "metadata": {},
   "source": [
    "#### Выводы:\n",
    "В начале теста группа B значительно проигрывала группе A, затем вырвалась вперёд. Потом её конверсия немного падала, но теперь она, кажется, начинает снова растёт.\n",
    "В целом отношение конверсии ещё не установилось и сейчас делать какие-либо выводы по тесту нельзя. Как мы уже заметили ранее, сперва стоит проанализировать аномалии, они должны изменить картину."
   ]
  },
  {
   "cell_type": "markdown",
   "metadata": {},
   "source": [
    "### Постройте точечный график количества заказов по пользователям. Сделайте выводы и предположения.\n"
   ]
  },
  {
   "cell_type": "code",
   "execution_count": 18,
   "metadata": {},
   "outputs": [
    {
     "data": {
      "image/png": "[encoded data removed]",
      "text/plain": [
       "<Figure size 1080x360 with 1 Axes>"
      ]
     },
     "metadata": {
      "needs_background": "light"
     },
     "output_type": "display_data"
    }
   ],
   "source": [
    "x_values = pd.Series(range(0, len(orders['revenue'])))\n",
    "plt.figure(figsize=(15,5));\n",
    "plt.scatter(x_values, orders['revenue']) \n",
    "plt.title('Точечный график количества заказов по пользователям', fontsize = 15);\n",
    "plt.xlabel('Пользователи', fontsize = 15);\n",
    "plt.ylabel('Количество заказов', fontsize = 15);\n",
    "plt.show();"
   ]
  },
  {
   "cell_type": "code",
   "execution_count": 19,
   "metadata": {},
   "outputs": [
    {
     "name": "stdout",
     "output_type": "stream",
     "text": [
      "          userId  orders\n",
      "1023  4256040402      11\n",
      "591   2458001652      11\n",
      "569   2378935119       9\n",
      "487   2038680547       8\n",
      "44     199603092       5\n",
      "744   3062433592       5\n",
      "55     237748145       5\n",
      "917   3803269165       5\n",
      "299   1230306981       5\n",
      "897   3717692402       5\n"
     ]
    }
   ],
   "source": [
    "ordersByUsers = (\n",
    "    orders.drop(['group', 'revenue', 'date'], axis=1)\n",
    "    .groupby('userId', as_index=False)\n",
    "    .agg({'orderId': pd.Series.nunique})\n",
    ")\n",
    "\n",
    "ordersByUsers.columns = ['userId', 'orders']\n",
    "\n",
    "print(ordersByUsers.sort_values(by='orders', ascending=False).head(10)) "
   ]
  },
  {
   "cell_type": "code",
   "execution_count": 20,
   "metadata": {
    "scrolled": true
   },
   "outputs": [
    {
     "data": {
      "image/png": "[encoded data removed]",
      "text/plain": [
       "<Figure size 1080x360 with 1 Axes>"
      ]
     },
     "metadata": {
      "needs_background": "light"
     },
     "output_type": "display_data"
    }
   ],
   "source": [
    "x_values = pd.Series(range(0,len(ordersByUsers)))\n",
    "plt.figure(figsize=(15,5));\n",
    "plt.scatter(x_values, ordersByUsers['orders'])\n",
    "plt.title('Точечный график количества заказов по пользователям', fontsize = 15);\n",
    "plt.xlabel('Пользователи', fontsize = 15);\n",
    "plt.ylabel('Количество заказов', fontsize = 15);\n",
    "plt.show();"
   ]
  },
  {
   "cell_type": "code",
   "execution_count": 21,
   "metadata": {},
   "outputs": [
    {
     "name": "stdout",
     "output_type": "stream",
     "text": [
      "[2. 3. 4.]\n"
     ]
    }
   ],
   "source": [
    "print(np.percentile(ordersByUsers['orders'], [95, 98, 99]))"
   ]
  },
  {
   "cell_type": "markdown",
   "metadata": {},
   "source": [
    "#### Выводы:\n",
    "Сразу бросаются в глаза выбросы:\n",
    "1) один заказ больше чем на миллион, есть заказ на 200 тысяч. Думаю, что если эти выбросы удалить, то можно будет избавиться от скачков в графиках.\n",
    "2) Большая часть пользователей делает 2 заказа, хотя встречаются выбросы в 11 и от них стоит избавиться."
   ]
  },
  {
   "cell_type": "markdown",
   "metadata": {},
   "source": [
    "### Посчитайте 95-й и 99-й перцентили количества заказов на пользователя. Выберите границу для определения аномальных пользователей."
   ]
  },
  {
   "cell_type": "code",
   "execution_count": 22,
   "metadata": {},
   "outputs": [
    {
     "name": "stdout",
     "output_type": "stream",
     "text": [
      "[28000.  44133.2 58233.2]\n"
     ]
    }
   ],
   "source": [
    "print(np.percentile(orders['revenue'], [95, 98, 99]))"
   ]
  },
  {
   "cell_type": "markdown",
   "metadata": {},
   "source": [
    "#### Выводы:\n",
    "Можно смело выбрасывать все заказы выше 50000 ₽, они явно выбиваются из общей картины."
   ]
  },
  {
   "cell_type": "markdown",
   "metadata": {},
   "source": [
    "### Посчитайте статистическую значимость различий в конверсии между группами по «сырым» данным. Сделайте выводы и предположения."
   ]
  },
  {
   "cell_type": "code",
   "execution_count": 23,
   "metadata": {},
   "outputs": [
    {
     "name": "stdout",
     "output_type": "stream",
     "text": [
      "        date  ordersPerDateA  revenuePerDateA  ordersPerDateB  \\\n",
      "0 2019-08-01              24           148579              21   \n",
      "1 2019-08-02              20            93822              24   \n",
      "2 2019-08-03              24           112473              16   \n",
      "3 2019-08-04              16            70825              17   \n",
      "4 2019-08-05              25           124218              23   \n",
      "\n",
      "   revenuePerDateB  ordersCummulativeA  revenueCummulativeA  \\\n",
      "0           101217                  24               148579   \n",
      "1           165531                  44               242401   \n",
      "2           114248                  68               354874   \n",
      "3           108571                  84               425699   \n",
      "4            92428                 109               549917   \n",
      "\n",
      "   ordersCummulativeB  revenueCummulativeB  visitorsPerDateA  \\\n",
      "0                  21               101217               719   \n",
      "1                  45               266748               619   \n",
      "2                  61               380996               507   \n",
      "3                  78               489567               717   \n",
      "4                 101               581995               756   \n",
      "\n",
      "   visitorsPerDateB  visitorsCummulativeA  visitorsCummulativeB  \n",
      "0               713                   719                   713  \n",
      "1               581                  1338                  1294  \n",
      "2               509                  1845                  1803  \n",
      "3               770                  2562                  2573  \n",
      "4               707                  3318                  3280  \n"
     ]
    }
   ],
   "source": [
    "visitorsADaily = visitors[visitors['group'] == 'A'][['date', 'visitors']]\n",
    "visitorsADaily.columns = ['date', 'visitorsPerDateA']\n",
    "\n",
    "visitorsACummulative = visitorsADaily.apply(\n",
    "    lambda x: visitorsADaily[visitorsADaily['date'] <= x['date']].agg(\n",
    "        {'date': 'max', 'visitorsPerDateA': 'sum'}\n",
    "    ),\n",
    "    axis=1,\n",
    ")\n",
    "visitorsACummulative.columns = ['date', 'visitorsCummulativeA']\n",
    "\n",
    "visitorsBDaily = visitors[visitors['group'] == 'B'][['date', 'visitors']]\n",
    "visitorsBDaily.columns = ['date', 'visitorsPerDateB']\n",
    "\n",
    "visitorsBCummulative = visitorsBDaily.apply(\n",
    "    lambda x: visitorsBDaily[visitorsBDaily['date'] <= x['date']].agg(\n",
    "        {'date': 'max', 'visitorsPerDateB': 'sum'}\n",
    "    ),\n",
    "    axis=1,\n",
    ")\n",
    "visitorsBCummulative.columns = ['date', 'visitorsCummulativeB']\n",
    "\n",
    "ordersADaily = (\n",
    "    orders[orders['group'] == 'A'][['date', 'orderId', 'userId', 'revenue']]\n",
    "    .groupby('date', as_index=False)\n",
    "    .agg({'orderId': pd.Series.nunique, 'revenue': 'sum'})\n",
    ")\n",
    "ordersADaily.columns = ['date', 'ordersPerDateA', 'revenuePerDateA']\n",
    "\n",
    "ordersACummulative = ordersADaily.apply(\n",
    "    lambda x: ordersADaily[ordersADaily['date'] <= x['date']].agg(\n",
    "        {'date': 'max', 'ordersPerDateA': 'sum', 'revenuePerDateA': 'sum'}\n",
    "    ),\n",
    "    axis=1,\n",
    ").sort_values(by=['date'])\n",
    "ordersACummulative.columns = [\n",
    "    'date',\n",
    "    'ordersCummulativeA',\n",
    "    'revenueCummulativeA',\n",
    "]\n",
    "\n",
    "ordersBDaily = (\n",
    "    orders[orders['group'] == 'B'][['date', 'orderId', 'userId', 'revenue']]\n",
    "    .groupby('date', as_index=False)\n",
    "    .agg({'orderId': pd.Series.nunique, 'revenue': 'sum'})\n",
    ")\n",
    "ordersBDaily.columns = ['date', 'ordersPerDateB', 'revenuePerDateB']\n",
    "\n",
    "ordersBCummulative = ordersBDaily.apply(\n",
    "    lambda x: ordersBDaily[ordersBDaily['date'] <= x['date']].agg(\n",
    "        {'date': 'max', 'ordersPerDateB': 'sum', 'revenuePerDateB': 'sum'}\n",
    "    ),\n",
    "    axis=1,\n",
    ").sort_values(by=['date'])\n",
    "ordersBCummulative.columns = [\n",
    "    'date',\n",
    "    'ordersCummulativeB',\n",
    "    'revenueCummulativeB',\n",
    "]\n",
    "\n",
    "data = (\n",
    "    ordersADaily.merge(\n",
    "        ordersBDaily, left_on='date', right_on='date', how='left'\n",
    "    )\n",
    "    .merge(ordersACummulative, left_on='date', right_on='date', how='left')\n",
    "    .merge(ordersBCummulative, left_on='date', right_on='date', how='left')\n",
    "    .merge(visitorsADaily, left_on='date', right_on='date', how='left')\n",
    "    .merge(visitorsBDaily, left_on='date', right_on='date', how='left')\n",
    "    .merge(visitorsACummulative, left_on='date', right_on='date', how='left')\n",
    "    .merge(visitorsBCummulative, left_on='date', right_on='date', how='left')\n",
    ")\n",
    "\n",
    "print(data.head(5))\n",
    "\n",
    "ordersByUsersA = (\n",
    "    orders[orders['group'] == 'A']\n",
    "    .groupby('userId', as_index=False)\n",
    "    .agg({'orderId': pd.Series.nunique})\n",
    ")\n",
    "ordersByUsersA.columns = ['userId', 'orders']\n",
    "\n",
    "ordersByUsersB = (\n",
    "    orders[orders['group'] == 'B']\n",
    "    .groupby('userId', as_index=False)\n",
    "    .agg({'orderId': pd.Series.nunique})\n",
    ")\n",
    "ordersByUsersB.columns = ['userId', 'orders']\n",
    "\n",
    "sampleA = pd.concat(\n",
    "    [\n",
    "        ordersByUsersA['orders'],\n",
    "        pd.Series(\n",
    "            0,\n",
    "            index=np.arange(\n",
    "                data['visitorsPerDateA'].sum() - len(ordersByUsersA['orders'])\n",
    "            ),\n",
    "            name='orders',\n",
    "        ),\n",
    "    ],\n",
    "    axis=0,\n",
    ")\n",
    "sampleB = pd.concat(\n",
    "    [\n",
    "        ordersByUsersB['orders'],\n",
    "        pd.Series(\n",
    "            0,\n",
    "            index=np.arange(\n",
    "                data['visitorsPerDateB'].sum() - len(ordersByUsersB['orders'])\n",
    "            ),\n",
    "            name='orders',\n",
    "        ),\n",
    "    ],\n",
    "    axis=0,\n",
    ")"
   ]
  },
  {
   "cell_type": "markdown",
   "metadata": {},
   "source": [
    "Формулируем гипотезы:\n",
    "- Нулевая гипотеза H0 - статистической значимости различий в конверсии между группами по «сырым» данным нет;\n",
    "- Альтернативная гипотеза H1 - статистически значимые различия в конверсии между группами по «сырым» данным есть.\n",
    "\n",
    "Гипотезы получились двусторонними."
   ]
  },
  {
   "cell_type": "code",
   "execution_count": 24,
   "metadata": {},
   "outputs": [
    {
     "name": "stdout",
     "output_type": "stream",
     "text": [
      "0.0084\n",
      "Отвергаем нулевую гипотезу\n"
     ]
    }
   ],
   "source": [
    "p = (\"{0:.5f}\".format(stats.mannwhitneyu(sampleA, sampleB)[1]))\n",
    "\n",
    "p = float(p)\n",
    "print(p)\n",
    "alpha = .05\n",
    "\n",
    "if (p < alpha):\n",
    "    print(\"Отвергаем нулевую гипотезу\")\n",
    "else:\n",
    "    print(\"Не получилось отвергнуть нулевую гипотезу\")"
   ]
  },
  {
   "cell_type": "code",
   "execution_count": 25,
   "metadata": {},
   "outputs": [
    {
     "name": "stdout",
     "output_type": "stream",
     "text": [
      "0.138\n"
     ]
    }
   ],
   "source": [
    "print(\n",
    "    \"{0:.3f}\".format(\n",
    "        (data['ordersPerDateB'].sum() / data['visitorsPerDateB'].sum())\n",
    "        / (data['ordersPerDateA'].sum() / data['visitorsPerDateA'].sum())\n",
    "        - 1\n",
    "    )\n",
    ")"
   ]
  },
  {
   "cell_type": "markdown",
   "metadata": {},
   "source": [
    "#### Выводы:\n",
    "- Отвергаем нулевую гипотезу - статистически значимые различия в конверсии между группами по «сырым» данным есть;\n",
    "- Статистические данные говорят о том, что разница в приросте конверсии между сегментами B и A достигает ~14 %."
   ]
  },
  {
   "cell_type": "markdown",
   "metadata": {},
   "source": [
    "### Посчитайте статистическую значимость различий в среднем чеке заказа между группами по «сырым» данным. Сделайте выводы и предположения."
   ]
  },
  {
   "cell_type": "code",
   "execution_count": 26,
   "metadata": {},
   "outputs": [
    {
     "name": "stdout",
     "output_type": "stream",
     "text": [
      "0.365\n",
      "Не получилось отвергнуть нулевую гипотезу\n"
     ]
    }
   ],
   "source": [
    "p = ('{0:.3f}'.format(stats.mannwhitneyu(orders[orders['group']=='A']['revenue'], orders[orders['group']=='B']['revenue'])[1]))\n",
    "\n",
    "p = float(p)\n",
    "print(p)\n",
    "alpha = .05\n",
    "\n",
    "if (p < alpha):\n",
    "    print(\"Отвергаем нулевую гипотезу\")\n",
    "else:\n",
    "    print(\"Не получилось отвергнуть нулевую гипотезу\")"
   ]
  },
  {
   "cell_type": "code",
   "execution_count": 27,
   "metadata": {},
   "outputs": [
    {
     "name": "stdout",
     "output_type": "stream",
     "text": [
      "0.259\n"
     ]
    }
   ],
   "source": [
    "print('{0:.3f}'.format(orders[orders['group']=='B']['revenue'].mean()/orders[orders['group']=='A']['revenue'].mean()-1))"
   ]
  },
  {
   "cell_type": "markdown",
   "metadata": {},
   "source": [
    "#### Выводы:\n",
    "- Не получилось отвергнуть нулевую гипотезу - статистически значимых различий в среднем чеке между двумя сегментами нет;\n",
    "- При этом относительное различие в среднем чеке между сегментами достигает 25%. "
   ]
  },
  {
   "cell_type": "markdown",
   "metadata": {},
   "source": [
    "### Посчитайте статистическую значимость различий в конверсии между группами по «очищенным» данным. Сделайте выводы и предположения."
   ]
  },
  {
   "cell_type": "code",
   "execution_count": 28,
   "metadata": {},
   "outputs": [],
   "source": [
    "visitorsADaily = visitors[visitors['group'] == 'A'][['date', 'visitors']]\n",
    "visitorsADaily.columns = ['date', 'visitorsPerDateA']\n",
    "\n",
    "visitorsACummulative = visitorsADaily.apply(\n",
    "    lambda x: visitorsADaily[visitorsADaily['date'] <= x['date']].agg(\n",
    "        {'date': 'max', 'visitorsPerDateA': 'sum'}\n",
    "    ),\n",
    "    axis=1,\n",
    ")\n",
    "visitorsACummulative.columns = ['date', 'visitorsCummulativeA']\n",
    "\n",
    "visitorsBDaily = visitors[visitors['group'] == 'B'][['date', 'visitors']]\n",
    "visitorsBDaily.columns = ['date', 'visitorsPerDateB']\n",
    "\n",
    "visitorsBCummulative = visitorsBDaily.apply(\n",
    "    lambda x: visitorsBDaily[visitorsBDaily['date'] <= x['date']].agg(\n",
    "        {'date': 'max', 'visitorsPerDateB': 'sum'}\n",
    "    ),\n",
    "    axis=1,\n",
    ")\n",
    "visitorsBCummulative.columns = ['date', 'visitorsCummulativeB']\n",
    "\n",
    "ordersADaily = (\n",
    "    orders[orders['group'] == 'A'][['date', 'orderId', 'userId', 'revenue']]\n",
    "    .groupby('date', as_index=False)\n",
    "    .agg({'orderId': pd.Series.nunique, 'revenue': 'sum'})\n",
    ")\n",
    "ordersADaily.columns = ['date', 'ordersPerDateA', 'revenuePerDateA']\n",
    "\n",
    "ordersACummulative = ordersADaily.apply(\n",
    "    lambda x: ordersADaily[ordersADaily['date'] <= x['date']].agg(\n",
    "        {'date': 'max', 'ordersPerDateA': 'sum', 'revenuePerDateA': 'sum'}\n",
    "    ),\n",
    "    axis=1,\n",
    ").sort_values(by=['date'])\n",
    "ordersACummulative.columns = [\n",
    "    'date',\n",
    "    'ordersCummulativeA',\n",
    "    'revenueCummulativeA',\n",
    "]\n",
    "\n",
    "ordersBDaily = (\n",
    "    orders[orders['group'] == 'B'][['date', 'orderId', 'userId', 'revenue']]\n",
    "    .groupby('date', as_index=False)\n",
    "    .agg({'orderId': pd.Series.nunique, 'revenue': 'sum'})\n",
    ")\n",
    "ordersBDaily.columns = ['date', 'ordersPerDateB', 'revenuePerDateB']\n",
    "\n",
    "ordersBCummulative = ordersBDaily.apply(\n",
    "    lambda x: ordersBDaily[ordersBDaily['date'] <= x['date']].agg(\n",
    "        {'date': 'max', 'ordersPerDateB': 'sum', 'revenuePerDateB': 'sum'}\n",
    "    ),\n",
    "    axis=1,\n",
    ").sort_values(by=['date'])\n",
    "ordersBCummulative.columns = [\n",
    "    'date',\n",
    "    'ordersCummulativeB',\n",
    "    'revenueCummulativeB',\n",
    "]\n",
    "\n",
    "data = (\n",
    "    ordersADaily.merge(\n",
    "        ordersBDaily, left_on='date', right_on='date', how='left'\n",
    "    )\n",
    "    .merge(ordersACummulative, left_on='date', right_on='date', how='left')\n",
    "    .merge(ordersBCummulative, left_on='date', right_on='date', how='left')\n",
    "    .merge(visitorsADaily, left_on='date', right_on='date', how='left')\n",
    "    .merge(visitorsBDaily, left_on='date', right_on='date', how='left')\n",
    "    .merge(visitorsACummulative, left_on='date', right_on='date', how='left')\n",
    "    .merge(visitorsBCummulative, left_on='date', right_on='date', how='left')\n",
    ")\n",
    "\n",
    "ordersByUsersA = (\n",
    "    orders[orders['group'] == 'A']\n",
    "    .groupby('userId', as_index=False)\n",
    "    .agg({'orderId': pd.Series.nunique})\n",
    ")\n",
    "ordersByUsersA.columns = ['userId', 'orders']\n",
    "\n",
    "ordersByUsersB = (\n",
    "    orders[orders['group'] == 'B']\n",
    "    .groupby('userId', as_index=False)\n",
    "    .agg({'orderId': pd.Series.nunique})\n",
    ")\n",
    "ordersByUsersB.columns = ['userId', 'orders']\n",
    "\n",
    "\n",
    "usersWithManyOrders = pd.concat(\n",
    "    [\n",
    "        ordersByUsersA[ordersByUsersA['orders'] > 2]['userId'],\n",
    "        ordersByUsersB[ordersByUsersB['orders'] > 2]['userId'],\n",
    "    ],\n",
    "    axis=0,\n",
    ")\n",
    "usersWithExpensiveOrders = orders[orders['revenue'] > 10000]['userId']\n",
    "abnormalUsers = (\n",
    "    pd.concat([usersWithManyOrders, usersWithExpensiveOrders], axis=0)\n",
    "    .drop_duplicates()\n",
    "    .sort_values()\n",
    ")\n",
    "\n",
    "sampleAFiltered = pd.concat(\n",
    "    [\n",
    "        ordersByUsersA[\n",
    "            np.logical_not(ordersByUsersA['userId'].isin(abnormalUsers))\n",
    "        ]['orders'],\n",
    "        pd.Series(\n",
    "            0,\n",
    "            index=np.arange(\n",
    "                data['visitorsPerDateA'].sum() - len(ordersByUsersA['orders'])\n",
    "            ),\n",
    "            name='orders',\n",
    "        ),\n",
    "    ],\n",
    "    axis=0,\n",
    ")\n",
    "\n",
    "sampleBFiltered = pd.concat(\n",
    "    [\n",
    "        ordersByUsersB[\n",
    "            np.logical_not(ordersByUsersB['userId'].isin(abnormalUsers))\n",
    "        ]['orders'],\n",
    "        pd.Series(\n",
    "            0,\n",
    "            index=np.arange(\n",
    "                data['visitorsPerDateB'].sum() - len(ordersByUsersB['orders'])\n",
    "            ),\n",
    "            name='orders',\n",
    "        ),\n",
    "    ],\n",
    "    axis=0,\n",
    ") "
   ]
  },
  {
   "cell_type": "markdown",
   "metadata": {},
   "source": [
    "Формулируем гипотезы:\n",
    "- Нулевая гипотеза H0 - статистической значимости различий в конверсии между группами по «очищенным» данным нет;\n",
    "- Альтернативная гипотеза H1 - статистически значимые различия в конверсии между группами по «очищенным» данным есть.\n",
    "\n",
    "Гипотезы получились двусторонними."
   ]
  },
  {
   "cell_type": "code",
   "execution_count": 29,
   "metadata": {},
   "outputs": [
    {
     "name": "stdout",
     "output_type": "stream",
     "text": [
      "0.00448\n",
      "Отвергаем нулевую гипотезу\n"
     ]
    }
   ],
   "source": [
    "p = ('{0:.5f}'.format(stats.mannwhitneyu(sampleAFiltered, sampleBFiltered)[1]))\n",
    "\n",
    "p = float(p)\n",
    "print(p)\n",
    "alpha = .05\n",
    "\n",
    "if (p < alpha):\n",
    "    print(\"Отвергаем нулевую гипотезу\")\n",
    "else:\n",
    "    print(\"Не получилось отвергнуть нулевую гипотезу\")"
   ]
  },
  {
   "cell_type": "code",
   "execution_count": 30,
   "metadata": {},
   "outputs": [
    {
     "name": "stdout",
     "output_type": "stream",
     "text": [
      "0.205\n"
     ]
    }
   ],
   "source": [
    "print('{0:.3f}'.format(sampleBFiltered.mean()/sampleAFiltered.mean()-1)) "
   ]
  },
  {
   "cell_type": "markdown",
   "metadata": {},
   "source": [
    "#### Выводы:\n",
    "- Отвергаем нулевую гипотезу - статистически значимые различия в конверсии между группами по «чистым» данным есть;\n",
    "- По сравнению с «сырыми» данными показатель упал почти в 2 раза;\n",
    "- Статистические данные говорят о том, что разница в приросте конверсии между сегментами B и A достигает ~20 %;\n",
    "- Это на 6 % больше, чем по «сырым» данным.\n",
    "- Сегмент B значительно лучше сегмента A."
   ]
  },
  {
   "cell_type": "markdown",
   "metadata": {},
   "source": [
    "### Посчитайте статистическую значимость различий в среднем чеке заказа между группами по «очищенным» данным. Сделайте выводы и предположения."
   ]
  },
  {
   "cell_type": "code",
   "execution_count": 31,
   "metadata": {},
   "outputs": [
    {
     "name": "stdout",
     "output_type": "stream",
     "text": [
      "0.483\n",
      "0.002\n"
     ]
    }
   ],
   "source": [
    "print(\n",
    "    '{0:.3f}'.format(\n",
    "        stats.mannwhitneyu(\n",
    "            orders[\n",
    "                np.logical_and(\n",
    "                    orders['group'] == 'A',\n",
    "                    np.logical_not(orders['userId'].isin(abnormalUsers)),\n",
    "                )\n",
    "            ]['revenue'],\n",
    "            orders[\n",
    "                np.logical_and(\n",
    "                    orders['group'] == 'B',\n",
    "                    np.logical_not(orders['userId'].isin(abnormalUsers)),\n",
    "                )\n",
    "            ]['revenue'],\n",
    "        )[1]\n",
    "    )\n",
    ")\n",
    "\n",
    "print(\n",
    "    \"{0:.3f}\".format(\n",
    "        orders[\n",
    "            np.logical_and(\n",
    "                orders['group'] == 'B',\n",
    "                np.logical_not(orders['userId'].isin(abnormalUsers)),\n",
    "            )\n",
    "        ]['revenue'].mean()\n",
    "        / orders[\n",
    "            np.logical_and(\n",
    "                orders['group'] == 'A',\n",
    "                np.logical_not(orders['userId'].isin(abnormalUsers)),\n",
    "            )\n",
    "        ]['revenue'].mean()\n",
    "        - 1\n",
    "    )\n",
    ") "
   ]
  },
  {
   "cell_type": "markdown",
   "metadata": {},
   "source": [
    "#### Выводы:\n",
    "- Не получилось отвергнуть нулевую гипотезу - статистически значимых различий в среднем чеке между двумя сегментами по прежнему нет, хотя значения скакнули на четверть с 0.365 до 0.483;\n",
    "- Различие по выручке после удаления выбросов снизилась с 25% до всего 0.2%."
   ]
  },
  {
   "cell_type": "markdown",
   "metadata": {},
   "source": [
    "### Примите решение по результатам теста и объясните его. Варианты решений: "
   ]
  },
  {
   "cell_type": "markdown",
   "metadata": {},
   "source": [
    "Давайте ещё раз посмотрим на графики:"
   ]
  },
  {
   "cell_type": "code",
   "execution_count": 32,
   "metadata": {},
   "outputs": [
    {
     "data": {
      "image/png": "[encoded data removed]",
      "text/plain": [
       "<Figure size 1080x360 with 1 Axes>"
      ]
     },
     "metadata": {
      "needs_background": "light"
     },
     "output_type": "display_data"
    }
   ],
   "source": [
    "# Построим графики среднего чека по группам — разделим кумулятивную выручку на кумулятивное число заказов:\n",
    "plt.figure(figsize=(15,5));\n",
    "#plt.plot(cumulativeRevenueA['date'], cumulativeRevenueA['revenue']/cumulativeRevenueA['orders'], label='A')\n",
    "#plt.plot(cumulativeRevenueB['date'], cumulativeRevenueB['revenue']/cumulativeRevenueB['orders'], label='B')\n",
    "\n",
    "#plt.plot(ordersACummulative['date'], ordersACummulative['revenueCummulativeA']/ordersACummulative['ordersCummulativeA'], label='A')\n",
    "#plt.plot(ordersBCummulative['date'], ordersBCummulative['revenueCummulativeB']/ordersBCummulative['ordersCummulativeB'], label='B')\n",
    "\n",
    "plt.plot(data['date'], data['revenueCummulativeA']/data['ordersCummulativeA'], label='A')\n",
    "plt.plot(data['date'], data['revenueCummulativeB']/data['ordersCummulativeB'], label='B')\n",
    "\n",
    "plt.title('График кумулятивного среднего чека по группам', fontsize = 15);\n",
    "plt.xlabel('Дата', fontsize = 15);\n",
    "plt.ylabel('Количество', fontsize = 15);\n",
    "\n",
    "plt.legend();\n",
    "plt.show();"
   ]
  },
  {
   "cell_type": "code",
   "execution_count": 33,
   "metadata": {},
   "outputs": [
    {
     "data": {
      "text/html": [
       "<div>\n",
       "<style scoped>\n",
       "    .dataframe tbody tr th:only-of-type {\n",
       "        vertical-align: middle;\n",
       "    }\n",
       "\n",
       "    .dataframe tbody tr th {\n",
       "        vertical-align: top;\n",
       "    }\n",
       "\n",
       "    .dataframe thead th {\n",
       "        text-align: right;\n",
       "    }\n",
       "</style>\n",
       "<table border=\"1\" class=\"dataframe\">\n",
       "  <thead>\n",
       "    <tr style=\"text-align: right;\">\n",
       "      <th></th>\n",
       "      <th>date</th>\n",
       "      <th>ordersPerDateA</th>\n",
       "      <th>revenuePerDateA</th>\n",
       "      <th>ordersPerDateB</th>\n",
       "      <th>revenuePerDateB</th>\n",
       "      <th>ordersCummulativeA</th>\n",
       "      <th>revenueCummulativeA</th>\n",
       "      <th>ordersCummulativeB</th>\n",
       "      <th>revenueCummulativeB</th>\n",
       "      <th>visitorsPerDateA</th>\n",
       "      <th>visitorsPerDateB</th>\n",
       "      <th>visitorsCummulativeA</th>\n",
       "      <th>visitorsCummulativeB</th>\n",
       "    </tr>\n",
       "  </thead>\n",
       "  <tbody>\n",
       "    <tr>\n",
       "      <th>0</th>\n",
       "      <td>2019-08-01</td>\n",
       "      <td>24</td>\n",
       "      <td>148579</td>\n",
       "      <td>21</td>\n",
       "      <td>101217</td>\n",
       "      <td>24</td>\n",
       "      <td>148579</td>\n",
       "      <td>21</td>\n",
       "      <td>101217</td>\n",
       "      <td>719</td>\n",
       "      <td>713</td>\n",
       "      <td>719</td>\n",
       "      <td>713</td>\n",
       "    </tr>\n",
       "    <tr>\n",
       "      <th>1</th>\n",
       "      <td>2019-08-02</td>\n",
       "      <td>20</td>\n",
       "      <td>93822</td>\n",
       "      <td>24</td>\n",
       "      <td>165531</td>\n",
       "      <td>44</td>\n",
       "      <td>242401</td>\n",
       "      <td>45</td>\n",
       "      <td>266748</td>\n",
       "      <td>619</td>\n",
       "      <td>581</td>\n",
       "      <td>1338</td>\n",
       "      <td>1294</td>\n",
       "    </tr>\n",
       "    <tr>\n",
       "      <th>2</th>\n",
       "      <td>2019-08-03</td>\n",
       "      <td>24</td>\n",
       "      <td>112473</td>\n",
       "      <td>16</td>\n",
       "      <td>114248</td>\n",
       "      <td>68</td>\n",
       "      <td>354874</td>\n",
       "      <td>61</td>\n",
       "      <td>380996</td>\n",
       "      <td>507</td>\n",
       "      <td>509</td>\n",
       "      <td>1845</td>\n",
       "      <td>1803</td>\n",
       "    </tr>\n",
       "    <tr>\n",
       "      <th>3</th>\n",
       "      <td>2019-08-04</td>\n",
       "      <td>16</td>\n",
       "      <td>70825</td>\n",
       "      <td>17</td>\n",
       "      <td>108571</td>\n",
       "      <td>84</td>\n",
       "      <td>425699</td>\n",
       "      <td>78</td>\n",
       "      <td>489567</td>\n",
       "      <td>717</td>\n",
       "      <td>770</td>\n",
       "      <td>2562</td>\n",
       "      <td>2573</td>\n",
       "    </tr>\n",
       "    <tr>\n",
       "      <th>4</th>\n",
       "      <td>2019-08-05</td>\n",
       "      <td>25</td>\n",
       "      <td>124218</td>\n",
       "      <td>23</td>\n",
       "      <td>92428</td>\n",
       "      <td>109</td>\n",
       "      <td>549917</td>\n",
       "      <td>101</td>\n",
       "      <td>581995</td>\n",
       "      <td>756</td>\n",
       "      <td>707</td>\n",
       "      <td>3318</td>\n",
       "      <td>3280</td>\n",
       "    </tr>\n",
       "  </tbody>\n",
       "</table>\n",
       "</div>"
      ],
      "text/plain": [
       "        date  ordersPerDateA  revenuePerDateA  ordersPerDateB  \\\n",
       "0 2019-08-01              24           148579              21   \n",
       "1 2019-08-02              20            93822              24   \n",
       "2 2019-08-03              24           112473              16   \n",
       "3 2019-08-04              16            70825              17   \n",
       "4 2019-08-05              25           124218              23   \n",
       "\n",
       "   revenuePerDateB  ordersCummulativeA  revenueCummulativeA  \\\n",
       "0           101217                  24               148579   \n",
       "1           165531                  44               242401   \n",
       "2           114248                  68               354874   \n",
       "3           108571                  84               425699   \n",
       "4            92428                 109               549917   \n",
       "\n",
       "   ordersCummulativeB  revenueCummulativeB  visitorsPerDateA  \\\n",
       "0                  21               101217               719   \n",
       "1                  45               266748               619   \n",
       "2                  61               380996               507   \n",
       "3                  78               489567               717   \n",
       "4                 101               581995               756   \n",
       "\n",
       "   visitorsPerDateB  visitorsCummulativeA  visitorsCummulativeB  \n",
       "0               713                   719                   713  \n",
       "1               581                  1338                  1294  \n",
       "2               509                  1845                  1803  \n",
       "3               770                  2562                  2573  \n",
       "4               707                  3318                  3280  "
      ]
     },
     "execution_count": 33,
     "metadata": {},
     "output_type": "execute_result"
    }
   ],
   "source": [
    "data.head()"
   ]
  },
  {
   "cell_type": "code",
   "execution_count": 34,
   "metadata": {},
   "outputs": [
    {
     "data": {
      "image/png": "[encoded data removed]",
      "text/plain": [
       "<Figure size 1080x360 with 1 Axes>"
      ]
     },
     "metadata": {
      "needs_background": "light"
     },
     "output_type": "display_data"
    }
   ],
   "source": [
    "# cтроим отношение средних чеков\n",
    "plt.figure(figsize=(15,5));\n",
    "#plt.plot(mergedCumulativeRevenue['date'], (mergedCumulativeRevenue['revenueB']/mergedCumulativeRevenue['ordersB'])/(mergedCumulativeRevenue['revenueA']/mergedCumulativeRevenue['ordersA'])-1)\n",
    "plt.plot(data['date'], (data['revenueCummulativeB']/data['ordersCummulativeB'])/(data['revenueCummulativeA']/data['ordersCummulativeA'])-1)\n",
    "\n",
    "# добавляем ось X\n",
    "plt.axhline(y=0, color='black', linestyle='--') \n",
    "\n",
    "plt.title('График относительного изменения кумулятивного среднего чека группы B к группе A', fontsize = 15);\n",
    "plt.xlabel('Дата', fontsize = 15);\n",
    "plt.ylabel('Соотношние', fontsize = 15);\n",
    "plt.show();"
   ]
  },
  {
   "cell_type": "code",
   "execution_count": 35,
   "metadata": {},
   "outputs": [
    {
     "data": {
      "image/png": "[encoded data removed]",
      "text/plain": [
       "<Figure size 1080x360 with 1 Axes>"
      ]
     },
     "metadata": {
      "needs_background": "light"
     },
     "output_type": "display_data"
    }
   ],
   "source": [
    "# строим графики\n",
    "plt.figure(figsize=(15,5));\n",
    "plt.plot(cumulativeDataA['date'], cumulativeDataA['conversion'], label='A')\n",
    "plt.plot(cumulativeDataB['date'], cumulativeDataB['conversion'], label='B')\n",
    "\n",
    "plt.title('График кумулятивной конверсии по группам', fontsize = 15);\n",
    "plt.xlabel('Дата', fontsize = 15);\n",
    "plt.ylabel('Соотношние', fontsize = 15);\n",
    "plt.axis([\"2019-08-01\", '2019-09-01', 0, 0.05])\n",
    "plt.legend();\n",
    "plt.show();"
   ]
  },
  {
   "cell_type": "code",
   "execution_count": 36,
   "metadata": {},
   "outputs": [
    {
     "data": {
      "image/png": "[encoded data removed]",
      "text/plain": [
       "<Figure size 1080x360 with 1 Axes>"
      ]
     },
     "metadata": {
      "needs_background": "light"
     },
     "output_type": "display_data"
    }
   ],
   "source": [
    "mergedCumulativeConversions = cumulativeDataA[['date','conversion']].merge(cumulativeDataB[['date','conversion']], left_on='date', right_on='date', how='left', suffixes=['A', 'B'])\n",
    "\n",
    "plt.figure(figsize=(15,5));\n",
    "plt.plot(mergedCumulativeConversions['date'], mergedCumulativeConversions['conversionB']/mergedCumulativeConversions['conversionA']-1, label=\"Относительный прирост конверсии группы B относительно группы A\")\n",
    "plt.legend()\n",
    "\n",
    "plt.axhline(y=0, color='black', linestyle='--')\n",
    "plt.axhline(y=-0.1, color='grey', linestyle='--')\n",
    "plt.title('График относительного изменения кумулятивной конверсии группы B к группе A', fontsize = 15);\n",
    "plt.xlabel('Дата', fontsize = 15);\n",
    "plt.ylabel('Соотношние', fontsize = 15);\n",
    "plt.axis([\"2019-08-01\", '2019-09-01', -0.2, 0.3])\n",
    "plt.show();"
   ]
  },
  {
   "cell_type": "markdown",
   "metadata": {},
   "source": [
    "Есть статистически значимое различие по конверсии между группами как по сырым данным, так и после фильтрации аномалий. Оно составляет около 16% для сырых данных и около 20% для отфильтрованных.\n",
    "\n",
    "По сырым данным есть статистически значимое различие по среднему чеку между группами, оно достигает 25%. Однако после удаления аномалий статистически значимое различие пропало, оно составляет всего 0.2%.\n",
    "\n",
    "График различия конверсии между группами сообщает, что результаты группы B лучше группы A: они уже зафиксировались около среднего значения.\n",
    "\n",
    "График различия среднего чека колеблется: он-то и позволил вам найти аномалии. Сделать из этого графика определённые выводы нельзя."
   ]
  },
  {
   "cell_type": "markdown",
   "metadata": {},
   "source": [
    "#### Решение:\n",
    "1. Остановить тест, зафиксировать победу одной из групп — B. "
   ]
  },
  {
   "cell_type": "markdown",
   "metadata": {},
   "source": [
    "## Чек-лист готовности проекта\n",
    "\n",
    "Часть 1. Приоритизация гипотез.\n",
    "- Примените фреймворк ICE для приоритизации гипотез. Отсортируйте их по убыванию приоритета.\n",
    "- Примените фреймворк RICE для приоритизации гипотез. Отсортируйте их по убыванию приоритета.\n",
    "- Укажите, как изменилась приоритизация гипотез при применении RICE вместо ICE. Объясните, почему так произошло.\n",
    "\n",
    "Часть 2. Анализ A/B-теста.\n",
    "- Постройте график кумулятивной выручки по группам. Сделайте выводы и предположения.\n",
    "- Постройте график кумулятивного среднего чека по группам. Сделайте выводы и предположения.\n",
    "- Постройте график относительного изменения кумулятивного среднего чека группы B к группе A. Сделайте выводы и предположения.\n",
    "- Постройте график кумулятивной конверсии по группам. Сделайте выводы и предположения.\n",
    "- Постройте график относительного изменения кумулятивной конверсии группы B к группе A. Сделайте выводы и предположения.\n",
    "- Постройте точечный график количества заказов по пользователям. Сделайте выводы и предположения.\n",
    "- Посчитайте 95-й и 99-й перцентили количества заказов на пользователя. Выберите границу для определения аномальных пользователей.\n",
    "- Постройте точечный график стоимостей заказов. Сделайте выводы и предположения.\n",
    "- Посчитайте 95-й и 99-й перцентили стоимости заказов. Выберите границу для определения аномальных заказов.\n",
    "- Посчитайте статистическую значимость различий в конверсии между группами по «сырым» данным. Сделайте выводы и предположения.\n",
    "- Посчитайте статистическую значимость различий в среднем чеке заказа между группами по «сырым» данным. Сделайте выводы и предположения.\n",
    "- Посчитайте статистическую значимость различий в конверсии между группами по «очищенным» данным. Сделайте выводы и предположения.\n",
    "- Посчитайте статистическую значимость различий в среднем чеке заказа между группами по «очищенным» данным. Сделайте выводы и предположения.\n",
    "- Примите решение по результатам теста и объясните его. Варианты решений: \n",
    "-- 1. Остановить тест, зафиксировать победу одной из групп. \n",
    "-- 2. Остановить тест, зафиксировать отсутствие различий между группами. \n",
    "-- 3. Продолжить тест."
   ]
  }
 ],
 "metadata": {
  "ExecuteTimeLog": [
   {
    "duration": 1108,
    "start_time": "2021-08-06T15:22:59.233Z"
   },
   {
    "duration": 18,
    "start_time": "2021-08-06T15:23:01.036Z"
   },
   {
    "duration": 11,
    "start_time": "2021-08-06T15:23:02.114Z"
   },
   {
    "duration": 6999,
    "start_time": "2021-08-06T15:28:56.579Z"
   },
   {
    "duration": 4,
    "start_time": "2021-08-06T15:30:11.371Z"
   },
   {
    "duration": 13,
    "start_time": "2021-08-06T15:30:13.596Z"
   },
   {
    "duration": 8,
    "start_time": "2021-08-06T15:30:29.108Z"
   },
   {
    "duration": 8,
    "start_time": "2021-08-06T15:33:09.943Z"
   },
   {
    "duration": 9,
    "start_time": "2021-08-06T15:34:00.853Z"
   },
   {
    "duration": 7,
    "start_time": "2021-08-06T15:34:05.907Z"
   },
   {
    "duration": 7,
    "start_time": "2021-08-06T15:34:13.356Z"
   },
   {
    "duration": 7,
    "start_time": "2021-08-06T15:34:20.566Z"
   },
   {
    "duration": 222,
    "start_time": "2021-08-06T15:34:35.540Z"
   },
   {
    "duration": 7,
    "start_time": "2021-08-06T15:34:43.350Z"
   },
   {
    "duration": 8,
    "start_time": "2021-08-06T15:35:05.771Z"
   },
   {
    "duration": 7,
    "start_time": "2021-08-06T15:35:13.875Z"
   },
   {
    "duration": 2,
    "start_time": "2021-08-06T15:35:18.928Z"
   },
   {
    "duration": 16,
    "start_time": "2021-08-06T15:35:19.372Z"
   },
   {
    "duration": 8,
    "start_time": "2021-08-06T15:35:19.749Z"
   },
   {
    "duration": 3,
    "start_time": "2021-08-06T15:35:21.480Z"
   },
   {
    "duration": 8,
    "start_time": "2021-08-06T15:35:23.156Z"
   },
   {
    "duration": 8,
    "start_time": "2021-08-06T15:35:24.819Z"
   },
   {
    "duration": 9,
    "start_time": "2021-08-06T15:35:26.956Z"
   },
   {
    "duration": 8,
    "start_time": "2021-08-06T15:35:58.172Z"
   },
   {
    "duration": 8,
    "start_time": "2021-08-06T15:36:01.484Z"
   },
   {
    "duration": 9,
    "start_time": "2021-08-06T15:36:04.720Z"
   },
   {
    "duration": 3,
    "start_time": "2021-08-06T15:36:09.341Z"
   },
   {
    "duration": 18,
    "start_time": "2021-08-06T15:36:09.346Z"
   },
   {
    "duration": 9,
    "start_time": "2021-08-06T15:36:09.365Z"
   },
   {
    "duration": 5,
    "start_time": "2021-08-06T15:36:09.375Z"
   },
   {
    "duration": 10,
    "start_time": "2021-08-06T15:36:09.382Z"
   },
   {
    "duration": 8,
    "start_time": "2021-08-06T15:36:09.394Z"
   },
   {
    "duration": 9,
    "start_time": "2021-08-06T15:36:09.403Z"
   },
   {
    "duration": 1078,
    "start_time": "2021-08-06T15:36:23.315Z"
   },
   {
    "duration": 16,
    "start_time": "2021-08-06T15:36:24.395Z"
   },
   {
    "duration": 17,
    "start_time": "2021-08-06T15:36:24.413Z"
   },
   {
    "duration": 13,
    "start_time": "2021-08-06T15:36:24.432Z"
   },
   {
    "duration": 19,
    "start_time": "2021-08-06T15:36:24.446Z"
   },
   {
    "duration": 7,
    "start_time": "2021-08-06T15:36:24.466Z"
   },
   {
    "duration": 18,
    "start_time": "2021-08-06T15:36:24.474Z"
   },
   {
    "duration": 12,
    "start_time": "2021-08-06T15:37:14.918Z"
   },
   {
    "duration": 8,
    "start_time": "2021-08-06T15:37:36.776Z"
   },
   {
    "duration": 7,
    "start_time": "2021-08-06T15:37:40.175Z"
   },
   {
    "duration": 11,
    "start_time": "2021-08-06T15:37:41.830Z"
   },
   {
    "duration": 1090,
    "start_time": "2021-08-06T15:37:49.914Z"
   },
   {
    "duration": 16,
    "start_time": "2021-08-06T15:37:51.006Z"
   },
   {
    "duration": 12,
    "start_time": "2021-08-06T15:37:51.024Z"
   },
   {
    "duration": 3,
    "start_time": "2021-08-06T15:37:51.037Z"
   },
   {
    "duration": 11,
    "start_time": "2021-08-06T15:37:51.041Z"
   },
   {
    "duration": 8,
    "start_time": "2021-08-06T15:37:51.053Z"
   },
   {
    "duration": 13,
    "start_time": "2021-08-06T15:37:51.062Z"
   },
   {
    "duration": 7,
    "start_time": "2021-08-06T15:38:19.227Z"
   },
   {
    "duration": 43,
    "start_time": "2021-08-06T15:48:53.162Z"
   },
   {
    "duration": 23,
    "start_time": "2021-08-06T15:48:55.637Z"
   },
   {
    "duration": 43,
    "start_time": "2021-08-06T15:54:23.320Z"
   },
   {
    "duration": 13,
    "start_time": "2021-08-06T15:54:31.107Z"
   },
   {
    "duration": 7,
    "start_time": "2021-08-06T15:55:44.624Z"
   },
   {
    "duration": 5837,
    "start_time": "2021-08-06T16:04:22.466Z"
   },
   {
    "duration": 1153,
    "start_time": "2021-08-06T16:04:44.753Z"
   },
   {
    "duration": 17,
    "start_time": "2021-08-06T16:04:45.908Z"
   },
   {
    "duration": 11,
    "start_time": "2021-08-06T16:04:45.929Z"
   },
   {
    "duration": 5,
    "start_time": "2021-08-06T16:04:45.941Z"
   },
   {
    "duration": 10,
    "start_time": "2021-08-06T16:04:45.947Z"
   },
   {
    "duration": 7,
    "start_time": "2021-08-06T16:04:45.959Z"
   },
   {
    "duration": 8,
    "start_time": "2021-08-06T16:04:45.991Z"
   },
   {
    "duration": 49,
    "start_time": "2021-08-06T16:04:46.001Z"
   },
   {
    "duration": 7,
    "start_time": "2021-08-06T16:04:46.052Z"
   },
   {
    "duration": 5739,
    "start_time": "2021-08-06T16:04:46.061Z"
   },
   {
    "duration": 261,
    "start_time": "2021-08-06T16:04:51.541Z"
   },
   {
    "duration": 3,
    "start_time": "2021-08-06T16:05:28.526Z"
   },
   {
    "duration": 5880,
    "start_time": "2021-08-06T16:05:33.564Z"
   },
   {
    "duration": 12,
    "start_time": "2021-08-06T16:06:00.445Z"
   },
   {
    "duration": 14,
    "start_time": "2021-08-06T16:07:19.087Z"
   },
   {
    "duration": 8,
    "start_time": "2021-08-06T16:07:27.341Z"
   },
   {
    "duration": 6766,
    "start_time": "2021-08-06T16:07:46.068Z"
   },
   {
    "duration": 6302,
    "start_time": "2021-08-06T16:08:26.885Z"
   },
   {
    "duration": 5879,
    "start_time": "2021-08-06T16:08:53.344Z"
   },
   {
    "duration": 1135,
    "start_time": "2021-08-06T16:13:31.784Z"
   },
   {
    "duration": 16,
    "start_time": "2021-08-06T16:13:32.921Z"
   },
   {
    "duration": 12,
    "start_time": "2021-08-06T16:13:32.941Z"
   },
   {
    "duration": 4,
    "start_time": "2021-08-06T16:13:32.955Z"
   },
   {
    "duration": 13,
    "start_time": "2021-08-06T16:13:32.961Z"
   },
   {
    "duration": 7,
    "start_time": "2021-08-06T16:13:32.975Z"
   },
   {
    "duration": 8,
    "start_time": "2021-08-06T16:13:32.991Z"
   },
   {
    "duration": 45,
    "start_time": "2021-08-06T16:13:33.001Z"
   },
   {
    "duration": 5,
    "start_time": "2021-08-06T16:13:33.048Z"
   },
   {
    "duration": 14,
    "start_time": "2021-08-06T16:13:33.055Z"
   },
   {
    "duration": 10,
    "start_time": "2021-08-06T16:13:33.071Z"
   },
   {
    "duration": 13,
    "start_time": "2021-08-06T16:13:33.083Z"
   },
   {
    "duration": 14,
    "start_time": "2021-08-06T16:13:33.099Z"
   },
   {
    "duration": 27,
    "start_time": "2021-08-06T16:13:33.115Z"
   },
   {
    "duration": 21,
    "start_time": "2021-08-06T16:13:52.710Z"
   },
   {
    "duration": 31,
    "start_time": "2021-08-06T16:15:19.968Z"
   },
   {
    "duration": 10,
    "start_time": "2021-08-06T16:18:51.328Z"
   },
   {
    "duration": 796,
    "start_time": "2021-08-06T16:20:06.430Z"
   },
   {
    "duration": 803,
    "start_time": "2021-08-06T16:20:32.879Z"
   },
   {
    "duration": 754,
    "start_time": "2021-08-06T16:21:05.863Z"
   },
   {
    "duration": 1858,
    "start_time": "2021-08-06T16:21:14.543Z"
   },
   {
    "duration": 815,
    "start_time": "2021-08-06T16:22:03.847Z"
   },
   {
    "duration": 873,
    "start_time": "2021-08-06T16:22:26.839Z"
   },
   {
    "duration": 835,
    "start_time": "2021-08-06T16:22:39.400Z"
   },
   {
    "duration": 6,
    "start_time": "2021-08-06T16:22:49.200Z"
   },
   {
    "duration": 14,
    "start_time": "2021-08-06T16:22:59.031Z"
   },
   {
    "duration": 15,
    "start_time": "2021-08-06T16:23:52.887Z"
   },
   {
    "duration": 921,
    "start_time": "2021-08-06T16:25:39.330Z"
   },
   {
    "duration": 72,
    "start_time": "2021-08-06T16:27:51.765Z"
   },
   {
    "duration": 3,
    "start_time": "2021-08-06T16:28:07.783Z"
   },
   {
    "duration": 99,
    "start_time": "2021-08-06T16:28:08.542Z"
   },
   {
    "duration": 2118,
    "start_time": "2021-08-06T16:28:14.823Z"
   },
   {
    "duration": 674,
    "start_time": "2021-08-06T16:29:33.155Z"
   },
   {
    "duration": 1055,
    "start_time": "2021-08-06T16:29:41.345Z"
   },
   {
    "duration": 17,
    "start_time": "2021-08-06T16:29:42.402Z"
   },
   {
    "duration": 15,
    "start_time": "2021-08-06T16:29:42.421Z"
   },
   {
    "duration": 3,
    "start_time": "2021-08-06T16:29:42.438Z"
   },
   {
    "duration": 10,
    "start_time": "2021-08-06T16:29:42.443Z"
   },
   {
    "duration": 8,
    "start_time": "2021-08-06T16:29:42.455Z"
   },
   {
    "duration": 9,
    "start_time": "2021-08-06T16:29:42.465Z"
   },
   {
    "duration": 49,
    "start_time": "2021-08-06T16:29:42.492Z"
   },
   {
    "duration": 47,
    "start_time": "2021-08-06T16:29:42.543Z"
   },
   {
    "duration": 9,
    "start_time": "2021-08-06T16:29:42.591Z"
   },
   {
    "duration": 13,
    "start_time": "2021-08-06T16:29:42.602Z"
   },
   {
    "duration": 4,
    "start_time": "2021-08-06T16:29:42.616Z"
   },
   {
    "duration": 3867,
    "start_time": "2021-08-06T16:29:42.621Z"
   },
   {
    "duration": 1000,
    "start_time": "2021-08-06T16:30:19.295Z"
   },
   {
    "duration": 1114,
    "start_time": "2021-08-06T16:31:41.988Z"
   },
   {
    "duration": 17,
    "start_time": "2021-08-06T16:31:43.104Z"
   },
   {
    "duration": 10,
    "start_time": "2021-08-06T16:31:43.125Z"
   },
   {
    "duration": 2,
    "start_time": "2021-08-06T16:31:43.137Z"
   },
   {
    "duration": 10,
    "start_time": "2021-08-06T16:31:43.141Z"
   },
   {
    "duration": 9,
    "start_time": "2021-08-06T16:31:43.152Z"
   },
   {
    "duration": 28,
    "start_time": "2021-08-06T16:31:43.165Z"
   },
   {
    "duration": 49,
    "start_time": "2021-08-06T16:31:43.195Z"
   },
   {
    "duration": 32,
    "start_time": "2021-08-06T16:31:43.246Z"
   },
   {
    "duration": 8,
    "start_time": "2021-08-06T16:31:43.280Z"
   },
   {
    "duration": 13,
    "start_time": "2021-08-06T16:31:43.290Z"
   },
   {
    "duration": 2,
    "start_time": "2021-08-06T16:31:43.305Z"
   },
   {
    "duration": 83,
    "start_time": "2021-08-06T16:31:43.309Z"
   },
   {
    "duration": 1132,
    "start_time": "2021-08-06T16:31:56.668Z"
   },
   {
    "duration": 16,
    "start_time": "2021-08-06T16:31:57.804Z"
   },
   {
    "duration": 13,
    "start_time": "2021-08-06T16:31:57.822Z"
   },
   {
    "duration": 5,
    "start_time": "2021-08-06T16:31:57.837Z"
   },
   {
    "duration": 11,
    "start_time": "2021-08-06T16:31:57.843Z"
   },
   {
    "duration": 7,
    "start_time": "2021-08-06T16:31:57.855Z"
   },
   {
    "duration": 28,
    "start_time": "2021-08-06T16:31:57.865Z"
   },
   {
    "duration": 51,
    "start_time": "2021-08-06T16:31:57.894Z"
   },
   {
    "duration": 32,
    "start_time": "2021-08-06T16:31:57.946Z"
   },
   {
    "duration": 8,
    "start_time": "2021-08-06T16:31:57.979Z"
   },
   {
    "duration": 15,
    "start_time": "2021-08-06T16:31:57.988Z"
   },
   {
    "duration": 2,
    "start_time": "2021-08-06T16:31:58.005Z"
   },
   {
    "duration": 83,
    "start_time": "2021-08-06T16:31:58.009Z"
   },
   {
    "duration": 853,
    "start_time": "2021-08-06T16:32:08.938Z"
   },
   {
    "duration": 689,
    "start_time": "2021-08-06T16:36:51.346Z"
   },
   {
    "duration": 743,
    "start_time": "2021-08-06T16:37:13.442Z"
   },
   {
    "duration": 745,
    "start_time": "2021-08-06T16:37:40.506Z"
   },
   {
    "duration": 1057,
    "start_time": "2021-08-06T16:38:04.738Z"
   },
   {
    "duration": 17,
    "start_time": "2021-08-06T16:38:05.797Z"
   },
   {
    "duration": 11,
    "start_time": "2021-08-06T16:38:05.817Z"
   },
   {
    "duration": 8,
    "start_time": "2021-08-06T16:38:05.830Z"
   },
   {
    "duration": 14,
    "start_time": "2021-08-06T16:38:05.839Z"
   },
   {
    "duration": 7,
    "start_time": "2021-08-06T16:38:05.855Z"
   },
   {
    "duration": 13,
    "start_time": "2021-08-06T16:38:05.864Z"
   },
   {
    "duration": 51,
    "start_time": "2021-08-06T16:38:05.879Z"
   },
   {
    "duration": 37,
    "start_time": "2021-08-06T16:38:05.931Z"
   },
   {
    "duration": 5,
    "start_time": "2021-08-06T16:38:05.970Z"
   },
   {
    "duration": 18,
    "start_time": "2021-08-06T16:38:05.976Z"
   },
   {
    "duration": 19,
    "start_time": "2021-08-06T16:38:05.995Z"
   },
   {
    "duration": 201,
    "start_time": "2021-08-06T16:38:06.015Z"
   },
   {
    "duration": 1067,
    "start_time": "2021-08-06T16:38:27.508Z"
   },
   {
    "duration": 16,
    "start_time": "2021-08-06T16:38:28.577Z"
   },
   {
    "duration": 11,
    "start_time": "2021-08-06T16:38:28.596Z"
   },
   {
    "duration": 3,
    "start_time": "2021-08-06T16:38:28.608Z"
   },
   {
    "duration": 11,
    "start_time": "2021-08-06T16:38:28.612Z"
   },
   {
    "duration": 7,
    "start_time": "2021-08-06T16:38:28.624Z"
   },
   {
    "duration": 9,
    "start_time": "2021-08-06T16:38:28.632Z"
   },
   {
    "duration": 49,
    "start_time": "2021-08-06T16:38:28.644Z"
   },
   {
    "duration": 30,
    "start_time": "2021-08-06T16:38:28.695Z"
   },
   {
    "duration": 8,
    "start_time": "2021-08-06T16:38:28.726Z"
   },
   {
    "duration": 11,
    "start_time": "2021-08-06T16:38:28.735Z"
   },
   {
    "duration": 2,
    "start_time": "2021-08-06T16:38:28.747Z"
   },
   {
    "duration": 505,
    "start_time": "2021-08-06T16:38:28.751Z"
   },
   {
    "duration": 1107,
    "start_time": "2021-08-06T16:39:01.398Z"
   },
   {
    "duration": 17,
    "start_time": "2021-08-06T16:39:02.507Z"
   },
   {
    "duration": 12,
    "start_time": "2021-08-06T16:39:02.526Z"
   },
   {
    "duration": 3,
    "start_time": "2021-08-06T16:39:02.540Z"
   },
   {
    "duration": 11,
    "start_time": "2021-08-06T16:39:02.544Z"
   },
   {
    "duration": 7,
    "start_time": "2021-08-06T16:39:02.556Z"
   },
   {
    "duration": 12,
    "start_time": "2021-08-06T16:39:02.565Z"
   },
   {
    "duration": 48,
    "start_time": "2021-08-06T16:39:02.592Z"
   },
   {
    "duration": 34,
    "start_time": "2021-08-06T16:39:02.642Z"
   },
   {
    "duration": 6,
    "start_time": "2021-08-06T16:39:02.678Z"
   },
   {
    "duration": 14,
    "start_time": "2021-08-06T16:39:02.685Z"
   },
   {
    "duration": 6,
    "start_time": "2021-08-06T16:39:02.701Z"
   },
   {
    "duration": 708,
    "start_time": "2021-08-06T16:39:02.708Z"
   },
   {
    "duration": 585,
    "start_time": "2021-08-06T16:39:34.031Z"
   },
   {
    "duration": 577,
    "start_time": "2021-08-06T16:40:11.908Z"
   },
   {
    "duration": 624,
    "start_time": "2021-08-06T16:40:24.474Z"
   },
   {
    "duration": 201,
    "start_time": "2021-08-06T16:40:35.777Z"
   },
   {
    "duration": 313,
    "start_time": "2021-08-06T16:41:46.066Z"
   },
   {
    "duration": 593,
    "start_time": "2021-08-06T16:41:59.937Z"
   },
   {
    "duration": 544,
    "start_time": "2021-08-06T16:42:15.804Z"
   },
   {
    "duration": 323,
    "start_time": "2021-08-06T16:42:25.137Z"
   },
   {
    "duration": 320,
    "start_time": "2021-08-06T16:42:39.633Z"
   },
   {
    "duration": 573,
    "start_time": "2021-08-06T16:43:03.593Z"
   },
   {
    "duration": 329,
    "start_time": "2021-08-06T16:43:26.802Z"
   },
   {
    "duration": 6,
    "start_time": "2021-08-06T16:44:17.945Z"
   },
   {
    "duration": 328,
    "start_time": "2021-08-06T16:44:25.026Z"
   },
   {
    "duration": 537,
    "start_time": "2021-08-06T16:44:56.105Z"
   },
   {
    "duration": 485,
    "start_time": "2021-08-06T16:45:27.682Z"
   },
   {
    "duration": 3,
    "start_time": "2021-08-06T16:46:34.089Z"
   },
   {
    "duration": 478,
    "start_time": "2021-08-06T16:46:34.643Z"
   },
   {
    "duration": 546,
    "start_time": "2021-08-06T16:52:41.939Z"
   },
   {
    "duration": 489,
    "start_time": "2021-08-06T16:52:47.452Z"
   },
   {
    "duration": 163,
    "start_time": "2021-08-06T16:58:37.339Z"
   },
   {
    "duration": 168,
    "start_time": "2021-08-06T16:58:50.708Z"
   },
   {
    "duration": 161,
    "start_time": "2021-08-06T16:58:54.853Z"
   },
   {
    "duration": 171,
    "start_time": "2021-08-06T16:59:02.018Z"
   },
   {
    "duration": 176,
    "start_time": "2021-08-06T17:01:10.679Z"
   },
   {
    "duration": 180,
    "start_time": "2021-08-06T17:01:37.236Z"
   },
   {
    "duration": 177,
    "start_time": "2021-08-06T17:01:49.644Z"
   },
   {
    "duration": 603,
    "start_time": "2021-08-06T17:02:51.197Z"
   },
   {
    "duration": 421,
    "start_time": "2021-08-06T17:03:01.581Z"
   },
   {
    "duration": 181,
    "start_time": "2021-08-06T17:04:21.093Z"
   },
   {
    "duration": 255,
    "start_time": "2021-08-06T17:04:25.445Z"
   },
   {
    "duration": 174,
    "start_time": "2021-08-06T17:04:29.580Z"
   },
   {
    "duration": 181,
    "start_time": "2021-08-06T17:04:33.611Z"
   },
   {
    "duration": 399,
    "start_time": "2021-08-06T17:05:00.921Z"
   },
   {
    "duration": 532,
    "start_time": "2021-08-06T17:09:43.942Z"
   },
   {
    "duration": 196,
    "start_time": "2021-08-06T17:10:33.167Z"
   },
   {
    "duration": 180,
    "start_time": "2021-08-06T17:10:39.357Z"
   },
   {
    "duration": 184,
    "start_time": "2021-08-06T17:10:44.294Z"
   },
   {
    "duration": 183,
    "start_time": "2021-08-06T17:10:49.975Z"
   },
   {
    "duration": 190,
    "start_time": "2021-08-06T17:11:00.501Z"
   },
   {
    "duration": 181,
    "start_time": "2021-08-06T17:11:07.661Z"
   },
   {
    "duration": 176,
    "start_time": "2021-08-06T17:11:10.780Z"
   },
   {
    "duration": 701,
    "start_time": "2021-08-06T17:12:20.973Z"
   },
   {
    "duration": 368,
    "start_time": "2021-08-06T17:12:36.222Z"
   },
   {
    "duration": 236,
    "start_time": "2021-08-06T17:12:43.325Z"
   },
   {
    "duration": 564,
    "start_time": "2021-08-06T17:13:01.640Z"
   },
   {
    "duration": 613,
    "start_time": "2021-08-06T17:13:10.222Z"
   },
   {
    "duration": 299,
    "start_time": "2021-08-06T17:18:20.265Z"
   },
   {
    "duration": 331,
    "start_time": "2021-08-06T17:20:15.793Z"
   },
   {
    "duration": 297,
    "start_time": "2021-08-06T17:20:22.118Z"
   },
   {
    "duration": 177,
    "start_time": "2021-08-06T17:23:55.271Z"
   },
   {
    "duration": 370,
    "start_time": "2021-08-06T17:24:28.760Z"
   },
   {
    "duration": 347,
    "start_time": "2021-08-06T17:24:52.048Z"
   },
   {
    "duration": 326,
    "start_time": "2021-08-06T17:26:19.072Z"
   },
   {
    "duration": 368,
    "start_time": "2021-08-06T17:26:49.448Z"
   },
   {
    "duration": 470,
    "start_time": "2021-08-06T17:27:01.249Z"
   },
   {
    "duration": 228,
    "start_time": "2021-08-06T17:27:07.584Z"
   },
   {
    "duration": 332,
    "start_time": "2021-08-06T17:27:30.431Z"
   },
   {
    "duration": 460,
    "start_time": "2021-08-06T17:28:36.935Z"
   },
   {
    "duration": 227,
    "start_time": "2021-08-06T17:28:58.214Z"
   },
   {
    "duration": 282,
    "start_time": "2021-08-06T17:32:46.048Z"
   },
   {
    "duration": 304,
    "start_time": "2021-08-06T17:32:53.360Z"
   },
   {
    "duration": 230,
    "start_time": "2021-08-06T17:33:17.977Z"
   },
   {
    "duration": 320,
    "start_time": "2021-08-06T17:33:30.801Z"
   },
   {
    "duration": 285,
    "start_time": "2021-08-06T17:33:48.042Z"
   },
   {
    "duration": 343,
    "start_time": "2021-08-06T17:33:56.345Z"
   },
   {
    "duration": 396,
    "start_time": "2021-08-06T17:34:06.344Z"
   },
   {
    "duration": 317,
    "start_time": "2021-08-06T17:34:15.993Z"
   },
   {
    "duration": 320,
    "start_time": "2021-08-06T17:34:35.035Z"
   },
   {
    "duration": 337,
    "start_time": "2021-08-06T17:35:02.009Z"
   },
   {
    "duration": 444,
    "start_time": "2021-08-06T23:44:10.597Z"
   },
   {
    "duration": 310,
    "start_time": "2021-08-06T23:44:52.374Z"
   },
   {
    "duration": 285,
    "start_time": "2021-08-06T23:45:15.524Z"
   },
   {
    "duration": 341,
    "start_time": "2021-08-06T23:45:37.898Z"
   },
   {
    "duration": 5,
    "start_time": "2021-08-06T23:53:41.273Z"
   },
   {
    "duration": 4,
    "start_time": "2021-08-06T23:54:14.904Z"
   },
   {
    "duration": 11,
    "start_time": "2021-08-07T00:05:10.850Z"
   },
   {
    "duration": 288,
    "start_time": "2021-08-07T00:08:14.971Z"
   },
   {
    "duration": 593,
    "start_time": "2021-08-07T00:09:07.083Z"
   },
   {
    "duration": 576,
    "start_time": "2021-08-07T00:09:57.554Z"
   },
   {
    "duration": 1089,
    "start_time": "2021-08-07T00:10:23.767Z"
   },
   {
    "duration": 16,
    "start_time": "2021-08-07T00:10:24.858Z"
   },
   {
    "duration": 12,
    "start_time": "2021-08-07T00:10:24.876Z"
   },
   {
    "duration": 4,
    "start_time": "2021-08-07T00:10:24.890Z"
   },
   {
    "duration": 14,
    "start_time": "2021-08-07T00:10:24.896Z"
   },
   {
    "duration": 11,
    "start_time": "2021-08-07T00:10:24.911Z"
   },
   {
    "duration": 10,
    "start_time": "2021-08-07T00:10:24.923Z"
   },
   {
    "duration": 49,
    "start_time": "2021-08-07T00:10:24.935Z"
   },
   {
    "duration": 36,
    "start_time": "2021-08-07T00:10:24.986Z"
   },
   {
    "duration": 5,
    "start_time": "2021-08-07T00:10:25.024Z"
   },
   {
    "duration": 5,
    "start_time": "2021-08-07T00:10:25.030Z"
   },
   {
    "duration": 574,
    "start_time": "2021-08-07T00:10:25.037Z"
   },
   {
    "duration": 248,
    "start_time": "2021-08-07T00:10:25.613Z"
   },
   {
    "duration": 397,
    "start_time": "2021-08-07T00:10:25.862Z"
   },
   {
    "duration": 255,
    "start_time": "2021-08-07T00:10:26.261Z"
   },
   {
    "duration": 347,
    "start_time": "2021-08-07T00:10:26.518Z"
   },
   {
    "duration": 383,
    "start_time": "2021-08-07T00:10:26.867Z"
   },
   {
    "duration": 4,
    "start_time": "2021-08-07T00:10:27.252Z"
   },
   {
    "duration": 11,
    "start_time": "2021-08-07T00:10:27.258Z"
   },
   {
    "duration": 766,
    "start_time": "2021-08-07T00:10:27.270Z"
   },
   {
    "duration": 4,
    "start_time": "2021-08-07T00:12:10.891Z"
   },
   {
    "duration": 352,
    "start_time": "2021-08-07T00:12:17.323Z"
   },
   {
    "duration": 348,
    "start_time": "2021-08-07T00:12:24.504Z"
   },
   {
    "duration": 349,
    "start_time": "2021-08-07T00:12:47.244Z"
   },
   {
    "duration": 7,
    "start_time": "2021-08-07T00:12:58.226Z"
   },
   {
    "duration": 242,
    "start_time": "2021-08-07T00:14:33.882Z"
   },
   {
    "duration": 241,
    "start_time": "2021-08-07T00:14:57.571Z"
   },
   {
    "duration": 235,
    "start_time": "2021-08-07T00:15:18.093Z"
   },
   {
    "duration": 6,
    "start_time": "2021-08-07T00:15:35.540Z"
   },
   {
    "duration": 4,
    "start_time": "2021-08-07T00:16:07.927Z"
   },
   {
    "duration": 10,
    "start_time": "2021-08-07T00:18:54.641Z"
   },
   {
    "duration": 10,
    "start_time": "2021-08-07T00:19:37.188Z"
   },
   {
    "duration": 7,
    "start_time": "2021-08-07T00:19:44.247Z"
   },
   {
    "duration": 7,
    "start_time": "2021-08-07T00:22:47.768Z"
   },
   {
    "duration": 5,
    "start_time": "2021-08-07T00:22:49.169Z"
   },
   {
    "duration": 8,
    "start_time": "2021-08-07T00:22:55.220Z"
   },
   {
    "duration": 8,
    "start_time": "2021-08-07T00:22:56.564Z"
   },
   {
    "duration": 117,
    "start_time": "2021-08-07T00:26:20.630Z"
   },
   {
    "duration": 239,
    "start_time": "2021-08-07T00:28:57.957Z"
   },
   {
    "duration": 234,
    "start_time": "2021-08-07T00:29:05.247Z"
   },
   {
    "duration": 252,
    "start_time": "2021-08-07T00:29:11.717Z"
   },
   {
    "duration": 214,
    "start_time": "2021-08-07T00:29:28.654Z"
   },
   {
    "duration": 112,
    "start_time": "2021-08-07T00:31:09.663Z"
   },
   {
    "duration": 255,
    "start_time": "2021-08-07T00:32:10.022Z"
   },
   {
    "duration": 341,
    "start_time": "2021-08-07T00:33:00.822Z"
   },
   {
    "duration": 4,
    "start_time": "2021-08-07T00:33:46.221Z"
   },
   {
    "duration": 125,
    "start_time": "2021-08-07T00:35:47.871Z"
   },
   {
    "duration": 6099,
    "start_time": "2021-08-07T00:36:35.172Z"
   },
   {
    "duration": -749,
    "start_time": "2021-08-07T00:36:42.022Z"
   },
   {
    "duration": 268,
    "start_time": "2021-08-07T00:39:03.352Z"
   },
   {
    "duration": 1098,
    "start_time": "2021-08-07T00:43:41.601Z"
   },
   {
    "duration": 18,
    "start_time": "2021-08-07T00:43:42.703Z"
   },
   {
    "duration": 20,
    "start_time": "2021-08-07T00:43:42.723Z"
   },
   {
    "duration": 8,
    "start_time": "2021-08-07T00:43:42.745Z"
   },
   {
    "duration": 11,
    "start_time": "2021-08-07T00:43:42.755Z"
   },
   {
    "duration": 13,
    "start_time": "2021-08-07T00:43:42.768Z"
   },
   {
    "duration": 23,
    "start_time": "2021-08-07T00:43:42.783Z"
   },
   {
    "duration": 47,
    "start_time": "2021-08-07T00:43:42.808Z"
   },
   {
    "duration": 325,
    "start_time": "2021-08-07T00:43:42.857Z"
   },
   {
    "duration": -75,
    "start_time": "2021-08-07T00:43:43.259Z"
   },
   {
    "duration": -77,
    "start_time": "2021-08-07T00:43:43.262Z"
   },
   {
    "duration": -79,
    "start_time": "2021-08-07T00:43:43.265Z"
   },
   {
    "duration": -82,
    "start_time": "2021-08-07T00:43:43.269Z"
   },
   {
    "duration": -83,
    "start_time": "2021-08-07T00:43:43.271Z"
   },
   {
    "duration": -84,
    "start_time": "2021-08-07T00:43:43.273Z"
   },
   {
    "duration": -912,
    "start_time": "2021-08-07T00:43:44.101Z"
   },
   {
    "duration": -920,
    "start_time": "2021-08-07T00:43:44.110Z"
   },
   {
    "duration": -921,
    "start_time": "2021-08-07T00:43:44.113Z"
   },
   {
    "duration": -925,
    "start_time": "2021-08-07T00:43:44.118Z"
   },
   {
    "duration": -927,
    "start_time": "2021-08-07T00:43:44.121Z"
   },
   {
    "duration": -929,
    "start_time": "2021-08-07T00:43:44.125Z"
   },
   {
    "duration": -931,
    "start_time": "2021-08-07T00:43:44.128Z"
   },
   {
    "duration": -933,
    "start_time": "2021-08-07T00:43:44.131Z"
   },
   {
    "duration": -935,
    "start_time": "2021-08-07T00:43:44.134Z"
   },
   {
    "duration": -937,
    "start_time": "2021-08-07T00:43:44.137Z"
   },
   {
    "duration": -938,
    "start_time": "2021-08-07T00:43:44.139Z"
   },
   {
    "duration": -939,
    "start_time": "2021-08-07T00:43:44.141Z"
   },
   {
    "duration": -939,
    "start_time": "2021-08-07T00:43:44.142Z"
   },
   {
    "duration": 1107,
    "start_time": "2021-08-07T00:44:12.898Z"
   },
   {
    "duration": 16,
    "start_time": "2021-08-07T00:44:14.007Z"
   },
   {
    "duration": 13,
    "start_time": "2021-08-07T00:44:14.025Z"
   },
   {
    "duration": 3,
    "start_time": "2021-08-07T00:44:14.039Z"
   },
   {
    "duration": 11,
    "start_time": "2021-08-07T00:44:14.043Z"
   },
   {
    "duration": 7,
    "start_time": "2021-08-07T00:44:14.056Z"
   },
   {
    "duration": 11,
    "start_time": "2021-08-07T00:44:14.064Z"
   },
   {
    "duration": 51,
    "start_time": "2021-08-07T00:44:14.077Z"
   },
   {
    "duration": 32,
    "start_time": "2021-08-07T00:44:14.130Z"
   },
   {
    "duration": 5,
    "start_time": "2021-08-07T00:44:14.163Z"
   },
   {
    "duration": 5,
    "start_time": "2021-08-07T00:44:14.170Z"
   },
   {
    "duration": 582,
    "start_time": "2021-08-07T00:44:14.176Z"
   },
   {
    "duration": 255,
    "start_time": "2021-08-07T00:44:14.760Z"
   },
   {
    "duration": 365,
    "start_time": "2021-08-07T00:44:15.017Z"
   },
   {
    "duration": 243,
    "start_time": "2021-08-07T00:44:15.384Z"
   },
   {
    "duration": 345,
    "start_time": "2021-08-07T00:44:15.629Z"
   },
   {
    "duration": 366,
    "start_time": "2021-08-07T00:44:15.975Z"
   },
   {
    "duration": 112,
    "start_time": "2021-08-07T00:44:16.342Z"
   },
   {
    "duration": 409,
    "start_time": "2021-08-07T00:44:16.456Z"
   },
   {
    "duration": 5,
    "start_time": "2021-08-07T00:44:16.866Z"
   },
   {
    "duration": 20,
    "start_time": "2021-08-07T00:44:16.872Z"
   },
   {
    "duration": 350,
    "start_time": "2021-08-07T00:44:16.897Z"
   },
   {
    "duration": 6,
    "start_time": "2021-08-07T00:44:17.250Z"
   },
   {
    "duration": 6010,
    "start_time": "2021-08-07T00:44:17.258Z"
   },
   {
    "duration": -321,
    "start_time": "2021-08-07T00:44:23.591Z"
   },
   {
    "duration": -330,
    "start_time": "2021-08-07T00:44:23.601Z"
   },
   {
    "duration": -332,
    "start_time": "2021-08-07T00:44:23.604Z"
   },
   {
    "duration": -341,
    "start_time": "2021-08-07T00:44:23.614Z"
   },
   {
    "duration": 4,
    "start_time": "2021-08-07T00:44:39.970Z"
   },
   {
    "duration": 8,
    "start_time": "2021-08-07T00:44:42.549Z"
   },
   {
    "duration": 7,
    "start_time": "2021-08-07T00:44:46.013Z"
   },
   {
    "duration": 351,
    "start_time": "2021-08-07T00:44:48.117Z"
   },
   {
    "duration": 7,
    "start_time": "2021-08-07T00:44:49.484Z"
   },
   {
    "duration": 7,
    "start_time": "2021-08-07T00:45:43.185Z"
   },
   {
    "duration": 4,
    "start_time": "2021-08-07T00:45:44.255Z"
   },
   {
    "duration": 14,
    "start_time": "2021-08-07T00:49:38.402Z"
   },
   {
    "duration": 236,
    "start_time": "2021-08-07T00:54:52.990Z"
   },
   {
    "duration": 340,
    "start_time": "2021-08-07T00:57:28.034Z"
   },
   {
    "duration": 6,
    "start_time": "2021-08-07T00:58:05.790Z"
   },
   {
    "duration": 340,
    "start_time": "2021-08-07T00:58:55.368Z"
   },
   {
    "duration": 241,
    "start_time": "2021-08-07T01:04:15.579Z"
   },
   {
    "duration": 244,
    "start_time": "2021-08-07T01:04:59.168Z"
   },
   {
    "duration": 596,
    "start_time": "2021-08-07T01:05:30.112Z"
   },
   {
    "duration": 1094,
    "start_time": "2021-08-07T01:12:01.647Z"
   },
   {
    "duration": 16,
    "start_time": "2021-08-07T01:12:02.743Z"
   },
   {
    "duration": 15,
    "start_time": "2021-08-07T01:12:02.763Z"
   },
   {
    "duration": 9,
    "start_time": "2021-08-07T01:12:02.779Z"
   },
   {
    "duration": 21,
    "start_time": "2021-08-07T01:12:02.789Z"
   },
   {
    "duration": 8,
    "start_time": "2021-08-07T01:12:02.812Z"
   },
   {
    "duration": 11,
    "start_time": "2021-08-07T01:12:02.822Z"
   },
   {
    "duration": 49,
    "start_time": "2021-08-07T01:12:02.835Z"
   },
   {
    "duration": 42,
    "start_time": "2021-08-07T01:12:02.886Z"
   },
   {
    "duration": 6,
    "start_time": "2021-08-07T01:12:02.930Z"
   },
   {
    "duration": 7,
    "start_time": "2021-08-07T01:12:02.937Z"
   },
   {
    "duration": 624,
    "start_time": "2021-08-07T01:12:02.945Z"
   },
   {
    "duration": 257,
    "start_time": "2021-08-07T01:12:03.570Z"
   },
   {
    "duration": 367,
    "start_time": "2021-08-07T01:12:03.829Z"
   },
   {
    "duration": 263,
    "start_time": "2021-08-07T01:12:04.198Z"
   },
   {
    "duration": 419,
    "start_time": "2021-08-07T01:12:04.463Z"
   },
   {
    "duration": 371,
    "start_time": "2021-08-07T01:12:04.883Z"
   },
   {
    "duration": 107,
    "start_time": "2021-08-07T01:12:05.256Z"
   },
   {
    "duration": 405,
    "start_time": "2021-08-07T01:12:05.365Z"
   },
   {
    "duration": 4,
    "start_time": "2021-08-07T01:12:05.772Z"
   },
   {
    "duration": 15,
    "start_time": "2021-08-07T01:12:05.777Z"
   },
   {
    "duration": 364,
    "start_time": "2021-08-07T01:12:05.795Z"
   },
   {
    "duration": 8,
    "start_time": "2021-08-07T01:12:06.161Z"
   },
   {
    "duration": 23,
    "start_time": "2021-08-07T01:12:06.171Z"
   },
   {
    "duration": 21,
    "start_time": "2021-08-07T01:12:06.196Z"
   },
   {
    "duration": 18,
    "start_time": "2021-08-07T01:12:06.220Z"
   },
   {
    "duration": 359,
    "start_time": "2021-08-07T01:12:06.240Z"
   },
   {
    "duration": 8,
    "start_time": "2021-08-07T01:12:06.602Z"
   },
   {
    "duration": 11,
    "start_time": "2021-08-07T01:12:06.612Z"
   },
   {
    "duration": 26,
    "start_time": "2021-08-07T01:12:06.625Z"
   },
   {
    "duration": 239,
    "start_time": "2021-08-07T01:12:06.653Z"
   },
   {
    "duration": 377,
    "start_time": "2021-08-07T01:12:06.894Z"
   },
   {
    "duration": 245,
    "start_time": "2021-08-07T01:12:07.273Z"
   },
   {
    "duration": 367,
    "start_time": "2021-08-07T01:12:07.520Z"
   },
   {
    "duration": 1503,
    "start_time": "2021-08-07T04:55:06.457Z"
   },
   {
    "duration": 17,
    "start_time": "2021-08-07T04:55:07.963Z"
   },
   {
    "duration": 18,
    "start_time": "2021-08-07T04:55:07.982Z"
   },
   {
    "duration": 4,
    "start_time": "2021-08-07T04:55:08.003Z"
   },
   {
    "duration": 14,
    "start_time": "2021-08-07T04:55:08.009Z"
   },
   {
    "duration": 41,
    "start_time": "2021-08-07T04:55:08.025Z"
   },
   {
    "duration": 14,
    "start_time": "2021-08-07T04:55:08.069Z"
   },
   {
    "duration": 69,
    "start_time": "2021-08-07T04:55:08.086Z"
   },
   {
    "duration": 56,
    "start_time": "2021-08-07T04:55:08.158Z"
   },
   {
    "duration": 9,
    "start_time": "2021-08-07T04:55:08.216Z"
   },
   {
    "duration": 6,
    "start_time": "2021-08-07T04:55:08.227Z"
   },
   {
    "duration": 1188,
    "start_time": "2021-08-07T04:55:08.235Z"
   },
   {
    "duration": 436,
    "start_time": "2021-08-07T04:55:09.425Z"
   },
   {
    "duration": 538,
    "start_time": "2021-08-07T04:55:09.867Z"
   },
   {
    "duration": 446,
    "start_time": "2021-08-07T04:55:10.407Z"
   },
   {
    "duration": 554,
    "start_time": "2021-08-07T04:55:10.855Z"
   },
   {
    "duration": 495,
    "start_time": "2021-08-07T04:55:11.411Z"
   },
   {
    "duration": 193,
    "start_time": "2021-08-07T04:55:11.908Z"
   },
   {
    "duration": 651,
    "start_time": "2021-08-07T04:55:12.104Z"
   },
   {
    "duration": 10,
    "start_time": "2021-08-07T04:55:12.757Z"
   },
   {
    "duration": 6,
    "start_time": "2021-08-07T04:55:12.769Z"
   },
   {
    "duration": 646,
    "start_time": "2021-08-07T04:55:12.777Z"
   },
   {
    "duration": 10,
    "start_time": "2021-08-07T04:55:13.427Z"
   },
   {
    "duration": 5,
    "start_time": "2021-08-07T04:55:13.440Z"
   },
   {
    "duration": 12,
    "start_time": "2021-08-07T04:55:13.468Z"
   },
   {
    "duration": 13,
    "start_time": "2021-08-07T04:55:13.483Z"
   },
   {
    "duration": 675,
    "start_time": "2021-08-07T04:55:13.499Z"
   },
   {
    "duration": 9,
    "start_time": "2021-08-07T04:55:14.176Z"
   },
   {
    "duration": 15,
    "start_time": "2021-08-07T04:55:14.188Z"
   },
   {
    "duration": 23,
    "start_time": "2021-08-07T04:55:14.206Z"
   },
   {
    "duration": 438,
    "start_time": "2021-08-07T04:55:14.232Z"
   },
   {
    "duration": 525,
    "start_time": "2021-08-07T04:55:14.672Z"
   },
   {
    "duration": 433,
    "start_time": "2021-08-07T04:55:15.200Z"
   },
   {
    "duration": 555,
    "start_time": "2021-08-07T04:55:15.636Z"
   },
   {
    "duration": 339,
    "start_time": "2021-08-07T07:57:14.937Z"
   },
   {
    "duration": 1462,
    "start_time": "2021-08-07T07:57:27.157Z"
   },
   {
    "duration": 19,
    "start_time": "2021-08-07T07:57:28.622Z"
   },
   {
    "duration": 19,
    "start_time": "2021-08-07T07:57:28.645Z"
   },
   {
    "duration": 6,
    "start_time": "2021-08-07T07:57:28.666Z"
   },
   {
    "duration": 17,
    "start_time": "2021-08-07T07:57:30.221Z"
   },
   {
    "duration": 13,
    "start_time": "2021-08-07T07:57:31.210Z"
   },
   {
    "duration": 14,
    "start_time": "2021-08-07T07:57:32.237Z"
   },
   {
    "duration": 53,
    "start_time": "2021-08-07T07:57:34.852Z"
   },
   {
    "duration": 57,
    "start_time": "2021-08-07T07:57:36.118Z"
   },
   {
    "duration": 79,
    "start_time": "2021-08-07T07:57:56.261Z"
   },
   {
    "duration": 71,
    "start_time": "2021-08-07T07:58:05.365Z"
   },
   {
    "duration": 80,
    "start_time": "2021-08-07T07:58:12.166Z"
   },
   {
    "duration": 63,
    "start_time": "2021-08-07T07:58:23.074Z"
   },
   {
    "duration": 125,
    "start_time": "2021-08-07T07:58:38.903Z"
   },
   {
    "duration": 83,
    "start_time": "2021-08-07T07:59:08.938Z"
   },
   {
    "duration": 102,
    "start_time": "2021-08-07T07:59:18.425Z"
   },
   {
    "duration": 90,
    "start_time": "2021-08-07T07:59:26.856Z"
   },
   {
    "duration": 85,
    "start_time": "2021-08-07T07:59:33.756Z"
   },
   {
    "duration": 70,
    "start_time": "2021-08-07T07:59:52.865Z"
   },
   {
    "duration": 96,
    "start_time": "2021-08-07T07:59:59.838Z"
   },
   {
    "duration": 96,
    "start_time": "2021-08-07T08:00:17.023Z"
   },
   {
    "duration": 79,
    "start_time": "2021-08-07T08:00:35.843Z"
   },
   {
    "duration": 406,
    "start_time": "2021-08-07T08:03:27.790Z"
   },
   {
    "duration": 14,
    "start_time": "2021-08-07T08:03:35.533Z"
   },
   {
    "duration": 281,
    "start_time": "2021-08-07T08:03:39.102Z"
   },
   {
    "duration": 277,
    "start_time": "2021-08-07T08:03:45.653Z"
   },
   {
    "duration": 5,
    "start_time": "2021-08-07T08:04:11.470Z"
   },
   {
    "duration": 20,
    "start_time": "2021-08-07T08:04:12.671Z"
   },
   {
    "duration": 4,
    "start_time": "2021-08-07T08:04:17.605Z"
   },
   {
    "duration": 19,
    "start_time": "2021-08-07T08:04:18.551Z"
   },
   {
    "duration": 4,
    "start_time": "2021-08-07T08:04:23.901Z"
   },
   {
    "duration": 15,
    "start_time": "2021-08-07T08:04:24.606Z"
   },
   {
    "duration": 5,
    "start_time": "2021-08-07T08:04:29.882Z"
   },
   {
    "duration": 14,
    "start_time": "2021-08-07T08:04:30.686Z"
   },
   {
    "duration": 4,
    "start_time": "2021-08-07T08:04:51.501Z"
   },
   {
    "duration": 15,
    "start_time": "2021-08-07T08:04:52.088Z"
   },
   {
    "duration": 1150,
    "start_time": "2021-08-07T08:04:53.037Z"
   },
   {
    "duration": 11,
    "start_time": "2021-08-07T08:04:54.405Z"
   },
   {
    "duration": 1509,
    "start_time": "2021-08-07T08:05:24.868Z"
   },
   {
    "duration": 22,
    "start_time": "2021-08-07T08:05:26.382Z"
   },
   {
    "duration": 7,
    "start_time": "2021-08-07T08:05:26.408Z"
   },
   {
    "duration": 22,
    "start_time": "2021-08-07T08:05:26.418Z"
   },
   {
    "duration": 4,
    "start_time": "2021-08-07T08:05:26.443Z"
   },
   {
    "duration": 16,
    "start_time": "2021-08-07T08:05:26.450Z"
   },
   {
    "duration": 14,
    "start_time": "2021-08-07T08:05:26.500Z"
   },
   {
    "duration": 25,
    "start_time": "2021-08-07T08:05:26.517Z"
   },
   {
    "duration": 427,
    "start_time": "2021-08-07T08:05:26.546Z"
   },
   {
    "duration": 1457,
    "start_time": "2021-08-07T08:05:25.521Z"
   },
   {
    "duration": 1454,
    "start_time": "2021-08-07T08:05:25.526Z"
   },
   {
    "duration": 1448,
    "start_time": "2021-08-07T08:05:25.534Z"
   },
   {
    "duration": 1445,
    "start_time": "2021-08-07T08:05:25.539Z"
   },
   {
    "duration": 1443,
    "start_time": "2021-08-07T08:05:25.543Z"
   },
   {
    "duration": 1441,
    "start_time": "2021-08-07T08:05:25.547Z"
   },
   {
    "duration": 1440,
    "start_time": "2021-08-07T08:05:25.551Z"
   },
   {
    "duration": 1438,
    "start_time": "2021-08-07T08:05:25.554Z"
   },
   {
    "duration": 1436,
    "start_time": "2021-08-07T08:05:25.558Z"
   },
   {
    "duration": 1434,
    "start_time": "2021-08-07T08:05:25.561Z"
   },
   {
    "duration": 1432,
    "start_time": "2021-08-07T08:05:25.565Z"
   },
   {
    "duration": 1430,
    "start_time": "2021-08-07T08:05:25.568Z"
   },
   {
    "duration": 1428,
    "start_time": "2021-08-07T08:05:25.572Z"
   },
   {
    "duration": 1425,
    "start_time": "2021-08-07T08:05:25.576Z"
   },
   {
    "duration": 1422,
    "start_time": "2021-08-07T08:05:25.580Z"
   },
   {
    "duration": 1420,
    "start_time": "2021-08-07T08:05:25.584Z"
   },
   {
    "duration": 1418,
    "start_time": "2021-08-07T08:05:25.587Z"
   },
   {
    "duration": 1416,
    "start_time": "2021-08-07T08:05:25.590Z"
   },
   {
    "duration": 1415,
    "start_time": "2021-08-07T08:05:25.592Z"
   },
   {
    "duration": 1413,
    "start_time": "2021-08-07T08:05:25.596Z"
   },
   {
    "duration": 1410,
    "start_time": "2021-08-07T08:05:25.600Z"
   },
   {
    "duration": 1409,
    "start_time": "2021-08-07T08:05:25.602Z"
   },
   {
    "duration": 1399,
    "start_time": "2021-08-07T08:05:25.614Z"
   },
   {
    "duration": 1398,
    "start_time": "2021-08-07T08:05:25.616Z"
   },
   {
    "duration": 1397,
    "start_time": "2021-08-07T08:05:25.619Z"
   },
   {
    "duration": 1396,
    "start_time": "2021-08-07T08:05:25.621Z"
   },
   {
    "duration": 1394,
    "start_time": "2021-08-07T08:05:25.624Z"
   },
   {
    "duration": 1393,
    "start_time": "2021-08-07T08:05:25.627Z"
   },
   {
    "duration": 1425,
    "start_time": "2021-08-07T08:05:49.950Z"
   },
   {
    "duration": 19,
    "start_time": "2021-08-07T08:05:51.378Z"
   },
   {
    "duration": 8,
    "start_time": "2021-08-07T08:05:51.400Z"
   },
   {
    "duration": 25,
    "start_time": "2021-08-07T08:05:51.410Z"
   },
   {
    "duration": 5,
    "start_time": "2021-08-07T08:05:51.438Z"
   },
   {
    "duration": 17,
    "start_time": "2021-08-07T08:05:51.445Z"
   },
   {
    "duration": 44,
    "start_time": "2021-08-07T08:05:51.465Z"
   },
   {
    "duration": 25,
    "start_time": "2021-08-07T08:05:51.512Z"
   },
   {
    "duration": 413,
    "start_time": "2021-08-07T08:05:51.541Z"
   },
   {
    "duration": 1472,
    "start_time": "2021-08-07T08:05:50.486Z"
   },
   {
    "duration": 1456,
    "start_time": "2021-08-07T08:05:50.503Z"
   },
   {
    "duration": 1454,
    "start_time": "2021-08-07T08:05:50.507Z"
   },
   {
    "duration": 1452,
    "start_time": "2021-08-07T08:05:50.510Z"
   },
   {
    "duration": 1450,
    "start_time": "2021-08-07T08:05:50.514Z"
   },
   {
    "duration": 1447,
    "start_time": "2021-08-07T08:05:50.518Z"
   },
   {
    "duration": 1446,
    "start_time": "2021-08-07T08:05:50.521Z"
   },
   {
    "duration": 1443,
    "start_time": "2021-08-07T08:05:50.525Z"
   },
   {
    "duration": 1441,
    "start_time": "2021-08-07T08:05:50.528Z"
   },
   {
    "duration": 1440,
    "start_time": "2021-08-07T08:05:50.531Z"
   },
   {
    "duration": 1438,
    "start_time": "2021-08-07T08:05:50.534Z"
   },
   {
    "duration": 1436,
    "start_time": "2021-08-07T08:05:50.538Z"
   },
   {
    "duration": 1433,
    "start_time": "2021-08-07T08:05:50.542Z"
   },
   {
    "duration": 1431,
    "start_time": "2021-08-07T08:05:50.546Z"
   },
   {
    "duration": 1429,
    "start_time": "2021-08-07T08:05:50.549Z"
   },
   {
    "duration": 1426,
    "start_time": "2021-08-07T08:05:50.553Z"
   },
   {
    "duration": 1424,
    "start_time": "2021-08-07T08:05:50.557Z"
   },
   {
    "duration": 1422,
    "start_time": "2021-08-07T08:05:50.560Z"
   },
   {
    "duration": 1421,
    "start_time": "2021-08-07T08:05:50.562Z"
   },
   {
    "duration": 1420,
    "start_time": "2021-08-07T08:05:50.565Z"
   },
   {
    "duration": 1418,
    "start_time": "2021-08-07T08:05:50.568Z"
   },
   {
    "duration": 1415,
    "start_time": "2021-08-07T08:05:50.573Z"
   },
   {
    "duration": 1406,
    "start_time": "2021-08-07T08:05:50.583Z"
   },
   {
    "duration": 1405,
    "start_time": "2021-08-07T08:05:50.586Z"
   },
   {
    "duration": 1402,
    "start_time": "2021-08-07T08:05:50.590Z"
   },
   {
    "duration": 1401,
    "start_time": "2021-08-07T08:05:50.593Z"
   },
   {
    "duration": 1399,
    "start_time": "2021-08-07T08:05:50.596Z"
   },
   {
    "duration": 1401,
    "start_time": "2021-08-07T08:05:50.599Z"
   },
   {
    "duration": 1444,
    "start_time": "2021-08-07T08:06:10.611Z"
   },
   {
    "duration": 19,
    "start_time": "2021-08-07T08:06:12.058Z"
   },
   {
    "duration": 7,
    "start_time": "2021-08-07T08:06:12.080Z"
   },
   {
    "duration": 18,
    "start_time": "2021-08-07T08:06:12.090Z"
   },
   {
    "duration": 7,
    "start_time": "2021-08-07T08:06:12.111Z"
   },
   {
    "duration": 14,
    "start_time": "2021-08-07T08:06:12.121Z"
   },
   {
    "duration": 13,
    "start_time": "2021-08-07T08:06:12.138Z"
   },
   {
    "duration": 14,
    "start_time": "2021-08-07T08:06:12.201Z"
   },
   {
    "duration": 418,
    "start_time": "2021-08-07T08:06:12.220Z"
   },
   {
    "duration": 1487,
    "start_time": "2021-08-07T08:06:11.155Z"
   },
   {
    "duration": 1483,
    "start_time": "2021-08-07T08:06:11.160Z"
   },
   {
    "duration": 1477,
    "start_time": "2021-08-07T08:06:11.168Z"
   },
   {
    "duration": 1473,
    "start_time": "2021-08-07T08:06:11.174Z"
   },
   {
    "duration": 1459,
    "start_time": "2021-08-07T08:06:11.190Z"
   },
   {
    "duration": 1455,
    "start_time": "2021-08-07T08:06:11.195Z"
   },
   {
    "duration": 1453,
    "start_time": "2021-08-07T08:06:11.199Z"
   },
   {
    "duration": 1448,
    "start_time": "2021-08-07T08:06:11.205Z"
   },
   {
    "duration": 1444,
    "start_time": "2021-08-07T08:06:11.210Z"
   },
   {
    "duration": 1441,
    "start_time": "2021-08-07T08:06:11.215Z"
   },
   {
    "duration": 1437,
    "start_time": "2021-08-07T08:06:11.220Z"
   },
   {
    "duration": 1435,
    "start_time": "2021-08-07T08:06:11.224Z"
   },
   {
    "duration": 1433,
    "start_time": "2021-08-07T08:06:11.227Z"
   },
   {
    "duration": 1430,
    "start_time": "2021-08-07T08:06:11.231Z"
   },
   {
    "duration": 1430,
    "start_time": "2021-08-07T08:06:11.233Z"
   },
   {
    "duration": 1427,
    "start_time": "2021-08-07T08:06:11.238Z"
   },
   {
    "duration": 1425,
    "start_time": "2021-08-07T08:06:11.241Z"
   },
   {
    "duration": 1423,
    "start_time": "2021-08-07T08:06:11.245Z"
   },
   {
    "duration": 1420,
    "start_time": "2021-08-07T08:06:11.249Z"
   },
   {
    "duration": 1413,
    "start_time": "2021-08-07T08:06:11.258Z"
   },
   {
    "duration": 1411,
    "start_time": "2021-08-07T08:06:11.261Z"
   },
   {
    "duration": 1411,
    "start_time": "2021-08-07T08:06:11.263Z"
   },
   {
    "duration": 1410,
    "start_time": "2021-08-07T08:06:11.266Z"
   },
   {
    "duration": 1408,
    "start_time": "2021-08-07T08:06:11.269Z"
   },
   {
    "duration": 1408,
    "start_time": "2021-08-07T08:06:11.271Z"
   },
   {
    "duration": 1406,
    "start_time": "2021-08-07T08:06:11.274Z"
   },
   {
    "duration": 1405,
    "start_time": "2021-08-07T08:06:11.276Z"
   },
   {
    "duration": 1403,
    "start_time": "2021-08-07T08:06:11.280Z"
   },
   {
    "duration": 1953,
    "start_time": "2021-08-07T08:06:28.376Z"
   },
   {
    "duration": 22,
    "start_time": "2021-08-07T08:06:30.332Z"
   },
   {
    "duration": 13,
    "start_time": "2021-08-07T08:06:30.358Z"
   },
   {
    "duration": 37,
    "start_time": "2021-08-07T08:06:30.375Z"
   },
   {
    "duration": 8,
    "start_time": "2021-08-07T08:06:30.415Z"
   },
   {
    "duration": 35,
    "start_time": "2021-08-07T08:06:30.426Z"
   },
   {
    "duration": 16,
    "start_time": "2021-08-07T08:06:30.464Z"
   },
   {
    "duration": 35,
    "start_time": "2021-08-07T08:06:30.485Z"
   },
   {
    "duration": 1110,
    "start_time": "2021-08-07T08:06:30.523Z"
   },
   {
    "duration": 1521,
    "start_time": "2021-08-07T08:06:30.115Z"
   },
   {
    "duration": 1495,
    "start_time": "2021-08-07T08:06:30.143Z"
   },
   {
    "duration": 1490,
    "start_time": "2021-08-07T08:06:30.149Z"
   },
   {
    "duration": 1481,
    "start_time": "2021-08-07T08:06:30.160Z"
   },
   {
    "duration": 1477,
    "start_time": "2021-08-07T08:06:30.165Z"
   },
   {
    "duration": 1467,
    "start_time": "2021-08-07T08:06:30.177Z"
   },
   {
    "duration": 1454,
    "start_time": "2021-08-07T08:06:30.191Z"
   },
   {
    "duration": 1453,
    "start_time": "2021-08-07T08:06:30.194Z"
   },
   {
    "duration": 1439,
    "start_time": "2021-08-07T08:06:30.209Z"
   },
   {
    "duration": 1438,
    "start_time": "2021-08-07T08:06:30.212Z"
   },
   {
    "duration": 1424,
    "start_time": "2021-08-07T08:06:30.227Z"
   },
   {
    "duration": 1420,
    "start_time": "2021-08-07T08:06:30.232Z"
   },
   {
    "duration": 1410,
    "start_time": "2021-08-07T08:06:30.244Z"
   },
   {
    "duration": 1397,
    "start_time": "2021-08-07T08:06:30.258Z"
   },
   {
    "duration": 1395,
    "start_time": "2021-08-07T08:06:30.261Z"
   },
   {
    "duration": 1383,
    "start_time": "2021-08-07T08:06:30.275Z"
   },
   {
    "duration": 1378,
    "start_time": "2021-08-07T08:06:30.281Z"
   },
   {
    "duration": 1370,
    "start_time": "2021-08-07T08:06:30.291Z"
   },
   {
    "duration": 1368,
    "start_time": "2021-08-07T08:06:30.294Z"
   },
   {
    "duration": 1356,
    "start_time": "2021-08-07T08:06:30.307Z"
   },
   {
    "duration": 1353,
    "start_time": "2021-08-07T08:06:30.311Z"
   },
   {
    "duration": 1342,
    "start_time": "2021-08-07T08:06:30.324Z"
   },
   {
    "duration": 1340,
    "start_time": "2021-08-07T08:06:30.327Z"
   },
   {
    "duration": 1329,
    "start_time": "2021-08-07T08:06:30.340Z"
   },
   {
    "duration": 1326,
    "start_time": "2021-08-07T08:06:30.344Z"
   },
   {
    "duration": 1313,
    "start_time": "2021-08-07T08:06:30.359Z"
   },
   {
    "duration": 1326,
    "start_time": "2021-08-07T08:06:30.374Z"
   },
   {
    "duration": 1324,
    "start_time": "2021-08-07T08:06:30.377Z"
   },
   {
    "duration": 1452,
    "start_time": "2021-08-07T08:06:53.910Z"
   },
   {
    "duration": 20,
    "start_time": "2021-08-07T08:06:55.365Z"
   },
   {
    "duration": 6,
    "start_time": "2021-08-07T08:06:55.388Z"
   },
   {
    "duration": 21,
    "start_time": "2021-08-07T08:06:55.396Z"
   },
   {
    "duration": 5,
    "start_time": "2021-08-07T08:06:55.419Z"
   },
   {
    "duration": 19,
    "start_time": "2021-08-07T08:06:55.427Z"
   },
   {
    "duration": 13,
    "start_time": "2021-08-07T08:06:55.449Z"
   },
   {
    "duration": 14,
    "start_time": "2021-08-07T08:06:55.503Z"
   },
   {
    "duration": 425,
    "start_time": "2021-08-07T08:06:55.520Z"
   },
   {
    "duration": 1451,
    "start_time": "2021-08-07T08:06:54.497Z"
   },
   {
    "duration": 1448,
    "start_time": "2021-08-07T08:06:54.502Z"
   },
   {
    "duration": 1443,
    "start_time": "2021-08-07T08:06:54.508Z"
   },
   {
    "duration": 1440,
    "start_time": "2021-08-07T08:06:54.513Z"
   },
   {
    "duration": 1437,
    "start_time": "2021-08-07T08:06:54.517Z"
   },
   {
    "duration": 1434,
    "start_time": "2021-08-07T08:06:54.522Z"
   },
   {
    "duration": 1430,
    "start_time": "2021-08-07T08:06:54.527Z"
   },
   {
    "duration": 1427,
    "start_time": "2021-08-07T08:06:54.532Z"
   },
   {
    "duration": 1424,
    "start_time": "2021-08-07T08:06:54.536Z"
   },
   {
    "duration": 1421,
    "start_time": "2021-08-07T08:06:54.541Z"
   },
   {
    "duration": 1418,
    "start_time": "2021-08-07T08:06:54.546Z"
   },
   {
    "duration": 1415,
    "start_time": "2021-08-07T08:06:54.550Z"
   },
   {
    "duration": 1412,
    "start_time": "2021-08-07T08:06:54.554Z"
   },
   {
    "duration": 1410,
    "start_time": "2021-08-07T08:06:54.558Z"
   },
   {
    "duration": 1408,
    "start_time": "2021-08-07T08:06:54.561Z"
   },
   {
    "duration": 1406,
    "start_time": "2021-08-07T08:06:54.564Z"
   },
   {
    "duration": 1397,
    "start_time": "2021-08-07T08:06:54.574Z"
   },
   {
    "duration": 1396,
    "start_time": "2021-08-07T08:06:54.577Z"
   },
   {
    "duration": 1394,
    "start_time": "2021-08-07T08:06:54.580Z"
   },
   {
    "duration": 1391,
    "start_time": "2021-08-07T08:06:54.584Z"
   },
   {
    "duration": 1390,
    "start_time": "2021-08-07T08:06:54.587Z"
   },
   {
    "duration": 1387,
    "start_time": "2021-08-07T08:06:54.591Z"
   },
   {
    "duration": 1386,
    "start_time": "2021-08-07T08:06:54.594Z"
   },
   {
    "duration": 1385,
    "start_time": "2021-08-07T08:06:54.596Z"
   },
   {
    "duration": 1384,
    "start_time": "2021-08-07T08:06:54.599Z"
   },
   {
    "duration": 1382,
    "start_time": "2021-08-07T08:06:54.602Z"
   },
   {
    "duration": 1380,
    "start_time": "2021-08-07T08:06:54.605Z"
   },
   {
    "duration": 1378,
    "start_time": "2021-08-07T08:06:54.608Z"
   },
   {
    "duration": 1550,
    "start_time": "2021-08-07T08:07:13.636Z"
   },
   {
    "duration": 19,
    "start_time": "2021-08-07T08:07:15.188Z"
   },
   {
    "duration": 6,
    "start_time": "2021-08-07T08:07:15.211Z"
   },
   {
    "duration": 23,
    "start_time": "2021-08-07T08:07:15.220Z"
   },
   {
    "duration": 4,
    "start_time": "2021-08-07T08:07:15.245Z"
   },
   {
    "duration": 16,
    "start_time": "2021-08-07T08:07:15.252Z"
   },
   {
    "duration": 39,
    "start_time": "2021-08-07T08:07:15.270Z"
   },
   {
    "duration": 15,
    "start_time": "2021-08-07T08:07:15.313Z"
   },
   {
    "duration": 419,
    "start_time": "2021-08-07T08:07:15.331Z"
   },
   {
    "duration": 1478,
    "start_time": "2021-08-07T08:07:14.277Z"
   },
   {
    "duration": 1476,
    "start_time": "2021-08-07T08:07:14.281Z"
   },
   {
    "duration": 1476,
    "start_time": "2021-08-07T08:07:14.283Z"
   },
   {
    "duration": 1466,
    "start_time": "2021-08-07T08:07:14.296Z"
   },
   {
    "duration": 1464,
    "start_time": "2021-08-07T08:07:14.300Z"
   },
   {
    "duration": 1462,
    "start_time": "2021-08-07T08:07:14.305Z"
   },
   {
    "duration": 1454,
    "start_time": "2021-08-07T08:07:14.315Z"
   },
   {
    "duration": 1452,
    "start_time": "2021-08-07T08:07:14.319Z"
   },
   {
    "duration": 1443,
    "start_time": "2021-08-07T08:07:14.330Z"
   },
   {
    "duration": 1442,
    "start_time": "2021-08-07T08:07:14.333Z"
   },
   {
    "duration": 1438,
    "start_time": "2021-08-07T08:07:14.338Z"
   },
   {
    "duration": 1429,
    "start_time": "2021-08-07T08:07:14.349Z"
   },
   {
    "duration": 1426,
    "start_time": "2021-08-07T08:07:14.354Z"
   },
   {
    "duration": 1416,
    "start_time": "2021-08-07T08:07:14.366Z"
   },
   {
    "duration": 1413,
    "start_time": "2021-08-07T08:07:14.371Z"
   },
   {
    "duration": 1405,
    "start_time": "2021-08-07T08:07:14.381Z"
   },
   {
    "duration": 1403,
    "start_time": "2021-08-07T08:07:14.385Z"
   },
   {
    "duration": 1393,
    "start_time": "2021-08-07T08:07:14.397Z"
   },
   {
    "duration": 1400,
    "start_time": "2021-08-07T08:07:14.400Z"
   },
   {
    "duration": 1389,
    "start_time": "2021-08-07T08:07:14.413Z"
   },
   {
    "duration": 1388,
    "start_time": "2021-08-07T08:07:14.417Z"
   },
   {
    "duration": 1377,
    "start_time": "2021-08-07T08:07:14.429Z"
   },
   {
    "duration": 1362,
    "start_time": "2021-08-07T08:07:14.446Z"
   },
   {
    "duration": 1360,
    "start_time": "2021-08-07T08:07:14.450Z"
   },
   {
    "duration": 1358,
    "start_time": "2021-08-07T08:07:14.454Z"
   },
   {
    "duration": 1349,
    "start_time": "2021-08-07T08:07:14.465Z"
   },
   {
    "duration": 1346,
    "start_time": "2021-08-07T08:07:14.470Z"
   },
   {
    "duration": 1336,
    "start_time": "2021-08-07T08:07:14.482Z"
   },
   {
    "duration": 20,
    "start_time": "2021-08-07T08:07:26.847Z"
   },
   {
    "duration": 1555,
    "start_time": "2021-08-07T08:07:52.745Z"
   },
   {
    "duration": 21,
    "start_time": "2021-08-07T08:07:54.303Z"
   },
   {
    "duration": 6,
    "start_time": "2021-08-07T08:07:54.327Z"
   },
   {
    "duration": 18,
    "start_time": "2021-08-07T08:07:54.336Z"
   },
   {
    "duration": 7,
    "start_time": "2021-08-07T08:07:54.357Z"
   },
   {
    "duration": 47,
    "start_time": "2021-08-07T08:07:54.367Z"
   },
   {
    "duration": 18,
    "start_time": "2021-08-07T08:07:54.417Z"
   },
   {
    "duration": 15,
    "start_time": "2021-08-07T08:07:54.440Z"
   },
   {
    "duration": 655,
    "start_time": "2021-08-07T08:07:54.458Z"
   },
   {
    "duration": 1500,
    "start_time": "2021-08-07T08:07:53.617Z"
   },
   {
    "duration": 1495,
    "start_time": "2021-08-07T08:07:53.623Z"
   },
   {
    "duration": 1491,
    "start_time": "2021-08-07T08:07:53.629Z"
   },
   {
    "duration": 1484,
    "start_time": "2021-08-07T08:07:53.639Z"
   },
   {
    "duration": 1481,
    "start_time": "2021-08-07T08:07:53.644Z"
   },
   {
    "duration": 1475,
    "start_time": "2021-08-07T08:07:53.652Z"
   },
   {
    "duration": 1472,
    "start_time": "2021-08-07T08:07:53.657Z"
   },
   {
    "duration": 1462,
    "start_time": "2021-08-07T08:07:53.668Z"
   },
   {
    "duration": 1460,
    "start_time": "2021-08-07T08:07:53.672Z"
   },
   {
    "duration": 1456,
    "start_time": "2021-08-07T08:07:53.677Z"
   },
   {
    "duration": 1445,
    "start_time": "2021-08-07T08:07:53.689Z"
   },
   {
    "duration": 1442,
    "start_time": "2021-08-07T08:07:53.694Z"
   },
   {
    "duration": 1431,
    "start_time": "2021-08-07T08:07:53.706Z"
   },
   {
    "duration": 1426,
    "start_time": "2021-08-07T08:07:53.712Z"
   },
   {
    "duration": 1417,
    "start_time": "2021-08-07T08:07:53.723Z"
   },
   {
    "duration": 1404,
    "start_time": "2021-08-07T08:07:53.737Z"
   },
   {
    "duration": 1401,
    "start_time": "2021-08-07T08:07:53.741Z"
   },
   {
    "duration": 1390,
    "start_time": "2021-08-07T08:07:53.754Z"
   },
   {
    "duration": 1364,
    "start_time": "2021-08-07T08:07:53.781Z"
   },
   {
    "duration": 1359,
    "start_time": "2021-08-07T08:07:53.787Z"
   },
   {
    "duration": 1358,
    "start_time": "2021-08-07T08:07:53.790Z"
   },
   {
    "duration": 1354,
    "start_time": "2021-08-07T08:07:53.795Z"
   },
   {
    "duration": 1346,
    "start_time": "2021-08-07T08:07:53.804Z"
   },
   {
    "duration": 1341,
    "start_time": "2021-08-07T08:07:53.810Z"
   },
   {
    "duration": 1335,
    "start_time": "2021-08-07T08:07:53.817Z"
   },
   {
    "duration": 1379,
    "start_time": "2021-08-07T08:07:53.821Z"
   },
   {
    "duration": 1369,
    "start_time": "2021-08-07T08:07:53.833Z"
   },
   {
    "duration": 1367,
    "start_time": "2021-08-07T08:07:53.836Z"
   },
   {
    "duration": 98,
    "start_time": "2021-08-07T08:09:57.325Z"
   },
   {
    "duration": 101,
    "start_time": "2021-08-07T08:10:18.574Z"
   },
   {
    "duration": 6,
    "start_time": "2021-08-07T08:10:32.168Z"
   },
   {
    "duration": 6,
    "start_time": "2021-08-07T08:10:56.102Z"
   },
   {
    "duration": 91,
    "start_time": "2021-08-07T08:11:19.166Z"
   },
   {
    "duration": 120,
    "start_time": "2021-08-07T08:11:24.063Z"
   },
   {
    "duration": 106,
    "start_time": "2021-08-07T08:11:27.088Z"
   },
   {
    "duration": 99,
    "start_time": "2021-08-07T08:12:16.100Z"
   },
   {
    "duration": 91,
    "start_time": "2021-08-07T08:12:47.399Z"
   },
   {
    "duration": 101,
    "start_time": "2021-08-07T08:12:56.375Z"
   },
   {
    "duration": 90,
    "start_time": "2021-08-07T08:13:18.054Z"
   },
   {
    "duration": 91,
    "start_time": "2021-08-07T08:13:23.470Z"
   },
   {
    "duration": 98,
    "start_time": "2021-08-07T08:13:37.109Z"
   },
   {
    "duration": 96,
    "start_time": "2021-08-07T08:13:43.526Z"
   },
   {
    "duration": 1493,
    "start_time": "2021-08-07T08:13:56.093Z"
   },
   {
    "duration": 19,
    "start_time": "2021-08-07T08:13:57.589Z"
   },
   {
    "duration": 9,
    "start_time": "2021-08-07T08:13:57.612Z"
   },
   {
    "duration": 24,
    "start_time": "2021-08-07T08:13:57.624Z"
   },
   {
    "duration": 15,
    "start_time": "2021-08-07T08:13:57.651Z"
   },
   {
    "duration": 23,
    "start_time": "2021-08-07T08:13:57.668Z"
   },
   {
    "duration": 19,
    "start_time": "2021-08-07T08:13:57.694Z"
   },
   {
    "duration": 21,
    "start_time": "2021-08-07T08:13:57.716Z"
   },
   {
    "duration": 90,
    "start_time": "2021-08-07T08:13:57.740Z"
   },
   {
    "duration": 1413,
    "start_time": "2021-08-07T08:13:56.420Z"
   },
   {
    "duration": 1410,
    "start_time": "2021-08-07T08:13:56.424Z"
   },
   {
    "duration": 1408,
    "start_time": "2021-08-07T08:13:56.427Z"
   },
   {
    "duration": 1407,
    "start_time": "2021-08-07T08:13:56.430Z"
   },
   {
    "duration": 1374,
    "start_time": "2021-08-07T08:13:56.464Z"
   },
   {
    "duration": 1374,
    "start_time": "2021-08-07T08:13:56.466Z"
   },
   {
    "duration": 1372,
    "start_time": "2021-08-07T08:13:56.469Z"
   },
   {
    "duration": 1371,
    "start_time": "2021-08-07T08:13:56.472Z"
   },
   {
    "duration": 1369,
    "start_time": "2021-08-07T08:13:56.475Z"
   },
   {
    "duration": 1368,
    "start_time": "2021-08-07T08:13:56.478Z"
   },
   {
    "duration": 1366,
    "start_time": "2021-08-07T08:13:56.481Z"
   },
   {
    "duration": 1364,
    "start_time": "2021-08-07T08:13:56.484Z"
   },
   {
    "duration": 1363,
    "start_time": "2021-08-07T08:13:56.487Z"
   },
   {
    "duration": 1361,
    "start_time": "2021-08-07T08:13:56.490Z"
   },
   {
    "duration": 1360,
    "start_time": "2021-08-07T08:13:56.493Z"
   },
   {
    "duration": 1359,
    "start_time": "2021-08-07T08:13:56.495Z"
   },
   {
    "duration": 1357,
    "start_time": "2021-08-07T08:13:56.498Z"
   },
   {
    "duration": 1356,
    "start_time": "2021-08-07T08:13:56.501Z"
   },
   {
    "duration": 1354,
    "start_time": "2021-08-07T08:13:56.504Z"
   },
   {
    "duration": 1353,
    "start_time": "2021-08-07T08:13:56.507Z"
   },
   {
    "duration": 1350,
    "start_time": "2021-08-07T08:13:56.511Z"
   },
   {
    "duration": 1349,
    "start_time": "2021-08-07T08:13:56.513Z"
   },
   {
    "duration": 1348,
    "start_time": "2021-08-07T08:13:56.516Z"
   },
   {
    "duration": 1346,
    "start_time": "2021-08-07T08:13:56.519Z"
   },
   {
    "duration": 1344,
    "start_time": "2021-08-07T08:13:56.522Z"
   },
   {
    "duration": 1343,
    "start_time": "2021-08-07T08:13:56.525Z"
   },
   {
    "duration": 1341,
    "start_time": "2021-08-07T08:13:56.528Z"
   },
   {
    "duration": 1339,
    "start_time": "2021-08-07T08:13:56.531Z"
   },
   {
    "duration": 96,
    "start_time": "2021-08-07T08:14:32.865Z"
   },
   {
    "duration": 95,
    "start_time": "2021-08-07T08:14:41.862Z"
   },
   {
    "duration": 107,
    "start_time": "2021-08-07T08:14:46.294Z"
   },
   {
    "duration": 103,
    "start_time": "2021-08-07T08:14:51.412Z"
   },
   {
    "duration": 94,
    "start_time": "2021-08-07T08:15:18.758Z"
   },
   {
    "duration": 108,
    "start_time": "2021-08-07T08:15:27.206Z"
   },
   {
    "duration": 95,
    "start_time": "2021-08-07T08:15:34.488Z"
   },
   {
    "duration": 93,
    "start_time": "2021-08-07T08:15:40.413Z"
   },
   {
    "duration": 103,
    "start_time": "2021-08-07T08:15:44.309Z"
   },
   {
    "duration": 91,
    "start_time": "2021-08-07T08:16:01.781Z"
   },
   {
    "duration": 1901,
    "start_time": "2021-08-07T08:16:17.887Z"
   },
   {
    "duration": 21,
    "start_time": "2021-08-07T08:16:19.791Z"
   },
   {
    "duration": 7,
    "start_time": "2021-08-07T08:16:19.816Z"
   },
   {
    "duration": 28,
    "start_time": "2021-08-07T08:16:19.826Z"
   },
   {
    "duration": 4,
    "start_time": "2021-08-07T08:16:19.857Z"
   },
   {
    "duration": 44,
    "start_time": "2021-08-07T08:16:19.864Z"
   },
   {
    "duration": 18,
    "start_time": "2021-08-07T08:16:19.911Z"
   },
   {
    "duration": 13,
    "start_time": "2021-08-07T08:16:19.933Z"
   },
   {
    "duration": 105,
    "start_time": "2021-08-07T08:16:19.949Z"
   },
   {
    "duration": 1446,
    "start_time": "2021-08-07T08:16:18.611Z"
   },
   {
    "duration": 1443,
    "start_time": "2021-08-07T08:16:18.615Z"
   },
   {
    "duration": 1441,
    "start_time": "2021-08-07T08:16:18.619Z"
   },
   {
    "duration": 1439,
    "start_time": "2021-08-07T08:16:18.622Z"
   },
   {
    "duration": 1438,
    "start_time": "2021-08-07T08:16:18.625Z"
   },
   {
    "duration": 1436,
    "start_time": "2021-08-07T08:16:18.628Z"
   },
   {
    "duration": 1413,
    "start_time": "2021-08-07T08:16:18.652Z"
   },
   {
    "duration": 1411,
    "start_time": "2021-08-07T08:16:18.656Z"
   },
   {
    "duration": 1409,
    "start_time": "2021-08-07T08:16:18.659Z"
   },
   {
    "duration": 1408,
    "start_time": "2021-08-07T08:16:18.662Z"
   },
   {
    "duration": 1407,
    "start_time": "2021-08-07T08:16:18.664Z"
   },
   {
    "duration": 1405,
    "start_time": "2021-08-07T08:16:18.667Z"
   },
   {
    "duration": 1400,
    "start_time": "2021-08-07T08:16:18.673Z"
   },
   {
    "duration": 1400,
    "start_time": "2021-08-07T08:16:18.675Z"
   },
   {
    "duration": 1398,
    "start_time": "2021-08-07T08:16:18.678Z"
   },
   {
    "duration": 1397,
    "start_time": "2021-08-07T08:16:18.681Z"
   },
   {
    "duration": 1394,
    "start_time": "2021-08-07T08:16:18.685Z"
   },
   {
    "duration": 1392,
    "start_time": "2021-08-07T08:16:18.688Z"
   },
   {
    "duration": 1391,
    "start_time": "2021-08-07T08:16:18.691Z"
   },
   {
    "duration": 1390,
    "start_time": "2021-08-07T08:16:18.693Z"
   },
   {
    "duration": 1389,
    "start_time": "2021-08-07T08:16:18.696Z"
   },
   {
    "duration": 1387,
    "start_time": "2021-08-07T08:16:18.699Z"
   },
   {
    "duration": 1385,
    "start_time": "2021-08-07T08:16:18.702Z"
   },
   {
    "duration": 1384,
    "start_time": "2021-08-07T08:16:18.705Z"
   },
   {
    "duration": 1382,
    "start_time": "2021-08-07T08:16:18.708Z"
   },
   {
    "duration": 1381,
    "start_time": "2021-08-07T08:16:18.710Z"
   },
   {
    "duration": 1379,
    "start_time": "2021-08-07T08:16:18.714Z"
   },
   {
    "duration": 96,
    "start_time": "2021-08-07T08:16:49.959Z"
   },
   {
    "duration": 52,
    "start_time": "2021-08-07T08:17:19.894Z"
   },
   {
    "duration": 110,
    "start_time": "2021-08-07T08:17:20.990Z"
   },
   {
    "duration": 98,
    "start_time": "2021-08-07T08:22:28.315Z"
   },
   {
    "duration": 105,
    "start_time": "2021-08-07T08:23:16.089Z"
   },
   {
    "duration": 101,
    "start_time": "2021-08-07T08:23:50.255Z"
   },
   {
    "duration": 87,
    "start_time": "2021-08-07T08:23:58.818Z"
   },
   {
    "duration": 127,
    "start_time": "2021-08-07T08:24:10.752Z"
   },
   {
    "duration": 96,
    "start_time": "2021-08-07T08:24:18.920Z"
   },
   {
    "duration": 1502,
    "start_time": "2021-08-07T08:28:36.776Z"
   },
   {
    "duration": 21,
    "start_time": "2021-08-07T08:28:38.281Z"
   },
   {
    "duration": 9,
    "start_time": "2021-08-07T08:28:38.305Z"
   },
   {
    "duration": 18,
    "start_time": "2021-08-07T08:28:38.316Z"
   },
   {
    "duration": 4,
    "start_time": "2021-08-07T08:28:38.336Z"
   },
   {
    "duration": 21,
    "start_time": "2021-08-07T08:28:38.342Z"
   },
   {
    "duration": 46,
    "start_time": "2021-08-07T08:28:38.366Z"
   },
   {
    "duration": 14,
    "start_time": "2021-08-07T08:28:38.416Z"
   },
   {
    "duration": 59,
    "start_time": "2021-08-07T08:28:38.432Z"
   },
   {
    "duration": 82,
    "start_time": "2021-08-07T08:28:38.494Z"
   },
   {
    "duration": 10,
    "start_time": "2021-08-07T08:28:38.602Z"
   },
   {
    "duration": 13,
    "start_time": "2021-08-07T08:28:38.614Z"
   },
   {
    "duration": 1459,
    "start_time": "2021-08-07T08:28:38.629Z"
   },
   {
    "duration": 421,
    "start_time": "2021-08-07T08:28:40.102Z"
   },
   {
    "duration": 512,
    "start_time": "2021-08-07T08:28:40.526Z"
   },
   {
    "duration": 431,
    "start_time": "2021-08-07T08:28:41.041Z"
   },
   {
    "duration": 687,
    "start_time": "2021-08-07T08:28:41.475Z"
   },
   {
    "duration": 528,
    "start_time": "2021-08-07T08:28:42.165Z"
   },
   {
    "duration": 204,
    "start_time": "2021-08-07T08:28:42.696Z"
   },
   {
    "duration": 564,
    "start_time": "2021-08-07T08:28:42.903Z"
   },
   {
    "duration": 7,
    "start_time": "2021-08-07T08:28:43.470Z"
   },
   {
    "duration": 23,
    "start_time": "2021-08-07T08:28:43.479Z"
   },
   {
    "duration": 658,
    "start_time": "2021-08-07T08:28:43.507Z"
   },
   {
    "duration": 11,
    "start_time": "2021-08-07T08:28:44.169Z"
   },
   {
    "duration": 8,
    "start_time": "2021-08-07T08:28:44.201Z"
   },
   {
    "duration": 10,
    "start_time": "2021-08-07T08:28:44.212Z"
   },
   {
    "duration": 9,
    "start_time": "2021-08-07T08:28:44.225Z"
   },
   {
    "duration": 675,
    "start_time": "2021-08-07T08:28:44.237Z"
   },
   {
    "duration": 8,
    "start_time": "2021-08-07T08:28:44.914Z"
   },
   {
    "duration": 8,
    "start_time": "2021-08-07T08:28:44.925Z"
   },
   {
    "duration": 26,
    "start_time": "2021-08-07T08:28:44.936Z"
   },
   {
    "duration": 436,
    "start_time": "2021-08-07T08:28:44.964Z"
   },
   {
    "duration": 506,
    "start_time": "2021-08-07T08:28:45.403Z"
   },
   {
    "duration": 416,
    "start_time": "2021-08-07T08:28:45.911Z"
   },
   {
    "duration": 530,
    "start_time": "2021-08-07T08:28:46.329Z"
   },
   {
    "duration": 402,
    "start_time": "2021-08-07T08:35:04.479Z"
   },
   {
    "duration": 410,
    "start_time": "2021-08-07T08:39:00.078Z"
   },
   {
    "duration": 8,
    "start_time": "2021-08-07T08:39:49.106Z"
   },
   {
    "duration": 7,
    "start_time": "2021-08-07T08:39:58.091Z"
   },
   {
    "duration": 26,
    "start_time": "2021-08-07T08:40:11.764Z"
   },
   {
    "duration": 18,
    "start_time": "2021-08-07T08:40:32.541Z"
   },
   {
    "duration": 16,
    "start_time": "2021-08-07T08:41:35.308Z"
   },
   {
    "duration": 395,
    "start_time": "2021-08-07T08:42:34.660Z"
   },
   {
    "duration": 530,
    "start_time": "2021-08-07T08:43:07.084Z"
   },
   {
    "duration": 532,
    "start_time": "2021-08-07T08:44:31.155Z"
   },
   {
    "duration": 8,
    "start_time": "2021-08-07T08:45:41.547Z"
   },
   {
    "duration": 1443,
    "start_time": "2021-08-07T08:46:18.016Z"
   },
   {
    "duration": 20,
    "start_time": "2021-08-07T08:46:19.461Z"
   },
   {
    "duration": 7,
    "start_time": "2021-08-07T08:46:19.484Z"
   },
   {
    "duration": 20,
    "start_time": "2021-08-07T08:46:19.493Z"
   },
   {
    "duration": 4,
    "start_time": "2021-08-07T08:46:19.515Z"
   },
   {
    "duration": 18,
    "start_time": "2021-08-07T08:46:19.522Z"
   },
   {
    "duration": 15,
    "start_time": "2021-08-07T08:46:19.542Z"
   },
   {
    "duration": 47,
    "start_time": "2021-08-07T08:46:19.561Z"
   },
   {
    "duration": 53,
    "start_time": "2021-08-07T08:46:19.612Z"
   },
   {
    "duration": 72,
    "start_time": "2021-08-07T08:46:19.668Z"
   },
   {
    "duration": 9,
    "start_time": "2021-08-07T08:46:19.742Z"
   },
   {
    "duration": 7,
    "start_time": "2021-08-07T08:46:19.753Z"
   },
   {
    "duration": 1026,
    "start_time": "2021-08-07T08:46:19.762Z"
   },
   {
    "duration": 414,
    "start_time": "2021-08-07T08:46:20.800Z"
   },
   {
    "duration": 513,
    "start_time": "2021-08-07T08:46:21.216Z"
   },
   {
    "duration": 419,
    "start_time": "2021-08-07T08:46:21.732Z"
   },
   {
    "duration": 556,
    "start_time": "2021-08-07T08:46:22.154Z"
   },
   {
    "duration": 497,
    "start_time": "2021-08-07T08:46:22.713Z"
   },
   {
    "duration": 195,
    "start_time": "2021-08-07T08:46:23.213Z"
   },
   {
    "duration": 583,
    "start_time": "2021-08-07T08:46:23.411Z"
   },
   {
    "duration": 6,
    "start_time": "2021-08-07T08:46:23.997Z"
   },
   {
    "duration": 11,
    "start_time": "2021-08-07T08:46:24.005Z"
   },
   {
    "duration": 695,
    "start_time": "2021-08-07T08:46:24.021Z"
   },
   {
    "duration": 9,
    "start_time": "2021-08-07T08:46:24.719Z"
   },
   {
    "duration": 11,
    "start_time": "2021-08-07T08:46:24.730Z"
   },
   {
    "duration": 14,
    "start_time": "2021-08-07T08:46:24.744Z"
   },
   {
    "duration": 43,
    "start_time": "2021-08-07T08:46:24.760Z"
   },
   {
    "duration": 665,
    "start_time": "2021-08-07T08:46:24.806Z"
   },
   {
    "duration": 9,
    "start_time": "2021-08-07T08:46:25.474Z"
   },
   {
    "duration": 23,
    "start_time": "2021-08-07T08:46:25.486Z"
   },
   {
    "duration": 26,
    "start_time": "2021-08-07T08:46:25.511Z"
   },
   {
    "duration": 428,
    "start_time": "2021-08-07T08:46:25.540Z"
   },
   {
    "duration": 29,
    "start_time": "2021-08-07T08:46:25.971Z"
   },
   {
    "duration": 619,
    "start_time": "2021-08-07T08:46:26.003Z"
   },
   {
    "duration": 429,
    "start_time": "2021-08-07T08:46:26.624Z"
   },
   {
    "duration": 569,
    "start_time": "2021-08-07T08:46:27.057Z"
   },
   {
    "duration": 785,
    "start_time": "2021-08-17T06:13:38.446Z"
   },
   {
    "duration": 1473,
    "start_time": "2021-08-17T06:13:47.062Z"
   },
   {
    "duration": 20,
    "start_time": "2021-08-17T06:13:48.538Z"
   },
   {
    "duration": 16,
    "start_time": "2021-08-17T06:13:48.561Z"
   },
   {
    "duration": 31,
    "start_time": "2021-08-17T06:13:48.579Z"
   },
   {
    "duration": 13,
    "start_time": "2021-08-17T06:13:48.613Z"
   },
   {
    "duration": 39,
    "start_time": "2021-08-17T06:13:48.628Z"
   },
   {
    "duration": 15,
    "start_time": "2021-08-17T06:13:48.670Z"
   },
   {
    "duration": 47,
    "start_time": "2021-08-17T06:13:48.689Z"
   },
   {
    "duration": 7964,
    "start_time": "2021-08-17T06:13:48.739Z"
   },
   {
    "duration": 1698,
    "start_time": "2021-08-17T06:13:55.008Z"
   },
   {
    "duration": 1695,
    "start_time": "2021-08-17T06:13:55.012Z"
   },
   {
    "duration": 1693,
    "start_time": "2021-08-17T06:13:55.015Z"
   },
   {
    "duration": 1690,
    "start_time": "2021-08-17T06:13:55.019Z"
   },
   {
    "duration": 1688,
    "start_time": "2021-08-17T06:13:55.023Z"
   },
   {
    "duration": 1684,
    "start_time": "2021-08-17T06:13:55.028Z"
   },
   {
    "duration": 1681,
    "start_time": "2021-08-17T06:13:55.032Z"
   },
   {
    "duration": 1679,
    "start_time": "2021-08-17T06:13:55.035Z"
   },
   {
    "duration": 1677,
    "start_time": "2021-08-17T06:13:55.039Z"
   },
   {
    "duration": 1667,
    "start_time": "2021-08-17T06:13:55.050Z"
   },
   {
    "duration": 1664,
    "start_time": "2021-08-17T06:13:55.054Z"
   },
   {
    "duration": 1662,
    "start_time": "2021-08-17T06:13:55.057Z"
   },
   {
    "duration": 1660,
    "start_time": "2021-08-17T06:13:55.060Z"
   },
   {
    "duration": 1658,
    "start_time": "2021-08-17T06:13:55.063Z"
   },
   {
    "duration": 1657,
    "start_time": "2021-08-17T06:13:55.066Z"
   },
   {
    "duration": 1656,
    "start_time": "2021-08-17T06:13:55.068Z"
   },
   {
    "duration": 1654,
    "start_time": "2021-08-17T06:13:55.071Z"
   },
   {
    "duration": 1651,
    "start_time": "2021-08-17T06:13:55.075Z"
   },
   {
    "duration": 1650,
    "start_time": "2021-08-17T06:13:55.077Z"
   },
   {
    "duration": 1649,
    "start_time": "2021-08-17T06:13:55.080Z"
   },
   {
    "duration": 1647,
    "start_time": "2021-08-17T06:13:55.083Z"
   },
   {
    "duration": 1646,
    "start_time": "2021-08-17T06:13:55.085Z"
   },
   {
    "duration": 1644,
    "start_time": "2021-08-17T06:13:55.088Z"
   },
   {
    "duration": 1642,
    "start_time": "2021-08-17T06:13:55.091Z"
   },
   {
    "duration": 1641,
    "start_time": "2021-08-17T06:13:55.094Z"
   },
   {
    "duration": 1640,
    "start_time": "2021-08-17T06:13:55.096Z"
   },
   {
    "duration": 1638,
    "start_time": "2021-08-17T06:13:55.099Z"
   },
   {
    "duration": 1637,
    "start_time": "2021-08-17T06:13:55.102Z"
   },
   {
    "duration": 7257,
    "start_time": "2021-08-17T06:15:56.182Z"
   },
   {
    "duration": 1432,
    "start_time": "2021-08-17T06:17:29.901Z"
   },
   {
    "duration": 20,
    "start_time": "2021-08-17T06:17:31.336Z"
   },
   {
    "duration": 6,
    "start_time": "2021-08-17T06:17:31.359Z"
   },
   {
    "duration": 29,
    "start_time": "2021-08-17T06:17:31.368Z"
   },
   {
    "duration": 10,
    "start_time": "2021-08-17T06:17:31.400Z"
   },
   {
    "duration": 30,
    "start_time": "2021-08-17T06:17:31.412Z"
   },
   {
    "duration": 15,
    "start_time": "2021-08-17T06:17:31.444Z"
   },
   {
    "duration": 17,
    "start_time": "2021-08-17T06:17:31.461Z"
   },
   {
    "duration": 57,
    "start_time": "2021-08-17T06:17:31.482Z"
   },
   {
    "duration": 72,
    "start_time": "2021-08-17T06:17:31.542Z"
   },
   {
    "duration": 46,
    "start_time": "2021-08-17T06:17:31.616Z"
   },
   {
    "duration": 6,
    "start_time": "2021-08-17T06:17:31.665Z"
   },
   {
    "duration": 1040,
    "start_time": "2021-08-17T06:17:31.674Z"
   },
   {
    "duration": 442,
    "start_time": "2021-08-17T06:17:32.716Z"
   },
   {
    "duration": 521,
    "start_time": "2021-08-17T06:17:33.160Z"
   },
   {
    "duration": 439,
    "start_time": "2021-08-17T06:17:33.684Z"
   },
   {
    "duration": 551,
    "start_time": "2021-08-17T06:17:34.125Z"
   },
   {
    "duration": 488,
    "start_time": "2021-08-17T06:17:34.678Z"
   },
   {
    "duration": 241,
    "start_time": "2021-08-17T06:17:35.169Z"
   },
   {
    "duration": 545,
    "start_time": "2021-08-17T06:17:35.412Z"
   },
   {
    "duration": 5,
    "start_time": "2021-08-17T06:17:35.959Z"
   },
   {
    "duration": 21,
    "start_time": "2021-08-17T06:17:35.966Z"
   },
   {
    "duration": 648,
    "start_time": "2021-08-17T06:17:35.990Z"
   },
   {
    "duration": 20,
    "start_time": "2021-08-17T06:17:36.641Z"
   },
   {
    "duration": 35,
    "start_time": "2021-08-17T06:17:36.664Z"
   },
   {
    "duration": 32,
    "start_time": "2021-08-17T06:17:36.702Z"
   },
   {
    "duration": 20,
    "start_time": "2021-08-17T06:17:36.741Z"
   },
   {
    "duration": 665,
    "start_time": "2021-08-17T06:17:36.765Z"
   },
   {
    "duration": 21,
    "start_time": "2021-08-17T06:17:37.433Z"
   },
   {
    "duration": 15,
    "start_time": "2021-08-17T06:17:37.457Z"
   },
   {
    "duration": 31,
    "start_time": "2021-08-17T06:17:37.475Z"
   },
   {
    "duration": 423,
    "start_time": "2021-08-17T06:17:37.509Z"
   },
   {
    "duration": 27,
    "start_time": "2021-08-17T06:17:37.936Z"
   },
   {
    "duration": 507,
    "start_time": "2021-08-17T06:17:37.966Z"
   },
   {
    "duration": 419,
    "start_time": "2021-08-17T06:17:38.476Z"
   },
   {
    "duration": 601,
    "start_time": "2021-08-17T06:17:38.898Z"
   }
  ],
  "kernelspec": {
   "display_name": "Python 3",
   "language": "python",
   "name": "python3"
  },
  "language_info": {
   "codemirror_mode": {
    "name": "ipython",
    "version": 3
   },
   "file_extension": ".py",
   "mimetype": "text/x-python",
   "name": "python",
   "nbconvert_exporter": "python",
   "pygments_lexer": "ipython3",
   "version": "3.8.5"
  },
  "toc": {
   "base_numbering": 1,
   "nav_menu": {
    "height": "633px",
    "width": "714px"
   },
   "number_sections": true,
   "sideBar": true,
   "skip_h1_title": true,
   "title_cell": "Table of Contents",
   "title_sidebar": "Contents",
   "toc_cell": false,
   "toc_position": {
    "height": "calc(100% - 180px)",
    "left": "10px",
    "top": "150px",
    "width": "659.391px"
   },
   "toc_section_display": true,
   "toc_window_display": false
  }
 },
 "nbformat": 4,
 "nbformat_minor": 2
}
