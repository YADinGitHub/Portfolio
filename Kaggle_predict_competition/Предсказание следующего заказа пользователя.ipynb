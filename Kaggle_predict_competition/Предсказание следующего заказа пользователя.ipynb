{
 "cells": [
  {
   "cell_type": "markdown",
   "metadata": {},
   "source": [
    "# Описание проекта\n",
    "\n",
    "Сервисы доставки еды уже давно перестали быть просто курьерами, которые привозят заказ. Индустрия e-grocery стремительно идет к аккумулированию и использованию больших данных, чтобы знать о своих пользователях больше и предоставлять более качественные и персонализированные услуги. Одним из шагов к такой персонализации может быть разработка модели, которая понимает привычки и нужды пользователя, и, к примеру, может угадать, что и когда пользователь захочет заказать в следующий раз.\n",
    "\n",
    "Такая модель, будучи разработанной, может принести значительную ценность для клиента - сэкономить время при сборке корзины, помочь ничего не забыть в заказе, убрать необходимость планировать закупки и следить за заканчивающимися запасами продуктов.\n",
    "\n",
    "В данном соревновании участникам предлагается решить задачу предсказания следующего заказа пользователя (безотносительно конкретного момента времени, когда этот заказ произойдет). Заказ пользователя состоит из списка уникальных категорий товаров, вне зависимости от того, сколько продуктов каждой категории он взял.\n",
    "\n",
    "В качестве тренировочных данных представляется датасет train.csv с историей заказов 20000 пользователей вплоть до даты отсечки, которая разделяет тренировочные и тестовые данные по времени.\n",
    "\n",
    "В качестве прогноза необходимо для каждой пары пользователь-категория из примера сабмита вернуть 1, если категория будет присутствовать в следующем заказе пользователя, или 0 в ином случае. Список категорий для каждого пользователя примере сабмита - это все категории, которые он когда-либо заказывал."
   ]
  },
  {
   "cell_type": "markdown",
   "metadata": {},
   "source": [
    "## Шаг 1. Загрузите данные"
   ]
  },
  {
   "cell_type": "code",
   "execution_count": 1,
   "metadata": {},
   "outputs": [],
   "source": [
    "import pandas as pd\n",
    "import seaborn as sns\n",
    "import matplotlib.pyplot as plt\n",
    "import numpy as np\n",
    "from scipy import stats as st\n",
    "from scipy.stats import mannwhitneyu\n",
    "import plotly.express as px\n",
    "\n",
    "from sklearn.preprocessing import StandardScaler\n",
    "from sklearn.model_selection import train_test_split\n",
    "from sklearn.linear_model import LogisticRegression\n",
    "from sklearn.ensemble import RandomForestClassifier\n",
    "from sklearn.metrics import accuracy_score, precision_score, recall_score\n",
    "from scipy.cluster.hierarchy import dendrogram, linkage\n",
    "from sklearn.cluster import KMeans\n",
    "import sys\n",
    "import warnings\n",
    "if not sys.warnoptions:\n",
    "       warnings.simplefilter(\"ignore\")"
   ]
  },
  {
   "cell_type": "code",
   "execution_count": 2,
   "metadata": {},
   "outputs": [],
   "source": [
    "#pip install -U seaborn"
   ]
  },
  {
   "cell_type": "code",
   "execution_count": 3,
   "metadata": {},
   "outputs": [],
   "source": [
    "data = pd.read_csv('/1/train.csv')"
   ]
  },
  {
   "cell_type": "code",
   "execution_count": 4,
   "metadata": {},
   "outputs": [],
   "source": [
    "data_sample = pd.read_csv('/1/sample_submission.csv')"
   ]
  },
  {
   "cell_type": "markdown",
   "metadata": {},
   "source": [
    "## Шаг 2. Проведите исследовательский анализ данных (EDA)"
   ]
  },
  {
   "cell_type": "markdown",
   "metadata": {},
   "source": [
    "### Посмотрим на датасет с данными заказов"
   ]
  },
  {
   "cell_type": "code",
   "execution_count": 5,
   "metadata": {},
   "outputs": [
    {
     "name": "stdout",
     "output_type": "stream",
     "text": [
      "\u001b[1mВывод метода info()\u001b[0m\n",
      "<class 'pandas.core.frame.DataFrame'>\n",
      "RangeIndex: 3123064 entries, 0 to 3123063\n",
      "Data columns (total 3 columns):\n",
      " #   Column              Dtype \n",
      "---  ------              ----- \n",
      " 0   user_id             int64 \n",
      " 1   order_completed_at  object\n",
      " 2   cart                int64 \n",
      "dtypes: int64(2), object(1)\n",
      "memory usage: 71.5+ MB\n",
      "None\n",
      "\u001b[1mВывод метода describe()\u001b[0m\n"
     ]
    },
    {
     "data": {
      "text/html": [
       "<div>\n",
       "<style scoped>\n",
       "    .dataframe tbody tr th:only-of-type {\n",
       "        vertical-align: middle;\n",
       "    }\n",
       "\n",
       "    .dataframe tbody tr th {\n",
       "        vertical-align: top;\n",
       "    }\n",
       "\n",
       "    .dataframe thead th {\n",
       "        text-align: right;\n",
       "    }\n",
       "</style>\n",
       "<table border=\"1\" class=\"dataframe\">\n",
       "  <thead>\n",
       "    <tr style=\"text-align: right;\">\n",
       "      <th></th>\n",
       "      <th>user_id</th>\n",
       "      <th>cart</th>\n",
       "    </tr>\n",
       "  </thead>\n",
       "  <tbody>\n",
       "    <tr>\n",
       "      <th>count</th>\n",
       "      <td>3.123064e+06</td>\n",
       "      <td>3.123064e+06</td>\n",
       "    </tr>\n",
       "    <tr>\n",
       "      <th>mean</th>\n",
       "      <td>7.253373e+03</td>\n",
       "      <td>2.273235e+02</td>\n",
       "    </tr>\n",
       "    <tr>\n",
       "      <th>std</th>\n",
       "      <td>5.337838e+03</td>\n",
       "      <td>2.112867e+02</td>\n",
       "    </tr>\n",
       "    <tr>\n",
       "      <th>min</th>\n",
       "      <td>0.000000e+00</td>\n",
       "      <td>0.000000e+00</td>\n",
       "    </tr>\n",
       "    <tr>\n",
       "      <th>25%</th>\n",
       "      <td>2.884000e+03</td>\n",
       "      <td>4.200000e+01</td>\n",
       "    </tr>\n",
       "    <tr>\n",
       "      <th>50%</th>\n",
       "      <td>6.055000e+03</td>\n",
       "      <td>1.460000e+02</td>\n",
       "    </tr>\n",
       "    <tr>\n",
       "      <th>75%</th>\n",
       "      <td>1.117200e+04</td>\n",
       "      <td>3.990000e+02</td>\n",
       "    </tr>\n",
       "    <tr>\n",
       "      <th>max</th>\n",
       "      <td>1.999900e+04</td>\n",
       "      <td>8.800000e+02</td>\n",
       "    </tr>\n",
       "  </tbody>\n",
       "</table>\n",
       "</div>"
      ],
      "text/plain": [
       "            user_id          cart\n",
       "count  3.123064e+06  3.123064e+06\n",
       "mean   7.253373e+03  2.273235e+02\n",
       "std    5.337838e+03  2.112867e+02\n",
       "min    0.000000e+00  0.000000e+00\n",
       "25%    2.884000e+03  4.200000e+01\n",
       "50%    6.055000e+03  1.460000e+02\n",
       "75%    1.117200e+04  3.990000e+02\n",
       "max    1.999900e+04  8.800000e+02"
      ]
     },
     "metadata": {},
     "output_type": "display_data"
    },
    {
     "name": "stdout",
     "output_type": "stream",
     "text": [
      "\u001b[1mДубликаты\u001b[0m\n"
     ]
    },
    {
     "data": {
      "text/plain": [
       "0"
      ]
     },
     "metadata": {},
     "output_type": "display_data"
    },
    {
     "data": {
      "text/html": [
       "<div>\n",
       "<style scoped>\n",
       "    .dataframe tbody tr th:only-of-type {\n",
       "        vertical-align: middle;\n",
       "    }\n",
       "\n",
       "    .dataframe tbody tr th {\n",
       "        vertical-align: top;\n",
       "    }\n",
       "\n",
       "    .dataframe thead th {\n",
       "        text-align: right;\n",
       "    }\n",
       "</style>\n",
       "<table border=\"1\" class=\"dataframe\">\n",
       "  <thead>\n",
       "    <tr style=\"text-align: right;\">\n",
       "      <th></th>\n",
       "      <th>user_id</th>\n",
       "      <th>order_completed_at</th>\n",
       "      <th>cart</th>\n",
       "    </tr>\n",
       "  </thead>\n",
       "  <tbody>\n",
       "    <tr>\n",
       "      <th>0</th>\n",
       "      <td>2</td>\n",
       "      <td>2015-03-22 09:25:46</td>\n",
       "      <td>399</td>\n",
       "    </tr>\n",
       "    <tr>\n",
       "      <th>1</th>\n",
       "      <td>2</td>\n",
       "      <td>2015-03-22 09:25:46</td>\n",
       "      <td>14</td>\n",
       "    </tr>\n",
       "    <tr>\n",
       "      <th>2</th>\n",
       "      <td>2</td>\n",
       "      <td>2015-03-22 09:25:46</td>\n",
       "      <td>198</td>\n",
       "    </tr>\n",
       "    <tr>\n",
       "      <th>3</th>\n",
       "      <td>2</td>\n",
       "      <td>2015-03-22 09:25:46</td>\n",
       "      <td>88</td>\n",
       "    </tr>\n",
       "    <tr>\n",
       "      <th>4</th>\n",
       "      <td>2</td>\n",
       "      <td>2015-03-22 09:25:46</td>\n",
       "      <td>157</td>\n",
       "    </tr>\n",
       "    <tr>\n",
       "      <th>5</th>\n",
       "      <td>2</td>\n",
       "      <td>2015-03-22 09:25:46</td>\n",
       "      <td>82</td>\n",
       "    </tr>\n",
       "    <tr>\n",
       "      <th>6</th>\n",
       "      <td>2</td>\n",
       "      <td>2015-03-22 09:25:46</td>\n",
       "      <td>134</td>\n",
       "    </tr>\n",
       "    <tr>\n",
       "      <th>7</th>\n",
       "      <td>2</td>\n",
       "      <td>2015-03-22 09:25:46</td>\n",
       "      <td>16</td>\n",
       "    </tr>\n",
       "    <tr>\n",
       "      <th>8</th>\n",
       "      <td>2</td>\n",
       "      <td>2015-03-22 09:25:46</td>\n",
       "      <td>409</td>\n",
       "    </tr>\n",
       "    <tr>\n",
       "      <th>9</th>\n",
       "      <td>2</td>\n",
       "      <td>2015-03-22 09:25:46</td>\n",
       "      <td>384</td>\n",
       "    </tr>\n",
       "  </tbody>\n",
       "</table>\n",
       "</div>"
      ],
      "text/plain": [
       "   user_id   order_completed_at  cart\n",
       "0        2  2015-03-22 09:25:46   399\n",
       "1        2  2015-03-22 09:25:46    14\n",
       "2        2  2015-03-22 09:25:46   198\n",
       "3        2  2015-03-22 09:25:46    88\n",
       "4        2  2015-03-22 09:25:46   157\n",
       "5        2  2015-03-22 09:25:46    82\n",
       "6        2  2015-03-22 09:25:46   134\n",
       "7        2  2015-03-22 09:25:46    16\n",
       "8        2  2015-03-22 09:25:46   409\n",
       "9        2  2015-03-22 09:25:46   384"
      ]
     },
     "metadata": {},
     "output_type": "display_data"
    },
    {
     "name": "stdout",
     "output_type": "stream",
     "text": [
      "\u001b[1mПропуски в таблице\u001b[0m\n"
     ]
    },
    {
     "data": {
      "text/html": [
       "<style  type=\"text/css\" >\n",
       "#T_11658b45_4d68_11ec_977e_e6c98314c1a1row0_col0,#T_11658b45_4d68_11ec_977e_e6c98314c1a1row1_col0,#T_11658b45_4d68_11ec_977e_e6c98314c1a1row2_col0{\n",
       "            background-color:  #3b4cc0;\n",
       "            color:  #f1f1f1;\n",
       "        }</style><table id=\"T_11658b45_4d68_11ec_977e_e6c98314c1a1\" ><thead>    <tr>        <th class=\"blank level0\" ></th>        <th class=\"col_heading level0 col0\" >0</th>    </tr></thead><tbody>\n",
       "                <tr>\n",
       "                        <th id=\"T_11658b45_4d68_11ec_977e_e6c98314c1a1level0_row0\" class=\"row_heading level0 row0\" >user_id</th>\n",
       "                        <td id=\"T_11658b45_4d68_11ec_977e_e6c98314c1a1row0_col0\" class=\"data row0 col0\" >0.000000</td>\n",
       "            </tr>\n",
       "            <tr>\n",
       "                        <th id=\"T_11658b45_4d68_11ec_977e_e6c98314c1a1level0_row1\" class=\"row_heading level0 row1\" >order_completed_at</th>\n",
       "                        <td id=\"T_11658b45_4d68_11ec_977e_e6c98314c1a1row1_col0\" class=\"data row1 col0\" >0.000000</td>\n",
       "            </tr>\n",
       "            <tr>\n",
       "                        <th id=\"T_11658b45_4d68_11ec_977e_e6c98314c1a1level0_row2\" class=\"row_heading level0 row2\" >cart</th>\n",
       "                        <td id=\"T_11658b45_4d68_11ec_977e_e6c98314c1a1row2_col0\" class=\"data row2 col0\" >0.000000</td>\n",
       "            </tr>\n",
       "    </tbody></table>"
      ],
      "text/plain": [
       "<pandas.io.formats.style.Styler at 0x1826fbb6910>"
      ]
     },
     "metadata": {},
     "output_type": "display_data"
    }
   ],
   "source": [
    "def basic_info(data):\n",
    "    data.columns = data.columns.str.lower()\n",
    "    print ('\\033[1m' + 'Вывод метода info()' + '\\033[0m')\n",
    "    print(data.info())\n",
    "    print ('\\033[1m' + 'Вывод метода describe()' + '\\033[0m')\n",
    "    display(data.describe())\n",
    "    print ('\\033[1m' + 'Дубликаты' + '\\033[0m')\n",
    "    display(data.duplicated().sum())\n",
    "    display(data.head(10))\n",
    "    print ('\\033[1m' + 'Пропуски в таблице' + '\\033[0m')\n",
    "    display(pd.DataFrame(round((data.isna().mean()*100),2)).style.background_gradient('coolwarm'))\n",
    "    \n",
    "basic_info(data)"
   ]
  },
  {
   "cell_type": "code",
   "execution_count": 6,
   "metadata": {},
   "outputs": [
    {
     "name": "stdout",
     "output_type": "stream",
     "text": [
      "<class 'pandas.core.frame.DataFrame'>\n",
      "RangeIndex: 3123064 entries, 0 to 3123063\n",
      "Data columns (total 3 columns):\n",
      " #   Column              Dtype         \n",
      "---  ------              -----         \n",
      " 0   user_id             int64         \n",
      " 1   order_completed_at  datetime64[ns]\n",
      " 2   cart                int64         \n",
      "dtypes: datetime64[ns](1), int64(2)\n",
      "memory usage: 71.5 MB\n"
     ]
    }
   ],
   "source": [
    "# Приведём данные столбца order_completed_at к нужному типу\n",
    "data['order_completed_at'] = pd.to_datetime(data['order_completed_at'], format = '%Y-%m-%d %H:%M:%S')\n",
    "data.info()"
   ]
  },
  {
   "cell_type": "code",
   "execution_count": 7,
   "metadata": {},
   "outputs": [
    {
     "data": {
      "text/plain": [
       "2005464"
      ]
     },
     "execution_count": 7,
     "metadata": {},
     "output_type": "execute_result"
    }
   ],
   "source": [
    "# Посмотрим, сколько людей покупали одни и те же товары несколько раз\n",
    "data_train = data.copy(deep=True)\n",
    "del data_train['order_completed_at']\n",
    "data_train.duplicated().sum()"
   ]
  },
  {
   "cell_type": "code",
   "execution_count": 8,
   "metadata": {},
   "outputs": [
    {
     "data": {
      "text/html": [
       "<div>\n",
       "<style scoped>\n",
       "    .dataframe tbody tr th:only-of-type {\n",
       "        vertical-align: middle;\n",
       "    }\n",
       "\n",
       "    .dataframe tbody tr th {\n",
       "        vertical-align: top;\n",
       "    }\n",
       "\n",
       "    .dataframe thead th {\n",
       "        text-align: right;\n",
       "    }\n",
       "</style>\n",
       "<table border=\"1\" class=\"dataframe\">\n",
       "  <thead>\n",
       "    <tr style=\"text-align: right;\">\n",
       "      <th></th>\n",
       "      <th>user_id</th>\n",
       "      <th>cart</th>\n",
       "      <th>target</th>\n",
       "    </tr>\n",
       "  </thead>\n",
       "  <tbody>\n",
       "    <tr>\n",
       "      <th>0</th>\n",
       "      <td>2</td>\n",
       "      <td>399</td>\n",
       "      <td>0</td>\n",
       "    </tr>\n",
       "    <tr>\n",
       "      <th>1</th>\n",
       "      <td>2</td>\n",
       "      <td>14</td>\n",
       "      <td>0</td>\n",
       "    </tr>\n",
       "    <tr>\n",
       "      <th>2</th>\n",
       "      <td>2</td>\n",
       "      <td>198</td>\n",
       "      <td>0</td>\n",
       "    </tr>\n",
       "    <tr>\n",
       "      <th>3</th>\n",
       "      <td>2</td>\n",
       "      <td>88</td>\n",
       "      <td>0</td>\n",
       "    </tr>\n",
       "    <tr>\n",
       "      <th>4</th>\n",
       "      <td>2</td>\n",
       "      <td>157</td>\n",
       "      <td>0</td>\n",
       "    </tr>\n",
       "    <tr>\n",
       "      <th>...</th>\n",
       "      <td>...</td>\n",
       "      <td>...</td>\n",
       "      <td>...</td>\n",
       "    </tr>\n",
       "    <tr>\n",
       "      <th>3123059</th>\n",
       "      <td>12702</td>\n",
       "      <td>441</td>\n",
       "      <td>1</td>\n",
       "    </tr>\n",
       "    <tr>\n",
       "      <th>3123060</th>\n",
       "      <td>12702</td>\n",
       "      <td>92</td>\n",
       "      <td>0</td>\n",
       "    </tr>\n",
       "    <tr>\n",
       "      <th>3123061</th>\n",
       "      <td>12702</td>\n",
       "      <td>431</td>\n",
       "      <td>1</td>\n",
       "    </tr>\n",
       "    <tr>\n",
       "      <th>3123062</th>\n",
       "      <td>12702</td>\n",
       "      <td>24</td>\n",
       "      <td>1</td>\n",
       "    </tr>\n",
       "    <tr>\n",
       "      <th>3123063</th>\n",
       "      <td>12702</td>\n",
       "      <td>430</td>\n",
       "      <td>0</td>\n",
       "    </tr>\n",
       "  </tbody>\n",
       "</table>\n",
       "<p>3123064 rows × 3 columns</p>\n",
       "</div>"
      ],
      "text/plain": [
       "         user_id  cart  target\n",
       "0              2   399       0\n",
       "1              2    14       0\n",
       "2              2   198       0\n",
       "3              2    88       0\n",
       "4              2   157       0\n",
       "...          ...   ...     ...\n",
       "3123059    12702   441       1\n",
       "3123060    12702    92       0\n",
       "3123061    12702   431       1\n",
       "3123062    12702    24       1\n",
       "3123063    12702   430       0\n",
       "\n",
       "[3123064 rows x 3 columns]"
      ]
     },
     "execution_count": 8,
     "metadata": {},
     "output_type": "execute_result"
    }
   ],
   "source": [
    "# Добавим эту информацию в таблицу\n",
    "data_train['target'] = data_train.duplicated().apply(lambda x: 1 if x == True else 0)\n",
    "data_train"
   ]
  },
  {
   "cell_type": "markdown",
   "metadata": {},
   "source": [
    "#### Выводы:\n",
    "- Данные достаточно репрезентативны, модели будет с чем работать;\n",
    "- Тип данных соответствует содержанию;\n",
    "- Пропусков и дубликатов нет."
   ]
  },
  {
   "cell_type": "markdown",
   "metadata": {},
   "source": [
    "### Посмотрим на датасет с данными после отсечки"
   ]
  },
  {
   "cell_type": "code",
   "execution_count": 9,
   "metadata": {},
   "outputs": [],
   "source": [
    "# Разделим столбец id на 2 отдельных столбца\n",
    "def split_col(data):\n",
    "    data['user_id'] = data['id'].apply(lambda x: int(x.split(';')[0]))\n",
    "    data['cart'] = data['id'].apply(lambda x: int(x.split(';')[1]))\n",
    "split_col(data_sample)\n",
    "# Удалим лишнее\n",
    "del data_sample['id']"
   ]
  },
  {
   "cell_type": "code",
   "execution_count": 10,
   "metadata": {},
   "outputs": [
    {
     "name": "stdout",
     "output_type": "stream",
     "text": [
      "\u001b[1mВывод метода info()\u001b[0m\n",
      "<class 'pandas.core.frame.DataFrame'>\n",
      "RangeIndex: 790449 entries, 0 to 790448\n",
      "Data columns (total 3 columns):\n",
      " #   Column   Non-Null Count   Dtype\n",
      "---  ------   --------------   -----\n",
      " 0   target   790449 non-null  int64\n",
      " 1   user_id  790449 non-null  int64\n",
      " 2   cart     790449 non-null  int64\n",
      "dtypes: int64(3)\n",
      "memory usage: 18.1 MB\n",
      "None\n",
      "\u001b[1mВывод метода describe()\u001b[0m\n"
     ]
    },
    {
     "data": {
      "text/html": [
       "<div>\n",
       "<style scoped>\n",
       "    .dataframe tbody tr th:only-of-type {\n",
       "        vertical-align: middle;\n",
       "    }\n",
       "\n",
       "    .dataframe tbody tr th {\n",
       "        vertical-align: top;\n",
       "    }\n",
       "\n",
       "    .dataframe thead th {\n",
       "        text-align: right;\n",
       "    }\n",
       "</style>\n",
       "<table border=\"1\" class=\"dataframe\">\n",
       "  <thead>\n",
       "    <tr style=\"text-align: right;\">\n",
       "      <th></th>\n",
       "      <th>target</th>\n",
       "      <th>user_id</th>\n",
       "      <th>cart</th>\n",
       "    </tr>\n",
       "  </thead>\n",
       "  <tbody>\n",
       "    <tr>\n",
       "      <th>count</th>\n",
       "      <td>790449.000000</td>\n",
       "      <td>790449.000000</td>\n",
       "      <td>790449.000000</td>\n",
       "    </tr>\n",
       "    <tr>\n",
       "      <th>mean</th>\n",
       "      <td>0.500798</td>\n",
       "      <td>8772.236142</td>\n",
       "      <td>258.523729</td>\n",
       "    </tr>\n",
       "    <tr>\n",
       "      <th>std</th>\n",
       "      <td>0.500000</td>\n",
       "      <td>5695.199690</td>\n",
       "      <td>221.788295</td>\n",
       "    </tr>\n",
       "    <tr>\n",
       "      <th>min</th>\n",
       "      <td>0.000000</td>\n",
       "      <td>0.000000</td>\n",
       "      <td>0.000000</td>\n",
       "    </tr>\n",
       "    <tr>\n",
       "      <th>25%</th>\n",
       "      <td>0.000000</td>\n",
       "      <td>3840.000000</td>\n",
       "      <td>61.000000</td>\n",
       "    </tr>\n",
       "    <tr>\n",
       "      <th>50%</th>\n",
       "      <td>1.000000</td>\n",
       "      <td>8110.000000</td>\n",
       "      <td>198.000000</td>\n",
       "    </tr>\n",
       "    <tr>\n",
       "      <th>75%</th>\n",
       "      <td>1.000000</td>\n",
       "      <td>13478.000000</td>\n",
       "      <td>403.000000</td>\n",
       "    </tr>\n",
       "    <tr>\n",
       "      <th>max</th>\n",
       "      <td>1.000000</td>\n",
       "      <td>19998.000000</td>\n",
       "      <td>880.000000</td>\n",
       "    </tr>\n",
       "  </tbody>\n",
       "</table>\n",
       "</div>"
      ],
      "text/plain": [
       "              target        user_id           cart\n",
       "count  790449.000000  790449.000000  790449.000000\n",
       "mean        0.500798    8772.236142     258.523729\n",
       "std         0.500000    5695.199690     221.788295\n",
       "min         0.000000       0.000000       0.000000\n",
       "25%         0.000000    3840.000000      61.000000\n",
       "50%         1.000000    8110.000000     198.000000\n",
       "75%         1.000000   13478.000000     403.000000\n",
       "max         1.000000   19998.000000     880.000000"
      ]
     },
     "metadata": {},
     "output_type": "display_data"
    },
    {
     "name": "stdout",
     "output_type": "stream",
     "text": [
      "\u001b[1mДубликаты\u001b[0m\n"
     ]
    },
    {
     "data": {
      "text/plain": [
       "0"
      ]
     },
     "metadata": {},
     "output_type": "display_data"
    },
    {
     "data": {
      "text/html": [
       "<div>\n",
       "<style scoped>\n",
       "    .dataframe tbody tr th:only-of-type {\n",
       "        vertical-align: middle;\n",
       "    }\n",
       "\n",
       "    .dataframe tbody tr th {\n",
       "        vertical-align: top;\n",
       "    }\n",
       "\n",
       "    .dataframe thead th {\n",
       "        text-align: right;\n",
       "    }\n",
       "</style>\n",
       "<table border=\"1\" class=\"dataframe\">\n",
       "  <thead>\n",
       "    <tr style=\"text-align: right;\">\n",
       "      <th></th>\n",
       "      <th>target</th>\n",
       "      <th>user_id</th>\n",
       "      <th>cart</th>\n",
       "    </tr>\n",
       "  </thead>\n",
       "  <tbody>\n",
       "    <tr>\n",
       "      <th>0</th>\n",
       "      <td>0</td>\n",
       "      <td>0</td>\n",
       "      <td>133</td>\n",
       "    </tr>\n",
       "    <tr>\n",
       "      <th>1</th>\n",
       "      <td>1</td>\n",
       "      <td>0</td>\n",
       "      <td>5</td>\n",
       "    </tr>\n",
       "    <tr>\n",
       "      <th>2</th>\n",
       "      <td>0</td>\n",
       "      <td>0</td>\n",
       "      <td>10</td>\n",
       "    </tr>\n",
       "    <tr>\n",
       "      <th>3</th>\n",
       "      <td>1</td>\n",
       "      <td>0</td>\n",
       "      <td>396</td>\n",
       "    </tr>\n",
       "    <tr>\n",
       "      <th>4</th>\n",
       "      <td>0</td>\n",
       "      <td>0</td>\n",
       "      <td>14</td>\n",
       "    </tr>\n",
       "    <tr>\n",
       "      <th>5</th>\n",
       "      <td>0</td>\n",
       "      <td>0</td>\n",
       "      <td>398</td>\n",
       "    </tr>\n",
       "    <tr>\n",
       "      <th>6</th>\n",
       "      <td>1</td>\n",
       "      <td>0</td>\n",
       "      <td>399</td>\n",
       "    </tr>\n",
       "    <tr>\n",
       "      <th>7</th>\n",
       "      <td>0</td>\n",
       "      <td>0</td>\n",
       "      <td>401</td>\n",
       "    </tr>\n",
       "    <tr>\n",
       "      <th>8</th>\n",
       "      <td>0</td>\n",
       "      <td>0</td>\n",
       "      <td>402</td>\n",
       "    </tr>\n",
       "    <tr>\n",
       "      <th>9</th>\n",
       "      <td>0</td>\n",
       "      <td>0</td>\n",
       "      <td>20</td>\n",
       "    </tr>\n",
       "  </tbody>\n",
       "</table>\n",
       "</div>"
      ],
      "text/plain": [
       "   target  user_id  cart\n",
       "0       0        0   133\n",
       "1       1        0     5\n",
       "2       0        0    10\n",
       "3       1        0   396\n",
       "4       0        0    14\n",
       "5       0        0   398\n",
       "6       1        0   399\n",
       "7       0        0   401\n",
       "8       0        0   402\n",
       "9       0        0    20"
      ]
     },
     "metadata": {},
     "output_type": "display_data"
    },
    {
     "name": "stdout",
     "output_type": "stream",
     "text": [
      "\u001b[1mПропуски в таблице\u001b[0m\n"
     ]
    },
    {
     "data": {
      "text/html": [
       "<style  type=\"text/css\" >\n",
       "#T_136cf53e_4d68_11ec_a1a6_e6c98314c1a1row0_col0,#T_136cf53e_4d68_11ec_a1a6_e6c98314c1a1row1_col0,#T_136cf53e_4d68_11ec_a1a6_e6c98314c1a1row2_col0{\n",
       "            background-color:  #3b4cc0;\n",
       "            color:  #f1f1f1;\n",
       "        }</style><table id=\"T_136cf53e_4d68_11ec_a1a6_e6c98314c1a1\" ><thead>    <tr>        <th class=\"blank level0\" ></th>        <th class=\"col_heading level0 col0\" >0</th>    </tr></thead><tbody>\n",
       "                <tr>\n",
       "                        <th id=\"T_136cf53e_4d68_11ec_a1a6_e6c98314c1a1level0_row0\" class=\"row_heading level0 row0\" >target</th>\n",
       "                        <td id=\"T_136cf53e_4d68_11ec_a1a6_e6c98314c1a1row0_col0\" class=\"data row0 col0\" >0.000000</td>\n",
       "            </tr>\n",
       "            <tr>\n",
       "                        <th id=\"T_136cf53e_4d68_11ec_a1a6_e6c98314c1a1level0_row1\" class=\"row_heading level0 row1\" >user_id</th>\n",
       "                        <td id=\"T_136cf53e_4d68_11ec_a1a6_e6c98314c1a1row1_col0\" class=\"data row1 col0\" >0.000000</td>\n",
       "            </tr>\n",
       "            <tr>\n",
       "                        <th id=\"T_136cf53e_4d68_11ec_a1a6_e6c98314c1a1level0_row2\" class=\"row_heading level0 row2\" >cart</th>\n",
       "                        <td id=\"T_136cf53e_4d68_11ec_a1a6_e6c98314c1a1row2_col0\" class=\"data row2 col0\" >0.000000</td>\n",
       "            </tr>\n",
       "    </tbody></table>"
      ],
      "text/plain": [
       "<pandas.io.formats.style.Styler at 0x182645c2580>"
      ]
     },
     "metadata": {},
     "output_type": "display_data"
    }
   ],
   "source": [
    "basic_info(data_sample)"
   ]
  },
  {
   "cell_type": "markdown",
   "metadata": {},
   "source": [
    "#### Выводы:\n",
    "- Тип данных соответствует содержанию;\n",
    "- Пропусков и дубликатов нет."
   ]
  },
  {
   "cell_type": "markdown",
   "metadata": {},
   "source": [
    "### Общие выводы\n",
    "- Данные достаточно репрезентативны;\n",
    "- Тип данных соответствует содержанию;\n",
    "- Пропусков и дубликатов нет;\n",
    "- Данные готовы для дальнейшей работы."
   ]
  },
  {
   "cell_type": "markdown",
   "metadata": {},
   "source": [
    "### Посмотрим на средние значения признаков исходя из списка уникальных категорий"
   ]
  },
  {
   "cell_type": "code",
   "execution_count": 11,
   "metadata": {},
   "outputs": [
    {
     "data": {
      "image/png": "[encoded data removed]",
      "text/plain": [
       "<Figure size 720x360 with 1 Axes>"
      ]
     },
     "metadata": {
      "needs_background": "light"
     },
     "output_type": "display_data"
    },
    {
     "data": {
      "image/png": "[encoded data removed]",
      "text/plain": [
       "<Figure size 1080x504 with 1 Axes>"
      ]
     },
     "metadata": {
      "needs_background": "light"
     },
     "output_type": "display_data"
    },
    {
     "data": {
      "image/png": "[encoded data removed]",
      "text/plain": [
       "<Figure size 720x360 with 1 Axes>"
      ]
     },
     "metadata": {
      "needs_background": "light"
     },
     "output_type": "display_data"
    },
    {
     "data": {
      "image/png": "[encoded data removed]",
      "text/plain": [
       "<Figure size 1080x504 with 1 Axes>"
      ]
     },
     "metadata": {
      "needs_background": "light"
     },
     "output_type": "display_data"
    }
   ],
   "source": [
    "def graf(column_name, range, title, title2):\n",
    "    data_train.boxplot(column = column_name, figsize = (10, 5))\n",
    "    plt.ylim(range)\n",
    "    plt.title(title);\n",
    "    plt.ylabel('Количество');\n",
    "\n",
    "    data_train.hist(column_name, bins = 150, range = range, figsize = (15, 7)) \n",
    "    plt.title(title);\n",
    "    plt.xlabel(title2);\n",
    "    plt.ylabel('Количество');\n",
    "\n",
    "    plt.show()\n",
    "    \n",
    "graf('cart', (0, 1000), 'Гистограмма распределения списка уникальных категорий, из которых состоял заказ', 'Список уникальных категорий')\n",
    "graf('target', (0,1), 'Гистограмма распределения дубликатов', 'Наличие/отсутствие дубликатов')    "
   ]
  },
  {
   "cell_type": "code",
   "execution_count": 12,
   "metadata": {},
   "outputs": [
    {
     "data": {
      "text/html": [
       "<div>\n",
       "<style scoped>\n",
       "    .dataframe tbody tr th:only-of-type {\n",
       "        vertical-align: middle;\n",
       "    }\n",
       "\n",
       "    .dataframe tbody tr th {\n",
       "        vertical-align: top;\n",
       "    }\n",
       "\n",
       "    .dataframe thead th {\n",
       "        text-align: right;\n",
       "    }\n",
       "</style>\n",
       "<table border=\"1\" class=\"dataframe\">\n",
       "  <thead>\n",
       "    <tr style=\"text-align: right;\">\n",
       "      <th></th>\n",
       "      <th>user_id</th>\n",
       "      <th>cart</th>\n",
       "      <th>target</th>\n",
       "    </tr>\n",
       "  </thead>\n",
       "  <tbody>\n",
       "    <tr>\n",
       "      <th>0</th>\n",
       "      <td>2</td>\n",
       "      <td>399</td>\n",
       "      <td>0</td>\n",
       "    </tr>\n",
       "    <tr>\n",
       "      <th>1</th>\n",
       "      <td>2</td>\n",
       "      <td>14</td>\n",
       "      <td>0</td>\n",
       "    </tr>\n",
       "    <tr>\n",
       "      <th>2</th>\n",
       "      <td>2</td>\n",
       "      <td>198</td>\n",
       "      <td>0</td>\n",
       "    </tr>\n",
       "    <tr>\n",
       "      <th>3</th>\n",
       "      <td>2</td>\n",
       "      <td>88</td>\n",
       "      <td>0</td>\n",
       "    </tr>\n",
       "    <tr>\n",
       "      <th>4</th>\n",
       "      <td>2</td>\n",
       "      <td>157</td>\n",
       "      <td>0</td>\n",
       "    </tr>\n",
       "    <tr>\n",
       "      <th>...</th>\n",
       "      <td>...</td>\n",
       "      <td>...</td>\n",
       "      <td>...</td>\n",
       "    </tr>\n",
       "    <tr>\n",
       "      <th>3123059</th>\n",
       "      <td>12702</td>\n",
       "      <td>441</td>\n",
       "      <td>1</td>\n",
       "    </tr>\n",
       "    <tr>\n",
       "      <th>3123060</th>\n",
       "      <td>12702</td>\n",
       "      <td>92</td>\n",
       "      <td>0</td>\n",
       "    </tr>\n",
       "    <tr>\n",
       "      <th>3123061</th>\n",
       "      <td>12702</td>\n",
       "      <td>431</td>\n",
       "      <td>1</td>\n",
       "    </tr>\n",
       "    <tr>\n",
       "      <th>3123062</th>\n",
       "      <td>12702</td>\n",
       "      <td>24</td>\n",
       "      <td>1</td>\n",
       "    </tr>\n",
       "    <tr>\n",
       "      <th>3123063</th>\n",
       "      <td>12702</td>\n",
       "      <td>430</td>\n",
       "      <td>0</td>\n",
       "    </tr>\n",
       "  </tbody>\n",
       "</table>\n",
       "<p>3123064 rows × 3 columns</p>\n",
       "</div>"
      ],
      "text/plain": [
       "         user_id  cart  target\n",
       "0              2   399       0\n",
       "1              2    14       0\n",
       "2              2   198       0\n",
       "3              2    88       0\n",
       "4              2   157       0\n",
       "...          ...   ...     ...\n",
       "3123059    12702   441       1\n",
       "3123060    12702    92       0\n",
       "3123061    12702   431       1\n",
       "3123062    12702    24       1\n",
       "3123063    12702   430       0\n",
       "\n",
       "[3123064 rows x 3 columns]"
      ]
     },
     "execution_count": 12,
     "metadata": {},
     "output_type": "execute_result"
    }
   ],
   "source": [
    "data_train"
   ]
  },
  {
   "cell_type": "code",
   "execution_count": 13,
   "metadata": {},
   "outputs": [
    {
     "data": {
      "text/html": [
       "<div>\n",
       "<style scoped>\n",
       "    .dataframe tbody tr th:only-of-type {\n",
       "        vertical-align: middle;\n",
       "    }\n",
       "\n",
       "    .dataframe tbody tr th {\n",
       "        vertical-align: top;\n",
       "    }\n",
       "\n",
       "    .dataframe thead th {\n",
       "        text-align: right;\n",
       "    }\n",
       "</style>\n",
       "<table border=\"1\" class=\"dataframe\">\n",
       "  <thead>\n",
       "    <tr style=\"text-align: right;\">\n",
       "      <th></th>\n",
       "      <th>user_id</th>\n",
       "      <th>cart</th>\n",
       "    </tr>\n",
       "  </thead>\n",
       "  <tbody>\n",
       "    <tr>\n",
       "      <th>0</th>\n",
       "      <td>0</td>\n",
       "      <td>44</td>\n",
       "    </tr>\n",
       "    <tr>\n",
       "      <th>1</th>\n",
       "      <td>1</td>\n",
       "      <td>37</td>\n",
       "    </tr>\n",
       "    <tr>\n",
       "      <th>2</th>\n",
       "      <td>2</td>\n",
       "      <td>172</td>\n",
       "    </tr>\n",
       "    <tr>\n",
       "      <th>3</th>\n",
       "      <td>3</td>\n",
       "      <td>62</td>\n",
       "    </tr>\n",
       "    <tr>\n",
       "      <th>4</th>\n",
       "      <td>4</td>\n",
       "      <td>112</td>\n",
       "    </tr>\n",
       "    <tr>\n",
       "      <th>...</th>\n",
       "      <td>...</td>\n",
       "      <td>...</td>\n",
       "    </tr>\n",
       "    <tr>\n",
       "      <th>19995</th>\n",
       "      <td>19995</td>\n",
       "      <td>9</td>\n",
       "    </tr>\n",
       "    <tr>\n",
       "      <th>19996</th>\n",
       "      <td>19996</td>\n",
       "      <td>17</td>\n",
       "    </tr>\n",
       "    <tr>\n",
       "      <th>19997</th>\n",
       "      <td>19997</td>\n",
       "      <td>42</td>\n",
       "    </tr>\n",
       "    <tr>\n",
       "      <th>19998</th>\n",
       "      <td>19998</td>\n",
       "      <td>19</td>\n",
       "    </tr>\n",
       "    <tr>\n",
       "      <th>19999</th>\n",
       "      <td>19999</td>\n",
       "      <td>3</td>\n",
       "    </tr>\n",
       "  </tbody>\n",
       "</table>\n",
       "<p>20000 rows × 2 columns</p>\n",
       "</div>"
      ],
      "text/plain": [
       "       user_id  cart\n",
       "0            0    44\n",
       "1            1    37\n",
       "2            2   172\n",
       "3            3    62\n",
       "4            4   112\n",
       "...        ...   ...\n",
       "19995    19995     9\n",
       "19996    19996    17\n",
       "19997    19997    42\n",
       "19998    19998    19\n",
       "19999    19999     3\n",
       "\n",
       "[20000 rows x 2 columns]"
      ]
     },
     "execution_count": 13,
     "metadata": {},
     "output_type": "execute_result"
    }
   ],
   "source": [
    "data_count = data_train.groupby('user_id', as_index = False).count()\n",
    "del data_count['target']\n",
    "data_count"
   ]
  },
  {
   "cell_type": "code",
   "execution_count": 14,
   "metadata": {},
   "outputs": [
    {
     "data": {
      "text/plain": [
       "156.1532"
      ]
     },
     "execution_count": 14,
     "metadata": {},
     "output_type": "execute_result"
    }
   ],
   "source": [
    "data_count['cart'].mean()"
   ]
  },
  {
   "cell_type": "code",
   "execution_count": 15,
   "metadata": {},
   "outputs": [
    {
     "data": {
      "text/plain": [
       "88.0"
      ]
     },
     "execution_count": 15,
     "metadata": {},
     "output_type": "execute_result"
    }
   ],
   "source": [
    "data_count['cart'].median()"
   ]
  },
  {
   "cell_type": "code",
   "execution_count": 16,
   "metadata": {},
   "outputs": [
    {
     "data": {
      "text/plain": [
       "3508"
      ]
     },
     "execution_count": 16,
     "metadata": {},
     "output_type": "execute_result"
    }
   ],
   "source": [
    "data_count['cart'].max()"
   ]
  },
  {
   "cell_type": "code",
   "execution_count": 17,
   "metadata": {},
   "outputs": [
    {
     "data": {
      "text/plain": [
       "3"
      ]
     },
     "execution_count": 17,
     "metadata": {},
     "output_type": "execute_result"
    }
   ],
   "source": [
    "data_count['cart'].min()"
   ]
  },
  {
   "cell_type": "code",
   "execution_count": 18,
   "metadata": {},
   "outputs": [
    {
     "data": {
      "text/plain": [
       "user_id    10990\n",
       "cart       10990\n",
       "dtype: int64"
      ]
     },
     "execution_count": 18,
     "metadata": {},
     "output_type": "execute_result"
    }
   ],
   "source": [
    "data_count_100 = data_count[data_count['cart'] < 100].count()\n",
    "data_count_100"
   ]
  },
  {
   "cell_type": "code",
   "execution_count": 19,
   "metadata": {},
   "outputs": [
    {
     "data": {
      "text/plain": [
       "user_id    5227\n",
       "cart       5227\n",
       "dtype: int64"
      ]
     },
     "execution_count": 19,
     "metadata": {},
     "output_type": "execute_result"
    }
   ],
   "source": [
    "data_count_50 = data_count[data_count['cart'] < 50].count()\n",
    "data_count_50"
   ]
  },
  {
   "cell_type": "code",
   "execution_count": 20,
   "metadata": {},
   "outputs": [
    {
     "data": {
      "text/plain": [
       "user_id    228\n",
       "cart       228\n",
       "dtype: int64"
      ]
     },
     "execution_count": 20,
     "metadata": {},
     "output_type": "execute_result"
    }
   ],
   "source": [
    "data_count_10 = data_count[data_count['cart'] < 10].count()\n",
    "data_count_10"
   ]
  },
  {
   "cell_type": "markdown",
   "metadata": {},
   "source": [
    "#### Выводы:\n",
    "- Можно заметить, что есть несколько популярных категорий, которые встречаются довольно часто, а есть категории, по которым покупок почти не совершается. Это не может не сказаться на нашей модели.\n",
    "- Разбивка по пользователям показывает, что часть из них покупает довольно часто, а часть почти не совершает покупок. Только половина из них совершила более 100 покупок; нужно уточнить у бизнеса, какое количество покупок считается у них достаточным и оценить показатели по нашей выборке.\n",
    "- 2/3 продуктов покупали хотя бы 2 раза."
   ]
  },
  {
   "cell_type": "markdown",
   "metadata": {},
   "source": [
    "### Построим матрицу корреляций и отобразим её."
   ]
  },
  {
   "cell_type": "code",
   "execution_count": 21,
   "metadata": {},
   "outputs": [
    {
     "data": {
      "image/png": "[encoded data removed]",
      "text/plain": [
       "<Figure size 936x648 with 2 Axes>"
      ]
     },
     "metadata": {
      "needs_background": "light"
     },
     "output_type": "display_data"
    },
    {
     "data": {
      "image/png": "[encoded data removed]",
      "text/plain": [
       "<Figure size 936x648 with 2 Axes>"
      ]
     },
     "metadata": {
      "needs_background": "light"
     },
     "output_type": "display_data"
    }
   ],
   "source": [
    "# Создадим тепловую карту\n",
    "def heatmap(data):\n",
    "    cm = data.corr()  \n",
    "    plt.figure(figsize=(13, 9))\n",
    "    plt.title('Матрица корреляции', fontsize = 15)\n",
    "    sns.heatmap(cm, annot=True, fmt='.2%', linewidths=1, linecolor='black', \n",
    "             xticklabels= cm.columns, yticklabels= cm.index,\n",
    "             vmin=-1, vmax=1, center= 0)\n",
    "    plt.xlabel('Поля датасета', fontsize = 15);\n",
    "    plt.ylabel('Поля датасета', fontsize = 15);\n",
    "    plt.show()\n",
    "    \n",
    "heatmap(data_sample)\n",
    "heatmap(data_train)"
   ]
  },
  {
   "cell_type": "markdown",
   "metadata": {},
   "source": [
    "#### Выводы:\n",
    "В данных нет пар мультиколлинеарных признаков."
   ]
  },
  {
   "cell_type": "markdown",
   "metadata": {},
   "source": [
    "## Шаг 3. Построим модель прогнозирования"
   ]
  },
  {
   "cell_type": "code",
   "execution_count": 22,
   "metadata": {},
   "outputs": [
    {
     "name": "stdout",
     "output_type": "stream",
     "text": [
      "LogisticRegression(random_state=0)\n",
      "[1 1 1 ... 0 0 0]\n",
      "accuracy_score:0.50038 precision_score:0.50074 recall_score:0.79768 \n",
      "RandomForestClassifier(random_state=0)\n",
      "[0 0 0 ... 0 0 0]\n",
      "accuracy_score:0.50075 precision_score:0.50191 recall_score:0.40577 \n"
     ]
    }
   ],
   "source": [
    "# разделяем модель на обучающую и валидационную выборку\n",
    "\n",
    "X_train = data_train.drop('target', axis=1)\n",
    "y_train = data_train['target']\n",
    "\n",
    "X_test = data_sample[['user_id', 'cart']]\n",
    "y_test = data_sample['target']\n",
    "\n",
    "\n",
    "# создадим объект класса StandardScaler и применим его к обучающей выборке\n",
    "scaler = StandardScaler()\n",
    "X_train_st = scaler.fit_transform(\n",
    "    X_train\n",
    ")  # обучаем scaler и одновременно трансформируем матрицу для обучающей выборки\n",
    "\n",
    "# применяем стандартизацию к матрице признаков для тестовой выборки\n",
    "X_test_st = scaler.transform(X_test)\n",
    "\n",
    "# задаём список моделей\n",
    "models = [\n",
    "    LogisticRegression(random_state = 0),\n",
    "    RandomForestClassifier(random_state = 0),\n",
    "]\n",
    "\n",
    "# функция, которая принимает на вход модель и данные, выводит метрики\n",
    "def make_prediction(m, X_train, y_train, X_test, y_test):\n",
    "    model = m\n",
    "    model.fit(X_train, y_train)\n",
    "    y_pred = model.predict(X_test)\n",
    "    print(y_pred)\n",
    "    print(\n",
    "        'accuracy_score:{:.5f} precision_score:{:.5f} recall_score:{:.5f} '.format(\n",
    "            accuracy_score(y_test, y_pred),\n",
    "            precision_score(y_test, y_pred),\n",
    "            recall_score(y_test, y_pred),\n",
    "        )\n",
    "    )\n",
    "\n",
    "\n",
    "# цикл, который выводит метрики по списку моделей\n",
    "for i in models:\n",
    "    print(i)\n",
    "    make_prediction(\n",
    "        m=i,\n",
    "        X_train=X_train_st,\n",
    "        y_train=y_train,\n",
    "        X_test=X_test_st,\n",
    "        y_test=y_test,\n",
    "    )\n",
    "\n",
    "# Добавляем предсказанные величины в таблицу    \n",
    "model = LogisticRegression(random_state = 0)\n",
    "model.fit(X_train, y_train)\n",
    "y_pred = model.predict(X_test)\n",
    "X_test['target'] = y_pred"
   ]
  },
  {
   "cell_type": "markdown",
   "metadata": {},
   "source": [
    "### Вывод:\n",
    "- Значительная разница в метрике recall важнее, чем небольшое преимущество метрик accuracy и precision, так что остановимся на методе LogisticRegression."
   ]
  },
  {
   "cell_type": "markdown",
   "metadata": {},
   "source": [
    "## Шаг 4. Сформируем csv файл с результатом"
   ]
  },
  {
   "cell_type": "code",
   "execution_count": 23,
   "metadata": {},
   "outputs": [],
   "source": [
    "# Создадим столбец id в том виде, чтобы результат смог провериться на платформе\n",
    "X_test['id'] = X_test.user_id.apply(str) + ';' + X_test.cart.apply(str)"
   ]
  },
  {
   "cell_type": "code",
   "execution_count": 24,
   "metadata": {},
   "outputs": [],
   "source": [
    "submission = pd.DataFrame({'id': X_test['id'], 'target': X_test['target']})\n",
    "submission.to_csv('submission.csv', index=False)"
   ]
  },
  {
   "cell_type": "markdown",
   "metadata": {},
   "source": [
    "## Общие выводы:\n",
    "- Данные достаточно репрезентативны;\n",
    "- Категориальных переменных нет;\n",
    "- Пропусков и дубликатов нет;\n",
    "- В данных нет пар мультиколлинеарных признаков;\n",
    "\n",
    "- Можно заметить, что есть несколько популярных категорий, которые встречаются довольно часто, а есть категории, по которым покупок почти не совершается. Это не может не сказаться на нашей модели.\n",
    "- Разбивка по пользователям показывает, что часть из них покупает довольно часто, а часть почти не совершает покупок. Только половина из них совершила более 100 покупок; нужно уточнить у бизнеса, какое количество покупок считается у них достаточным и оценить показатели по нашей выборке.\n",
    "- 2/3 продуктов покупали хотя бы 2 раза.\n",
    "\n",
    "- Метрики лучше у метода LogisticRegression.\n",
    "\n"
   ]
  }
 ],
 "metadata": {
  "ExecuteTimeLog": [
   {
    "duration": 1534,
    "start_time": "2021-09-26T20:06:12.628Z"
   },
   {
    "duration": 24,
    "start_time": "2021-09-26T20:06:36.138Z"
   },
   {
    "duration": 512,
    "start_time": "2021-09-26T20:06:37.192Z"
   },
   {
    "duration": 1211,
    "start_time": "2021-09-26T20:06:53.562Z"
   },
   {
    "duration": 135,
    "start_time": "2021-09-26T20:07:27.877Z"
   },
   {
    "duration": 627,
    "start_time": "2021-09-26T20:08:55.931Z"
   },
   {
    "duration": 137,
    "start_time": "2021-09-26T20:09:04.964Z"
   },
   {
    "duration": 152,
    "start_time": "2021-09-26T20:13:31.839Z"
   },
   {
    "duration": 30,
    "start_time": "2021-09-26T20:15:34.075Z"
   },
   {
    "duration": 30,
    "start_time": "2021-09-26T20:17:09.060Z"
   },
   {
    "duration": 70,
    "start_time": "2021-09-26T20:19:25.237Z"
   },
   {
    "duration": 343,
    "start_time": "2021-09-26T20:27:03.569Z"
   },
   {
    "duration": 357,
    "start_time": "2021-09-26T20:27:15.276Z"
   },
   {
    "duration": 5227,
    "start_time": "2021-09-26T20:29:19.231Z"
   },
   {
    "duration": 410,
    "start_time": "2021-09-26T20:29:30.160Z"
   },
   {
    "duration": 398,
    "start_time": "2021-09-26T20:30:15.942Z"
   },
   {
    "duration": 1393,
    "start_time": "2021-09-26T20:32:39.818Z"
   },
   {
    "duration": 3,
    "start_time": "2021-09-26T20:32:41.214Z"
   },
   {
    "duration": 27,
    "start_time": "2021-09-26T20:32:41.221Z"
   },
   {
    "duration": 996,
    "start_time": "2021-09-26T20:32:41.251Z"
   },
   {
    "duration": 20,
    "start_time": "2021-09-26T20:32:42.250Z"
   },
   {
    "duration": 40,
    "start_time": "2021-09-26T20:32:42.272Z"
   },
   {
    "duration": 7406,
    "start_time": "2021-09-26T20:32:42.316Z"
   },
   {
    "duration": 26,
    "start_time": "2021-09-26T20:33:05.944Z"
   },
   {
    "duration": 26,
    "start_time": "2021-09-26T20:33:26.689Z"
   },
   {
    "duration": 4700,
    "start_time": "2021-09-26T20:35:17.283Z"
   },
   {
    "duration": 23,
    "start_time": "2021-09-26T20:36:24.379Z"
   },
   {
    "duration": 3,
    "start_time": "2021-09-26T20:36:57.746Z"
   },
   {
    "duration": 6,
    "start_time": "2021-09-26T20:37:52.923Z"
   },
   {
    "duration": 257,
    "start_time": "2021-09-26T20:37:58.939Z"
   },
   {
    "duration": 248,
    "start_time": "2021-09-26T20:38:13.948Z"
   },
   {
    "duration": 319,
    "start_time": "2021-09-26T20:38:27.941Z"
   },
   {
    "duration": 261,
    "start_time": "2021-09-26T20:38:54.364Z"
   },
   {
    "duration": 852,
    "start_time": "2021-09-26T20:40:15.234Z"
   },
   {
    "duration": 9471,
    "start_time": "2021-09-26T20:40:57.291Z"
   },
   {
    "duration": 9549,
    "start_time": "2021-09-26T20:41:22.371Z"
   },
   {
    "duration": 1147,
    "start_time": "2021-09-26T20:42:11.023Z"
   },
   {
    "duration": 1325,
    "start_time": "2021-09-26T20:42:22.709Z"
   },
   {
    "duration": 10122,
    "start_time": "2021-09-26T20:42:45.355Z"
   },
   {
    "duration": 9991,
    "start_time": "2021-09-26T20:44:02.300Z"
   },
   {
    "duration": 47,
    "start_time": "2021-09-26T20:47:10.206Z"
   },
   {
    "duration": 25,
    "start_time": "2021-09-26T20:48:04.157Z"
   },
   {
    "duration": 9,
    "start_time": "2021-09-26T20:49:44.675Z"
   },
   {
    "duration": 11108,
    "start_time": "2021-09-26T20:49:45.685Z"
   },
   {
    "duration": 388,
    "start_time": "2021-09-26T20:50:09.838Z"
   },
   {
    "duration": 24,
    "start_time": "2021-09-26T20:50:25.516Z"
   },
   {
    "duration": 28,
    "start_time": "2021-09-26T20:50:30.422Z"
   },
   {
    "duration": 29,
    "start_time": "2021-09-26T20:50:38.284Z"
   },
   {
    "duration": 27,
    "start_time": "2021-09-26T20:50:40.436Z"
   },
   {
    "duration": 11849,
    "start_time": "2021-09-26T20:51:19.789Z"
   },
   {
    "duration": 9774,
    "start_time": "2021-09-26T20:55:42.669Z"
   },
   {
    "duration": 699,
    "start_time": "2021-09-26T20:57:19.741Z"
   },
   {
    "duration": 655,
    "start_time": "2021-09-26T20:58:00.062Z"
   },
   {
    "duration": 13214,
    "start_time": "2021-09-26T20:58:53.535Z"
   },
   {
    "duration": 8973,
    "start_time": "2021-09-26T20:59:59.751Z"
   },
   {
    "duration": 115,
    "start_time": "2021-09-26T21:02:14.146Z"
   },
   {
    "duration": 9231,
    "start_time": "2021-09-26T21:02:23.168Z"
   },
   {
    "duration": 123,
    "start_time": "2021-09-26T21:03:27.663Z"
   },
   {
    "duration": 120,
    "start_time": "2021-09-26T21:03:32.143Z"
   },
   {
    "duration": 9,
    "start_time": "2021-09-26T21:04:40.606Z"
   },
   {
    "duration": 25,
    "start_time": "2021-09-26T21:04:47.639Z"
   },
   {
    "duration": 11044,
    "start_time": "2021-09-26T21:05:57.136Z"
   },
   {
    "duration": 26,
    "start_time": "2021-09-26T21:06:18.249Z"
   },
   {
    "duration": 7,
    "start_time": "2021-09-26T21:06:19.335Z"
   },
   {
    "duration": 22,
    "start_time": "2021-09-26T21:06:28.857Z"
   },
   {
    "duration": 7576,
    "start_time": "2021-09-26T21:09:08.018Z"
   },
   {
    "duration": 696,
    "start_time": "2021-09-26T21:17:41.229Z"
   },
   {
    "duration": 140,
    "start_time": "2021-09-26T21:19:40.645Z"
   },
   {
    "duration": 508,
    "start_time": "2021-09-26T21:19:53.569Z"
   },
   {
    "duration": 406,
    "start_time": "2021-09-26T21:20:04.034Z"
   },
   {
    "duration": 366,
    "start_time": "2021-09-26T21:20:16.922Z"
   },
   {
    "duration": 780,
    "start_time": "2021-09-26T21:21:30.818Z"
   },
   {
    "duration": 840,
    "start_time": "2021-09-26T21:21:48.738Z"
   },
   {
    "duration": 161,
    "start_time": "2021-09-26T21:22:01.859Z"
   },
   {
    "duration": 1448,
    "start_time": "2021-09-26T21:27:33.073Z"
   },
   {
    "duration": 3,
    "start_time": "2021-09-26T21:27:34.524Z"
   },
   {
    "duration": 27,
    "start_time": "2021-09-26T21:27:34.530Z"
   },
   {
    "duration": 835,
    "start_time": "2021-09-26T21:27:34.560Z"
   },
   {
    "duration": 140,
    "start_time": "2021-09-26T21:27:35.397Z"
   },
   {
    "duration": 32,
    "start_time": "2021-09-26T21:27:35.540Z"
   },
   {
    "duration": 9400,
    "start_time": "2021-09-26T21:27:35.575Z"
   },
   {
    "duration": 279,
    "start_time": "2021-09-26T21:27:44.980Z"
   },
   {
    "duration": 10156,
    "start_time": "2021-09-26T21:27:45.267Z"
   },
   {
    "duration": 1739,
    "start_time": "2021-09-26T21:27:53.687Z"
   },
   {
    "duration": 1740,
    "start_time": "2021-09-26T21:27:53.688Z"
   },
   {
    "duration": 1740,
    "start_time": "2021-09-26T21:27:53.690Z"
   },
   {
    "duration": 1740,
    "start_time": "2021-09-26T21:27:53.691Z"
   },
   {
    "duration": 1739,
    "start_time": "2021-09-26T21:27:53.694Z"
   },
   {
    "duration": 1739,
    "start_time": "2021-09-26T21:27:53.696Z"
   },
   {
    "duration": 1737,
    "start_time": "2021-09-26T21:27:53.699Z"
   },
   {
    "duration": 10,
    "start_time": "2021-09-26T21:28:12.656Z"
   },
   {
    "duration": 18,
    "start_time": "2021-09-26T21:28:21.481Z"
   },
   {
    "duration": 17,
    "start_time": "2021-09-26T21:28:40.593Z"
   },
   {
    "duration": 19,
    "start_time": "2021-09-26T21:29:39.864Z"
   },
   {
    "duration": 19,
    "start_time": "2021-09-26T21:29:48.120Z"
   },
   {
    "duration": 19,
    "start_time": "2021-09-26T21:29:55.401Z"
   },
   {
    "duration": 18,
    "start_time": "2021-09-26T21:30:26.858Z"
   },
   {
    "duration": 29,
    "start_time": "2021-09-26T21:30:37.057Z"
   },
   {
    "duration": 20,
    "start_time": "2021-09-26T21:30:43.559Z"
   },
   {
    "duration": 10,
    "start_time": "2021-09-26T21:31:10.416Z"
   },
   {
    "duration": 26,
    "start_time": "2021-09-26T21:31:16.238Z"
   },
   {
    "duration": 410,
    "start_time": "2021-09-26T21:31:49.151Z"
   },
   {
    "duration": 644,
    "start_time": "2021-09-26T21:31:58.417Z"
   },
   {
    "duration": 349,
    "start_time": "2021-09-26T21:32:04.145Z"
   },
   {
    "duration": 20,
    "start_time": "2021-09-26T21:32:17.833Z"
   },
   {
    "duration": 22,
    "start_time": "2021-09-26T21:32:31.383Z"
   },
   {
    "duration": 110,
    "start_time": "2021-09-26T21:32:58.784Z"
   },
   {
    "duration": 123,
    "start_time": "2021-09-26T21:33:05.057Z"
   },
   {
    "duration": 22,
    "start_time": "2021-09-26T21:33:31.137Z"
   },
   {
    "duration": 19,
    "start_time": "2021-09-26T21:33:38.641Z"
   },
   {
    "duration": 20,
    "start_time": "2021-09-26T21:33:43.553Z"
   },
   {
    "duration": 109,
    "start_time": "2021-09-26T21:33:51.104Z"
   },
   {
    "duration": 19,
    "start_time": "2021-09-26T21:33:56.895Z"
   },
   {
    "duration": 383,
    "start_time": "2021-09-26T21:35:04.651Z"
   },
   {
    "duration": 376,
    "start_time": "2021-09-26T21:35:25.103Z"
   },
   {
    "duration": 249,
    "start_time": "2021-09-26T21:35:42.490Z"
   },
   {
    "duration": 242,
    "start_time": "2021-09-26T21:36:24.632Z"
   },
   {
    "duration": 252,
    "start_time": "2021-09-26T21:36:51.817Z"
   },
   {
    "duration": 643,
    "start_time": "2021-09-26T21:37:09.337Z"
   },
   {
    "duration": 623,
    "start_time": "2021-09-26T21:38:13.737Z"
   },
   {
    "duration": 620,
    "start_time": "2021-09-26T21:39:14.950Z"
   },
   {
    "duration": 638,
    "start_time": "2021-09-26T21:40:28.569Z"
   },
   {
    "duration": 1255,
    "start_time": "2021-09-26T21:40:41.106Z"
   },
   {
    "duration": 986,
    "start_time": "2021-09-26T21:40:55.538Z"
   },
   {
    "duration": 1043,
    "start_time": "2021-09-26T21:41:09.363Z"
   },
   {
    "duration": 652,
    "start_time": "2021-09-26T21:41:17.522Z"
   },
   {
    "duration": 643,
    "start_time": "2021-09-26T21:41:42.673Z"
   },
   {
    "duration": 9613,
    "start_time": "2021-09-26T21:41:56.025Z"
   },
   {
    "duration": 377,
    "start_time": "2021-09-26T21:42:29.563Z"
   },
   {
    "duration": 17,
    "start_time": "2021-09-26T21:42:50.730Z"
   },
   {
    "duration": 408,
    "start_time": "2021-09-26T21:42:58.370Z"
   },
   {
    "duration": 17,
    "start_time": "2021-09-26T21:43:09.275Z"
   },
   {
    "duration": 12,
    "start_time": "2021-09-26T21:43:15.713Z"
   },
   {
    "duration": 698,
    "start_time": "2021-09-26T21:43:17.675Z"
   },
   {
    "duration": 13,
    "start_time": "2021-09-26T21:43:30.833Z"
   },
   {
    "duration": 642,
    "start_time": "2021-09-26T21:43:47.450Z"
   },
   {
    "duration": 619,
    "start_time": "2021-09-26T21:43:57.921Z"
   },
   {
    "duration": 409,
    "start_time": "2021-09-26T21:44:13.403Z"
   },
   {
    "duration": 617,
    "start_time": "2021-09-26T21:44:21.018Z"
   },
   {
    "duration": 650,
    "start_time": "2021-09-26T21:45:15.023Z"
   },
   {
    "duration": 631,
    "start_time": "2021-09-26T21:45:31.874Z"
   },
   {
    "duration": 21,
    "start_time": "2021-09-26T21:45:35.130Z"
   },
   {
    "duration": 15,
    "start_time": "2021-09-26T21:45:42.114Z"
   },
   {
    "duration": 21,
    "start_time": "2021-09-26T21:45:47.354Z"
   },
   {
    "duration": 756,
    "start_time": "2021-09-26T21:45:48.314Z"
   },
   {
    "duration": 1917,
    "start_time": "2021-09-26T21:46:41.521Z"
   },
   {
    "duration": 1818,
    "start_time": "2021-09-26T21:47:36.026Z"
   },
   {
    "duration": 1832,
    "start_time": "2021-09-26T21:47:54.242Z"
   },
   {
    "duration": 2056,
    "start_time": "2021-09-26T21:48:12.035Z"
   },
   {
    "duration": 1861,
    "start_time": "2021-09-26T21:48:25.073Z"
   },
   {
    "duration": 1852,
    "start_time": "2021-09-26T21:48:53.881Z"
   },
   {
    "duration": 1830,
    "start_time": "2021-09-26T21:49:02.458Z"
   },
   {
    "duration": 1990,
    "start_time": "2021-09-26T21:49:18.458Z"
   },
   {
    "duration": 1849,
    "start_time": "2021-09-26T21:49:28.122Z"
   },
   {
    "duration": 1848,
    "start_time": "2021-09-26T21:49:35.395Z"
   },
   {
    "duration": 1948,
    "start_time": "2021-09-26T21:49:43.667Z"
   },
   {
    "duration": 1830,
    "start_time": "2021-09-26T21:50:48.482Z"
   },
   {
    "duration": 387,
    "start_time": "2021-09-26T21:52:13.364Z"
   },
   {
    "duration": 397,
    "start_time": "2021-09-26T21:52:36.890Z"
   },
   {
    "duration": 359,
    "start_time": "2021-09-26T21:54:45.387Z"
   },
   {
    "duration": 366,
    "start_time": "2021-09-26T21:56:33.132Z"
   },
   {
    "duration": 696,
    "start_time": "2021-09-26T21:56:38.875Z"
   },
   {
    "duration": 382,
    "start_time": "2021-09-26T21:58:49.741Z"
   },
   {
    "duration": 902,
    "start_time": "2021-09-26T21:58:57.557Z"
   },
   {
    "duration": 394,
    "start_time": "2021-09-26T21:59:15.770Z"
   },
   {
    "duration": 362,
    "start_time": "2021-09-26T22:01:33.444Z"
   },
   {
    "duration": 386,
    "start_time": "2021-09-26T22:01:52.336Z"
   },
   {
    "duration": 662,
    "start_time": "2021-09-26T22:02:03.469Z"
   },
   {
    "duration": 6070,
    "start_time": "2021-09-26T22:02:13.757Z"
   },
   {
    "duration": 360,
    "start_time": "2021-09-26T22:02:58.582Z"
   },
   {
    "duration": 320,
    "start_time": "2021-09-26T22:03:24.541Z"
   },
   {
    "duration": 357,
    "start_time": "2021-09-26T22:03:47.437Z"
   },
   {
    "duration": 345,
    "start_time": "2021-09-26T22:04:12.109Z"
   },
   {
    "duration": 4056,
    "start_time": "2021-09-26T22:04:23.630Z"
   },
   {
    "duration": 3181,
    "start_time": "2021-09-26T22:04:45.639Z"
   },
   {
    "duration": 5152,
    "start_time": "2021-09-26T22:05:08.023Z"
   },
   {
    "duration": 28437,
    "start_time": "2021-09-26T22:05:36.670Z"
   },
   {
    "duration": 51231,
    "start_time": "2021-09-26T22:07:11.106Z"
   },
   {
    "duration": 156,
    "start_time": "2021-09-26T22:08:22.353Z"
   },
   {
    "duration": 6512,
    "start_time": "2021-09-26T22:10:09.005Z"
   },
   {
    "duration": 480,
    "start_time": "2021-09-26T22:11:03.832Z"
   },
   {
    "duration": 5470,
    "start_time": "2021-09-26T22:11:29.903Z"
   },
   {
    "duration": 28,
    "start_time": "2021-09-26T22:11:41.016Z"
   },
   {
    "duration": 1518,
    "start_time": "2021-09-26T22:12:33.718Z"
   },
   {
    "duration": 4,
    "start_time": "2021-09-26T22:12:35.238Z"
   },
   {
    "duration": 31,
    "start_time": "2021-09-26T22:12:35.246Z"
   },
   {
    "duration": 831,
    "start_time": "2021-09-26T22:12:35.280Z"
   },
   {
    "duration": 26,
    "start_time": "2021-09-26T22:12:36.114Z"
   },
   {
    "duration": 685,
    "start_time": "2021-09-26T22:12:36.142Z"
   },
   {
    "duration": 19,
    "start_time": "2021-09-26T22:12:36.830Z"
   },
   {
    "duration": 648,
    "start_time": "2021-09-26T22:12:36.852Z"
   },
   {
    "duration": 29,
    "start_time": "2021-09-26T22:12:37.505Z"
   },
   {
    "duration": 1907,
    "start_time": "2021-09-26T22:12:37.538Z"
   },
   {
    "duration": 18,
    "start_time": "2021-09-26T22:28:52.043Z"
   },
   {
    "duration": 513,
    "start_time": "2021-09-26T22:28:56.209Z"
   },
   {
    "duration": 390,
    "start_time": "2021-09-26T22:30:07.254Z"
   },
   {
    "duration": 793,
    "start_time": "2021-09-26T22:30:19.763Z"
   },
   {
    "duration": 378,
    "start_time": "2021-09-26T22:30:28.803Z"
   },
   {
    "duration": 339,
    "start_time": "2021-09-26T22:31:06.356Z"
   },
   {
    "duration": 355,
    "start_time": "2021-09-26T22:32:22.980Z"
   },
   {
    "duration": 419,
    "start_time": "2021-09-26T22:32:30.532Z"
   },
   {
    "duration": 98,
    "start_time": "2021-09-26T22:33:09.019Z"
   },
   {
    "duration": 24,
    "start_time": "2021-09-26T22:33:13.027Z"
   },
   {
    "duration": 125,
    "start_time": "2021-09-26T22:34:58.607Z"
   },
   {
    "duration": 402,
    "start_time": "2021-09-26T22:38:43.791Z"
   },
   {
    "duration": 376,
    "start_time": "2021-09-26T22:39:13.440Z"
   },
   {
    "duration": 5,
    "start_time": "2021-09-26T22:40:29.524Z"
   },
   {
    "duration": 2471,
    "start_time": "2021-09-26T22:40:33.461Z"
   },
   {
    "duration": 119,
    "start_time": "2021-09-26T22:41:42.288Z"
   },
   {
    "duration": 114,
    "start_time": "2021-09-26T22:42:02.942Z"
   },
   {
    "duration": 6,
    "start_time": "2021-09-26T22:42:24.291Z"
   },
   {
    "duration": 114,
    "start_time": "2021-09-26T22:42:30.798Z"
   },
   {
    "duration": 681,
    "start_time": "2021-09-26T22:43:40.591Z"
   },
   {
    "duration": 6,
    "start_time": "2021-09-26T22:44:16.428Z"
   },
   {
    "duration": 774,
    "start_time": "2021-09-26T22:44:20.671Z"
   },
   {
    "duration": 751,
    "start_time": "2021-09-26T22:45:02.071Z"
   },
   {
    "duration": 422,
    "start_time": "2021-09-26T22:46:50.015Z"
   },
   {
    "duration": 6,
    "start_time": "2021-09-26T22:47:01.828Z"
   },
   {
    "duration": 94,
    "start_time": "2021-09-26T22:47:06.781Z"
   },
   {
    "duration": 388,
    "start_time": "2021-09-26T22:51:53.854Z"
   },
   {
    "duration": 26,
    "start_time": "2021-09-26T22:52:18.822Z"
   },
   {
    "duration": 139928,
    "start_time": "2021-09-26T22:52:23.198Z"
   },
   {
    "duration": 1292,
    "start_time": "2021-09-26T23:20:12.355Z"
   },
   {
    "duration": 1388,
    "start_time": "2021-09-26T23:20:26.580Z"
   },
   {
    "duration": 1344,
    "start_time": "2021-09-26T23:22:15.836Z"
   },
   {
    "duration": 1328,
    "start_time": "2021-09-26T23:22:53.052Z"
   },
   {
    "duration": 1388,
    "start_time": "2021-09-26T23:22:58.093Z"
   },
   {
    "duration": 1412,
    "start_time": "2021-09-26T23:23:37.566Z"
   },
   {
    "duration": 617,
    "start_time": "2021-09-26T23:23:49.900Z"
   },
   {
    "duration": 25,
    "start_time": "2021-09-26T23:23:59.740Z"
   },
   {
    "duration": 1776,
    "start_time": "2021-09-26T23:25:00.910Z"
   },
   {
    "duration": 27,
    "start_time": "2021-09-26T23:25:08.175Z"
   },
   {
    "duration": 129,
    "start_time": "2021-09-26T23:26:34.325Z"
   },
   {
    "duration": 1691,
    "start_time": "2021-09-26T23:28:50.471Z"
   },
   {
    "duration": 3,
    "start_time": "2021-09-26T23:28:52.165Z"
   },
   {
    "duration": 30,
    "start_time": "2021-09-26T23:28:52.171Z"
   },
   {
    "duration": 844,
    "start_time": "2021-09-26T23:28:52.204Z"
   },
   {
    "duration": 26,
    "start_time": "2021-09-26T23:28:53.051Z"
   },
   {
    "duration": 19,
    "start_time": "2021-09-26T23:28:53.080Z"
   },
   {
    "duration": 714,
    "start_time": "2021-09-26T23:28:53.102Z"
   },
   {
    "duration": 750,
    "start_time": "2021-09-26T23:28:53.819Z"
   },
   {
    "duration": 1890,
    "start_time": "2021-09-26T23:28:54.572Z"
   },
   {
    "duration": 7,
    "start_time": "2021-09-26T23:28:56.468Z"
   },
   {
    "duration": 115,
    "start_time": "2021-09-26T23:28:56.478Z"
   },
   {
    "duration": 141482,
    "start_time": "2021-09-26T23:28:56.596Z"
   },
   {
    "duration": 2011,
    "start_time": "2021-09-26T23:31:18.081Z"
   },
   {
    "duration": 27,
    "start_time": "2021-09-26T23:31:20.095Z"
   },
   {
    "duration": 509,
    "start_time": "2021-09-26T23:33:28.667Z"
   },
   {
    "duration": 1789,
    "start_time": "2021-09-26T23:34:01.639Z"
   },
   {
    "duration": 9094,
    "start_time": "2021-09-26T23:34:03.961Z"
   },
   {
    "duration": 9,
    "start_time": "2021-09-26T23:34:27.921Z"
   },
   {
    "duration": 27,
    "start_time": "2021-09-26T23:34:51.122Z"
   },
   {
    "duration": 10159,
    "start_time": "2021-09-26T23:35:16.034Z"
   },
   {
    "duration": 20,
    "start_time": "2021-09-26T23:38:47.322Z"
   },
   {
    "duration": 71007,
    "start_time": "2021-09-26T23:50:40.185Z"
   },
   {
    "duration": 27,
    "start_time": "2021-09-26T23:51:51.195Z"
   },
   {
    "duration": 58,
    "start_time": "2021-09-26T23:51:51.225Z"
   },
   {
    "duration": 27,
    "start_time": "2021-09-26T23:51:51.286Z"
   },
   {
    "duration": 25,
    "start_time": "2021-09-26T23:52:04.980Z"
   },
   {
    "duration": 1614,
    "start_time": "2021-09-27T00:00:39.371Z"
   },
   {
    "duration": 3,
    "start_time": "2021-09-27T00:00:40.988Z"
   },
   {
    "duration": 40,
    "start_time": "2021-09-27T00:00:40.994Z"
   },
   {
    "duration": 910,
    "start_time": "2021-09-27T00:00:41.037Z"
   },
   {
    "duration": 34,
    "start_time": "2021-09-27T00:00:41.950Z"
   },
   {
    "duration": 20,
    "start_time": "2021-09-27T00:00:41.986Z"
   },
   {
    "duration": 677,
    "start_time": "2021-09-27T00:00:42.008Z"
   },
   {
    "duration": 728,
    "start_time": "2021-09-27T00:00:42.688Z"
   },
   {
    "duration": 1844,
    "start_time": "2021-09-27T00:00:43.418Z"
   },
   {
    "duration": 6,
    "start_time": "2021-09-27T00:00:45.267Z"
   },
   {
    "duration": 113,
    "start_time": "2021-09-27T00:00:45.276Z"
   },
   {
    "duration": 137324,
    "start_time": "2021-09-27T00:00:45.392Z"
   },
   {
    "duration": 1850,
    "start_time": "2021-09-27T00:03:02.719Z"
   },
   {
    "duration": 25,
    "start_time": "2021-09-27T00:03:04.572Z"
   },
   {
    "duration": 25,
    "start_time": "2021-09-27T00:04:56.010Z"
   },
   {
    "duration": 1186,
    "start_time": "2021-09-27T04:26:43.538Z"
   },
   {
    "duration": 48393,
    "start_time": "2021-09-27T04:26:44.726Z"
   },
   {
    "duration": 26,
    "start_time": "2021-09-27T04:27:33.122Z"
   },
   {
    "duration": 1209,
    "start_time": "2021-09-27T04:28:17.154Z"
   },
   {
    "duration": 2,
    "start_time": "2021-09-27T04:28:18.366Z"
   },
   {
    "duration": 30,
    "start_time": "2021-09-27T04:28:18.371Z"
   },
   {
    "duration": 49541,
    "start_time": "2021-09-27T04:28:18.404Z"
   },
   {
    "duration": 16,
    "start_time": "2021-09-27T04:29:07.947Z"
   },
   {
    "duration": 12,
    "start_time": "2021-09-27T04:29:07.964Z"
   },
   {
    "duration": 393,
    "start_time": "2021-09-27T04:29:07.978Z"
   },
   {
    "duration": 442,
    "start_time": "2021-09-27T04:29:08.374Z"
   },
   {
    "duration": 1079,
    "start_time": "2021-09-27T04:29:08.818Z"
   },
   {
    "duration": 4,
    "start_time": "2021-09-27T04:29:09.899Z"
   },
   {
    "duration": 72,
    "start_time": "2021-09-27T04:29:09.905Z"
   },
   {
    "duration": 75864,
    "start_time": "2021-09-27T04:29:09.979Z"
   },
   {
    "duration": 1534,
    "start_time": "2021-09-27T04:30:25.844Z"
   },
   {
    "duration": 12,
    "start_time": "2021-09-27T04:30:27.380Z"
   },
   {
    "duration": 395,
    "start_time": "2021-09-27T09:51:45.538Z"
   },
   {
    "duration": 1689,
    "start_time": "2021-09-27T09:52:24.957Z"
   },
   {
    "duration": 3,
    "start_time": "2021-09-27T09:52:26.649Z"
   },
   {
    "duration": 140,
    "start_time": "2021-09-27T09:52:26.655Z"
   },
   {
    "duration": 905,
    "start_time": "2021-09-27T09:52:27.597Z"
   },
   {
    "duration": 148,
    "start_time": "2021-09-27T09:53:38.912Z"
   },
   {
    "duration": 447,
    "start_time": "2021-09-27T09:57:29.440Z"
   },
   {
    "duration": 1621,
    "start_time": "2021-09-27T09:57:36.408Z"
   },
   {
    "duration": 5,
    "start_time": "2021-09-27T09:57:38.031Z"
   },
   {
    "duration": 35,
    "start_time": "2021-09-27T09:57:38.039Z"
   },
   {
    "duration": 932,
    "start_time": "2021-09-27T09:57:38.076Z"
   },
   {
    "duration": 28,
    "start_time": "2021-09-27T09:57:39.010Z"
   },
   {
    "duration": 27,
    "start_time": "2021-09-27T09:57:39.040Z"
   },
   {
    "duration": 10,
    "start_time": "2021-09-27T09:57:39.070Z"
   },
   {
    "duration": 130,
    "start_time": "2021-09-27T09:57:39.084Z"
   },
   {
    "duration": -28,
    "start_time": "2021-09-27T09:57:39.245Z"
   },
   {
    "duration": -29,
    "start_time": "2021-09-27T09:57:39.249Z"
   },
   {
    "duration": -28,
    "start_time": "2021-09-27T09:57:39.251Z"
   },
   {
    "duration": -28,
    "start_time": "2021-09-27T09:57:39.253Z"
   },
   {
    "duration": -34,
    "start_time": "2021-09-27T09:57:39.261Z"
   },
   {
    "duration": -35,
    "start_time": "2021-09-27T09:57:39.264Z"
   },
   {
    "duration": -32,
    "start_time": "2021-09-27T09:57:39.266Z"
   },
   {
    "duration": -33,
    "start_time": "2021-09-27T09:57:39.269Z"
   },
   {
    "duration": 10762,
    "start_time": "2021-09-27T10:01:10.789Z"
   },
   {
    "duration": 12,
    "start_time": "2021-09-27T10:02:09.810Z"
   },
   {
    "duration": 712,
    "start_time": "2021-09-27T10:02:22.434Z"
   },
   {
    "duration": 427,
    "start_time": "2021-09-27T10:03:06.820Z"
   },
   {
    "duration": 13,
    "start_time": "2021-09-27T10:03:42.970Z"
   },
   {
    "duration": 703,
    "start_time": "2021-09-27T10:03:44.218Z"
   },
   {
    "duration": 360,
    "start_time": "2021-09-27T10:04:19.723Z"
   },
   {
    "duration": 8,
    "start_time": "2021-09-27T10:05:26.258Z"
   },
   {
    "duration": 369,
    "start_time": "2021-09-27T10:05:27.525Z"
   },
   {
    "duration": 401,
    "start_time": "2021-09-27T10:05:36.370Z"
   },
   {
    "duration": 427,
    "start_time": "2021-09-27T10:06:07.523Z"
   },
   {
    "duration": 524,
    "start_time": "2021-09-27T10:06:14.451Z"
   },
   {
    "duration": 391,
    "start_time": "2021-09-27T10:06:24.155Z"
   },
   {
    "duration": 430,
    "start_time": "2021-09-27T10:06:37.964Z"
   },
   {
    "duration": 365,
    "start_time": "2021-09-27T10:07:05.540Z"
   },
   {
    "duration": 411,
    "start_time": "2021-09-27T10:07:26.460Z"
   },
   {
    "duration": 19,
    "start_time": "2021-09-27T10:07:35.308Z"
   },
   {
    "duration": 22,
    "start_time": "2021-09-27T10:08:16.459Z"
   },
   {
    "duration": 20,
    "start_time": "2021-09-27T10:08:51.402Z"
   },
   {
    "duration": 20,
    "start_time": "2021-09-27T10:09:04.824Z"
   },
   {
    "duration": 20,
    "start_time": "2021-09-27T10:09:06.698Z"
   },
   {
    "duration": 12,
    "start_time": "2021-09-27T10:09:14.213Z"
   },
   {
    "duration": 12,
    "start_time": "2021-09-27T10:09:29.275Z"
   },
   {
    "duration": 434,
    "start_time": "2021-09-27T10:09:34.475Z"
   },
   {
    "duration": 24,
    "start_time": "2021-09-27T10:10:09.660Z"
   },
   {
    "duration": 12,
    "start_time": "2021-09-27T10:10:14.258Z"
   },
   {
    "duration": 579,
    "start_time": "2021-09-27T10:10:15.079Z"
   },
   {
    "duration": 2436,
    "start_time": "2021-09-27T10:11:38.780Z"
   },
   {
    "duration": 2804,
    "start_time": "2021-09-27T10:12:05.236Z"
   },
   {
    "duration": 2677,
    "start_time": "2021-09-27T10:12:25.582Z"
   },
   {
    "duration": 13,
    "start_time": "2021-09-27T10:13:13.379Z"
   },
   {
    "duration": 13,
    "start_time": "2021-09-27T10:13:22.740Z"
   },
   {
    "duration": 14,
    "start_time": "2021-09-27T10:13:30.062Z"
   },
   {
    "duration": 688,
    "start_time": "2021-09-27T10:13:30.877Z"
   },
   {
    "duration": 363,
    "start_time": "2021-09-27T10:14:00.495Z"
   },
   {
    "duration": 595,
    "start_time": "2021-09-27T10:14:01.140Z"
   },
   {
    "duration": 15,
    "start_time": "2021-09-27T10:14:19.325Z"
   },
   {
    "duration": 612,
    "start_time": "2021-09-27T10:14:20.517Z"
   },
   {
    "duration": 600,
    "start_time": "2021-09-27T10:14:21.883Z"
   },
   {
    "duration": 871,
    "start_time": "2021-09-27T10:14:38.708Z"
   },
   {
    "duration": 377,
    "start_time": "2021-09-27T10:15:38.884Z"
   },
   {
    "duration": 16,
    "start_time": "2021-09-27T10:15:52.134Z"
   },
   {
    "duration": 8,
    "start_time": "2021-09-27T10:15:58.669Z"
   },
   {
    "duration": 416,
    "start_time": "2021-09-27T10:16:04.523Z"
   },
   {
    "duration": 420,
    "start_time": "2021-09-27T10:16:17.020Z"
   },
   {
    "duration": 370,
    "start_time": "2021-09-27T10:16:52.724Z"
   },
   {
    "duration": 9,
    "start_time": "2021-09-27T10:16:56.796Z"
   },
   {
    "duration": 369,
    "start_time": "2021-09-27T10:16:57.917Z"
   },
   {
    "duration": 588,
    "start_time": "2021-09-27T10:16:59.068Z"
   },
   {
    "duration": 364,
    "start_time": "2021-09-27T10:17:20.837Z"
   },
   {
    "duration": 15,
    "start_time": "2021-09-27T10:17:28.213Z"
   },
   {
    "duration": 31,
    "start_time": "2021-09-27T10:17:37.469Z"
   },
   {
    "duration": 10,
    "start_time": "2021-09-27T10:17:47.855Z"
   },
   {
    "duration": 427,
    "start_time": "2021-09-27T10:18:01.492Z"
   },
   {
    "duration": 386,
    "start_time": "2021-09-27T10:18:53.541Z"
   },
   {
    "duration": 657,
    "start_time": "2021-09-27T10:21:14.318Z"
   },
   {
    "duration": 588,
    "start_time": "2021-09-27T10:21:50.591Z"
   },
   {
    "duration": 589,
    "start_time": "2021-09-27T10:21:56.742Z"
   },
   {
    "duration": 11,
    "start_time": "2021-09-27T10:25:25.605Z"
   },
   {
    "duration": 1166,
    "start_time": "2021-09-27T10:25:52.760Z"
   },
   {
    "duration": 644,
    "start_time": "2021-09-27T10:25:57.030Z"
   },
   {
    "duration": 1225,
    "start_time": "2021-09-27T10:26:31.279Z"
   },
   {
    "duration": 488,
    "start_time": "2021-09-27T10:28:03.286Z"
   },
   {
    "duration": 354,
    "start_time": "2021-09-27T10:28:11.854Z"
   },
   {
    "duration": 440,
    "start_time": "2021-09-27T10:28:34.439Z"
   },
   {
    "duration": 341,
    "start_time": "2021-09-27T10:28:50.087Z"
   },
   {
    "duration": 352,
    "start_time": "2021-09-27T10:29:27.649Z"
   },
   {
    "duration": 416,
    "start_time": "2021-09-27T10:30:45.554Z"
   },
   {
    "duration": 527,
    "start_time": "2021-09-27T10:32:21.112Z"
   },
   {
    "duration": 504,
    "start_time": "2021-09-27T10:32:50.688Z"
   },
   {
    "duration": 514,
    "start_time": "2021-09-27T10:32:57.855Z"
   },
   {
    "duration": 1024,
    "start_time": "2021-09-27T10:33:40.168Z"
   },
   {
    "duration": 792,
    "start_time": "2021-09-27T10:34:44.257Z"
   },
   {
    "duration": 790,
    "start_time": "2021-09-27T10:34:45.817Z"
   },
   {
    "duration": 390,
    "start_time": "2021-09-27T10:35:47.416Z"
   },
   {
    "duration": 388,
    "start_time": "2021-09-27T10:36:15.945Z"
   },
   {
    "duration": 649,
    "start_time": "2021-09-27T10:36:40.745Z"
   },
   {
    "duration": 376,
    "start_time": "2021-09-27T10:36:52.401Z"
   },
   {
    "duration": 9,
    "start_time": "2021-09-27T10:41:11.081Z"
   },
   {
    "duration": 577,
    "start_time": "2021-09-27T10:41:11.795Z"
   },
   {
    "duration": 596,
    "start_time": "2021-09-27T10:41:13.536Z"
   },
   {
    "duration": 11,
    "start_time": "2021-09-27T10:41:16.361Z"
   },
   {
    "duration": 395,
    "start_time": "2021-09-27T10:41:17.795Z"
   },
   {
    "duration": 540,
    "start_time": "2021-09-27T10:41:20.753Z"
   },
   {
    "duration": 28,
    "start_time": "2021-09-27T10:42:18.266Z"
   },
   {
    "duration": 853,
    "start_time": "2021-09-27T10:42:52.706Z"
   },
   {
    "duration": 773,
    "start_time": "2021-09-27T10:43:09.931Z"
   },
   {
    "duration": 820,
    "start_time": "2021-09-27T10:45:25.178Z"
   },
   {
    "duration": 17,
    "start_time": "2021-09-27T10:45:39.538Z"
   },
   {
    "duration": 717,
    "start_time": "2021-09-27T10:45:40.825Z"
   },
   {
    "duration": 2988,
    "start_time": "2021-09-27T10:47:02.633Z"
   },
   {
    "duration": 2245,
    "start_time": "2021-09-27T10:47:21.786Z"
   },
   {
    "duration": 2758,
    "start_time": "2021-09-27T10:47:31.074Z"
   },
   {
    "duration": 2138,
    "start_time": "2021-09-27T10:48:05.937Z"
   },
   {
    "duration": 1699,
    "start_time": "2021-09-27T10:51:52.104Z"
   },
   {
    "duration": 11,
    "start_time": "2021-09-27T10:51:53.806Z"
   },
   {
    "duration": 42,
    "start_time": "2021-09-27T10:51:53.821Z"
   },
   {
    "duration": 887,
    "start_time": "2021-09-27T10:51:53.866Z"
   },
   {
    "duration": 28,
    "start_time": "2021-09-27T10:51:54.756Z"
   },
   {
    "duration": 34,
    "start_time": "2021-09-27T10:51:54.787Z"
   },
   {
    "duration": 8,
    "start_time": "2021-09-27T10:51:54.824Z"
   },
   {
    "duration": 667,
    "start_time": "2021-09-27T10:51:54.836Z"
   },
   {
    "duration": 426,
    "start_time": "2021-09-27T10:51:55.506Z"
   },
   {
    "duration": 696,
    "start_time": "2021-09-27T10:51:55.935Z"
   },
   {
    "duration": 388,
    "start_time": "2021-09-27T10:51:56.633Z"
   },
   {
    "duration": 17,
    "start_time": "2021-09-27T10:51:57.024Z"
   },
   {
    "duration": 1761,
    "start_time": "2021-09-27T10:51:57.043Z"
   },
   {
    "duration": 10,
    "start_time": "2021-09-27T10:51:58.807Z"
   },
   {
    "duration": 109,
    "start_time": "2021-09-27T10:51:58.820Z"
   },
   {
    "duration": 1691,
    "start_time": "2021-09-27T10:54:17.502Z"
   },
   {
    "duration": 4,
    "start_time": "2021-09-27T10:54:19.196Z"
   },
   {
    "duration": 40,
    "start_time": "2021-09-27T10:54:19.203Z"
   },
   {
    "duration": 1017,
    "start_time": "2021-09-27T10:54:19.245Z"
   },
   {
    "duration": 23,
    "start_time": "2021-09-27T10:54:20.265Z"
   },
   {
    "duration": 40,
    "start_time": "2021-09-27T10:54:20.290Z"
   },
   {
    "duration": 8,
    "start_time": "2021-09-27T10:54:20.332Z"
   },
   {
    "duration": 639,
    "start_time": "2021-09-27T10:54:20.344Z"
   },
   {
    "duration": 425,
    "start_time": "2021-09-27T10:54:20.986Z"
   },
   {
    "duration": 672,
    "start_time": "2021-09-27T10:54:21.417Z"
   },
   {
    "duration": 404,
    "start_time": "2021-09-27T10:54:22.092Z"
   },
   {
    "duration": 31,
    "start_time": "2021-09-27T10:54:22.498Z"
   },
   {
    "duration": 1777,
    "start_time": "2021-09-27T10:54:22.532Z"
   },
   {
    "duration": 5,
    "start_time": "2021-09-27T10:54:24.317Z"
   },
   {
    "duration": 111,
    "start_time": "2021-09-27T10:54:24.325Z"
   },
   {
    "duration": 139866,
    "start_time": "2021-09-27T10:54:24.439Z"
   },
   {
    "duration": 1718,
    "start_time": "2021-09-27T10:56:44.308Z"
   },
   {
    "duration": 20,
    "start_time": "2021-09-27T10:56:46.029Z"
   },
   {
    "duration": 1546,
    "start_time": "2021-09-27T10:57:50.950Z"
   },
   {
    "duration": 441,
    "start_time": "2021-09-27T11:03:38.426Z"
   },
   {
    "duration": 381,
    "start_time": "2021-09-27T11:03:56.968Z"
   },
   {
    "duration": 964,
    "start_time": "2021-09-27T11:04:15.209Z"
   },
   {
    "duration": 859,
    "start_time": "2021-09-27T11:04:22.184Z"
   },
   {
    "duration": 375,
    "start_time": "2021-09-27T11:04:36.958Z"
   },
   {
    "duration": 383,
    "start_time": "2021-09-27T11:04:40.856Z"
   },
   {
    "duration": 6,
    "start_time": "2021-09-27T11:04:44.705Z"
   },
   {
    "duration": 27,
    "start_time": "2021-09-27T11:04:59.009Z"
   },
   {
    "duration": 6,
    "start_time": "2021-09-27T11:05:00.159Z"
   },
   {
    "duration": 5,
    "start_time": "2021-09-27T11:05:18.912Z"
   },
   {
    "duration": 733,
    "start_time": "2021-09-27T11:05:22.015Z"
   },
   {
    "duration": 922,
    "start_time": "2021-09-27T11:05:36.394Z"
   },
   {
    "duration": 24,
    "start_time": "2021-09-27T11:05:58.160Z"
   },
   {
    "duration": 6,
    "start_time": "2021-09-27T11:06:00.656Z"
   },
   {
    "duration": 6,
    "start_time": "2021-09-27T11:06:01.448Z"
   },
   {
    "duration": 364,
    "start_time": "2021-09-27T11:09:12.608Z"
   },
   {
    "duration": 364,
    "start_time": "2021-09-27T11:09:19.433Z"
   },
   {
    "duration": 43,
    "start_time": "2021-09-27T11:09:28.033Z"
   },
   {
    "duration": 728,
    "start_time": "2021-09-27T11:09:47.345Z"
   },
   {
    "duration": 6,
    "start_time": "2021-09-27T11:10:11.099Z"
   },
   {
    "duration": 811,
    "start_time": "2021-09-27T11:12:44.050Z"
   },
   {
    "duration": 237,
    "start_time": "2021-09-27T11:13:34.730Z"
   },
   {
    "duration": 346,
    "start_time": "2021-09-27T11:13:52.330Z"
   },
   {
    "duration": 116,
    "start_time": "2021-09-27T11:14:14.194Z"
   },
   {
    "duration": 3487,
    "start_time": "2021-09-27T11:14:18.456Z"
   },
   {
    "duration": 2871,
    "start_time": "2021-09-27T11:15:57.731Z"
   },
   {
    "duration": 2717,
    "start_time": "2021-09-27T11:16:11.331Z"
   },
   {
    "duration": 3228,
    "start_time": "2021-09-27T11:16:19.643Z"
   },
   {
    "duration": 764,
    "start_time": "2021-09-27T11:16:56.529Z"
   },
   {
    "duration": 3171,
    "start_time": "2021-09-27T11:17:28.891Z"
   },
   {
    "duration": 1675,
    "start_time": "2021-09-27T11:18:44.668Z"
   },
   {
    "duration": 362,
    "start_time": "2021-09-27T11:20:17.162Z"
   },
   {
    "duration": 2309,
    "start_time": "2021-09-27T11:20:29.954Z"
   },
   {
    "duration": 535,
    "start_time": "2021-09-27T11:21:09.795Z"
   },
   {
    "duration": 2197,
    "start_time": "2021-09-27T11:21:16.099Z"
   },
   {
    "duration": 2267,
    "start_time": "2021-09-27T11:21:37.236Z"
   },
   {
    "duration": 2222,
    "start_time": "2021-09-27T11:21:50.612Z"
   },
   {
    "duration": 2134,
    "start_time": "2021-09-27T11:22:05.026Z"
   },
   {
    "duration": 2389,
    "start_time": "2021-09-27T11:22:26.107Z"
   },
   {
    "duration": 2025,
    "start_time": "2021-09-27T11:24:20.861Z"
   },
   {
    "duration": 3,
    "start_time": "2021-09-27T11:24:22.889Z"
   },
   {
    "duration": 32,
    "start_time": "2021-09-27T11:24:22.895Z"
   },
   {
    "duration": 1060,
    "start_time": "2021-09-27T11:24:22.930Z"
   },
   {
    "duration": 36,
    "start_time": "2021-09-27T11:24:23.993Z"
   },
   {
    "duration": 20,
    "start_time": "2021-09-27T11:24:24.032Z"
   },
   {
    "duration": 8,
    "start_time": "2021-09-27T11:24:24.055Z"
   },
   {
    "duration": 696,
    "start_time": "2021-09-27T11:24:24.066Z"
   },
   {
    "duration": 555,
    "start_time": "2021-09-27T11:24:24.769Z"
   },
   {
    "duration": 606,
    "start_time": "2021-09-27T11:24:25.326Z"
   },
   {
    "duration": 400,
    "start_time": "2021-09-27T11:24:25.935Z"
   },
   {
    "duration": 24,
    "start_time": "2021-09-27T11:24:26.338Z"
   },
   {
    "duration": 8,
    "start_time": "2021-09-27T11:24:26.365Z"
   },
   {
    "duration": 8,
    "start_time": "2021-09-27T11:24:26.376Z"
   },
   {
    "duration": 875,
    "start_time": "2021-09-27T11:24:26.417Z"
   },
   {
    "duration": -18,
    "start_time": "2021-09-27T11:24:27.314Z"
   },
   {
    "duration": -21,
    "start_time": "2021-09-27T11:24:27.319Z"
   },
   {
    "duration": -30,
    "start_time": "2021-09-27T11:24:27.330Z"
   },
   {
    "duration": -32,
    "start_time": "2021-09-27T11:24:27.335Z"
   },
   {
    "duration": -33,
    "start_time": "2021-09-27T11:24:27.337Z"
   },
   {
    "duration": -35,
    "start_time": "2021-09-27T11:24:27.340Z"
   },
   {
    "duration": -36,
    "start_time": "2021-09-27T11:24:27.342Z"
   },
   {
    "duration": -30,
    "start_time": "2021-09-27T11:24:27.346Z"
   },
   {
    "duration": -30,
    "start_time": "2021-09-27T11:24:27.348Z"
   },
   {
    "duration": -30,
    "start_time": "2021-09-27T11:24:27.350Z"
   },
   {
    "duration": 2066,
    "start_time": "2021-09-27T11:25:41.621Z"
   },
   {
    "duration": 3,
    "start_time": "2021-09-27T11:25:43.690Z"
   },
   {
    "duration": 29,
    "start_time": "2021-09-27T11:25:43.696Z"
   },
   {
    "duration": 907,
    "start_time": "2021-09-27T11:25:43.728Z"
   },
   {
    "duration": 25,
    "start_time": "2021-09-27T11:25:44.638Z"
   },
   {
    "duration": 51,
    "start_time": "2021-09-27T11:25:44.666Z"
   },
   {
    "duration": 9,
    "start_time": "2021-09-27T11:25:44.720Z"
   },
   {
    "duration": 612,
    "start_time": "2021-09-27T11:25:44.735Z"
   },
   {
    "duration": 536,
    "start_time": "2021-09-27T11:25:45.351Z"
   },
   {
    "duration": 602,
    "start_time": "2021-09-27T11:25:45.890Z"
   },
   {
    "duration": 398,
    "start_time": "2021-09-27T11:25:46.495Z"
   },
   {
    "duration": 2174,
    "start_time": "2021-09-27T11:25:46.896Z"
   },
   {
    "duration": -3,
    "start_time": "2021-09-27T11:25:49.076Z"
   },
   {
    "duration": -5,
    "start_time": "2021-09-27T11:25:49.079Z"
   },
   {
    "duration": -7,
    "start_time": "2021-09-27T11:25:49.082Z"
   },
   {
    "duration": -9,
    "start_time": "2021-09-27T11:25:49.086Z"
   },
   {
    "duration": -12,
    "start_time": "2021-09-27T11:25:49.090Z"
   },
   {
    "duration": -14,
    "start_time": "2021-09-27T11:25:49.093Z"
   },
   {
    "duration": 2294,
    "start_time": "2021-09-27T11:26:05.962Z"
   },
   {
    "duration": 2029,
    "start_time": "2021-09-27T11:26:16.994Z"
   },
   {
    "duration": 1450,
    "start_time": "2021-09-27T11:26:26.834Z"
   },
   {
    "duration": 2532,
    "start_time": "2021-09-27T11:26:46.340Z"
   },
   {
    "duration": 3,
    "start_time": "2021-09-27T11:26:48.875Z"
   },
   {
    "duration": 39,
    "start_time": "2021-09-27T11:26:48.882Z"
   },
   {
    "duration": 2178,
    "start_time": "2021-09-27T11:26:48.925Z"
   },
   {
    "duration": 24,
    "start_time": "2021-09-27T11:26:51.117Z"
   },
   {
    "duration": 21,
    "start_time": "2021-09-27T11:26:51.144Z"
   },
   {
    "duration": 9,
    "start_time": "2021-09-27T11:26:51.168Z"
   },
   {
    "duration": 666,
    "start_time": "2021-09-27T11:26:51.182Z"
   },
   {
    "duration": 526,
    "start_time": "2021-09-27T11:26:51.851Z"
   },
   {
    "duration": 666,
    "start_time": "2021-09-27T11:26:52.380Z"
   },
   {
    "duration": 403,
    "start_time": "2021-09-27T11:26:53.048Z"
   },
   {
    "duration": 1566,
    "start_time": "2021-09-27T11:26:53.454Z"
   },
   {
    "duration": 1831,
    "start_time": "2021-09-27T11:26:55.023Z"
   },
   {
    "duration": 5,
    "start_time": "2021-09-27T11:26:56.857Z"
   },
   {
    "duration": 118,
    "start_time": "2021-09-27T11:26:56.865Z"
   },
   {
    "duration": 141199,
    "start_time": "2021-09-27T11:26:56.987Z"
   },
   {
    "duration": 1741,
    "start_time": "2021-09-27T11:29:18.189Z"
   },
   {
    "duration": 21,
    "start_time": "2021-09-27T11:29:19.932Z"
   },
   {
    "duration": 2698,
    "start_time": "2021-09-27T11:34:54.684Z"
   },
   {
    "duration": 28,
    "start_time": "2021-09-27T11:35:24.006Z"
   },
   {
    "duration": 6,
    "start_time": "2021-09-27T11:35:29.747Z"
   },
   {
    "duration": 4345,
    "start_time": "2021-09-27T11:35:41.517Z"
   },
   {
    "duration": 2028,
    "start_time": "2021-09-27T11:36:28.030Z"
   },
   {
    "duration": 1979,
    "start_time": "2021-09-27T11:39:11.262Z"
   },
   {
    "duration": 3,
    "start_time": "2021-09-27T11:39:13.244Z"
   },
   {
    "duration": 42,
    "start_time": "2021-09-27T11:39:13.250Z"
   },
   {
    "duration": 872,
    "start_time": "2021-09-27T11:39:13.295Z"
   },
   {
    "duration": 22,
    "start_time": "2021-09-27T11:39:14.170Z"
   },
   {
    "duration": 40,
    "start_time": "2021-09-27T11:39:14.194Z"
   },
   {
    "duration": 7,
    "start_time": "2021-09-27T11:39:14.237Z"
   },
   {
    "duration": 724,
    "start_time": "2021-09-27T11:39:14.247Z"
   },
   {
    "duration": 533,
    "start_time": "2021-09-27T11:39:14.975Z"
   },
   {
    "duration": 601,
    "start_time": "2021-09-27T11:39:15.515Z"
   },
   {
    "duration": 389,
    "start_time": "2021-09-27T11:39:16.119Z"
   },
   {
    "duration": 6,
    "start_time": "2021-09-27T11:39:16.515Z"
   },
   {
    "duration": 1438,
    "start_time": "2021-09-27T11:39:16.523Z"
   },
   {
    "duration": 2153,
    "start_time": "2021-09-27T11:52:47.546Z"
   },
   {
    "duration": 4,
    "start_time": "2021-09-27T11:52:49.702Z"
   },
   {
    "duration": 32,
    "start_time": "2021-09-27T11:52:49.710Z"
   },
   {
    "duration": 1355,
    "start_time": "2021-09-27T11:52:49.745Z"
   },
   {
    "duration": 32,
    "start_time": "2021-09-27T11:52:51.115Z"
   },
   {
    "duration": 28,
    "start_time": "2021-09-27T11:52:51.150Z"
   },
   {
    "duration": 39,
    "start_time": "2021-09-27T11:52:51.181Z"
   },
   {
    "duration": 622,
    "start_time": "2021-09-27T11:52:51.225Z"
   },
   {
    "duration": 533,
    "start_time": "2021-09-27T11:52:51.850Z"
   },
   {
    "duration": 631,
    "start_time": "2021-09-27T11:52:52.385Z"
   },
   {
    "duration": 386,
    "start_time": "2021-09-27T11:52:53.019Z"
   },
   {
    "duration": 1441,
    "start_time": "2021-09-27T11:52:53.407Z"
   },
   {
    "duration": 581,
    "start_time": "2021-09-27T11:52:54.851Z"
   },
   {
    "duration": -28,
    "start_time": "2021-09-27T11:52:55.463Z"
   },
   {
    "duration": -31,
    "start_time": "2021-09-27T11:52:55.467Z"
   },
   {
    "duration": -34,
    "start_time": "2021-09-27T11:52:55.472Z"
   },
   {
    "duration": -36,
    "start_time": "2021-09-27T11:52:55.475Z"
   },
   {
    "duration": -49,
    "start_time": "2021-09-27T11:52:55.489Z"
   },
   {
    "duration": -50,
    "start_time": "2021-09-27T11:52:55.492Z"
   },
   {
    "duration": 3055,
    "start_time": "2021-09-27T11:53:15.102Z"
   },
   {
    "duration": 40895,
    "start_time": "2021-09-27T11:53:27.393Z"
   },
   {
    "duration": -27,
    "start_time": "2021-09-27T11:54:08.318Z"
   },
   {
    "duration": 2116,
    "start_time": "2021-09-27T11:54:10.960Z"
   },
   {
    "duration": 2593,
    "start_time": "2021-09-27T11:54:29.544Z"
   },
   {
    "duration": 12,
    "start_time": "2021-09-27T11:55:15.784Z"
   },
   {
    "duration": 73516,
    "start_time": "2021-09-27T11:55:17.247Z"
   },
   {
    "duration": 2586,
    "start_time": "2021-09-27T11:56:38.755Z"
   },
   {
    "duration": 3011,
    "start_time": "2021-09-27T11:56:56.848Z"
   },
   {
    "duration": 2070,
    "start_time": "2021-09-27T11:57:48.113Z"
   },
   {
    "duration": 3,
    "start_time": "2021-09-27T11:57:50.186Z"
   },
   {
    "duration": 41,
    "start_time": "2021-09-27T11:57:50.192Z"
   },
   {
    "duration": 922,
    "start_time": "2021-09-27T11:57:50.236Z"
   },
   {
    "duration": 22,
    "start_time": "2021-09-27T11:57:51.161Z"
   },
   {
    "duration": 41,
    "start_time": "2021-09-27T11:57:51.185Z"
   },
   {
    "duration": 8,
    "start_time": "2021-09-27T11:57:51.228Z"
   },
   {
    "duration": 624,
    "start_time": "2021-09-27T11:57:51.240Z"
   },
   {
    "duration": 518,
    "start_time": "2021-09-27T11:57:51.867Z"
   },
   {
    "duration": 599,
    "start_time": "2021-09-27T11:57:52.387Z"
   },
   {
    "duration": 400,
    "start_time": "2021-09-27T11:57:52.989Z"
   },
   {
    "duration": 1989,
    "start_time": "2021-09-27T11:57:53.391Z"
   },
   {
    "duration": 3143,
    "start_time": "2021-09-27T11:57:55.382Z"
   },
   {
    "duration": 1894,
    "start_time": "2021-09-27T11:57:58.528Z"
   },
   {
    "duration": 7,
    "start_time": "2021-09-27T11:58:00.425Z"
   },
   {
    "duration": 132,
    "start_time": "2021-09-27T11:58:00.436Z"
   },
   {
    "duration": 141615,
    "start_time": "2021-09-27T11:58:00.571Z"
   },
   {
    "duration": 1934,
    "start_time": "2021-09-27T12:00:22.188Z"
   },
   {
    "duration": 19,
    "start_time": "2021-09-27T12:00:24.125Z"
   },
   {
    "duration": 14103,
    "start_time": "2021-09-28T05:08:10.277Z"
   },
   {
    "duration": 2,
    "start_time": "2021-09-28T05:08:24.382Z"
   },
   {
    "duration": 26,
    "start_time": "2021-09-28T05:08:24.386Z"
   },
   {
    "duration": 51521,
    "start_time": "2021-09-28T05:08:24.414Z"
   },
   {
    "duration": 16,
    "start_time": "2021-09-28T05:09:15.937Z"
   },
   {
    "duration": 13,
    "start_time": "2021-09-28T05:09:15.954Z"
   },
   {
    "duration": 6,
    "start_time": "2021-09-28T05:09:15.969Z"
   },
   {
    "duration": 365,
    "start_time": "2021-09-28T05:09:15.977Z"
   },
   {
    "duration": 347,
    "start_time": "2021-09-28T05:09:16.345Z"
   },
   {
    "duration": 344,
    "start_time": "2021-09-28T05:09:16.693Z"
   },
   {
    "duration": 223,
    "start_time": "2021-09-28T05:09:17.038Z"
   },
   {
    "duration": 1129,
    "start_time": "2021-09-28T05:09:17.262Z"
   },
   {
    "duration": 2128,
    "start_time": "2021-09-28T05:09:18.392Z"
   },
   {
    "duration": 1171,
    "start_time": "2021-09-28T05:09:20.522Z"
   },
   {
    "duration": 4,
    "start_time": "2021-09-28T05:09:21.694Z"
   },
   {
    "duration": 72,
    "start_time": "2021-09-28T05:09:21.699Z"
   },
   {
    "duration": 77314,
    "start_time": "2021-09-28T05:09:21.772Z"
   },
   {
    "duration": 1466,
    "start_time": "2021-09-28T05:10:39.088Z"
   },
   {
    "duration": 14,
    "start_time": "2021-09-28T05:10:40.556Z"
   },
   {
    "duration": 890,
    "start_time": "2021-09-28T05:18:37.659Z"
   },
   {
    "duration": 902,
    "start_time": "2021-09-28T05:18:45.808Z"
   },
   {
    "duration": 431,
    "start_time": "2021-09-28T15:13:23.215Z"
   },
   {
    "duration": 1978,
    "start_time": "2021-09-28T15:13:47.464Z"
   },
   {
    "duration": 4,
    "start_time": "2021-09-28T15:13:49.444Z"
   },
   {
    "duration": 31,
    "start_time": "2021-09-28T15:13:49.452Z"
   },
   {
    "duration": 846,
    "start_time": "2021-09-28T15:13:49.486Z"
   },
   {
    "duration": 22,
    "start_time": "2021-09-28T15:13:50.334Z"
   },
   {
    "duration": 30,
    "start_time": "2021-09-28T15:13:50.359Z"
   },
   {
    "duration": 7,
    "start_time": "2021-09-28T15:13:50.391Z"
   },
   {
    "duration": 601,
    "start_time": "2021-09-28T15:13:50.401Z"
   },
   {
    "duration": 513,
    "start_time": "2021-09-28T15:13:51.006Z"
   },
   {
    "duration": 601,
    "start_time": "2021-09-28T15:13:51.522Z"
   },
   {
    "duration": 382,
    "start_time": "2021-09-28T15:13:52.126Z"
   },
   {
    "duration": 1349,
    "start_time": "2021-09-28T15:13:52.511Z"
   },
   {
    "duration": 3207,
    "start_time": "2021-09-28T15:13:53.862Z"
   },
   {
    "duration": 742,
    "start_time": "2021-09-28T15:13:57.071Z"
   },
   {
    "duration": 1248,
    "start_time": "2021-09-28T15:13:56.568Z"
   },
   {
    "duration": 1246,
    "start_time": "2021-09-28T15:13:56.572Z"
   },
   {
    "duration": 1238,
    "start_time": "2021-09-28T15:13:56.582Z"
   },
   {
    "duration": 1237,
    "start_time": "2021-09-28T15:13:56.584Z"
   },
   {
    "duration": 1237,
    "start_time": "2021-09-28T15:13:56.586Z"
   },
   {
    "duration": 1234,
    "start_time": "2021-09-28T15:13:56.590Z"
   },
   {
    "duration": 1456,
    "start_time": "2021-09-28T15:14:16.382Z"
   },
   {
    "duration": 28,
    "start_time": "2021-09-28T15:14:45.342Z"
   },
   {
    "duration": 4880,
    "start_time": "2021-09-28T15:15:52.990Z"
   },
   {
    "duration": 38511,
    "start_time": "2021-09-28T15:21:00.039Z"
   },
   {
    "duration": 4182,
    "start_time": "2021-09-28T15:23:08.290Z"
   },
   {
    "duration": 389,
    "start_time": "2021-09-28T15:26:20.557Z"
   },
   {
    "duration": 3128,
    "start_time": "2021-09-28T15:26:50.760Z"
   },
   {
    "duration": 1513,
    "start_time": "2021-09-28T15:27:17.150Z"
   },
   {
    "duration": 381,
    "start_time": "2021-09-28T15:27:33.110Z"
   },
   {
    "duration": 1531,
    "start_time": "2021-09-28T15:27:41.233Z"
   },
   {
    "duration": 1931,
    "start_time": "2021-09-28T15:34:55.076Z"
   },
   {
    "duration": 2360,
    "start_time": "2021-09-28T15:35:26.497Z"
   },
   {
    "duration": 1488,
    "start_time": "2021-09-28T15:36:05.234Z"
   },
   {
    "duration": 1843,
    "start_time": "2021-09-28T15:36:12.747Z"
   },
   {
    "duration": 2193,
    "start_time": "2021-09-28T15:36:40.538Z"
   },
   {
    "duration": 2276,
    "start_time": "2021-09-28T15:37:04.220Z"
   },
   {
    "duration": 4,
    "start_time": "2021-09-28T15:37:06.501Z"
   },
   {
    "duration": 30,
    "start_time": "2021-09-28T15:37:06.509Z"
   },
   {
    "duration": 1062,
    "start_time": "2021-09-28T15:37:06.542Z"
   },
   {
    "duration": 22,
    "start_time": "2021-09-28T15:37:07.607Z"
   },
   {
    "duration": 19,
    "start_time": "2021-09-28T15:37:07.632Z"
   },
   {
    "duration": 38,
    "start_time": "2021-09-28T15:37:07.653Z"
   },
   {
    "duration": 649,
    "start_time": "2021-09-28T15:37:07.696Z"
   },
   {
    "duration": 534,
    "start_time": "2021-09-28T15:37:08.348Z"
   },
   {
    "duration": 607,
    "start_time": "2021-09-28T15:37:08.886Z"
   },
   {
    "duration": 405,
    "start_time": "2021-09-28T15:37:09.496Z"
   },
   {
    "duration": 1306,
    "start_time": "2021-09-28T15:37:09.903Z"
   },
   {
    "duration": 2046,
    "start_time": "2021-09-28T15:37:11.212Z"
   },
   {
    "duration": 1823,
    "start_time": "2021-09-28T15:37:13.260Z"
   },
   {
    "duration": 7,
    "start_time": "2021-09-28T15:37:15.086Z"
   },
   {
    "duration": 126,
    "start_time": "2021-09-28T15:37:15.107Z"
   },
   {
    "duration": 140304,
    "start_time": "2021-09-28T15:37:15.236Z"
   },
   {
    "duration": 1651,
    "start_time": "2021-09-28T15:39:35.543Z"
   },
   {
    "duration": 21,
    "start_time": "2021-09-28T15:39:37.199Z"
   },
   {
    "duration": 1742,
    "start_time": "2021-09-28T15:41:53.604Z"
   },
   {
    "duration": 1530,
    "start_time": "2021-09-28T15:42:08.874Z"
   },
   {
    "duration": 2074,
    "start_time": "2021-09-28T15:42:29.537Z"
   },
   {
    "duration": 4,
    "start_time": "2021-09-28T15:42:31.614Z"
   },
   {
    "duration": 27,
    "start_time": "2021-09-28T15:42:31.622Z"
   },
   {
    "duration": 834,
    "start_time": "2021-09-28T15:42:31.652Z"
   },
   {
    "duration": 25,
    "start_time": "2021-09-28T15:42:32.489Z"
   },
   {
    "duration": 18,
    "start_time": "2021-09-28T15:42:32.517Z"
   },
   {
    "duration": 7,
    "start_time": "2021-09-28T15:42:32.537Z"
   },
   {
    "duration": 640,
    "start_time": "2021-09-28T15:42:32.549Z"
   },
   {
    "duration": 516,
    "start_time": "2021-09-28T15:42:33.192Z"
   },
   {
    "duration": 614,
    "start_time": "2021-09-28T15:42:33.711Z"
   },
   {
    "duration": 410,
    "start_time": "2021-09-28T15:42:34.328Z"
   },
   {
    "duration": 1634,
    "start_time": "2021-09-28T15:42:34.740Z"
   },
   {
    "duration": 1541,
    "start_time": "2021-09-28T15:42:36.376Z"
   },
   {
    "duration": 1975,
    "start_time": "2021-09-28T15:42:37.919Z"
   },
   {
    "duration": 6,
    "start_time": "2021-09-28T15:42:39.898Z"
   },
   {
    "duration": 139,
    "start_time": "2021-09-28T15:42:39.906Z"
   },
   {
    "duration": 138942,
    "start_time": "2021-09-28T15:42:40.047Z"
   },
   {
    "duration": 1902,
    "start_time": "2021-09-28T15:44:58.991Z"
   },
   {
    "duration": 18,
    "start_time": "2021-09-28T15:45:00.896Z"
   },
   {
    "duration": 26156,
    "start_time": "2021-09-29T03:33:55.288Z"
   },
   {
    "duration": 3,
    "start_time": "2021-09-29T03:34:21.447Z"
   },
   {
    "duration": 35,
    "start_time": "2021-09-29T03:34:21.453Z"
   },
   {
    "duration": 83483,
    "start_time": "2021-09-29T03:34:21.491Z"
   },
   {
    "duration": 22,
    "start_time": "2021-09-29T03:35:44.977Z"
   },
   {
    "duration": 34,
    "start_time": "2021-09-29T03:35:45.002Z"
   },
   {
    "duration": 8,
    "start_time": "2021-09-29T03:35:45.038Z"
   },
   {
    "duration": 615,
    "start_time": "2021-09-29T03:35:45.049Z"
   },
   {
    "duration": 486,
    "start_time": "2021-09-29T03:35:45.667Z"
   },
   {
    "duration": 618,
    "start_time": "2021-09-29T03:35:46.155Z"
   },
   {
    "duration": 576,
    "start_time": "2021-09-29T03:35:46.775Z"
   },
   {
    "duration": 1711,
    "start_time": "2021-09-29T03:35:47.355Z"
   },
   {
    "duration": 1463,
    "start_time": "2021-09-29T03:35:49.069Z"
   },
   {
    "duration": 1787,
    "start_time": "2021-09-29T03:35:50.536Z"
   },
   {
    "duration": 5,
    "start_time": "2021-09-29T03:35:52.326Z"
   },
   {
    "duration": 119,
    "start_time": "2021-09-29T03:35:52.334Z"
   },
   {
    "duration": 136066,
    "start_time": "2021-09-29T03:35:52.456Z"
   },
   {
    "duration": 2009,
    "start_time": "2021-09-29T03:38:08.524Z"
   },
   {
    "duration": 18,
    "start_time": "2021-09-29T03:38:10.536Z"
   }
  ],
  "kernelspec": {
   "display_name": "Python 3",
   "language": "python",
   "name": "python3"
  },
  "language_info": {
   "codemirror_mode": {
    "name": "ipython",
    "version": 3
   },
   "file_extension": ".py",
   "mimetype": "text/x-python",
   "name": "python",
   "nbconvert_exporter": "python",
   "pygments_lexer": "ipython3",
   "version": "3.8.5"
  },
  "toc": {
   "base_numbering": 1,
   "nav_menu": {},
   "number_sections": true,
   "sideBar": true,
   "skip_h1_title": true,
   "title_cell": "Table of Contents",
   "title_sidebar": "Contents",
   "toc_cell": false,
   "toc_position": {},
   "toc_section_display": true,
   "toc_window_display": true
  }
 },
 "nbformat": 4,
 "nbformat_minor": 2
}
